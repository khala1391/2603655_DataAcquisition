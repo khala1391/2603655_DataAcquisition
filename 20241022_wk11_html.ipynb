{
 "cells": [
  {
   "cell_type": "markdown",
   "metadata": {},
   "source": [
    "# 2603655_DataAcquisition"
   ]
  },
  {
   "cell_type": "markdown",
   "metadata": {},
   "source": [
    "## Week11 20241023"
   ]
  },
  {
   "cell_type": "markdown",
   "metadata": {},
   "source": [
    "---\n",
    "* Author:  [Yuttapong Mahasittiwat](mailto:khala1391@gmail.com)\n",
    "* Technologist | Data Modeler | Data Analyst\n",
    "* [YouTube](https://www.youtube.com/khala1391)\n",
    "* [LinkedIn](https://www.linkedin.com/in/yuttapong-m/)\n",
    "* [Tableau](https://public.tableau.com/app/profile/yuttapong.m/vizzes)\n",
    "---"
   ]
  },
  {
   "cell_type": "markdown",
   "metadata": {},
   "source": [
    "ref: [perplexity](https://www.perplexity.ai/page/data-serialization-in-python-zZWLiYc1SV2mG2ks33iWmg)"
   ]
  },
  {
   "cell_type": "code",
   "execution_count": null,
   "metadata": {},
   "outputs": [
    {
     "name": "stdout",
     "output_type": "stream",
     "text": [
      "2024-10-21 15:58:32.397457\n"
     ]
    }
   ],
   "source": [
    "import datetime\n",
    "print(datetime.datetime.now())"
   ]
  },
  {
   "cell_type": "code",
   "execution_count": 1,
   "metadata": {},
   "outputs": [],
   "source": [
    "from bs4 import BeautifulSoup"
   ]
  },
  {
   "cell_type": "code",
   "execution_count": 13,
   "metadata": {},
   "outputs": [],
   "source": [
    "html_doc = \"\"\" \n",
    "<html>\n",
    "    <head>\n",
    "        <meta charset=\"UTF-8\">\n",
    "        <meta name=\"viewport\" content=\"width=device-width, initial-scale=1.0\">\n",
    "        <title>Sample Webpage</title>\n",
    "    </head>\n",
    "    <body>\n",
    "        <h1 class=\"introduction\"> Welcome to web scraping </h1>\n",
    "        <p class ='introduction'> This is an introduction paragraph. </p>\n",
    "        <ul>\n",
    "            <li>Item 1</li>\n",
    "            <li>Item 2</li>\n",
    "            <li>Item 3</li>\n",
    "        </ul>\n",
    "        <p id='unique_id1'>This is conclusion paragraph 1.</p>\n",
    "        <p id='unique_id2', class=\"conclusion\">This is conclusion paragraph 2.</p>\n",
    "    </body>\n",
    "</html>\n",
    "\n",
    "\"\"\""
   ]
  },
  {
   "cell_type": "code",
   "execution_count": 14,
   "metadata": {},
   "outputs": [],
   "source": [
    "soup = BeautifulSoup(html_doc, 'html.parser')\n",
    "# print(soup.prettify())"
   ]
  },
  {
   "cell_type": "code",
   "execution_count": 15,
   "metadata": {},
   "outputs": [
    {
     "name": "stdout",
     "output_type": "stream",
     "text": [
      "<title>Sample Webpage</title>\n",
      "Sample Webpage\n",
      "<p class=\"introduction\"> This is an introduction paragraph. </p>\n",
      "<p class=\"introduction\"> This is an introduction paragraph. </p>\n",
      "[<p class=\"introduction\"> This is an introduction paragraph. </p>, <p id=\"unique_id1\">This is conclusion paragraph 1.</p>, <p ,=\"\" class=\"conclusion\" id=\"unique_id2\">This is conclusion paragraph 2.</p>]\n"
     ]
    }
   ],
   "source": [
    "print(soup.title)\n",
    "print(soup.title.text)\n",
    "\n",
    "print(soup.p)\n",
    "print(soup.find('p'))\n",
    "print(soup.find_all('p'))"
   ]
  },
  {
   "cell_type": "code",
   "execution_count": 19,
   "metadata": {},
   "outputs": [
    {
     "name": "stdout",
     "output_type": "stream",
     "text": [
      "<h1 class=\"introduction\"> Welcome to web scraping </h1>\n",
      "[<h1 class=\"introduction\"> Welcome to web scraping </h1>, <p class=\"introduction\"> This is an introduction paragraph. </p>]\n",
      "----------------\n",
      "[<p class=\"introduction\"> This is an introduction paragraph. </p>]\n",
      "----------------\n",
      "unique_id1\n",
      "This is conclusion paragraph 1.\n",
      "This is conclusion paragraph 1.\n",
      "----------------\n",
      "unique_id2\n",
      "This is conclusion paragraph 2.\n",
      "----------------\n",
      "None\n",
      "----------------\n",
      "\n",
      "Item 1\n",
      "Item 2\n",
      "Item 3\n",
      "\n",
      "----------------\n",
      "----------------\n",
      "\n",
      "\n",
      "\n",
      "\n",
      "\n",
      "Sample Webpage\n",
      "\n",
      "\n",
      " Welcome to web scraping \n",
      " This is an introduction paragraph. \n",
      "\n",
      "Item 1\n",
      "Item 2\n",
      "Item 3\n",
      "\n",
      "This is conclusion paragraph 1.\n",
      "This is conclusion paragraph 2.\n",
      "\n",
      "\n",
      "\n",
      "----------------\n",
      "\n",
      " Welcome to web scraping \n",
      " This is an introduction paragraph. \n",
      "\n",
      "Item 1\n",
      "Item 2\n",
      "Item 3\n",
      "\n",
      "This is conclusion paragraph 1.\n",
      "This is conclusion paragraph 2.\n",
      "\n"
     ]
    }
   ],
   "source": [
    "# find by class\n",
    "\n",
    "introduction = soup.find(class_='introduction')\n",
    "print(introduction)\n",
    "introduction = soup.find_all(class_='introduction')\n",
    "print(introduction)\n",
    "print('----------------')\n",
    "\n",
    "# find by tag and class\n",
    "introduction = soup.find_all('p', class_ ='introduction')\n",
    "print(introduction)\n",
    "print('----------------')\n",
    "\n",
    "# find by id\n",
    "conclusion =  soup.find(id='unique_id1')\n",
    "print(conclusion.get('id'))\n",
    "print(conclusion.string)   \n",
    "print(conclusion.text)\n",
    "print('----------------')\n",
    "\n",
    "# find out id\n",
    "conclusion = soup.find('p', class_= 'conclusion')\n",
    "print(conclusion.get('id'))\n",
    "print(conclusion.text)\n",
    "print('----------------')\n",
    "\n",
    "# string  vs text\n",
    "ul_tag =  soup.find('ul')\n",
    "print(ul_tag.string)\n",
    "print('----------------')\n",
    "print(ul_tag.text)  # different\n",
    "print('----------------')\n",
    "print('----------------')\n",
    "\n",
    "\n",
    "# all text\n",
    "print(soup.text)  # no header\n",
    "print('----------------')\n",
    "print(soup.body.text)\n"
   ]
  },
  {
   "cell_type": "code",
   "execution_count": 26,
   "metadata": {},
   "outputs": [],
   "source": [
    "import  requests\n",
    "\n",
    "url = 'http://quotes.toscrape.com'\n",
    "response = requests.get(url)\n",
    "\n",
    "soup = BeautifulSoup(response.text, 'html.parser')\n",
    "# print(soup.prettify())"
   ]
  },
  {
   "cell_type": "code",
   "execution_count": 27,
   "metadata": {},
   "outputs": [
    {
     "name": "stdout",
     "output_type": "stream",
     "text": [
      "“The world as we have created it is a process of our thinking. It cannot be changed without changing our thinking.”\n",
      "“It is our choices, Harry, that show what we truly are, far more than our abilities.”\n",
      "“There are only two ways to live your life. One is as though nothing is a miracle. The other is as though everything is a miracle.”\n",
      "“The person, be it gentleman or lady, who has not pleasure in a good novel, must be intolerably stupid.”\n",
      "“Imperfection is beauty, madness is genius and it's better to be absolutely ridiculous than absolutely boring.”\n",
      "“Try not to become a man of success. Rather become a man of value.”\n",
      "“It is better to be hated for what you are than to be loved for what you are not.”\n",
      "“I have not failed. I've just found 10,000 ways that won't work.”\n",
      "“A woman is like a tea bag; you never know how strong it is until it's in hot water.”\n",
      "“A day without sunshine is like, you know, night.”\n"
     ]
    }
   ],
   "source": [
    "quotes = soup.find_all('span', class_= 'text')\n",
    "for quote in quotes:\n",
    "    print(quote.text)"
   ]
  },
  {
   "cell_type": "code",
   "execution_count": 28,
   "metadata": {},
   "outputs": [
    {
     "name": "stdout",
     "output_type": "stream",
     "text": [
      "change\n",
      "abilities\n",
      "inspirational\n",
      "aliteracy\n",
      "be-yourself\n",
      "adulthood\n",
      "life\n",
      "edison\n",
      "misattributed-eleanor-roosevelt\n",
      "humor\n"
     ]
    }
   ],
   "source": [
    "divs = soup.find_all('div', class_ = 'tags')\n",
    "for div in divs:\n",
    "    print(div.find('a', class_='tag').text)"
   ]
  },
  {
   "cell_type": "code",
   "execution_count": 29,
   "metadata": {},
   "outputs": [
    {
     "name": "stdout",
     "output_type": "stream",
     "text": [
      "“The world as we have created it is a process of our thinking. It cannot be changed without changing our thinking.”\n",
      "change\n",
      "“It is our choices, Harry, that show what we truly are, far more than our abilities.”\n",
      "abilities\n",
      "“There are only two ways to live your life. One is as though nothing is a miracle. The other is as though everything is a miracle.”\n",
      "inspirational\n",
      "“The person, be it gentleman or lady, who has not pleasure in a good novel, must be intolerably stupid.”\n",
      "aliteracy\n",
      "“Imperfection is beauty, madness is genius and it's better to be absolutely ridiculous than absolutely boring.”\n",
      "be-yourself\n",
      "“Try not to become a man of success. Rather become a man of value.”\n",
      "adulthood\n",
      "“It is better to be hated for what you are than to be loved for what you are not.”\n",
      "life\n",
      "“I have not failed. I've just found 10,000 ways that won't work.”\n",
      "edison\n",
      "“A woman is like a tea bag; you never know how strong it is until it's in hot water.”\n",
      "misattributed-eleanor-roosevelt\n",
      "“A day without sunshine is like, you know, night.”\n",
      "humor\n"
     ]
    }
   ],
   "source": [
    "quote_boxes = soup.find_all('div', class_ = 'quote')\n",
    "\n",
    "for box in quote_boxes:\n",
    "    print(box.find('span').text)\n",
    "    print(box.find('div').find('a').text)\n",
    "    "
   ]
  },
  {
   "cell_type": "markdown",
   "metadata": {},
   "source": [
    "## blognone"
   ]
  },
  {
   "cell_type": "code",
   "execution_count": 36,
   "metadata": {},
   "outputs": [
    {
     "name": "stdout",
     "output_type": "stream",
     "text": [
      "รีวิว ASUS ROG Ally X เทียบ ROG Ally รุ่นแรก คุ้มไหมจะอัพเกรด? | Blognone\n",
      "Meta นำ Facial Recognition มาใช้งานอีกครั้งหลังปิดไปเมื่อ 3 ปีก่อน เพื่อป้องกันโฆษณาปลอมเป็นบุคคลอื่น | Blognone\n",
      "Google เตรียมปิดการทำงานกล่อง Search ย่อยเจาะจงเว็บไซต์ ใน Google Search หลัก | Blognone\n",
      "อีกบทบาทของ Tim Cook - ที่ปรึกษาบริษัท Nike ซึ่งเป็นมานานถึง 19 ปี | Blognone\n",
      "Nvidia จะเข้ามาลงทุนในประเทศไทย Jensen Huang เตรียมมาเยือน ธ.ค. นี้ | Blognone\n",
      "Foursquare ปิดตัวแอปสมาร์ทโฟน ส่วน Swarm สำหรับเช็กอินยังมีอยู่ต่อไป | Blognone\n",
      "Netflix ปิดสตูดิโอพัฒนาเกมระดับ AAA ที่แคลิฟอร์เนีย | Blognone\n",
      "Wall Street Journal/New York Post ยื่นฟ้อง Perplexity ฐานใช้เนื้อหาโดยไม่ได้รับอนุญาต | Blognone\n",
      "ไม่ได้โม้ Snapdragon 8 Elite แรงที่สุดในโลก คะแนนมัลติคอร์แรงกว่า A18 Pro ถึง 27% | Blognone\n",
      "Disney+ และ Hulu ในอเมริกา ยกเลิกการสมัคร Subscription ผ่านระบบ In-App เพื่อไม่ต้องจ่ายค่าธรรมเนียมให้ Apple | Blognone\n",
      "Google Photos บนเว็บ เพิ่มความสามารถแบคอัปรูปจากคอมพิวเตอร์ได้อัตโนมัติ | Blognone\n",
      "iPhone 16 Pro มีรายงานปัญหาเครื่องค้าง-รีสตาร์ทเอง คาดแก้ไขใน iOS 18.1 | Blognone\n",
      "เปิดตัว Snapdragon 8 Elite เรือธงปี 2024, ไม่นับ Gen, ใช้ซีพียู Oryon ตัวเดียวกับพีซี แรงขึ้น 45% | Blognone\n",
      "Google แจ้งนักพัฒนาแอป Android เตรียมบังคับใช้ Photo Picker เพื่อไม่ต้องเข้าถึงคลังรูปภาพทั้งหมด | Blognone\n",
      "Tim Cook บอก Apple Vision Pro ยังไม่ใช่สินค้าแมส แต่โชคดีที่มีลูกค้าอยากลองมากพอ | Blognone\n",
      "ByteDance ชี้แจงข่าวนักศึกษาฝึกงานในจีน ใส่โค้ดโจมตี AI ของบริษัท บอกไม่เป็นความจริง | Blognone\n",
      "AMD ลดราคา Ryzen 9000 รับน้อง Intel Arrow Lake, เตรียมเปิดตัว Ryzen 9000X3D | Blognone\n",
      "Basecamp รายงานการย้ายออกจากคลาวด์ปีแรก ประหยัด 2 ล้านดอลลาร์ เตรียมย้ายสตอเรจ 10PB ออกด้วย | Blognone\n",
      "ไมโครซอฟท์แจ้งลูกค้าระบบเก็บล็อกในคลาวด์มีปัญหาช่วงเดือนกันยายน ล็อกอาจจะหายบางส่วน | Blognone\n",
      "Microsoft เพิ่มเครื่องมือสร้างผู้ช่วย AI ขึ้นใช้งานเอง สำหรับลูกค้าองค์กร | Blognone\n",
      "ซีอีโอ Uber ให้ความเห็นแท็กซี่ไร้คนขับ Cybercab ของ Tesla ว่าเป็นทิศทางที่ค่อนข้างน่าสนใจ | Blognone\n",
      "Huawei อ้างเทคโนโลยีรถไร้คนขับของตัวเองดีกว่า Tesla ชนะในหลายสนาม  | Blognone\n",
      "อดีตหัวหน้าทีม Pentium 4 เผย ชิปมีชุดคำสั่ง x86-64 แต่ถูกสั่งปิดไว้ เพราะกลัวแข่งกันเองกับ Itanium | Blognone\n",
      "Black Myth: Wukong คว้ารางวัล Game of the Year จาก Thailand Game Shows  | Blognone\n",
      "Star Citizen ประกาศ Squadron 42 น่าจะวางขายได้จริงในปี 2026 | Blognone\n",
      "Xiaomi วางขาย Redmi 14C สมาร์ทโฟนราคาประหยัด จอ 6.88 นิ้ว ราคา 3,699 บาท | Blognone\n",
      "ซัมซุงเปิดตัว Galaxy Z Fold Special Edition บางกว่า Z Fold 6, อัพเกรดกล้องเป็น 200MP | Blognone\n",
      "AIS ปรับสิทธิ์ผู้ใช้ HBO GO เป็น Max Standard อัตโนมัติ พร้อมออกราคาพิเศษ 1,190 บาท/ปี | Blognone\n",
      "Valve ย้ำอีกรอบ ไม่ออก Steam Deck ใหม่ทุกปี จะรอจนประสิทธิภาพชิปดีขึ้นก้าวกระโดด | Blognone\n",
      "พบ Xbox Series X รุ่นอัพเดตปี 2024 ปรับ SoC ใหม่ ผลิตที่ 6nm ขนาดเล็กลง กินไฟน้อยลง | Blognone\n",
      "ซีอีโอ Baidu ประเมิน สตาร์ตอัพสาย AI 99% จะไม่รอดจากฟองสบู่ มีแค่ 1% ที่อยู่รอดและเติบโต | Blognone\n",
      "กูเกิลร่วมมือกับกรมการแพทย์ ศึกษาความคุ้มค่าในการใช้ AI คัดกรองเบาหวานขึ้นตา | Blognone\n",
      "มีคนลองนั่ง Waymo ให้ต่อเนื่องนานที่สุดโดยไม่ลงจากรถ ทำได้ 6 ชั่วโมง 30 นาที | Blognone\n",
      "NASA เปิดตัวชุดอวกาศไปดวงจันทร์ปี 2026 ที่ออกแบบโดย Axiom Space และ Prada | Blognone\n",
      "[ไม่ยืนยัน] Perplexity กำลังเจรจารับเงินลงทุนรอบใหม่ ที่มูลค่ากิจการ 8 พันล้านดอลลาร์ | Blognone\n",
      "[ไม่ยืนยัน] ผลสำรวจภายใน Apple พนักงานเชื่อว่า Apple Intelligence ตามหลังคู่แข่งอย่างน้อย 2 ปี | Blognone\n",
      "อินเทลอัพเดตไดรเวอร์จีพียู Arc, Iris Xe ใหม่ ประสิทธิภาพบางเกมดีขึ้นถึง 24% | Blognone\n",
      "ไม่ได้ซื้อเสียง! Elon Musk แจกเงินวันละ 1 ล้านดอลลาร์ ให้ผู้โชคดีที่ลงทะเบียนไปเลือกตั้ง ปธน, สหรัฐ | Blognone\n",
      "IO Interactive บอก Project 007 คืบหน้าตามแผน เนื้อเรื่องแต่งใหม่หมด อยากทำเป็นไตรภาค | Blognone\n",
      "Mira Murati อดีตซีทีโอ OpenAI กำลังเจรจากับนักลงทุน เพื่อตั้งสตาร์ทอัปใหม่ด้าน AI | Blognone\n",
      "WP Engine ยื่นคำร้องต่อศาล ให้ Automattic  เลิกบล็อกและคืนปลั๊กอิน WordPress | Blognone\n",
      "Mark Zuckerberg มั่นใจ เป็นผู้เล่นเกม Civilization เก่งเป็นอันดับต้นๆ ของโลก | Blognone\n",
      "Bluesky ยังแรงต่อเนื่อง ผู้ใช้งานใหม่ 1.2 ล้าน จำนวนรวมทะลุ 12 ล้านแล้ว | Blognone\n",
      "ซีอีโอ TSMC พูดชัด ไม่สนใจซื้อโรงงานผลิตชิปของ Intel | Blognone\n",
      "กระทรวงคมนาคมสหรัฐฯ สอบสวนความปลอดภัยระบบ FSD ของ Tesla ขณะวิสัยทัศน์ไม่ดี หลังพบชนคนเดินเท้าเสียชีวิต | Blognone\n",
      "Blindfire เกมยิง FPS แนวคิดใหม่ สู้กันในห้องมืดสนิท อย่ามีแสงให้ศัตรูรู้ว่าอยู่ตรงไหน | Blognone\n",
      "App Defense Alliance ออกมาตรฐานความปลอดภัยแอพ ทั้งบนมือถือ เว็บ คลาวด์ | Blognone\n",
      "Magic the Gathering ออกการ์ดชุดฮีโร่ Marvel และเตรียมออก Spider-Man ปี 2025 | Blognone\n",
      "เกมสำรวจโลกใต้น้ำ Subnautica 2 เผยเทรลเลอร์แรก รองรับการเล่นแบบ Co-op แล้ว | Blognone\n",
      "Super Nintendo World แห่งที่ 3 ของโลก Universal Orlando เตรียมเปิด 22 พฤษภาคม 2025 | Blognone\n",
      "done\n"
     ]
    }
   ],
   "source": [
    "import time\n",
    "import zipfile\n",
    "\n",
    "blognone_urls =['https://www.blognone.com/',\n",
    "                'https://www.blognone.com/node?page=1']\n",
    "\n",
    "\n",
    "link_urls =list()\n",
    "\n",
    "# for url in blognone_urls[:1]:\n",
    "for url in blognone_urls:\n",
    "    response =requests.get(url)\n",
    "    response.encoding = 'utf-8'\n",
    "    # print(response.text)\n",
    "\n",
    "    soup = BeautifulSoup(response.text, 'html.parser')\n",
    "    # print(soup.prettify())\n",
    "    \n",
    "    content_boxes = soup.find_all('div', class_='content-title-box')\n",
    "    for box in content_boxes:\n",
    "        # print(box.find('a').get('href'))\n",
    "        link = box.find('a').get('href')\n",
    "        # print(link)\n",
    "        link_url = 'https://www.blognone.com{0}'.format(link)\n",
    "        # print(link_url)\n",
    "        link_urls.append(link_url)\n",
    "    time.sleep(1)\n",
    "\n",
    "# -----------------------------------\n",
    "with zipfile.ZipFile('data/blognone.zip', 'w', compression =zipfile.ZIP_DEFLATED) as zipf:\n",
    "    \n",
    "    # for url in link_urls[:1]:\n",
    "    for i, url in enumerate(link_urls):\n",
    "        response =requests.get(url)\n",
    "        response.encoding = 'utf-8'\n",
    "        # print(response.text)\n",
    "        soup = BeautifulSoup(response.text, 'html.parser')\n",
    "        time.sleep(1)\n",
    "        # print(soup.prettify())\n",
    "        \n",
    "        pretty_text = soup.prettify()\n",
    "        zipf.writestr(f'article_{i+1}.html', pretty_text)\n",
    "        print(soup.title.text)\n",
    "print('done')"
   ]
  },
  {
   "cell_type": "code",
   "execution_count": 37,
   "metadata": {},
   "outputs": [
    {
     "name": "stdout",
     "output_type": "stream",
     "text": [
      "<!DOCTYPE html>\n",
      "<html lang=\"en-US\">\n",
      " <head>\n",
      "  <title>\n",
      "   Just a moment...\n",
      "  </title>\n",
      "  <meta content=\"text/html; charset=utf-8\" http-equiv=\"Content-Type\"/>\n",
      "  <meta content=\"IE=Edge\" http-equiv=\"X-UA-Compatible\"/>\n",
      "  <meta content=\"noindex,nofollow\" name=\"robots\"/>\n",
      "  <meta content=\"width=device-width,initial-scale=1\" name=\"viewport\"/>\n",
      "  <style>\n",
      "   *{box-sizing:border-box;margin:0;padding:0}html{line-height:1.15;-webkit-text-size-adjust:100%;color:#313131;font-family:system-ui,-apple-system,BlinkMacSystemFont,Segoe UI,Roboto,Helvetica Neue,Arial,Noto Sans,sans-serif,Apple Color Emoji,Segoe UI Emoji,Segoe UI Symbol,Noto Color Emoji}body{display:flex;flex-direction:column;height:100vh;min-height:100vh}.main-content{margin:8rem auto;max-width:60rem;padding-left:1.5rem}@media (width <= 720px){.main-content{margin-top:4rem}}.h2{font-size:1.5rem;font-weight:500;line-height:2.25rem}@media (width <= 720px){.h2{font-size:1.25rem;line-height:1.5rem}}#challenge-error-text{background-image:url(data:image/svg+xml;base64,PHN2ZyB4bWxucz0iaHR0cDovL3d3dy53My5vcmcvMjAwMC9zdmciIHdpZHRoPSIzMiIgaGVpZ2h0PSIzMiIgZmlsbD0ibm9uZSI+PHBhdGggZmlsbD0iI0IyMEYwMyIgZD0iTTE2IDNhMTMgMTMgMCAxIDAgMTMgMTNBMTMuMDE1IDEzLjAxNSAwIDAgMCAxNiAzbTAgMjRhMTEgMTEgMCAxIDEgMTEtMTEgMTEuMDEgMTEuMDEgMCAwIDEtMTEgMTEiLz48cGF0aCBmaWxsPSIjQjIwRjAzIiBkPSJNMTcuMDM4IDE4LjYxNUgxNC44N0wxNC41NjMgOS41aDIuNzgzem0tMS4wODQgMS40MjdxLjY2IDAgMS4wNTcuMzg4LjQwNy4zODkuNDA3Ljk5NCAwIC41OTYtLjQwNy45ODQtLjM5Ny4zOS0xLjA1Ny4zODktLjY1IDAtMS4wNTYtLjM4OS0uMzk4LS4zODktLjM5OC0uOTg0IDAtLjU5Ny4zOTgtLjk4NS40MDYtLjM5NyAxLjA1Ni0uMzk3Ii8+PC9zdmc+);background-repeat:no-repeat;background-size:contain;padding-left:34px}@media (prefers-color-scheme:dark){body{background-color:#222;color:#d9d9d9}}\n",
      "  </style>\n",
      "  <meta content=\"390\" http-equiv=\"refresh\"/>\n",
      " </head>\n",
      " <body class=\"no-js\">\n",
      "  <div class=\"main-wrapper\" role=\"main\">\n",
      "   <div class=\"main-content\">\n",
      "    <noscript>\n",
      "     <div class=\"h2\">\n",
      "      <span id=\"challenge-error-text\">\n",
      "       Enable JavaScript and cookies to continue\n",
      "      </span>\n",
      "     </div>\n",
      "    </noscript>\n",
      "   </div>\n",
      "  </div>\n",
      "  <script>\n",
      "   (function(){window._cf_chl_opt={cvId: '3',cZone: \"www.khaosod.co.th\",cType: 'managed',cNounce: '27239',cRay: '8d6a2a5e8dce449d',cHash: '170af04b6bc8a01',cH: 'lSvPUVKZPg_Pg6kNqPIKdypdWBYWl___Ku4IJjFzeNM-1729607218-1.1.1.1-a1vRCCNAzGagelGsyQ1WKofoC5JC7Zn8uixFUJU7oyzHNBxXma3nEiRRrrgF3enA',cUPMDTk: \"\\/lifestyle\\/it-smartphone?__cf_chl_tk=zdj_7IW9ruO6OokzQAvS4AHOJ8TZIwD2Vh739VIp4wU-1729607218-1.0.1.1-MNtj36._HIqwrUTUK6QFsswSboFlIs8vsNtRef6QrTo\",cFPWv: 'g',cITimeS: '1729607218',cTTimeMs: '1000',cMTimeMs: '390000',cTplV: 5,cTplB: 'cf',cK: \"\",fa: \"\\/lifestyle\\/it-smartphone?__cf_chl_f_tk=zdj_7IW9ruO6OokzQAvS4AHOJ8TZIwD2Vh739VIp4wU-1729607218-1.0.1.1-MNtj36._HIqwrUTUK6QFsswSboFlIs8vsNtRef6QrTo\",md: \"8zwDkPs_pHEYyJAZpk6KM6mqw5_1u6VI2A0Q9_XDYgA-1729607218-1.1.1.1-.itOmtvePNVaaGu5Wf7dNYbp6_fNMvFsRXEUDYi_KC3Vcg1sUU6oTRBLgiujN0Hul46g4PXyS_uQ6UhVXqncC19wxi01DecN56Vo6wPXe3TDtVrkmAL2WVqdGiW8Kfpz7.idLyzGkoA1nztMk.pzZKO7nJttUy4YmnQBHBhJ6o3vw.Q2KHimt_ZlHavAYYNd0D4qH_3fiD.eRM_0dG4E.PT0FL.4EF7nyYeBSC4iazIf3fpCwMLfx9gC1DW2W9BL_ofP20rEX0tjDlBWSc_lxesUIeSdtfwt8b71npE9JOezkmIsJRSqUCyAfU5Caqoy0pTdeDzsXP0hV0djasv8elIPqWLpfUBkFicToV0Y5FLhqO8wRXvH1vY4ksN7T82eopAT10WtfgrAf82PGSV2HhvLlLx7Og.s2ZBcvBs_x8HpjNEVrUT6YXay43eFqQVRrhZsibOeh46Nf1BnZsygCg52FYoNZVeVG5JJ.xHWsC0GkqIMIhpdebr5ZhB3qt_oZzZeA2JL7phjOU85VB4tJ0mfiT5yIfb4mJwYRogiT1vYvmcb4AMxy9YtmbfGk80bAhXLJO_6.nC88M8rWLCxyTMwzm__DX768Z0ZoFzkUXqSWdZqVcCtqy6MV1YONpEFE3ZFCEWoxJcARG.VXbD3_4EPWjoklGhy.1khgWwFNMxQ1T2dNYd95ip7Tf3DFk6uCJYo_tsWB.vSzlhxvqyTD7EqDQotftSemIAvqpjaOWaWtF1ZzZGqwHwNGhZdrJLnNXoWsUtp_QPNkdLXMmIUu7vJZ1xAYnv9.3QWiJEFuQwSiZ69ETgFa99KBSxwbgopA_aICYrKgqiJhlxDCd2ZGcUkP6X4aD4Y5mbEt6uEMcoM_iJLlFNBUVAcUybeyhDOfcUNS.RjAFbygNOF5DopYrHwTf4PO3PiB_yvJlES1m_C8RrgjopaQD5.XnGU3130J0e7Su2GiPwAoBoYCLCjkUQFL_eilv9j6LSm7qitZ_fOTQc0jSU_4jHELAVmfjTgZja7VPz3mRwUv1xSADYkq3W1n2w3pF9UKW8yzOe7V.WkVTybDstkJoPV.Jt5fclqtsKurQbf2xxlxIf_tIktD4Aeq6E9NsCiMWuK5Hv3.6IGsCSbyKKjzbmdi1w9kddsY4dvjNU.gwvLuzPiPDg8AomSU1viF3JH6it45ocmXGy42PR4H4_uEkw_sk9WAaiFDT2ByDaOK2nFeoPFg7dPJx0VZsUoSHU0ZSwBuEepDhkJzAghPqh_jld73CS_NgLJ4Qc58CbR5JurPZaRG9X7qqOzpOb_jiXH_0y1qvIPn2eJ0TnTpzvD66liiIEZ55j_V1JRn9jg9vKbyub4gdrPjhQQDdE_hNjBQspS.Uc9JE8EGehMYEOpkXqp4VRiMg0NQtesTS.Cb1M5SSiObLSphscF9rBCFagVrMtYuQ_io2lw7UELZB6D5iZJkK2FZ9wAj4Jhw_nvDeyWDnTUquMQuQ5yUhyJZHbazn0ZByDJ3bF9gLFumJQx.sGyOUpki2xE3q7CZQtqzi2SHVhdSB3mQK9o92KkvNGjYlErRzgYEOFWgaNW9jeWE2emvjbdoCMHHwTxV7P4XIRV0gtJh7rpxZeAhFFEJ6UbQZtHQStYbSuSVRax3RGNqlKnd1jApAP.kR.eA7.e74fP_fqsJpEpYQr0.MFy5YnPhzow3IRn4fzjKpL9CLJHeRW2gkD1IesiVDdOGRAoRKSwh.kE2K.Amh7xFV16wIsSH8m2rkF7Nf2iFJ6Owyzm5gNNpCUIOojDMbAv7Nd7yf6iJe0UP3jATqYddoF38W5.iqunBJO62gx8SVlrkVZth5ETky.rJ_FOepY5CnxlGm0gIY3Iw6RG9dReiJtGFnZEd.3bEnG5LUtP3S0FjtcjA6pfbU32fPdk4OHPkN9x38.Hr9KOvZFka1Jo7H_.VnAfdv8SAqqEFXeuRYlc01Y1dzwknEmWdxTley7kX4oZV5wp6IVzCg4z_AIcnWWllJBVN32eyD0_f10p_7.C37lhjXt51MIfmzdRa5FL2Qlg4Zjs34JvW1VgkwlJBZwgjRI40.bIHrMlwz55F1lZvxunCuCVrn6bANGDg7jvq5zSKSSHA3dSqfMJzyOftjMKK5OKdNnNETB5g4mJZu8kUIJ5M0kC04kWv_9iXVrr9CsiJf5kHKcPaOHB8gjlJx4ZGPb4K76cT.kNBLTz014BZQOzItsmK0pg7b2y4CfoakHJtnbEZVZ2AWHb8KZGZRB0pTELu4b.0GuDyr_oRi3hXtoGaW5352CqJOWBCIQRHhAG2gNynwiMnkFufdVDZMrrpoOH0P.iTrWCxjOWjjpysaFYbDjGNP53P.G1A2fBnFlZtQw9D044MPhLJbObC25wXoldg5IWI9K8ukXquFUpgRfPqbwFhpM8Thk2b4M8KzjCTPXT2HSEtYOsew\",mdrd: \"OM0YX3xxmezNJ898HHbdzyvJUgJpFzLEQCaei_XeAsM-1729607218-1.1.1.1-x1O5Gp4yRh2TbCMp2hhshA5zV7GI6hzcyOr1j4Z7WS7Fx4IHyp8PZcTcn6XyUaZRs3Ax9LhDXpkk0grSPFATZqajP7SOGx_4tag08mGi1_0QVe1kuYjVGJWSz.jZaATENh6Lwx45UVlaTLly7WnbQZk.4YNP.4xeged5is2k4LaZdkKHvUgbURnCMq7HmCOAwqC1Lj5Dyw5vP4CqqMojHFilDGRuSNLFtqF32at14aYTnh6iN8DVqWVrpnBQgYsPEUyOxQ6zzydpQU38dX4NQqGYULJX6PxGEr3ys_pGzbe6TJZqtb7_Ld3glpUnF2fAzFaFZXHm22ka8xFhYxFlmukkzUTZXAUPtPaDvQdALQUYs7E4NfEmE4rRqCGzwil9vhlokD_sU9x89EoWiwy0IAWKUiE2AVakluThABwWLC3p0X7_4x9WE7CAr7hracQj0qM5MrMShYJ50lYe3JYMyaOk2xQO3ZiJ7kR14vuls9Ox2CaFFieZF4K_BJ3kfvs0tl8E.SZ6BrorWbVm.y628reORy9vPrePpS_zPvyZr1o91KuMD012mvOcx64.rSHaXLoT1Arv.MnNsrRYpyX4Gy4NCohXh.fSuVBxvH.5YxH53yiuAXysZwHo_sEkg91FJvGT9K.D9Gv.554Yf09qhHH6jz9xRXX9ks7uV.ze5Y1SM3X5Zb_ovUlU2ymbFcu3vVcsr2QVzBQJpLJRMemTMXyrpFtYMM3LtJJs8ndWFLtwzH2sAndscc6ZlxRtYhfrl7.h27mQ47N_UbfUmuYSgcgRqjQ9MFDONqeSdBHOYG0YmVI4H.4ilZioI9rQ0GJ2_C2aboUhn_cn4hblMemY8aRGzj7sAdneyuc880725NpY.zsNydaJ13Nz0LDtmI0YpWIngiHZKIn6OO1e65VkcgJxqUSVM7Q0o.OLa15MqaEApj._yRcD8AalUuLoIDdFXvFIiuhb.XbsnBGELSOti_voZX5721i4q062OlXSCkLKT6nZwF6AyOLtwp7VnB7iiwUY6ja9qRGz_keYtvVZwodm7i8c7QQ6VvVjT8Yrm7kGGhozBsAq8E2LTHkoYgX21mTjrqsDOQ7t_qbeGhRmwpUepHomVkjQ2H_JHUCWwwU605.G1L79Ntqobnko.SeulcvMIxtFq9nW6oFiFmM2P_kxSRFV2GwaVRLzuWnOcykWW83wqKQkK32mxw50DGbjVl4PGiHNdL7J4LxYun9mqWysS7u703aO22kLA0G3HZg_9NM6ZHIb1jGJ5dIfLWFHuXrOMtImeXTNPzZv0nUvMLnfCFShaY5tiW1merqZ4wbWwpVFfNWcdraB5Y5GWHO6RW8uEX8zJIlVM05nPb7bzNyl9OCrSzRwY0tIMe2iElLOt3q2S5_zs6KV0_Y6uuk4e7JDz_m_gXzBxfev8FMcAo6wLK69cJJ9ZjmdjJY2O.xtnsIP1c0XCqxViVGkUxyDiv7sOuvqclQlRxERAx80ew8cKKRzSo9iWbiWrYLieqSsNFPFsRyGQCgrsNo2kA6PdOm_rK8nJ7rztuMDtYqkAex4_MtplMXjODW8yLSaREGherDOqqQkRPNd8XLKDgNyBNFSYtwvVyzL.bxlh1n9tAoVe9_dcUDFc6gaSa0UcG7PFKYQ78gNG02ZsjpQc.hw6OgCzxyaGt8EChxUiScl00DgzOeGST3JjWdWeBVX_60o.wZOT3o3I_xHXyEYVmR9N6K.Ara50BjPk5FFZr4Jls2OGLOrwmIs0o.NRiFjpH9AGMDhXnV7qRUQf2YDphOi7PZVIyh_zW9Z0EtcEYo70xo1uZUbbwzSJ6rSOl3Wr7VeAfK7UeSx7PUy.t3Pb8v65uEUNOqEGEuVagJe.7c7VZr_plBFWFcbkJa_DdFEUGgC08AYySqLuTU0DPG.hDWQ8OJkN7tg4xzPQBNuc8zuFwg7kd1nDn9l3M8TiC37MDlrkYNEUhewbrAHo49MTwl54g1DANXmLMyiB8tFm6J4Z.Cm6qpU17vl89WB_tMgvrYwJbWXrpz0E4tawB.kyb5ii7dI5X3pLZr4c0PqjguK9Z3Wdfp_ZSALuUgOe72g3.qVo4LOgxoslavrCL4Sa1eofkw4z1NT8j.tCe3bXAZ4eOvdPtEuk7KFAvVBPY6UKCWgGYSbULUoYUGrgjsi5uM9OYdLO1DDfzeZ0Q4TSxZUKAun1ScHpDFRRUvYtWlW6oTy.a7YhahtlcebJ3z4CSmU\",cRq: {ru: 'aHR0cHM6Ly93d3cua2hhb3NvZC5jby50aA==',ra: 'cHl0aG9uLXJlcXVlc3RzLzIuMzEuMA==',d: 'VQZ3/tBoBCvD/YHkocOdfo9JdqDlo3nACWF5B88fr7BW/yo44tv8rSpJMQ2TsSElRttzDlDOBhP5E+r2KvdqMp3QaHTXOQW5rLqkuHbw60XFdRWSQH33lJduSw6BuFCFMx4tSpWxbWI8LPhm8OedcHPj8jt7dFRiNYuRBcMeog9zRZBD6Svl19Ek9ZFwtqYlXZFtajaoLcQbggs/5QBybxqvYBIzhB8nf3Ui/+6ERU9VrKK6oqs2Iqc14GRvB2f5uCjiMPsLouEVGTAH7gHD9H6e7VMuAbEpAqZfg3/dfDA/ZduN/VXIzpB8EFweWm7Blsh4II8W7lgmLDxhTdDTLzlT3Lpdf522G1O9D/ab9EtSrM0kbtnWBNBo4CdI86t7seHjHrXV8Fbm9bKlGg2+VFrEMdWVsPok8LMked5LvWh8a4KVXqGUIzNN4iBFHEIzzCFIvHZR3bWx6VZyrUm3Uuk1kJe2tuH69+xnVfd99pzYMYQ1PTgzX8C9uekp37MhGyihykFpau3Qy+mMYzJVXLLPbA7I3uKDkCcxIiYUVYqvSgTyGzZMLv8VldzHZ5Zz1Fd/dmlQmsMgfvhp6eplU7bWXx2tOLhRzINDQyUWYwHW6YAj/6BrUSuzbZASPfM1',t: 'MTcyOTYwNzIxOC4wMDAwMDA=',cT: Math.floor(Date.now() / 1000),m: 'v/J5MC+n/CeVgsK38QWSfjuK/Q/fM5xoRtLWdaNIsv8=',i1: 'yoB8jY0PzBtt26Eag2GbGg==',i2: '935cofSK+qldSpXNl/qezQ==',zh: '+plv+1gmF1CaV6EHtxmM+NNX8sNzVYI7VEcA4gA9vVY=',uh: 'YE9XOpG5TeHmhA1zfs5mxC8CrRZzq2a/+r+OU7dliYQ=',hh: 'lJHNCAPH41RulDveI+7FLMNUMZ8xzJp/PQ+cVUGTCCg=',}};var cpo = document.createElement('script');cpo.src = '/cdn-cgi/challenge-platform/h/g/orchestrate/chl_page/v1?ray=8d6a2a5e8dce449d';window._cf_chl_opt.cOgUHash = location.hash === '' && location.href.indexOf('#') !== -1 ? '#' : location.hash;window._cf_chl_opt.cOgUQuery = location.search === '' && location.href.slice(0, location.href.length - window._cf_chl_opt.cOgUHash.length).indexOf('?') !== -1 ? '?' : location.search;if (window.history && window.history.replaceState) {var ogU = location.pathname + window._cf_chl_opt.cOgUQuery + window._cf_chl_opt.cOgUHash;history.replaceState(null, null, \"\\/lifestyle\\/it-smartphone?__cf_chl_rt_tk=zdj_7IW9ruO6OokzQAvS4AHOJ8TZIwD2Vh739VIp4wU-1729607218-1.0.1.1-MNtj36._HIqwrUTUK6QFsswSboFlIs8vsNtRef6QrTo\" + window._cf_chl_opt.cOgUHash);cpo.onload = function() {history.replaceState(null, null, ogU);}}document.getElementsByTagName('head')[0].appendChild(cpo);}());\n",
      "  </script>\n",
      " </body>\n",
      "</html>\n",
      "\n"
     ]
    }
   ],
   "source": [
    "url = 'https://www.khaosod.co.th/lifestyle/it-smartphone'\n",
    "response = requests.get(url)\n",
    "response.encoding = 'utf-8'\n",
    "soup = BeautifulSoup(response.text,'html.parser')\n",
    "print(soup.prettify())"
   ]
  }
 ],
 "metadata": {
  "kernelspec": {
   "display_name": "base",
   "language": "python",
   "name": "python3"
  },
  "language_info": {
   "codemirror_mode": {
    "name": "ipython",
    "version": 3
   },
   "file_extension": ".py",
   "mimetype": "text/x-python",
   "name": "python",
   "nbconvert_exporter": "python",
   "pygments_lexer": "ipython3",
   "version": "3.11.9"
  }
 },
 "nbformat": 4,
 "nbformat_minor": 2
}
