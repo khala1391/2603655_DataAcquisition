{
 "cells": [
  {
   "cell_type": "code",
   "execution_count": null,
   "id": "ca02e3b1-6983-42eb-b25c-7ccb0b043626",
   "metadata": {},
   "outputs": [],
   "source": [
    "# https://docs.python.org/3/library/index.html\n",
    "# text processing services\n",
    "import re\n",
    "# data types\n",
    "import datetime\n",
    "import pprint\n",
    "# numeric and maths\n",
    "import random\n",
    "# functional programming\n",
    "import itertools\n",
    "import functools\n",
    "# file and directory access\n",
    "import pathlib\n",
    "import os.path\n",
    "# data persistence\n",
    "import pickle\n",
    "# data compression and archiving\n",
    "import zipfile\n",
    "# generic operating system\n",
    "import os\n",
    "import io\n",
    "import time\n",
    "# internet data handling\n",
    "import json\n",
    "import base64\n",
    "# structured markup processing tool\n",
    "import xml.etree.ElementTree\n",
    "import xml.dom.minidom\n",
    "# internet protocols and support\n",
    "import webbrowser\n",
    "import urllib.request\n",
    "# debugging and profiling\n",
    "import timeit\n",
    "# python runtime services\n",
    "import sys\n",
    "\n",
    "# https://pypi.org/project/pytz/\n",
    "import pytz\n",
    "\n",
    "# https://lxml.de/tutorial.html\n",
    "from lxml import etree\n",
    "\n",
    "# https://ipython.readthedocs.io/en/8.16.0/api/generated/IPython.display.html\n",
    "from IPython.display import Image"
   ]
  }
 ],
 "metadata": {
  "kernelspec": {
   "display_name": "Python 3 (ipykernel)",
   "language": "python",
   "name": "python3"
  },
  "language_info": {
   "codemirror_mode": {
    "name": "ipython",
    "version": 3
   },
   "file_extension": ".py",
   "mimetype": "text/x-python",
   "name": "python",
   "nbconvert_exporter": "python",
   "pygments_lexer": "ipython3",
   "version": "3.11.9"
  }
 },
 "nbformat": 4,
 "nbformat_minor": 5
}
