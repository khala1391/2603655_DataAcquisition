{
 "cells": [
  {
   "cell_type": "code",
   "execution_count": 83,
   "id": "14e6200d-9143-4658-86cc-e7256cf3d4f2",
   "metadata": {},
   "outputs": [],
   "source": [
    "import pandas as pd\n",
    "import matplotlib.pyplot as plt"
   ]
  },
  {
   "cell_type": "code",
   "execution_count": 3,
   "id": "5565d0eb-8663-49dd-8064-336f11a74faa",
   "metadata": {},
   "outputs": [],
   "source": [
    "df = pd.read_csv(\"data/thaiglobal_logistics_data.csv\",parse_dates=['date'])"
   ]
  },
  {
   "cell_type": "code",
   "execution_count": 55,
   "id": "c6f054f6-3466-4707-8e48-0df484c6c90e",
   "metadata": {},
   "outputs": [
    {
     "data": {
      "text/html": [
       "<div>\n",
       "<style scoped>\n",
       "    .dataframe tbody tr th:only-of-type {\n",
       "        vertical-align: middle;\n",
       "    }\n",
       "\n",
       "    .dataframe tbody tr th {\n",
       "        vertical-align: top;\n",
       "    }\n",
       "\n",
       "    .dataframe thead th {\n",
       "        text-align: right;\n",
       "    }\n",
       "</style>\n",
       "<table border=\"1\" class=\"dataframe\">\n",
       "  <thead>\n",
       "    <tr style=\"text-align: right;\">\n",
       "      <th></th>\n",
       "      <th>shipment_id</th>\n",
       "      <th>date</th>\n",
       "      <th>origin</th>\n",
       "      <th>destination</th>\n",
       "      <th>distance_km</th>\n",
       "      <th>weight_kg</th>\n",
       "      <th>vehicle_type</th>\n",
       "      <th>vehicle_age_years</th>\n",
       "      <th>driver_id</th>\n",
       "      <th>customer_id</th>\n",
       "      <th>...</th>\n",
       "      <th>delivery_status</th>\n",
       "      <th>delay_hours</th>\n",
       "      <th>transport_cost</th>\n",
       "      <th>revenue</th>\n",
       "      <th>customer_satisfaction</th>\n",
       "      <th>fuel_consumption_liters</th>\n",
       "      <th>maintenance_cost</th>\n",
       "      <th>month</th>\n",
       "      <th>estimated_delivery_days</th>\n",
       "      <th>actual_delivery_days</th>\n",
       "    </tr>\n",
       "  </thead>\n",
       "  <tbody>\n",
       "    <tr>\n",
       "      <th>0</th>\n",
       "      <td>1</td>\n",
       "      <td>2022-04-13</td>\n",
       "      <td>Pattaya</td>\n",
       "      <td>Tokyo</td>\n",
       "      <td>1737.89</td>\n",
       "      <td>214.26</td>\n",
       "      <td>Ship</td>\n",
       "      <td>3.4</td>\n",
       "      <td>211</td>\n",
       "      <td>7684</td>\n",
       "      <td>...</td>\n",
       "      <td>On Time</td>\n",
       "      <td>0.00</td>\n",
       "      <td>1983.64</td>\n",
       "      <td>2748.14</td>\n",
       "      <td>4.84</td>\n",
       "      <td>217.60</td>\n",
       "      <td>1583.21</td>\n",
       "      <td>4</td>\n",
       "      <td>3.7</td>\n",
       "      <td>3.700000</td>\n",
       "    </tr>\n",
       "    <tr>\n",
       "      <th>1</th>\n",
       "      <td>2</td>\n",
       "      <td>2023-03-12</td>\n",
       "      <td>Bangkok</td>\n",
       "      <td>London</td>\n",
       "      <td>8206.58</td>\n",
       "      <td>359.15</td>\n",
       "      <td>Airplane</td>\n",
       "      <td>9.5</td>\n",
       "      <td>485</td>\n",
       "      <td>9206</td>\n",
       "      <td>...</td>\n",
       "      <td>Delayed</td>\n",
       "      <td>16.69</td>\n",
       "      <td>9021.03</td>\n",
       "      <td>12532.73</td>\n",
       "      <td>3.10</td>\n",
       "      <td>912.08</td>\n",
       "      <td>4452.07</td>\n",
       "      <td>3</td>\n",
       "      <td>17.3</td>\n",
       "      <td>17.995417</td>\n",
       "    </tr>\n",
       "    <tr>\n",
       "      <th>2</th>\n",
       "      <td>3</td>\n",
       "      <td>2022-09-28</td>\n",
       "      <td>Pattaya</td>\n",
       "      <td>London</td>\n",
       "      <td>1438.34</td>\n",
       "      <td>502.28</td>\n",
       "      <td>Ship</td>\n",
       "      <td>8.2</td>\n",
       "      <td>55</td>\n",
       "      <td>728</td>\n",
       "      <td>...</td>\n",
       "      <td>Delayed</td>\n",
       "      <td>21.92</td>\n",
       "      <td>2855.15</td>\n",
       "      <td>3750.48</td>\n",
       "      <td>2.08</td>\n",
       "      <td>188.80</td>\n",
       "      <td>2198.47</td>\n",
       "      <td>9</td>\n",
       "      <td>3.6</td>\n",
       "      <td>4.513333</td>\n",
       "    </tr>\n",
       "    <tr>\n",
       "      <th>3</th>\n",
       "      <td>4</td>\n",
       "      <td>2022-04-17</td>\n",
       "      <td>Phuket</td>\n",
       "      <td>Tokyo</td>\n",
       "      <td>4271.25</td>\n",
       "      <td>100.63</td>\n",
       "      <td>Truck</td>\n",
       "      <td>7.3</td>\n",
       "      <td>455</td>\n",
       "      <td>7846</td>\n",
       "      <td>...</td>\n",
       "      <td>On Time</td>\n",
       "      <td>0.00</td>\n",
       "      <td>3714.92</td>\n",
       "      <td>4572.87</td>\n",
       "      <td>4.80</td>\n",
       "      <td>514.23</td>\n",
       "      <td>2301.54</td>\n",
       "      <td>4</td>\n",
       "      <td>8.2</td>\n",
       "      <td>8.200000</td>\n",
       "    </tr>\n",
       "    <tr>\n",
       "      <th>4</th>\n",
       "      <td>5</td>\n",
       "      <td>2022-03-13</td>\n",
       "      <td>Pattaya</td>\n",
       "      <td>Sydney</td>\n",
       "      <td>1367.44</td>\n",
       "      <td>326.90</td>\n",
       "      <td>Van</td>\n",
       "      <td>2.4</td>\n",
       "      <td>345</td>\n",
       "      <td>3030</td>\n",
       "      <td>...</td>\n",
       "      <td>On Time</td>\n",
       "      <td>0.00</td>\n",
       "      <td>1535.69</td>\n",
       "      <td>1973.51</td>\n",
       "      <td>4.57</td>\n",
       "      <td>106.65</td>\n",
       "      <td>851.56</td>\n",
       "      <td>3</td>\n",
       "      <td>3.0</td>\n",
       "      <td>3.000000</td>\n",
       "    </tr>\n",
       "  </tbody>\n",
       "</table>\n",
       "<p>5 rows × 21 columns</p>\n",
       "</div>"
      ],
      "text/plain": [
       "   shipment_id       date   origin destination  distance_km  weight_kg  \\\n",
       "0            1 2022-04-13  Pattaya       Tokyo      1737.89     214.26   \n",
       "1            2 2023-03-12  Bangkok      London      8206.58     359.15   \n",
       "2            3 2022-09-28  Pattaya      London      1438.34     502.28   \n",
       "3            4 2022-04-17   Phuket       Tokyo      4271.25     100.63   \n",
       "4            5 2022-03-13  Pattaya      Sydney      1367.44     326.90   \n",
       "\n",
       "  vehicle_type  vehicle_age_years  driver_id  customer_id  ...  \\\n",
       "0         Ship                3.4        211         7684  ...   \n",
       "1     Airplane                9.5        485         9206  ...   \n",
       "2         Ship                8.2         55          728  ...   \n",
       "3        Truck                7.3        455         7846  ...   \n",
       "4          Van                2.4        345         3030  ...   \n",
       "\n",
       "  delivery_status delay_hours  transport_cost   revenue  \\\n",
       "0         On Time        0.00         1983.64   2748.14   \n",
       "1         Delayed       16.69         9021.03  12532.73   \n",
       "2         Delayed       21.92         2855.15   3750.48   \n",
       "3         On Time        0.00         3714.92   4572.87   \n",
       "4         On Time        0.00         1535.69   1973.51   \n",
       "\n",
       "   customer_satisfaction  fuel_consumption_liters  maintenance_cost  month  \\\n",
       "0                   4.84                   217.60           1583.21      4   \n",
       "1                   3.10                   912.08           4452.07      3   \n",
       "2                   2.08                   188.80           2198.47      9   \n",
       "3                   4.80                   514.23           2301.54      4   \n",
       "4                   4.57                   106.65            851.56      3   \n",
       "\n",
       "   estimated_delivery_days  actual_delivery_days  \n",
       "0                      3.7              3.700000  \n",
       "1                     17.3             17.995417  \n",
       "2                      3.6              4.513333  \n",
       "3                      8.2              8.200000  \n",
       "4                      3.0              3.000000  \n",
       "\n",
       "[5 rows x 21 columns]"
      ]
     },
     "execution_count": 55,
     "metadata": {},
     "output_type": "execute_result"
    }
   ],
   "source": [
    "df.head()"
   ]
  },
  {
   "cell_type": "code",
   "execution_count": 5,
   "id": "72de5432-5676-49b8-9898-80f2cade2130",
   "metadata": {},
   "outputs": [
    {
     "data": {
      "text/plain": [
       "(500000, 21)"
      ]
     },
     "execution_count": 5,
     "metadata": {},
     "output_type": "execute_result"
    }
   ],
   "source": [
    "df.shape"
   ]
  },
  {
   "cell_type": "code",
   "execution_count": 7,
   "id": "982b2e7c-4ffd-4390-a036-33dc0566e242",
   "metadata": {},
   "outputs": [
    {
     "name": "stdout",
     "output_type": "stream",
     "text": [
      "<class 'pandas.core.frame.DataFrame'>\n",
      "RangeIndex: 500000 entries, 0 to 499999\n",
      "Data columns (total 21 columns):\n",
      " #   Column                   Non-Null Count   Dtype         \n",
      "---  ------                   --------------   -----         \n",
      " 0   shipment_id              500000 non-null  int64         \n",
      " 1   date                     500000 non-null  datetime64[ns]\n",
      " 2   origin                   500000 non-null  object        \n",
      " 3   destination              500000 non-null  object        \n",
      " 4   distance_km              500000 non-null  float64       \n",
      " 5   weight_kg                500000 non-null  float64       \n",
      " 6   vehicle_type             500000 non-null  object        \n",
      " 7   vehicle_age_years        500000 non-null  float64       \n",
      " 8   driver_id                500000 non-null  int64         \n",
      " 9   customer_id              500000 non-null  int64         \n",
      " 10  product_type             500000 non-null  object        \n",
      " 11  delivery_status          500000 non-null  object        \n",
      " 12  delay_hours              500000 non-null  float64       \n",
      " 13  transport_cost           500000 non-null  float64       \n",
      " 14  revenue                  500000 non-null  float64       \n",
      " 15  customer_satisfaction    500000 non-null  float64       \n",
      " 16  fuel_consumption_liters  500000 non-null  float64       \n",
      " 17  maintenance_cost         500000 non-null  float64       \n",
      " 18  month                    500000 non-null  int64         \n",
      " 19  estimated_delivery_days  500000 non-null  float64       \n",
      " 20  actual_delivery_days     500000 non-null  float64       \n",
      "dtypes: datetime64[ns](1), float64(11), int64(4), object(5)\n",
      "memory usage: 80.1+ MB\n"
     ]
    }
   ],
   "source": [
    "df.info()"
   ]
  },
  {
   "cell_type": "code",
   "execution_count": 8,
   "id": "0052a569-0d26-48b9-a14f-dcb425c998b4",
   "metadata": {},
   "outputs": [
    {
     "data": {
      "text/plain": [
       "0"
      ]
     },
     "execution_count": 8,
     "metadata": {},
     "output_type": "execute_result"
    }
   ],
   "source": [
    "# check duplicate\n",
    "df['shipment_id'].duplicated().sum()"
   ]
  },
  {
   "cell_type": "code",
   "execution_count": 10,
   "id": "a629fca5-a8b8-4291-b0e0-740b569fea8e",
   "metadata": {},
   "outputs": [
    {
     "data": {
      "text/plain": [
       "array(['Ship', 'Airplane', 'Truck', 'Van'], dtype=object)"
      ]
     },
     "execution_count": 10,
     "metadata": {},
     "output_type": "execute_result"
    }
   ],
   "source": [
    "df['vehicle_type'].unique()"
   ]
  },
  {
   "cell_type": "code",
   "execution_count": 15,
   "id": "4f65ab3f-d41a-47d8-b18d-3fbe40183f6b",
   "metadata": {},
   "outputs": [
    {
     "name": "stdout",
     "output_type": "stream",
     "text": [
      "['Pattaya' 'Bangkok' 'Phuket' 'Chiang Mai' 'Khon Kaen']\n",
      "['Tokyo' 'London' 'Sydney' 'New York' 'Singapore' 'Dubai']\n",
      "['Ship' 'Airplane' 'Truck' 'Van']\n",
      "['On Time' 'Delayed' 'Very Delayed']\n"
     ]
    }
   ],
   "source": [
    "print(df.iloc[:,2].unique())\n",
    "print(df.iloc[:,3].unique())\n",
    "print(df.iloc[:,6].unique())\n",
    "print(df['delivery_status'].unique())"
   ]
  },
  {
   "cell_type": "code",
   "execution_count": 18,
   "id": "22ba3a65-56df-4a4d-be90-361b28ce9d7b",
   "metadata": {},
   "outputs": [
    {
     "data": {
      "text/plain": [
       "Index(['origin', 'destination', 'vehicle_type', 'product_type',\n",
       "       'delivery_status'],\n",
       "      dtype='object')"
      ]
     },
     "execution_count": 18,
     "metadata": {},
     "output_type": "execute_result"
    }
   ],
   "source": [
    "df.select_dtypes(include='object').columns"
   ]
  },
  {
   "cell_type": "code",
   "execution_count": 66,
   "id": "a5e16492-c937-46eb-8333-b55db09decf6",
   "metadata": {},
   "outputs": [
    {
     "data": {
      "text/plain": [
       "Index(['shipment_id', 'distance_km', 'weight_kg', 'vehicle_age_years',\n",
       "       'driver_id', 'customer_id', 'delay_hours', 'transport_cost', 'revenue',\n",
       "       'customer_satisfaction', 'fuel_consumption_liters', 'maintenance_cost',\n",
       "       'month', 'estimated_delivery_days', 'actual_delivery_days'],\n",
       "      dtype='object')"
      ]
     },
     "execution_count": 66,
     "metadata": {},
     "output_type": "execute_result"
    }
   ],
   "source": [
    "df.select_dtypes(include='number').columns"
   ]
  },
  {
   "cell_type": "code",
   "execution_count": 99,
   "id": "96142d30-aad5-4aac-aaae-d3687b5de162",
   "metadata": {},
   "outputs": [
    {
     "data": {
      "text/plain": [
       "<Axes: >"
      ]
     },
     "execution_count": 99,
     "metadata": {},
     "output_type": "execute_result"
    },
    {
     "data": {
      "image/png": "[encoded data removed]",
      "text/plain": [
       "<Figure size 640x480 with 1 Axes>"
      ]
     },
     "metadata": {},
     "output_type": "display_data"
    }
   ],
   "source": [
    "df[['distance_km', 'weight_kg', 'vehicle_age_years',\n",
    "       'driver_id', 'customer_id', 'delay_hours', 'transport_cost', 'revenue',\n",
    "       'customer_satisfaction', 'fuel_consumption_liters', 'maintenance_cost',\n",
    "       'month', 'estimated_delivery_days', 'actual_delivery_days']].boxplot(vert=False)"
   ]
  },
  {
   "cell_type": "code",
   "execution_count": 36,
   "id": "e2fedfcb-6f7c-4c54-81d8-346857399f48",
   "metadata": {},
   "outputs": [
    {
     "data": {
      "text/plain": [
       "Index(['shipment_id', 'date', 'origin', 'destination', 'distance_km',\n",
       "       'weight_kg', 'vehicle_type', 'vehicle_age_years', 'driver_id',\n",
       "       'customer_id', 'product_type', 'delivery_status', 'delay_hours',\n",
       "       'transport_cost', 'revenue', 'customer_satisfaction',\n",
       "       'fuel_consumption_liters', 'maintenance_cost', 'month',\n",
       "       'estimated_delivery_days', 'actual_delivery_days'],\n",
       "      dtype='object')"
      ]
     },
     "execution_count": 36,
     "metadata": {},
     "output_type": "execute_result"
    }
   ],
   "source": [
    "df.columns"
   ]
  },
  {
   "cell_type": "code",
   "execution_count": 38,
   "id": "fb9696ff-7766-4c58-b4bf-5cefee14bb94",
   "metadata": {},
   "outputs": [
    {
     "data": {
      "text/plain": [
       "delivery_status\n",
       "On Time         399895\n",
       "Delayed          75120\n",
       "Very Delayed     24985\n",
       "Name: count, dtype: int64"
      ]
     },
     "execution_count": 38,
     "metadata": {},
     "output_type": "execute_result"
    }
   ],
   "source": [
    "df['delivery_status'].value_counts()"
   ]
  },
  {
   "cell_type": "code",
   "execution_count": 73,
   "id": "38786d46-56c8-4c5c-8314-f5dc8fbc53f1",
   "metadata": {},
   "outputs": [],
   "source": [
    "mask_ontime = df['delivery_status'] == 'On Time'"
   ]
  },
  {
   "cell_type": "code",
   "execution_count": 75,
   "id": "d7e20798-68ce-4e71-8e82-5cff834ba9eb",
   "metadata": {},
   "outputs": [],
   "source": [
    "a = df[['origin','revenue']].copy()"
   ]
  },
  {
   "cell_type": "code",
   "execution_count": 77,
   "id": "897a7ee5-d89c-44ec-8d5f-43d35a45349f",
   "metadata": {},
   "outputs": [],
   "source": [
    "a['on time'] = mask_ontime"
   ]
  },
  {
   "cell_type": "code",
   "execution_count": 81,
   "id": "eafde7a2-b7a0-4422-99c3-2f97cf5794ad",
   "metadata": {},
   "outputs": [],
   "source": [
    "m_ontime = df['delivery_status'] == 'On Time'\n",
    "m_revenueQ75 = df['revenue']> df['revenue'].quantile(.75)"
   ]
  },
  {
   "cell_type": "code",
   "execution_count": 85,
   "id": "750ead49-511e-4e1b-a9c5-2b55e52937be",
   "metadata": {},
   "outputs": [
    {
     "data": {
      "text/plain": [
       "(99843, 21)"
      ]
     },
     "execution_count": 85,
     "metadata": {},
     "output_type": "execute_result"
    }
   ],
   "source": [
    "a = df[m_ontime & m_revenueQ75]\n",
    "a.shape"
   ]
  },
  {
   "cell_type": "code",
   "execution_count": 87,
   "id": "dffedc9d-e9d5-4257-aa82-ca73b42da2c6",
   "metadata": {},
   "outputs": [
    {
     "data": {
      "text/html": [
       "<div>\n",
       "<style scoped>\n",
       "    .dataframe tbody tr th:only-of-type {\n",
       "        vertical-align: middle;\n",
       "    }\n",
       "\n",
       "    .dataframe tbody tr th {\n",
       "        vertical-align: top;\n",
       "    }\n",
       "\n",
       "    .dataframe thead th {\n",
       "        text-align: right;\n",
       "    }\n",
       "</style>\n",
       "<table border=\"1\" class=\"dataframe\">\n",
       "  <thead>\n",
       "    <tr style=\"text-align: right;\">\n",
       "      <th></th>\n",
       "      <th>shipment_id</th>\n",
       "      <th>date</th>\n",
       "      <th>origin</th>\n",
       "      <th>destination</th>\n",
       "      <th>distance_km</th>\n",
       "      <th>weight_kg</th>\n",
       "      <th>vehicle_type</th>\n",
       "      <th>vehicle_age_years</th>\n",
       "      <th>driver_id</th>\n",
       "      <th>customer_id</th>\n",
       "      <th>...</th>\n",
       "      <th>delivery_status</th>\n",
       "      <th>delay_hours</th>\n",
       "      <th>transport_cost</th>\n",
       "      <th>revenue</th>\n",
       "      <th>customer_satisfaction</th>\n",
       "      <th>fuel_consumption_liters</th>\n",
       "      <th>maintenance_cost</th>\n",
       "      <th>month</th>\n",
       "      <th>estimated_delivery_days</th>\n",
       "      <th>actual_delivery_days</th>\n",
       "    </tr>\n",
       "  </thead>\n",
       "  <tbody>\n",
       "    <tr>\n",
       "      <th>15</th>\n",
       "      <td>16</td>\n",
       "      <td>2022-04-10</td>\n",
       "      <td>Phuket</td>\n",
       "      <td>London</td>\n",
       "      <td>9487.34</td>\n",
       "      <td>258.89</td>\n",
       "      <td>Truck</td>\n",
       "      <td>2.0</td>\n",
       "      <td>110</td>\n",
       "      <td>1310</td>\n",
       "      <td>...</td>\n",
       "      <td>On Time</td>\n",
       "      <td>0.0</td>\n",
       "      <td>10453.710</td>\n",
       "      <td>12742.53</td>\n",
       "      <td>4.40</td>\n",
       "      <td>958.86</td>\n",
       "      <td>1087.47</td>\n",
       "      <td>4</td>\n",
       "      <td>18.2</td>\n",
       "      <td>18.2</td>\n",
       "    </tr>\n",
       "    <tr>\n",
       "      <th>18</th>\n",
       "      <td>19</td>\n",
       "      <td>2023-10-24</td>\n",
       "      <td>Khon Kaen</td>\n",
       "      <td>Dubai</td>\n",
       "      <td>5731.44</td>\n",
       "      <td>9.80</td>\n",
       "      <td>Van</td>\n",
       "      <td>8.1</td>\n",
       "      <td>295</td>\n",
       "      <td>3555</td>\n",
       "      <td>...</td>\n",
       "      <td>On Time</td>\n",
       "      <td>0.0</td>\n",
       "      <td>10703.740</td>\n",
       "      <td>15543.55</td>\n",
       "      <td>4.86</td>\n",
       "      <td>991.94</td>\n",
       "      <td>2775.04</td>\n",
       "      <td>10</td>\n",
       "      <td>12.0</td>\n",
       "      <td>12.0</td>\n",
       "    </tr>\n",
       "    <tr>\n",
       "      <th>19</th>\n",
       "      <td>20</td>\n",
       "      <td>2022-11-05</td>\n",
       "      <td>Bangkok</td>\n",
       "      <td>Tokyo</td>\n",
       "      <td>6876.69</td>\n",
       "      <td>137.09</td>\n",
       "      <td>Truck</td>\n",
       "      <td>3.6</td>\n",
       "      <td>214</td>\n",
       "      <td>5247</td>\n",
       "      <td>...</td>\n",
       "      <td>On Time</td>\n",
       "      <td>0.0</td>\n",
       "      <td>13235.208</td>\n",
       "      <td>15073.26</td>\n",
       "      <td>4.07</td>\n",
       "      <td>939.61</td>\n",
       "      <td>1572.37</td>\n",
       "      <td>11</td>\n",
       "      <td>14.0</td>\n",
       "      <td>14.0</td>\n",
       "    </tr>\n",
       "    <tr>\n",
       "      <th>20</th>\n",
       "      <td>21</td>\n",
       "      <td>2022-12-10</td>\n",
       "      <td>Bangkok</td>\n",
       "      <td>London</td>\n",
       "      <td>6604.09</td>\n",
       "      <td>279.69</td>\n",
       "      <td>Truck</td>\n",
       "      <td>2.4</td>\n",
       "      <td>190</td>\n",
       "      <td>8986</td>\n",
       "      <td>...</td>\n",
       "      <td>On Time</td>\n",
       "      <td>0.0</td>\n",
       "      <td>10989.048</td>\n",
       "      <td>13292.65</td>\n",
       "      <td>4.47</td>\n",
       "      <td>688.52</td>\n",
       "      <td>616.82</td>\n",
       "      <td>12</td>\n",
       "      <td>13.7</td>\n",
       "      <td>13.7</td>\n",
       "    </tr>\n",
       "    <tr>\n",
       "      <th>22</th>\n",
       "      <td>23</td>\n",
       "      <td>2023-02-18</td>\n",
       "      <td>Phuket</td>\n",
       "      <td>Tokyo</td>\n",
       "      <td>6353.31</td>\n",
       "      <td>235.68</td>\n",
       "      <td>Airplane</td>\n",
       "      <td>8.7</td>\n",
       "      <td>61</td>\n",
       "      <td>728</td>\n",
       "      <td>...</td>\n",
       "      <td>On Time</td>\n",
       "      <td>0.0</td>\n",
       "      <td>11857.520</td>\n",
       "      <td>16106.46</td>\n",
       "      <td>4.08</td>\n",
       "      <td>488.93</td>\n",
       "      <td>1791.06</td>\n",
       "      <td>2</td>\n",
       "      <td>12.2</td>\n",
       "      <td>12.2</td>\n",
       "    </tr>\n",
       "  </tbody>\n",
       "</table>\n",
       "<p>5 rows × 21 columns</p>\n",
       "</div>"
      ],
      "text/plain": [
       "    shipment_id       date     origin destination  distance_km  weight_kg  \\\n",
       "15           16 2022-04-10     Phuket      London      9487.34     258.89   \n",
       "18           19 2023-10-24  Khon Kaen       Dubai      5731.44       9.80   \n",
       "19           20 2022-11-05    Bangkok       Tokyo      6876.69     137.09   \n",
       "20           21 2022-12-10    Bangkok      London      6604.09     279.69   \n",
       "22           23 2023-02-18     Phuket       Tokyo      6353.31     235.68   \n",
       "\n",
       "   vehicle_type  vehicle_age_years  driver_id  customer_id  ...  \\\n",
       "15        Truck                2.0        110         1310  ...   \n",
       "18          Van                8.1        295         3555  ...   \n",
       "19        Truck                3.6        214         5247  ...   \n",
       "20        Truck                2.4        190         8986  ...   \n",
       "22     Airplane                8.7         61          728  ...   \n",
       "\n",
       "   delivery_status delay_hours  transport_cost   revenue  \\\n",
       "15         On Time         0.0       10453.710  12742.53   \n",
       "18         On Time         0.0       10703.740  15543.55   \n",
       "19         On Time         0.0       13235.208  15073.26   \n",
       "20         On Time         0.0       10989.048  13292.65   \n",
       "22         On Time         0.0       11857.520  16106.46   \n",
       "\n",
       "    customer_satisfaction  fuel_consumption_liters  maintenance_cost  month  \\\n",
       "15                   4.40                   958.86           1087.47      4   \n",
       "18                   4.86                   991.94           2775.04     10   \n",
       "19                   4.07                   939.61           1572.37     11   \n",
       "20                   4.47                   688.52            616.82     12   \n",
       "22                   4.08                   488.93           1791.06      2   \n",
       "\n",
       "    estimated_delivery_days  actual_delivery_days  \n",
       "15                     18.2                  18.2  \n",
       "18                     12.0                  12.0  \n",
       "19                     14.0                  14.0  \n",
       "20                     13.7                  13.7  \n",
       "22                     12.2                  12.2  \n",
       "\n",
       "[5 rows x 21 columns]"
      ]
     },
     "execution_count": 87,
     "metadata": {},
     "output_type": "execute_result"
    }
   ],
   "source": [
    "a.head()"
   ]
  },
  {
   "cell_type": "code",
   "execution_count": 89,
   "id": "536ee3d3-4963-4b63-9497-1631e6ac3259",
   "metadata": {},
   "outputs": [
    {
     "name": "stdout",
     "output_type": "stream",
     "text": [
      "<class 'pandas.core.frame.DataFrame'>\n",
      "Index: 99843 entries, 15 to 499984\n",
      "Data columns (total 21 columns):\n",
      " #   Column                   Non-Null Count  Dtype         \n",
      "---  ------                   --------------  -----         \n",
      " 0   shipment_id              99843 non-null  int64         \n",
      " 1   date                     99843 non-null  datetime64[ns]\n",
      " 2   origin                   99843 non-null  object        \n",
      " 3   destination              99843 non-null  object        \n",
      " 4   distance_km              99843 non-null  float64       \n",
      " 5   weight_kg                99843 non-null  float64       \n",
      " 6   vehicle_type             99843 non-null  object        \n",
      " 7   vehicle_age_years        99843 non-null  float64       \n",
      " 8   driver_id                99843 non-null  int64         \n",
      " 9   customer_id              99843 non-null  int64         \n",
      " 10  product_type             99843 non-null  object        \n",
      " 11  delivery_status          99843 non-null  object        \n",
      " 12  delay_hours              99843 non-null  float64       \n",
      " 13  transport_cost           99843 non-null  float64       \n",
      " 14  revenue                  99843 non-null  float64       \n",
      " 15  customer_satisfaction    99843 non-null  float64       \n",
      " 16  fuel_consumption_liters  99843 non-null  float64       \n",
      " 17  maintenance_cost         99843 non-null  float64       \n",
      " 18  month                    99843 non-null  int64         \n",
      " 19  estimated_delivery_days  99843 non-null  float64       \n",
      " 20  actual_delivery_days     99843 non-null  float64       \n",
      "dtypes: datetime64[ns](1), float64(11), int64(4), object(5)\n",
      "memory usage: 16.8+ MB\n"
     ]
    }
   ],
   "source": [
    "a.info()"
   ]
  },
  {
   "cell_type": "code",
   "execution_count": 91,
   "id": "25000d63-368e-4801-9e72-867340da000f",
   "metadata": {},
   "outputs": [
    {
     "data": {
      "text/plain": [
       "vehicle_type\n",
       "Truck       125109\n",
       "Van         125093\n",
       "Ship        125066\n",
       "Airplane    124732\n",
       "Name: count, dtype: int64"
      ]
     },
     "execution_count": 91,
     "metadata": {},
     "output_type": "execute_result"
    }
   ],
   "source": [
    "df['vehicle_type'].value_counts()"
   ]
  },
  {
   "cell_type": "code",
   "execution_count": 93,
   "id": "64ad752c-defa-495e-93f8-419aa950237e",
   "metadata": {},
   "outputs": [
    {
     "data": {
      "text/plain": [
       "5056.012452181698"
      ]
     },
     "execution_count": 93,
     "metadata": {},
     "output_type": "execute_result"
    }
   ],
   "source": [
    "df[df['vehicle_type'] == 'Truck']['distance_km'].mean()"
   ]
  },
  {
   "cell_type": "code",
   "execution_count": 97,
   "id": "5441696e-1009-4612-8f31-1499a4ee64b5",
   "metadata": {},
   "outputs": [
    {
     "name": "stdout",
     "output_type": "stream",
     "text": [
      "{'Ship': 5056.012452181698, 'Airplane': 5056.012452181698, 'Truck': 5056.012452181698, 'Van': 5056.012452181698}\n"
     ]
    }
   ],
   "source": [
    "# dict comprehension\n",
    "\n",
    "avg_distance_vehicle = {vtype: df[df['vehicle_type'] == 'Truck']['distance_km'].mean()\n",
    "                        for vtype in df['vehicle_type'].unique()}\n",
    "print(avg_distance_vehicle)"
   ]
  },
  {
   "cell_type": "code",
   "execution_count": 107,
   "id": "daacf1d4-c88f-4332-9d3b-af4707a6bda4",
   "metadata": {},
   "outputs": [
    {
     "ename": "SyntaxError",
     "evalue": "cannot assign to function call here. Maybe you meant '==' instead of '='? (3677826952.py, line 6)",
     "output_type": "error",
     "traceback": [
      "\u001b[1;36m  Cell \u001b[1;32mIn[107], line 6\u001b[1;36m\u001b[0m\n\u001b[1;33m    summary('avg_cost') = df[df['origin']==origin & df['destination'] == destination].['transport_cost'].mean()\u001b[0m\n\u001b[1;37m    ^\u001b[0m\n\u001b[1;31mSyntaxError\u001b[0m\u001b[1;31m:\u001b[0m cannot assign to function call here. Maybe you meant '==' instead of '='?\n"
     ]
    }
   ],
   "source": [
    "route_summary = dict()\n",
    "\n",
    "for origin in df['origin'].unique():\n",
    "    key = '{0} - {1}'.format(origin,destination)\n",
    "    summary = dict()\n",
    "    summary('avg_cost') = df[df['origin']==origin & df['destination'] == destination].['transport_cost'].mean()\n",
    "    summary('avg_revenue') = df[df['origin']==origin & df['destination'] == destination].['revenue'].mean()\n",
    "    route_summary[key] =summary\n",
    "\n",
    "\n",
    "print(json.dumps(route_summary,indent=2))"
   ]
  },
  {
   "cell_type": "code",
   "execution_count": null,
   "id": "cda8fd8f-bbd5-4598-89e4-72aa93f6ad53",
   "metadata": {},
   "outputs": [],
   "source": []
  },
  {
   "cell_type": "code",
   "execution_count": null,
   "id": "eaedfa1f-9d47-438c-8394-e36bc719081c",
   "metadata": {},
   "outputs": [],
   "source": []
  },
  {
   "cell_type": "code",
   "execution_count": null,
   "id": "32fd293f-95c9-4ffe-ac04-c81d911a71f7",
   "metadata": {},
   "outputs": [],
   "source": []
  },
  {
   "cell_type": "code",
   "execution_count": null,
   "id": "d51a4976-4244-4433-ae22-afcaf4f00e70",
   "metadata": {},
   "outputs": [],
   "source": []
  },
  {
   "cell_type": "code",
   "execution_count": null,
   "id": "5251cc13-5316-47db-93cc-cb9559cbefc3",
   "metadata": {},
   "outputs": [],
   "source": []
  },
  {
   "cell_type": "code",
   "execution_count": 113,
   "id": "04a20379-5213-4dc8-b497-bff352aa58bd",
   "metadata": {},
   "outputs": [
    {
     "data": {
      "text/plain": [
       "{'Dubai', 'London', 'New York', 'Singapore', 'Sydney', 'Tokyo'}"
      ]
     },
     "execution_count": 113,
     "metadata": {},
     "output_type": "execute_result"
    }
   ],
   "source": [
    "# df['destination'].unique()\n",
    "set_destination =  set(df['destination'])\n",
    "set_destination"
   ]
  },
  {
   "cell_type": "code",
   "execution_count": 115,
   "id": "fc1253e2-a090-494b-b860-756f5da87f73",
   "metadata": {},
   "outputs": [
    {
     "name": "stdout",
     "output_type": "stream",
     "text": [
      "not found\n"
     ]
    }
   ],
   "source": [
    "if 'Chula' in set_destination:\n",
    "    print('found')\n",
    "else:\n",
    "    print('not found')"
   ]
  },
  {
   "cell_type": "code",
   "execution_count": 127,
   "id": "51468744-20bd-430e-bc8c-ff75ad8baf6e",
   "metadata": {},
   "outputs": [
    {
     "name": "stdout",
     "output_type": "stream",
     "text": [
      "['Tokyo' 'London' 'Sydney' 'New York' 'Singapore' 'Dubai']\n"
     ]
    }
   ],
   "source": [
    "print(df['destination'].unique())"
   ]
  },
  {
   "cell_type": "code",
   "execution_count": 129,
   "id": "393247cc-1741-4b7b-b636-4dc870dcfe70",
   "metadata": {},
   "outputs": [],
   "source": [
    "import seaborn as sns"
   ]
  },
  {
   "cell_type": "code",
   "execution_count": 137,
   "id": "eeaea84c-85fa-4658-87d8-264da14bf97a",
   "metadata": {},
   "outputs": [
    {
     "data": {
      "image/png": "[encoded data removed]",
      "text/plain": [
       "<Figure size 640x480 with 1 Axes>"
      ]
     },
     "metadata": {},
     "output_type": "display_data"
    }
   ],
   "source": [
    "sns.boxplot(x='delivery_status',y='customer_satisfaction', data=df);"
   ]
  },
  {
   "cell_type": "code",
   "execution_count": 140,
   "id": "d36bdc4c-7bcb-4133-8197-9bc57217688b",
   "metadata": {},
   "outputs": [
    {
     "data": {
      "image/png": "[encoded data removed]",
      "text/plain": [
       "<Figure size 640x480 with 1 Axes>"
      ]
     },
     "metadata": {},
     "output_type": "display_data"
    }
   ],
   "source": [
    "plt.scatter(df['distance_km'],df['transport_cost']);"
   ]
  },
  {
   "cell_type": "code",
   "execution_count": 155,
   "id": "7f212253-6563-4139-8b62-98956b9a3e64",
   "metadata": {},
   "outputs": [
    {
     "data": {
      "image/png": "[encoded data removed]",
      "text/plain": [
       "<Figure size 640x480 with 1 Axes>"
      ]
     },
     "metadata": {},
     "output_type": "display_data"
    },
    {
     "data": {
      "image/png": "[encoded data removed]",
      "text/plain": [
       "<Figure size 640x480 with 1 Axes>"
      ]
     },
     "metadata": {},
     "output_type": "display_data"
    }
   ],
   "source": [
    "sns.boxplot(x='delivery_status',y='customer_satisfaction', data=df)\n",
    "plt.title('relationship between delivery_status and customer satisfaction')\n",
    "plt.show()\n",
    "plt.scatter(df['distance_km'],df['transport_cost'])\n",
    "plt.title('relationship between distance_km and transport_cost')\n",
    "plt.xlabel('distance_km')\n",
    "plt.ylabel('transport_cost')\n",
    "plt.show();"
   ]
  },
  {
   "cell_type": "code",
   "execution_count": 159,
   "id": "2f985290-c3ed-4d09-9d85-e288435256bf",
   "metadata": {},
   "outputs": [
    {
     "name": "stdout",
     "output_type": "stream",
     "text": [
      "   distance_km distance_category\n",
      "0      1737.89            medium\n",
      "1      8206.58              long\n",
      "2      1438.34            medium\n",
      "3      4271.25            medium\n",
      "4      1367.44            medium\n",
      "        distance_km distance_category\n",
      "103006      7371.98              long\n",
      "93985       9138.82              long\n",
      "419096      8074.38              long\n",
      "476534      5399.78              long\n",
      "388335      8469.28              long\n"
     ]
    }
   ],
   "source": [
    "def category_distance(d):\n",
    "    if d < 1000:\n",
    "        return 'short'\n",
    "    elif d < 5000:\n",
    "        return 'medium'\n",
    "    else:\n",
    "        return 'long'\n",
    "\n",
    "df['distance_category'] = df['distance_km'].apply(category_distance)\n",
    "print(df[['distance_km','distance_category']].head(5))\n",
    "print(df[['distance_km','distance_category']].sample(5))"
   ]
  },
  {
   "cell_type": "code",
   "execution_count": 169,
   "id": "3ff9a675-79ef-48be-b3d3-ae6d204cf4b8",
   "metadata": {},
   "outputs": [
    {
     "data": {
      "text/html": [
       "<div>\n",
       "<style scoped>\n",
       "    .dataframe tbody tr th:only-of-type {\n",
       "        vertical-align: middle;\n",
       "    }\n",
       "\n",
       "    .dataframe tbody tr th {\n",
       "        vertical-align: top;\n",
       "    }\n",
       "\n",
       "    .dataframe thead th {\n",
       "        text-align: right;\n",
       "    }\n",
       "</style>\n",
       "<table border=\"1\" class=\"dataframe\">\n",
       "  <thead>\n",
       "    <tr style=\"text-align: right;\">\n",
       "      <th></th>\n",
       "      <th>revenue</th>\n",
       "      <th>transport_cost</th>\n",
       "      <th>profit</th>\n",
       "    </tr>\n",
       "  </thead>\n",
       "  <tbody>\n",
       "    <tr>\n",
       "      <th>0</th>\n",
       "      <td>2748.14</td>\n",
       "      <td>1983.64</td>\n",
       "      <td>764.50</td>\n",
       "    </tr>\n",
       "    <tr>\n",
       "      <th>1</th>\n",
       "      <td>12532.73</td>\n",
       "      <td>9021.03</td>\n",
       "      <td>3511.70</td>\n",
       "    </tr>\n",
       "    <tr>\n",
       "      <th>2</th>\n",
       "      <td>3750.48</td>\n",
       "      <td>2855.15</td>\n",
       "      <td>895.33</td>\n",
       "    </tr>\n",
       "    <tr>\n",
       "      <th>3</th>\n",
       "      <td>4572.87</td>\n",
       "      <td>3714.92</td>\n",
       "      <td>857.95</td>\n",
       "    </tr>\n",
       "    <tr>\n",
       "      <th>4</th>\n",
       "      <td>1973.51</td>\n",
       "      <td>1535.69</td>\n",
       "      <td>437.82</td>\n",
       "    </tr>\n",
       "  </tbody>\n",
       "</table>\n",
       "</div>"
      ],
      "text/plain": [
       "    revenue  transport_cost   profit\n",
       "0   2748.14         1983.64   764.50\n",
       "1  12532.73         9021.03  3511.70\n",
       "2   3750.48         2855.15   895.33\n",
       "3   4572.87         3714.92   857.95\n",
       "4   1973.51         1535.69   437.82"
      ]
     },
     "execution_count": 169,
     "metadata": {},
     "output_type": "execute_result"
    }
   ],
   "source": [
    "df['profit'] = df.apply(lambda row: (row['revenue']-row['transport_cost']),axis=1)\n",
    "df[['revenue','transport_cost','profit']].head()"
   ]
  }
 ],
 "metadata": {
  "kernelspec": {
   "display_name": "Python 3 (ipykernel)",
   "language": "python",
   "name": "python3"
  },
  "language_info": {
   "codemirror_mode": {
    "name": "ipython",
    "version": 3
   },
   "file_extension": ".py",
   "mimetype": "text/x-python",
   "name": "python",
   "nbconvert_exporter": "python",
   "pygments_lexer": "ipython3",
   "version": "3.11.9"
  }
 },
 "nbformat": 4,
 "nbformat_minor": 5
}
