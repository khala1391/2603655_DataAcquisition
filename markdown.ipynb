{
 "cells": [
  {
   "cell_type": "markdown",
   "metadata": {},
   "source": [
    "# H1\n",
    "## H2\n",
    "### H3\n",
    "\n",
    "**bold text**\n",
    "\n",
    "*italicized text*\n",
    "\n",
    "> blackquote\n",
    "\n",
    "1. first item\n",
    "2. second item\n",
    "3. third item\n",
    "\n",
    "- first item\n",
    "- second item\n",
    "- third item\n",
    "\n",
    "`code`\n",
    "\n",
    "---\n",
    "\n",
    "[link](http://www.google.com)\n",
    "\n",
    "\n",
    "\n",
    "![picture](figure/skew_kurtosis.png)"
   ]
  },
  {
   "cell_type": "markdown",
   "metadata": {},
   "source": [
    "| Syntax | Description |\n",
    "| ----------- | ----------- |\n",
    "| Header | Title |\n",
    "| Paragraph | Text |"
   ]
  },
  {
   "cell_type": "markdown",
   "metadata": {},
   "source": [
    "\t```\n",
    "{\n",
    "  \"firstName\": \"John\",\n",
    "  \"lastName\": \"Smith\",\n",
    "  \"age\": 25\n",
    "}\n",
    "```"
   ]
  },
  {
   "cell_type": "markdown",
   "metadata": {},
   "source": [
    "Here's a sentence with a footnote.[^1]\n"
   ]
  },
  {
   "cell_type": "markdown",
   "metadata": {},
   "source": [
    "[^1]: This is the footnote."
   ]
  },
  {
   "cell_type": "markdown",
   "metadata": {},
   "source": [
    "### My Great Heading {#custom-id}"
   ]
  },
  {
   "cell_type": "markdown",
   "metadata": {},
   "source": [
    "term\n",
    ": definition"
   ]
  },
  {
   "cell_type": "markdown",
   "metadata": {},
   "source": [
    "~~The world is flat.~~"
   ]
  },
  {
   "cell_type": "markdown",
   "metadata": {},
   "source": [
    "- [x] Write the press release\n",
    "- [ ] Update the website\n",
    "- [ ] Contact the media"
   ]
  },
  {
   "cell_type": "markdown",
   "metadata": {},
   "source": [
    "That is so funny! :joy:"
   ]
  },
  {
   "cell_type": "markdown",
   "metadata": {},
   "source": [
    "I need to highlight these ==very important words==."
   ]
  },
  {
   "cell_type": "markdown",
   "metadata": {},
   "source": [
    "H~2~O\n",
    "\n",
    "H<sub>2</sub>O"
   ]
  }
 ],
 "metadata": {
  "language_info": {
   "name": "python"
  }
 },
 "nbformat": 4,
 "nbformat_minor": 2
}
