{
 "cells": [
  {
   "cell_type": "markdown",
   "id": "b59c39d2-f880-46e9-a574-713844c21468",
   "metadata": {
    "editable": true,
    "slideshow": {
     "slide_type": ""
    },
    "tags": []
   },
   "source": [
    "# 2603655_DataAcquisition"
   ]
  },
  {
   "cell_type": "markdown",
   "id": "f84b904c-6d6d-410a-bb34-5811f64227cf",
   "metadata": {
    "editable": true,
    "slideshow": {
     "slide_type": ""
    },
    "tags": []
   },
   "source": [
    "## Map,Zip (OJT on Perplexity)"
   ]
  },
  {
   "cell_type": "markdown",
   "id": "d780e82e-ba0d-4bd1-85e7-6baba734575f",
   "metadata": {
    "editable": true,
    "slideshow": {
     "slide_type": ""
    },
    "tags": []
   },
   "source": [
    "---\n",
    "* Author:  [Yuttapong Mahasittiwat](mailto:khala1391@gmail.com)\n",
    "* Technologist | Data Modeler | Data Analyst\n",
    "* [YouTube](https://www.youtube.com/khala1391)\n",
    "* [LinkedIn](https://www.linkedin.com/in/yuttapong-m/)\n",
    "---"
   ]
  },
  {
   "cell_type": "markdown",
   "id": "cbbe5a93-b9e3-4e1a-a71c-f3e98504118e",
   "metadata": {},
   "source": [
    "source: [perplexity](https://www.perplexity.ai/page/map-aela-zip-ain-python-fzyI1VEWQ5Goq4KOHo8Byg)"
   ]
  },
  {
   "cell_type": "code",
   "execution_count": 17,
   "id": "e09fce22-9dad-4a99-ae40-bb28cd24eb4c",
   "metadata": {
    "colab": {
     "base_uri": "https://localhost:8080/"
    },
    "editable": true,
    "executionInfo": {
     "elapsed": 450,
     "status": "ok",
     "timestamp": 1722945524622,
     "user": {
      "displayName": "Buraj Patrakosol",
      "userId": "15915442625378365644"
     },
     "user_tz": -420
    },
    "id": "ob6u_X-NhT6T",
    "outputId": "8af79b74-2924-4afe-eb29-4cba74aaeb9d",
    "slideshow": {
     "slide_type": ""
    },
    "tags": []
   },
   "outputs": [
    {
     "name": "stdout",
     "output_type": "stream",
     "text": [
      "pandas version : 2.2.1\n",
      "numpy version : 1.26.4\n",
      "matplotlib version : 3.8.4\n",
      "seaborn version : 0.13.2\n"
     ]
    }
   ],
   "source": [
    "import pandas as pd\n",
    "import matplotlib as mpl\n",
    "import matplotlib.pyplot as plt\n",
    "import seaborn as sns\n",
    "import numpy as np\n",
    "print(\"pandas version :\",pd.__version__)\n",
    "print(\"numpy version :\",np.__version__)\n",
    "print(\"matplotlib version :\",mpl.__version__)\n",
    "print(\"seaborn version :\",sns.__version__)"
   ]
  },
  {
   "cell_type": "code",
   "execution_count": 18,
   "id": "e1b6600f-e15e-4880-8671-d0a52e2f49a9",
   "metadata": {},
   "outputs": [
    {
     "data": {
      "text/plain": [
       "'2024-09-09 19:30:34.791295'"
      ]
     },
     "execution_count": 18,
     "metadata": {},
     "output_type": "execute_result"
    }
   ],
   "source": [
    "from datetime import datetime\n",
    "str(datetime.now())"
   ]
  },
  {
   "cell_type": "markdown",
   "id": "f1c7324b-8903-4e8a-b26e-211c9236bb4b",
   "metadata": {},
   "source": [
    "### map on dict\n",
    "- map(lambda keys)"
   ]
  },
  {
   "cell_type": "code",
   "execution_count": 43,
   "id": "3ab642fd-c3e8-4aa4-8bec-2e9bb6262d10",
   "metadata": {},
   "outputs": [
    {
     "data": {
      "text/plain": [
       "{2: 8, 4: 10, 6: 12}"
      ]
     },
     "execution_count": 43,
     "metadata": {},
     "output_type": "execute_result"
    }
   ],
   "source": [
    "def add_five(num):\n",
    "    return num + 5\n",
    "\n",
    "input_dict = {2: 3, 4: 5, 6: 7}\n",
    "modified_dict = dict(map(lambda item: (item[0], add_five(item[1])), input_dict.items()))\n",
    "modified_dict"
   ]
  },
  {
   "cell_type": "code",
   "execution_count": 45,
   "id": "02e5128f-1f26-40c1-972d-56e67cd245f8",
   "metadata": {},
   "outputs": [
    {
     "data": {
      "text/plain": [
       "{'a': 1, 'b': 4, 'c': 9}"
      ]
     },
     "execution_count": 45,
     "metadata": {},
     "output_type": "execute_result"
    }
   ],
   "source": [
    "input_dict = {'a': 1, 'b': 2, 'c': 3}\n",
    "squared_dict = {k: v**2 for k, v in map(lambda item: (item[0], item[1]), input_dict.items())}\n",
    "squared_dict"
   ]
  },
  {
   "cell_type": "markdown",
   "id": "acdb64b7-be8d-4c92-b383-c4aaeafda33b",
   "metadata": {},
   "source": [
    "### zip for list\n",
    "- zip(a,b,..)"
   ]
  },
  {
   "cell_type": "code",
   "execution_count": 23,
   "id": "7ae601b8-c2ed-43b9-9203-5f5b8e812cc9",
   "metadata": {},
   "outputs": [
    {
     "name": "stdout",
     "output_type": "stream",
     "text": [
      "Alice: 24\n",
      "Bob: 50\n",
      "Charlie: 18\n"
     ]
    }
   ],
   "source": [
    "names = ['Alice', 'Bob', 'Charlie']\n",
    "ages = [24, 50, 18]\n",
    "for name, age in zip(names, ages):\n",
    "    print(f\"{name}: {age}\")"
   ]
  },
  {
   "cell_type": "code",
   "execution_count": 24,
   "id": "bfc809dc-8e13-428e-bf5b-8279230cabb3",
   "metadata": {},
   "outputs": [
    {
     "name": "stdout",
     "output_type": "stream",
     "text": [
      "Alice: 24 years old, 100 points\n",
      "Bob: 50 years old, 85 points\n",
      "Charlie: 18 years old, 90 points\n"
     ]
    }
   ],
   "source": [
    "names = ['Alice', 'Bob', 'Charlie']\n",
    "ages = [24, 50, 18]\n",
    "points = [100, 85, 90]\n",
    "for name, age, point in zip(names, ages, points):\n",
    "    print(f\"{name}: {age} years old, {point} points\")"
   ]
  },
  {
   "cell_type": "code",
   "execution_count": 25,
   "id": "e8cf04d5-5766-4c3c-81ed-b21360d36a45",
   "metadata": {},
   "outputs": [
    {
     "name": "stdout",
     "output_type": "stream",
     "text": [
      "[('Alice', 24), ('Bob', 50), ('Charlie', 18)]\n"
     ]
    }
   ],
   "source": [
    "names = ['Alice', 'Bob', 'Charlie']\n",
    "ages = [24, 50, 18]\n",
    "zipped_list = list(zip(names, ages))\n",
    "print(zipped_list)\n",
    "# Output: [('Alice', 24), ('Bob', 50), ('Charlie', 18)]"
   ]
  },
  {
   "cell_type": "code",
   "execution_count": 26,
   "id": "59d5678d-c109-4efc-911f-ed81b9202c84",
   "metadata": {},
   "outputs": [
    {
     "name": "stdout",
     "output_type": "stream",
     "text": [
      "1 a\n",
      "2 b\n",
      "3 c\n"
     ]
    }
   ],
   "source": [
    "list1 = [1, 2, 3, 4]\n",
    "list2 = ['a', 'b', 'c']\n",
    "for num, letter in zip(list1, list2):\n",
    "    print(num, letter)\n",
    "# Output:\n",
    "# 1 a\n",
    "# 2 b\n",
    "# 3 c"
   ]
  },
  {
   "cell_type": "code",
   "execution_count": 30,
   "id": "cdef3292-c833-4916-8274-14475daa6e7b",
   "metadata": {},
   "outputs": [],
   "source": [
    "names = ['Alice', 'Bob', 'Charlie', 'Dave']\n",
    "ages = [24, 50, 18]\n",
    "# for name, age in zip(names, ages, strict=True):\n",
    "#     print(name, age)\n",
    "# จะเกิด ValueError เนื่องจาก lists มีความยาวไม่เท่ากัน"
   ]
  },
  {
   "cell_type": "code",
   "execution_count": 28,
   "id": "25f6efb0-bf49-4ae4-ac43-9ced5da5110c",
   "metadata": {},
   "outputs": [
    {
     "name": "stdout",
     "output_type": "stream",
     "text": [
      "[(1, 'a'), (2, 'b'), (3, 'c'), (4, 'd')]\n"
     ]
    }
   ],
   "source": [
    "list_of_lists = [[1,2,3,4],['a', 'b', 'c', 'd']]\n",
    "zipped = list(zip(*list_of_lists))\n",
    "print(zipped)\n",
    "# Output: [(1, 'a'), (2, 'b'), (3, 'c'), (4, 'd')]"
   ]
  },
  {
   "cell_type": "markdown",
   "id": "4f17362d-e421-427e-bd96-cb746d4abef9",
   "metadata": {},
   "source": [
    "### map and filter\n",
    "*Syntax* : `map`(fun, iter)\n",
    "\n",
    "Parameters:\n",
    "\n",
    "**fun**: It is a function to which map passes each element of given iterable.<br>\n",
    "**iter**: It is iterable which is to be mapped.\n",
    "\n",
    "*Returns*: Returns a list of the results after applying the given function to each item of a given iterable (list, tuple etc.)\n",
    "<br>\n",
    "<br>\n",
    "*Syntax*: `filter`(function, sequence)\n",
    "\n",
    "Parameters:\n",
    "\n",
    "**function**: function that tests if each element of a sequence is true or not.\n",
    "**sequence**: sequence which needs to be filtered, it can be sets, lists, tuples, or containers of any iterators."
   ]
  },
  {
   "cell_type": "code",
   "execution_count": 47,
   "id": "375fb4ae-3983-44f6-b02a-b4ff07eed595",
   "metadata": {},
   "outputs": [
    {
     "name": "stdout",
     "output_type": "stream",
     "text": [
      "[1, 9, 25, 49, 81]\n"
     ]
    }
   ],
   "source": [
    "numbers = [1, 2, 3, 4, 5, 6, 7, 8, 9, 10]\n",
    "result = list(map(lambda x: x**2, filter(lambda x: x % 2 == 1, numbers)))\n",
    "print(result)  # Output: [1, 9, 25, 49, 81]"
   ]
  },
  {
   "cell_type": "code",
   "execution_count": 49,
   "id": "dc6e100f-deb9-4a42-a01e-49e3171e9493",
   "metadata": {},
   "outputs": [
    {
     "name": "stdout",
     "output_type": "stream",
     "text": [
      "[4, 16, 36, 64, 100]\n"
     ]
    }
   ],
   "source": [
    "def is_even(x):\n",
    "    return x % 2 == 0\n",
    "\n",
    "def square(x):\n",
    "    return x**2\n",
    "\n",
    "numbers = [1, 2, 3, 4, 5, 6, 7, 8, 9, 10]\n",
    "result = list(map(square, filter(is_even, numbers)))\n",
    "print(result)  # Output: [4, 16, 36, 64, 100]"
   ]
  },
  {
   "cell_type": "code",
   "execution_count": 51,
   "id": "3416e524-3a84-4053-ad52-042735a22be4",
   "metadata": {},
   "outputs": [
    {
     "name": "stdout",
     "output_type": "stream",
     "text": [
      "[1, 9, 25, 49, 81]\n"
     ]
    }
   ],
   "source": [
    "numbers = [1, 2, 3, 4, 5, 6, 7, 8, 9, 10]\n",
    "result = [x**2 for x in numbers if x % 2 == 1]\n",
    "print(result)  # Output: [1, 9, 25, 49, 81]"
   ]
  }
 ],
 "metadata": {
  "kernelspec": {
   "display_name": "Python 3 (ipykernel)",
   "language": "python",
   "name": "python3"
  },
  "language_info": {
   "codemirror_mode": {
    "name": "ipython",
    "version": 3
   },
   "file_extension": ".py",
   "mimetype": "text/x-python",
   "name": "python",
   "nbconvert_exporter": "python",
   "pygments_lexer": "ipython3",
   "version": "3.11.9"
  }
 },
 "nbformat": 4,
 "nbformat_minor": 5
}
