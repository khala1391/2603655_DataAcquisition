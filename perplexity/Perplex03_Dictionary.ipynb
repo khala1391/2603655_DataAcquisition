{
 "cells": [
  {
   "cell_type": "markdown",
   "id": "b59c39d2-f880-46e9-a574-713844c21468",
   "metadata": {
    "editable": true,
    "slideshow": {
     "slide_type": ""
    },
    "tags": []
   },
   "source": [
    "# 2603655_DataAcquisition"
   ]
  },
  {
   "cell_type": "markdown",
   "id": "f84b904c-6d6d-410a-bb34-5811f64227cf",
   "metadata": {
    "editable": true,
    "slideshow": {
     "slide_type": ""
    },
    "tags": []
   },
   "source": [
    "## Dictionary (OJT on Perplexity)"
   ]
  },
  {
   "cell_type": "markdown",
   "id": "d780e82e-ba0d-4bd1-85e7-6baba734575f",
   "metadata": {
    "editable": true,
    "slideshow": {
     "slide_type": ""
    },
    "tags": []
   },
   "source": [
    "---\n",
    "* Author:  [Yuttapong Mahasittiwat](mailto:khala1391@gmail.com)\n",
    "* Technologist | Data Modeler | Data Analyst\n",
    "* [YouTube](https://www.youtube.com/khala1391)\n",
    "* [LinkedIn](https://www.linkedin.com/in/yuttapong-m/)\n",
    "---"
   ]
  },
  {
   "cell_type": "markdown",
   "id": "cbbe5a93-b9e3-4e1a-a71c-f3e98504118e",
   "metadata": {},
   "source": [
    "source: [perplexity](https://www.perplexity.ai/page/kaarthmaangaankab-dictionary-p-3VXZPeaSR6ivv2Rxt5jt3g)"
   ]
  },
  {
   "cell_type": "code",
   "execution_count": 5,
   "id": "e09fce22-9dad-4a99-ae40-bb28cd24eb4c",
   "metadata": {
    "colab": {
     "base_uri": "https://localhost:8080/"
    },
    "editable": true,
    "executionInfo": {
     "elapsed": 450,
     "status": "ok",
     "timestamp": 1722945524622,
     "user": {
      "displayName": "Buraj Patrakosol",
      "userId": "15915442625378365644"
     },
     "user_tz": -420
    },
    "id": "ob6u_X-NhT6T",
    "outputId": "8af79b74-2924-4afe-eb29-4cba74aaeb9d",
    "slideshow": {
     "slide_type": ""
    },
    "tags": []
   },
   "outputs": [
    {
     "name": "stdout",
     "output_type": "stream",
     "text": [
      "pandas version : 2.2.1\n",
      "numpy version : 1.26.4\n",
      "matplotlib version : 3.8.4\n",
      "seaborn version : 0.13.2\n"
     ]
    }
   ],
   "source": [
    "import pandas as pd\n",
    "import matplotlib as mpl\n",
    "import matplotlib.pyplot as plt\n",
    "import seaborn as sns\n",
    "import numpy as np\n",
    "print(\"pandas version :\",pd.__version__)\n",
    "print(\"numpy version :\",np.__version__)\n",
    "print(\"matplotlib version :\",mpl.__version__)\n",
    "print(\"seaborn version :\",sns.__version__)"
   ]
  },
  {
   "cell_type": "code",
   "execution_count": 6,
   "id": "e1b6600f-e15e-4880-8671-d0a52e2f49a9",
   "metadata": {},
   "outputs": [
    {
     "data": {
      "text/plain": [
       "'2024-09-09 18:55:22.470277'"
      ]
     },
     "execution_count": 6,
     "metadata": {},
     "output_type": "execute_result"
    }
   ],
   "source": [
    "from datetime import datetime\n",
    "str(datetime.now())"
   ]
  },
  {
   "cell_type": "code",
   "execution_count": 5,
   "id": "442b3cd6-4d61-449f-86f4-1ace12f22111",
   "metadata": {},
   "outputs": [],
   "source": [
    "# method\n",
    "# dict.clear\n",
    "# dict.copy\n",
    "# dict.fromkeys\n",
    "# dict.get\n",
    "# dict.items\n",
    "# dict.keys\n",
    "# dict.mro\n",
    "# dict.pop\n",
    "# dict.popitem\n",
    "# dict.setdefault\n",
    "# dict.update\n",
    "# dict.values"
   ]
  },
  {
   "cell_type": "markdown",
   "id": "62756cb3-d43c-4359-b7bc-eb7a26aa3e53",
   "metadata": {},
   "source": [
    "### keys:value"
   ]
  },
  {
   "cell_type": "code",
   "execution_count": 2,
   "id": "0deee44f-19d8-4b52-a275-40a749251281",
   "metadata": {},
   "outputs": [
    {
     "name": "stdout",
     "output_type": "stream",
     "text": [
      "['a', 'b', 'c']\n",
      "[1, 2, 3]\n"
     ]
    }
   ],
   "source": [
    "d = {'a': 1, 'b': 2, 'c': 3}\n",
    "keys = list(d.keys())\n",
    "values = list(d.values())\n",
    "print(keys)\n",
    "print(values)\n",
    "# keys[0] จะสัมพันธ์กับ values[0], keys[1] กับ values[1], และอื่นๆ"
   ]
  },
  {
   "cell_type": "code",
   "execution_count": 6,
   "id": "292a13fc-321f-4f64-b9d3-7986209e1faa",
   "metadata": {},
   "outputs": [
    {
     "data": {
      "text/plain": [
       "3"
      ]
     },
     "execution_count": 6,
     "metadata": {},
     "output_type": "execute_result"
    }
   ],
   "source": [
    "d = {'a': 1, 'b': 2, 'c': 3}\n",
    "d['c']"
   ]
  },
  {
   "cell_type": "markdown",
   "id": "538f7fe8-5d75-479a-9d8b-f1d14d473ca6",
   "metadata": {},
   "source": [
    "### create new dict\n",
    "- { : , : ,...}\n",
    "- dict(key1=' ',key2=' ',..)\n",
    "- dict (list of tuple)\n",
    "- dict(old_dict, new_keys=' ')\n",
    "- dict comprehension\n",
    "- dict.fromkeys(keys,value)\n",
    "- dict_variable = {key:value for (key,value) in dictonary.items()}"
   ]
  },
  {
   "cell_type": "code",
   "execution_count": 76,
   "id": "f80e98ba-e903-49e9-832a-e3300e8368f3",
   "metadata": {},
   "outputs": [
    {
     "data": {
      "text/plain": [
       "{'name': 'John', 'age': 30, 'city': 'New York'}"
      ]
     },
     "execution_count": 76,
     "metadata": {},
     "output_type": "execute_result"
    }
   ],
   "source": [
    "my_dict = {'name': 'John', 'age': 30, 'city': 'New York'}\n",
    "my_dict"
   ]
  },
  {
   "cell_type": "code",
   "execution_count": 78,
   "id": "cf6ce44b-0445-4896-aea4-ed1dc7f425dc",
   "metadata": {},
   "outputs": [],
   "source": [
    "empty_dict = {}"
   ]
  },
  {
   "cell_type": "code",
   "execution_count": 80,
   "id": "aed4ee96-923a-45f9-8268-0291615607fc",
   "metadata": {},
   "outputs": [
    {
     "data": {
      "text/plain": [
       "{'name': 'John', 'age': 30, 'city': 'New York'}"
      ]
     },
     "execution_count": 80,
     "metadata": {},
     "output_type": "execute_result"
    }
   ],
   "source": [
    "my_dict = dict(name='John', age=30, city='New York')\n",
    "my_dict"
   ]
  },
  {
   "cell_type": "code",
   "execution_count": 82,
   "id": "03728bb7-0e3a-4c63-88de-cdb5290c32fa",
   "metadata": {},
   "outputs": [
    {
     "data": {
      "text/plain": [
       "{'name': 'John', 'age': 30, 'city': 'New York'}"
      ]
     },
     "execution_count": 82,
     "metadata": {},
     "output_type": "execute_result"
    }
   ],
   "source": [
    "my_dict = dict([('name', 'John'), ('age', 30), ('city', 'New York')])\n",
    "my_dict"
   ]
  },
  {
   "cell_type": "code",
   "execution_count": 84,
   "id": "b9d29dc1-ea26-4163-bc59-077ef7017230",
   "metadata": {},
   "outputs": [
    {
     "data": {
      "text/plain": [
       "{'name': 'John', 'age': 30, 'city': 'New York'}"
      ]
     },
     "execution_count": 84,
     "metadata": {},
     "output_type": "execute_result"
    }
   ],
   "source": [
    "existing_dict = {'name': 'John', 'age': 30}\n",
    "my_dict = dict(existing_dict, city='New York')\n",
    "my_dict"
   ]
  },
  {
   "cell_type": "code",
   "execution_count": 10,
   "id": "4f84fa5c-5560-4ba1-b2b7-37e5ac58bfbc",
   "metadata": {},
   "outputs": [
    {
     "data": {
      "text/plain": [
       "{0, 1, 4, 9, 16}"
      ]
     },
     "execution_count": 10,
     "metadata": {},
     "output_type": "execute_result"
    }
   ],
   "source": [
    "squares_dict = {x: x**2 for x in range(5)}\n",
    "squares_set = {x**2 for x in range(5)}\n",
    "# squares_dict\n",
    "squares_set\n",
    "# ผลลัพธ์: {0: 0, 1: 1, 2: 4, 3: 9, 4: 16}"
   ]
  },
  {
   "cell_type": "code",
   "execution_count": 88,
   "id": "43be589d-af46-4447-bd4f-e7469b47d182",
   "metadata": {},
   "outputs": [
    {
     "data": {
      "text/plain": [
       "{'a': 0, 'b': 0, 'c': 0}"
      ]
     },
     "execution_count": 88,
     "metadata": {},
     "output_type": "execute_result"
    }
   ],
   "source": [
    "keys = ['a', 'b', 'c']\n",
    "default_value = 0\n",
    "my_dict = dict.fromkeys(keys, default_value)\n",
    "my_dict\n",
    "# ผลลัพธ์: {'a': 0, 'b': 0, 'c': 0}"
   ]
  },
  {
   "cell_type": "markdown",
   "id": "dab8fb30-6a8c-4a31-83fe-6fe1cf033b39",
   "metadata": {},
   "source": [
    "### remove items from dict\n",
    "- del dict\\[key]\n",
    "- dict.pop(key)  >> value\n",
    "- dict.popitem()\n",
    "- dict.clear()\n",
    "- dict comprehension (condition if x not in dicts)"
   ]
  },
  {
   "cell_type": "code",
   "execution_count": 91,
   "id": "b01aac18-a4e1-446b-908e-e96cdb5e969c",
   "metadata": {},
   "outputs": [
    {
     "name": "stdout",
     "output_type": "stream",
     "text": [
      "{'a': 1, 'c': 3}\n"
     ]
    }
   ],
   "source": [
    "my_dict = {'a': 1, 'b': 2, 'c': 3}\n",
    "del my_dict['b']\n",
    "print(my_dict)  # Output: {'a': 1, 'c': 3}"
   ]
  },
  {
   "cell_type": "code",
   "execution_count": 19,
   "id": "2eaf75f3-a6a2-4b2a-a388-a831dc9c6112",
   "metadata": {},
   "outputs": [
    {
     "name": "stdout",
     "output_type": "stream",
     "text": [
      "{'a': 1, 'c': 3}\n",
      "2\n"
     ]
    }
   ],
   "source": [
    "my_dict = {'a': 1, 'b': 2, 'c': 3}\n",
    "value = my_dict.pop('b')\n",
    "print(my_dict)  # Output: {'a': 1, 'c': 3}\n",
    "print(value)    # Output: 2"
   ]
  },
  {
   "cell_type": "code",
   "execution_count": 20,
   "id": "cb3b6a4a-27fe-447e-808f-36b0b8f0474e",
   "metadata": {},
   "outputs": [
    {
     "name": "stdout",
     "output_type": "stream",
     "text": [
      "Not found\n"
     ]
    }
   ],
   "source": [
    "value = my_dict.pop('d', 'Not found')\n",
    "print(value)  # Output: 'Not found'"
   ]
  },
  {
   "cell_type": "code",
   "execution_count": 21,
   "id": "002fcfb9-a0c9-44b0-876b-dec32b9bf1d2",
   "metadata": {},
   "outputs": [
    {
     "name": "stdout",
     "output_type": "stream",
     "text": [
      "{'a': 1, 'b': 2}\n",
      "('c', 3)\n"
     ]
    }
   ],
   "source": [
    "my_dict = {'a': 1, 'b': 2, 'c': 3}\n",
    "item = my_dict.popitem()\n",
    "print(my_dict)  # Output: {'a': 1, 'b': 2}\n",
    "print(item)     # Output: ('c', 3)"
   ]
  },
  {
   "cell_type": "code",
   "execution_count": 22,
   "id": "df54a177-5934-430e-984d-cafd920f8f46",
   "metadata": {},
   "outputs": [
    {
     "name": "stdout",
     "output_type": "stream",
     "text": [
      "{}\n"
     ]
    }
   ],
   "source": [
    "my_dict = {'a': 1, 'b': 2, 'c': 3}\n",
    "my_dict.clear()\n",
    "print(my_dict)  # Output: {}"
   ]
  },
  {
   "cell_type": "code",
   "execution_count": 23,
   "id": "dc0af04f-9c0e-486a-b3e0-6bc498531483",
   "metadata": {},
   "outputs": [
    {
     "name": "stdout",
     "output_type": "stream",
     "text": [
      "{'a': 1, 'c': 3}\n"
     ]
    }
   ],
   "source": [
    "my_dict = {'a': 1, 'b': 2, 'c': 3, 'd': 4}\n",
    "keys_to_remove = ['b', 'd']\n",
    "new_dict = {k: v for k, v in my_dict.items() if k not in keys_to_remove}\n",
    "print(new_dict)  # Output: {'a': 1, 'c': 3}"
   ]
  },
  {
   "cell_type": "markdown",
   "id": "b647e984-02de-420f-a181-a42efbfb4f66",
   "metadata": {},
   "source": [
    "### sort items in dict\n",
    "- dict(sorted(dict.items()))\n",
    "- OrderedDict(sorted(dict.items())) >> list of tuple\n",
    "- dict(sorted(dict.items(),key=lambda x: x\\[1] ) >> sort by value\n",
    "- dict(sorted(dict.items(),reverse=True )"
   ]
  },
  {
   "cell_type": "code",
   "execution_count": 25,
   "id": "5f24033b-ba76-4812-958f-6cfc72f8d223",
   "metadata": {},
   "outputs": [
    {
     "name": "stdout",
     "output_type": "stream",
     "text": [
      "{'a': 1, 'b': 2, 'c': 3}\n"
     ]
    }
   ],
   "source": [
    "my_dict = {'b': 2, 'a': 1, 'c': 3}\n",
    "sorted_dict = dict(sorted(my_dict.items()))\n",
    "print(sorted_dict)  # Output: {'a': 1, 'b': 2, 'c': 3}"
   ]
  },
  {
   "cell_type": "code",
   "execution_count": 26,
   "id": "8c5c91ff-6df0-4c83-9a83-6ad72e25fcaa",
   "metadata": {},
   "outputs": [
    {
     "name": "stdout",
     "output_type": "stream",
     "text": [
      "OrderedDict([('a', 1), ('b', 2), ('c', 3)])\n"
     ]
    }
   ],
   "source": [
    "from collections import OrderedDict\n",
    "\n",
    "my_dict = {'b': 2, 'a': 1, 'c': 3}\n",
    "sorted_dict = OrderedDict(sorted(my_dict.items()))\n",
    "print(sorted_dict)  # Output: OrderedDict([('a', 1), ('b', 2), ('c', 3)])"
   ]
  },
  {
   "cell_type": "code",
   "execution_count": 27,
   "id": "a745b9a1-8b95-425c-9d5e-7e702d86d207",
   "metadata": {},
   "outputs": [
    {
     "name": "stdout",
     "output_type": "stream",
     "text": [
      "{'banana': 2, 'apple': 5, 'cherry': 8}\n"
     ]
    }
   ],
   "source": [
    "my_dict = {'apple': 5, 'banana': 2, 'cherry': 8}\n",
    "sorted_dict = dict(sorted(my_dict.items(), key=lambda x: x[1]))\n",
    "print(sorted_dict)  # Output: {'banana': 2, 'apple': 5, 'cherry': 8}"
   ]
  },
  {
   "cell_type": "code",
   "execution_count": 28,
   "id": "56b3ead8-0787-498c-916f-45aad7af84ae",
   "metadata": {},
   "outputs": [
    {
     "name": "stdout",
     "output_type": "stream",
     "text": [
      "{'c': 3, 'b': 2, 'a': 1}\n"
     ]
    }
   ],
   "source": [
    "my_dict = {'b': 2, 'a': 1, 'c': 3}\n",
    "sorted_dict = dict(sorted(my_dict.items(), reverse=True))\n",
    "print(sorted_dict)  # Output: {'c': 3, 'b': 2, 'a': 1}"
   ]
  },
  {
   "cell_type": "markdown",
   "id": "dbb14e15-f55d-49e4-9738-ee6b041a628e",
   "metadata": {},
   "source": [
    "### create dataframe from dict\n",
    "- dictionary of list: *pd.DataFrame(data)*\n",
    "- dictionary of list: *pd.DataFrame.from_dict(data)*\n",
    "- dictionary of dictionary: *pd.DataFrame.from_dict(data, oriented='column')*\n",
    "- list of dictionary: *pd.DataFrame(data)*"
   ]
  },
  {
   "cell_type": "markdown",
   "id": "d9da1083-ad51-46de-ab90-33bfc8900ad1",
   "metadata": {},
   "source": [
    "#### dictionary of list: *pd.DataFrame(data)*"
   ]
  },
  {
   "cell_type": "code",
   "execution_count": 30,
   "id": "02529b7e-bce8-49e6-b93f-13775a5ffec4",
   "metadata": {},
   "outputs": [
    {
     "name": "stdout",
     "output_type": "stream",
     "text": [
      "    name  age  marks\n",
      "0    Joe   20  85.10\n",
      "1    Nat   21  77.80\n",
      "2  Harry   19  91.54\n"
     ]
    }
   ],
   "source": [
    "import pandas as pd\n",
    "\n",
    "data = {'name': ['Joe', 'Nat', 'Harry'],\n",
    "        'age': [20, 21, 19],\n",
    "        'marks': [85.10, 77.80, 91.54]}\n",
    "\n",
    "df = pd.DataFrame(data)\n",
    "print(df)"
   ]
  },
  {
   "cell_type": "markdown",
   "id": "06e87b4d-53b0-4655-bed4-e75b268a9efc",
   "metadata": {},
   "source": [
    "#### dictionary of list: *pd.DataFrame.from_dict(data)*"
   ]
  },
  {
   "cell_type": "code",
   "execution_count": 31,
   "id": "40f87829-ba2f-46e0-aede-6679e9e42e97",
   "metadata": {},
   "outputs": [
    {
     "name": "stdout",
     "output_type": "stream",
     "text": [
      "    name  age  marks\n",
      "0    Joe   20  85.10\n",
      "1    Nat   21  77.80\n",
      "2  Harry   19  91.54\n"
     ]
    }
   ],
   "source": [
    "df = pd.DataFrame.from_dict(data)\n",
    "print(df)"
   ]
  },
  {
   "cell_type": "code",
   "execution_count": 32,
   "id": "1218c0c6-0020-4c70-8697-044b7c35f7b4",
   "metadata": {},
   "outputs": [
    {
     "name": "stdout",
     "output_type": "stream",
     "text": [
      "          0     1      2\n",
      "name    Joe   Nat  Harry\n",
      "age      20    21     19\n",
      "marks  85.1  77.8  91.54\n"
     ]
    }
   ],
   "source": [
    "df = pd.DataFrame.from_dict(data, orient='index')\n",
    "print(df)"
   ]
  },
  {
   "cell_type": "markdown",
   "id": "dfdc1fe4-c77a-4e04-af29-7c9d42d76686",
   "metadata": {},
   "source": [
    "#### dictionary of dictionary: *pd.DataFrame.from_dict(data, oriented='index')*"
   ]
  },
  {
   "cell_type": "code",
   "execution_count": 33,
   "id": "0c9c6473-9780-4ab9-a328-6980858780f4",
   "metadata": {},
   "outputs": [
    {
     "name": "stdout",
     "output_type": "stream",
     "text": [
      "    name  age  marks\n",
      "0    Joe   20  85.10\n",
      "1    Nat   21  77.80\n",
      "2  Harry   19  91.54\n"
     ]
    }
   ],
   "source": [
    "nested_dict = {\n",
    "    0: {'name': 'Joe', 'age': 20, 'marks': 85.10},\n",
    "    1: {'name': 'Nat', 'age': 21, 'marks': 77.80},\n",
    "    2: {'name': 'Harry', 'age': 19, 'marks': 91.54}\n",
    "}\n",
    "\n",
    "df = pd.DataFrame.from_dict(nested_dict, orient='index')\n",
    "print(df)"
   ]
  },
  {
   "cell_type": "markdown",
   "id": "7d984d9d-482c-4bbe-9cce-896fbb48f0b5",
   "metadata": {},
   "source": [
    "#### list of dictionary: *pd.DataFrame(data)*"
   ]
  },
  {
   "cell_type": "code",
   "execution_count": 34,
   "id": "f52f7b02-51bb-4794-bb18-ddbf8377b6ea",
   "metadata": {},
   "outputs": [
    {
     "name": "stdout",
     "output_type": "stream",
     "text": [
      "    name  age  marks\n",
      "0    Joe   20  85.10\n",
      "1    Nat   21  77.80\n",
      "2  Harry   19  91.54\n"
     ]
    }
   ],
   "source": [
    "data_list = [\n",
    "    {'name': 'Joe', 'age': 20, 'marks': 85.10},\n",
    "    {'name': 'Nat', 'age': 21, 'marks': 77.80},\n",
    "    {'name': 'Harry', 'age': 19, 'marks': 91.54}\n",
    "]\n",
    "\n",
    "df = pd.DataFrame(data_list)\n",
    "print(df)"
   ]
  },
  {
   "cell_type": "code",
   "execution_count": 35,
   "id": "5131a75f-80b1-4f95-a896-cf4f7fcf5dfb",
   "metadata": {},
   "outputs": [
    {
     "name": "stdout",
     "output_type": "stream",
     "text": [
      "    name  marks\n",
      "0    Joe  85.10\n",
      "1    Nat  77.80\n",
      "2  Harry  91.54\n"
     ]
    }
   ],
   "source": [
    "df = pd.DataFrame(data, columns=['name', 'marks'])\n",
    "print(df)"
   ]
  }
 ],
 "metadata": {
  "kernelspec": {
   "display_name": "Python 3 (ipykernel)",
   "language": "python",
   "name": "python3"
  },
  "language_info": {
   "codemirror_mode": {
    "name": "ipython",
    "version": 3
   },
   "file_extension": ".py",
   "mimetype": "text/x-python",
   "name": "python",
   "nbconvert_exporter": "python",
   "pygments_lexer": "ipython3",
   "version": "3.11.9"
  }
 },
 "nbformat": 4,
 "nbformat_minor": 5
}
