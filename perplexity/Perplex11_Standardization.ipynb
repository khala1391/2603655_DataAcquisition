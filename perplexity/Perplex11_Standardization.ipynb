{
 "cells": [
  {
   "cell_type": "markdown",
   "id": "b59c39d2-f880-46e9-a574-713844c21468",
   "metadata": {
    "editable": true,
    "slideshow": {
     "slide_type": ""
    },
    "tags": []
   },
   "source": [
    "# 2603655_DataAcquisition"
   ]
  },
  {
   "cell_type": "markdown",
   "id": "f84b904c-6d6d-410a-bb34-5811f64227cf",
   "metadata": {
    "editable": true,
    "slideshow": {
     "slide_type": ""
    },
    "tags": []
   },
   "source": [
    "## Standardization and Transformation (OJT on Perplexity)"
   ]
  },
  {
   "cell_type": "markdown",
   "id": "d780e82e-ba0d-4bd1-85e7-6baba734575f",
   "metadata": {
    "editable": true,
    "slideshow": {
     "slide_type": ""
    },
    "tags": []
   },
   "source": [
    "---\n",
    "* Author:  [Yuttapong Mahasittiwat](mailto:khala1391@gmail.com)\n",
    "* Technologist | Data Modeler | Data Analyst\n",
    "* [YouTube](https://www.youtube.com/khala1391)\n",
    "* [LinkedIn](https://www.linkedin.com/in/yuttapong-m/)\n",
    "---"
   ]
  },
  {
   "cell_type": "markdown",
   "id": "cbbe5a93-b9e3-4e1a-a71c-f3e98504118e",
   "metadata": {},
   "source": [
    "source: [perplexity](https://www.perplexity.ai/page/kaaraeplngkh-muulaelakhaamaatr-DK_X02iOQpmFjUA_z3HBZA)"
   ]
  },
  {
   "cell_type": "code",
   "execution_count": 213,
   "id": "e09fce22-9dad-4a99-ae40-bb28cd24eb4c",
   "metadata": {
    "colab": {
     "base_uri": "https://localhost:8080/"
    },
    "editable": true,
    "executionInfo": {
     "elapsed": 450,
     "status": "ok",
     "timestamp": 1722945524622,
     "user": {
      "displayName": "Buraj Patrakosol",
      "userId": "15915442625378365644"
     },
     "user_tz": -420
    },
    "id": "ob6u_X-NhT6T",
    "outputId": "8af79b74-2924-4afe-eb29-4cba74aaeb9d",
    "slideshow": {
     "slide_type": ""
    },
    "tags": []
   },
   "outputs": [
    {
     "name": "stdout",
     "output_type": "stream",
     "text": [
      "pandas version : 2.2.1\n",
      "numpy version : 1.26.4\n",
      "matplotlib version : 3.8.4\n",
      "seaborn version : 0.13.2\n"
     ]
    }
   ],
   "source": [
    "import pandas as pd\n",
    "import matplotlib as mpl\n",
    "import matplotlib.pyplot as plt\n",
    "import seaborn as sns\n",
    "import numpy as np\n",
    "print(\"pandas version :\",pd.__version__)\n",
    "print(\"numpy version :\",np.__version__)\n",
    "print(\"matplotlib version :\",mpl.__version__)\n",
    "print(\"seaborn version :\",sns.__version__)"
   ]
  },
  {
   "cell_type": "code",
   "execution_count": 11,
   "id": "e1b6600f-e15e-4880-8671-d0a52e2f49a9",
   "metadata": {},
   "outputs": [
    {
     "data": {
      "text/plain": [
       "'2024-09-09 16:42:52.684262'"
      ]
     },
     "execution_count": 11,
     "metadata": {},
     "output_type": "execute_result"
    }
   ],
   "source": [
    "from datetime import datetime\n",
    "str(datetime.now())"
   ]
  },
  {
   "cell_type": "markdown",
   "id": "18fb786c-f2dd-4983-aa00-6286d27862de",
   "metadata": {},
   "source": [
    "### step\n",
    "- data exploration\n",
    "- handle missing value i.e.`SimpleImputer`, `KNNImputer`, `IterativeImputer`\n",
    "- handle outlier\n",
    "  - detection i.e. z-score, IQR, `DBSCAN`, `IsolationForest`\n",
    "  - handling i.e. trimming, capping, binning\n",
    "- feature encoding: `LabelEncoder`,`OneHotEncoder`,`OrdinalEncoder`\n",
    "- standardization and transformation\n",
    "  - data standardization i.e. `StandardScaler`,`MaxAbsScaler`, `MinMaxScaler`, `RobustScaler`, decimal\n",
    "  - data transformation i.e. power, log, box-cox, yeo-johnson\n",
    "- dimension reduction\n",
    "  - feature compression i.e. FA,`PCA`\n",
    "  - feature selection i.e. `RFE`, `LASSO`"
   ]
  },
  {
   "cell_type": "markdown",
   "id": "df8b73be-7782-4185-bf8e-bb9896cf2d15",
   "metadata": {
    "jp-MarkdownHeadingCollapsed": true
   },
   "source": [
    "### example of distance-based algorithm\n",
    "- `KNeighborsClassifier`\n",
    "  - from `sklearn.preprocessing` import `StandardScaler`\n",
    "  - from `sklearn.neighbors` import `KNeighborsClassifier`\n",
    "  - parameter: n_neighbors\n",
    "  - method: fit,predict\n",
    "- `KMeans`\n",
    "  - from `sklearn.preprocessing` import `StandardScaler`\n",
    "  - from `sklearn.cluster` import `KMeans`\n",
    "  - parameter: n_clusters\n",
    "  - method: fit_predict\n",
    "- `DBSCAN`\n",
    "  - from `sklearn.preprocessing` import `StandardScaler`\n",
    "  - from `sklearn.cluster` import `DBSCAN`\n",
    "  - parameter: eps, min_samples\n",
    "  - method: fit_predict\n",
    "- `SVR`\n",
    "  - from `sklearn.preprocessing` import `StandardScaler`\n",
    "  - from `sklearn.svm` import `SVR`\n",
    "  - parameter: kernel, degree\n",
    "  - method: fit, predict"
   ]
  },
  {
   "cell_type": "markdown",
   "id": "8557760f-1740-41d3-8427-3ddac2be376c",
   "metadata": {},
   "source": [
    "### example of algorithm required normal distribution\n",
    "-  `GaussianNB`\n",
    "    -  from `sklearn.naive_bayes` import `GaussianNB`\n",
    "-  `PCA`\n",
    "    -  from `sklearn.decomposition` import `PCA`\n",
    "-  OLS\n",
    "-  t-test\n",
    "-  ANOVA"
   ]
  }
 ],
 "metadata": {
  "kernelspec": {
   "display_name": "Python 3 (ipykernel)",
   "language": "python",
   "name": "python3"
  },
  "language_info": {
   "codemirror_mode": {
    "name": "ipython",
    "version": 3
   },
   "file_extension": ".py",
   "mimetype": "text/x-python",
   "name": "python",
   "nbconvert_exporter": "python",
   "pygments_lexer": "ipython3",
   "version": "3.11.9"
  }
 },
 "nbformat": 4,
 "nbformat_minor": 5
}
