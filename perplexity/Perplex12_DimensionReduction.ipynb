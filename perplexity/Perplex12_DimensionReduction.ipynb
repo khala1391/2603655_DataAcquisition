{
 "cells": [
  {
   "cell_type": "markdown",
   "id": "b59c39d2-f880-46e9-a574-713844c21468",
   "metadata": {
    "editable": true,
    "slideshow": {
     "slide_type": ""
    },
    "tags": []
   },
   "source": [
    "# 2603655_DataAcquisition"
   ]
  },
  {
   "cell_type": "markdown",
   "id": "f84b904c-6d6d-410a-bb34-5811f64227cf",
   "metadata": {
    "editable": true,
    "slideshow": {
     "slide_type": ""
    },
    "tags": []
   },
   "source": [
    "## Dimension Reduction (OJT on Perplexity)"
   ]
  },
  {
   "cell_type": "markdown",
   "id": "d780e82e-ba0d-4bd1-85e7-6baba734575f",
   "metadata": {
    "editable": true,
    "slideshow": {
     "slide_type": ""
    },
    "tags": []
   },
   "source": [
    "---\n",
    "* Author:  [Yuttapong Mahasittiwat](mailto:khala1391@gmail.com)\n",
    "* Technologist | Data Modeler | Data Analyst\n",
    "* [YouTube](https://www.youtube.com/khala1391)\n",
    "* [LinkedIn](https://www.linkedin.com/in/yuttapong-m/)\n",
    "---"
   ]
  },
  {
   "cell_type": "markdown",
   "id": "cbbe5a93-b9e3-4e1a-a71c-f3e98504118e",
   "metadata": {},
   "source": [
    "source: [perplexity](https://www.perplexity.ai/page/kaarldmitikh-muul-dimension-re-wJrtaOg1T7KF9qIWR_wsgg)"
   ]
  },
  {
   "cell_type": "code",
   "execution_count": 213,
   "id": "e09fce22-9dad-4a99-ae40-bb28cd24eb4c",
   "metadata": {
    "colab": {
     "base_uri": "https://localhost:8080/"
    },
    "editable": true,
    "executionInfo": {
     "elapsed": 450,
     "status": "ok",
     "timestamp": 1722945524622,
     "user": {
      "displayName": "Buraj Patrakosol",
      "userId": "15915442625378365644"
     },
     "user_tz": -420
    },
    "id": "ob6u_X-NhT6T",
    "outputId": "8af79b74-2924-4afe-eb29-4cba74aaeb9d",
    "slideshow": {
     "slide_type": ""
    },
    "tags": []
   },
   "outputs": [
    {
     "name": "stdout",
     "output_type": "stream",
     "text": [
      "pandas version : 2.2.1\n",
      "numpy version : 1.26.4\n",
      "matplotlib version : 3.8.4\n",
      "seaborn version : 0.13.2\n"
     ]
    }
   ],
   "source": [
    "import pandas as pd\n",
    "import matplotlib as mpl\n",
    "import matplotlib.pyplot as plt\n",
    "import seaborn as sns\n",
    "import numpy as np\n",
    "print(\"pandas version :\",pd.__version__)\n",
    "print(\"numpy version :\",np.__version__)\n",
    "print(\"matplotlib version :\",mpl.__version__)\n",
    "print(\"seaborn version :\",sns.__version__)"
   ]
  },
  {
   "cell_type": "code",
   "execution_count": 11,
   "id": "e1b6600f-e15e-4880-8671-d0a52e2f49a9",
   "metadata": {},
   "outputs": [
    {
     "data": {
      "text/plain": [
       "'2024-09-09 16:42:52.684262'"
      ]
     },
     "execution_count": 11,
     "metadata": {},
     "output_type": "execute_result"
    }
   ],
   "source": [
    "from datetime import datetime\n",
    "str(datetime.now())"
   ]
  },
  {
   "cell_type": "markdown",
   "id": "c21ece77-934a-45f0-9bff-344e4abd2c50",
   "metadata": {},
   "source": [
    "### feature compression\n",
    "  -  `factor analysis`\n",
    "     - from `factor_analyzer.factor_analyzer` import `calculate_bartlette_sprecity`\n",
    "     - from `factor_analyzer.factor_analyzer` import `calculate_KMO`\n",
    "     - from `factor_analyzer` import `FactorAnalyzer`\n",
    "     - parameter: n_factor, rotation\n",
    "     - method\n",
    "       - explore: get_eigenvalues\n",
    "       - creation:fit\n",
    "     - attribute\n",
    "       - explore: ev,v (from get_eigenvalues)\n",
    "       - after fitting: loading_, get_factor_variance\n",
    "  -  `PCA`\n",
    "     - from `sklearn.preprocessing` import `StandardScaler`\n",
    "     - from `sklearn.decomposition` import `PCA`\n",
    "     - method: fit_transform\n",
    "     - attribute: explain_variance_ratio_\n",
    "- visualization\n",
    "  - scree plot: y:explain_variance_ratio_\n",
    "  - feature_importance: y:np.cumsum(data.explained_variance_ratio)"
   ]
  },
  {
   "cell_type": "markdown",
   "id": "612f5b79-c7ba-4754-96ad-e56bf629c13d",
   "metadata": {},
   "source": [
    "### feature selection\n",
    "  - RFE (categorical y)\n",
    "    - feature encoding i.e. pd.get_dummies\n",
    "    - from `sklearn.model_selection` import `train_test_split`\n",
    "    - from `sklearn.preprocessing` import `StandardScaler`\n",
    "    - from `sklearn.feature_selection` import `RFE`\n",
    "      - parameter: estimator i.e. `LogisticRegression`, n_features_to_select, step\n",
    "      - method: fit\n",
    "      - attribute: ranking_,support_\n",
    "    - from `sklearn.linear_model` import `LogisticRegression`\n",
    "      - parameter: class_weight='balanced' for skewed data\n",
    "    - from `sklearn.metrics` import `accuracy_score`, `precision_score`, `recall_score`, `f1_score`\n",
    "  - LASSO (ordinal y)\n",
    "    - from `sklearn.model_selection` import `train_test_split`\n",
    "    - from `sklearn.preprocessing` import `StandardScaler`\n",
    "    - from `sklearn.linear_model` import `Lasso`\n",
    "      - parameter: alpha\n",
    "      - method: fit, predict\n",
    "      - attribute: coef_\n",
    "    - from `sklearn.metrics` import `mean_squared_error`, `r2_score`"
   ]
  }
 ],
 "metadata": {
  "kernelspec": {
   "display_name": "Python 3 (ipykernel)",
   "language": "python",
   "name": "python3"
  },
  "language_info": {
   "codemirror_mode": {
    "name": "ipython",
    "version": 3
   },
   "file_extension": ".py",
   "mimetype": "text/x-python",
   "name": "python",
   "nbconvert_exporter": "python",
   "pygments_lexer": "ipython3",
   "version": "3.11.9"
  }
 },
 "nbformat": 4,
 "nbformat_minor": 5
}
