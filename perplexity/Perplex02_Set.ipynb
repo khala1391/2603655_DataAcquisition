{
 "cells": [
  {
   "cell_type": "markdown",
   "id": "b59c39d2-f880-46e9-a574-713844c21468",
   "metadata": {
    "editable": true,
    "slideshow": {
     "slide_type": ""
    },
    "tags": []
   },
   "source": [
    "# 2603655_DataAcquisition"
   ]
  },
  {
   "cell_type": "markdown",
   "id": "f84b904c-6d6d-410a-bb34-5811f64227cf",
   "metadata": {
    "editable": true,
    "slideshow": {
     "slide_type": ""
    },
    "tags": []
   },
   "source": [
    "## Set (OJT on Perplexity)"
   ]
  },
  {
   "cell_type": "markdown",
   "id": "d780e82e-ba0d-4bd1-85e7-6baba734575f",
   "metadata": {
    "editable": true,
    "slideshow": {
     "slide_type": ""
    },
    "tags": []
   },
   "source": [
    "---\n",
    "* Author:  [Yuttapong Mahasittiwat](mailto:khala1391@gmail.com)\n",
    "* Technologist | Data Modeler | Data Analyst\n",
    "* [YouTube](https://www.youtube.com/khala1391)\n",
    "* [LinkedIn](https://www.linkedin.com/in/yuttapong-m/)\n",
    "---"
   ]
  },
  {
   "cell_type": "markdown",
   "id": "cbbe5a93-b9e3-4e1a-a71c-f3e98504118e",
   "metadata": {},
   "source": [
    "source: [perplexity](https://www.perplexity.ai/page/kaarthmaangaankab-set-python-FTJYBWdUQn6DHaHZAnHRjQ)"
   ]
  },
  {
   "cell_type": "code",
   "execution_count": 9,
   "id": "e09fce22-9dad-4a99-ae40-bb28cd24eb4c",
   "metadata": {
    "colab": {
     "base_uri": "https://localhost:8080/"
    },
    "editable": true,
    "executionInfo": {
     "elapsed": 450,
     "status": "ok",
     "timestamp": 1722945524622,
     "user": {
      "displayName": "Buraj Patrakosol",
      "userId": "15915442625378365644"
     },
     "user_tz": -420
    },
    "id": "ob6u_X-NhT6T",
    "outputId": "8af79b74-2924-4afe-eb29-4cba74aaeb9d",
    "slideshow": {
     "slide_type": ""
    },
    "tags": []
   },
   "outputs": [
    {
     "name": "stdout",
     "output_type": "stream",
     "text": [
      "pandas version : 2.2.1\n",
      "numpy version : 1.26.4\n",
      "matplotlib version : 3.8.4\n",
      "seaborn version : 0.13.2\n"
     ]
    }
   ],
   "source": [
    "import pandas as pd\n",
    "import matplotlib as mpl\n",
    "import matplotlib.pyplot as plt\n",
    "import seaborn as sns\n",
    "import numpy as np\n",
    "print(\"pandas version :\",pd.__version__)\n",
    "print(\"numpy version :\",np.__version__)\n",
    "print(\"matplotlib version :\",mpl.__version__)\n",
    "print(\"seaborn version :\",sns.__version__)"
   ]
  },
  {
   "cell_type": "code",
   "execution_count": 10,
   "id": "41db1051-90ff-404a-882c-f38f035aa638",
   "metadata": {},
   "outputs": [
    {
     "data": {
      "text/plain": [
       "'2024-09-09 18:33:09.302796'"
      ]
     },
     "execution_count": 10,
     "metadata": {},
     "output_type": "execute_result"
    }
   ],
   "source": [
    "from datetime import datetime\n",
    "str(datetime.now())"
   ]
  },
  {
   "cell_type": "markdown",
   "id": "8c09fe55-681f-4c14-8771-3e22acbdef3e",
   "metadata": {
    "jp-MarkdownHeadingCollapsed": true
   },
   "source": [
    "### create set from list and tuple\n",
    "- set(list)\n",
    "- set(tuple)\n",
    "- set comprehension\n",
    "- set(dict.fromkeys(list))"
   ]
  },
  {
   "cell_type": "code",
   "execution_count": 12,
   "id": "87faf547-3776-450e-980c-c70569181e41",
   "metadata": {},
   "outputs": [
    {
     "name": "stdout",
     "output_type": "stream",
     "text": [
      "{1, 2, 3, 4}\n"
     ]
    }
   ],
   "source": [
    "my_list = [1, 2, 3, 2, 4, 1]\n",
    "my_set = set(my_list)\n",
    "print(my_set)  # Output: {1, 2, 3, 4}"
   ]
  },
  {
   "cell_type": "code",
   "execution_count": 13,
   "id": "8dc7afdc-0190-4291-9c1b-c8d895f6468f",
   "metadata": {},
   "outputs": [
    {
     "name": "stdout",
     "output_type": "stream",
     "text": [
      "{1, 2, 3, 4}\n"
     ]
    }
   ],
   "source": [
    "my_tuple = (1, 2, 3, 2, 4, 1)\n",
    "my_set = set(my_tuple)\n",
    "print(my_set)  # Output: {1, 2, 3, 4}"
   ]
  },
  {
   "cell_type": "code",
   "execution_count": 14,
   "id": "110ecdc5-ddd9-4ba1-816e-864cc81c702d",
   "metadata": {},
   "outputs": [
    {
     "name": "stdout",
     "output_type": "stream",
     "text": [
      "{2, 4}\n"
     ]
    }
   ],
   "source": [
    "my_list = [1, 2, 3, 4, 5]\n",
    "my_set = {x for x in my_list if x % 2 == 0}\n",
    "print(my_set)  # Output: {2, 4}"
   ]
  },
  {
   "cell_type": "code",
   "execution_count": null,
   "id": "1a58d284-db08-41f9-86e3-7bd3d09539f5",
   "metadata": {},
   "outputs": [
    {
     "name": "stdout",
     "output_type": "stream",
     "text": [
      "{1, 2, 3, 4}\n"
     ]
    }
   ],
   "source": [
    "my_set = set(dict.fromkeys(my_list))\n",
    "print(my_set)  # Output: {1, 2, 3, 4}"
   ]
  },
  {
   "cell_type": "markdown",
   "id": "68f9188e-7e48-4a85-b137-8e7c6e2667e7",
   "metadata": {
    "jp-MarkdownHeadingCollapsed": true
   },
   "source": [
    "### apply set as filtering\n",
    "- set(list)\n",
    "- set comprehension\n",
    "- list comprehension of dict\n",
    "- list(set(map(frozenset,data)))"
   ]
  },
  {
   "cell_type": "code",
   "execution_count": 17,
   "id": "a1d35b5a-8039-4c21-9b98-9559f2d3cc8f",
   "metadata": {},
   "outputs": [
    {
     "name": "stdout",
     "output_type": "stream",
     "text": [
      "[1, 2, 3, 4, 5]\n"
     ]
    }
   ],
   "source": [
    "original_list = [1, 2, 2, 3, 4, 4, 5]\n",
    "unique_set = set(original_list)\n",
    "unique_list = list(unique_set)\n",
    "print(unique_list)  # Output: [1, 2, 3, 4, 5]"
   ]
  },
  {
   "cell_type": "code",
   "execution_count": 18,
   "id": "ed3d29b0-46e2-4304-81da-40a9aa83654e",
   "metadata": {},
   "outputs": [
    {
     "name": "stdout",
     "output_type": "stream",
     "text": [
      "[1, 2, 3, 4, 5]\n"
     ]
    }
   ],
   "source": [
    "original_list = [1, 2, 2, 3, 4, 4, 5]\n",
    "unique_list = list({x for x in original_list})\n",
    "print(unique_list)  # Output: [1, 2, 3, 4, 5]"
   ]
  },
  {
   "cell_type": "code",
   "execution_count": 19,
   "id": "e3ea7e9d-ccff-43ae-b8fb-66e7df09643b",
   "metadata": {},
   "outputs": [
    {
     "name": "stdout",
     "output_type": "stream",
     "text": [
      "[{'id': 1, 'name': 'Alice'}, {'id': 2, 'name': 'Bob'}]\n"
     ]
    }
   ],
   "source": [
    "data = [{'id': 1, 'name': 'Alice'}, {'id': 2, 'name': 'Bob'}, {'id': 1, 'name': 'Alice'}]\n",
    "unique_data = list({v['id']:v for v in data}.values())\n",
    "print(unique_data)  # Output: [{'id': 1, 'name': 'Alice'}, {'id': 2, 'name': 'Bob'}]"
   ]
  },
  {
   "cell_type": "code",
   "execution_count": 20,
   "id": "8b9faacf-5c14-4171-a324-7f8453209ab3",
   "metadata": {},
   "outputs": [
    {
     "name": "stdout",
     "output_type": "stream",
     "text": [
      "[(3, 4), (5, 6), (1, 2)]\n"
     ]
    }
   ],
   "source": [
    "data = [(1, 2), (3, 4), (1, 2), (5, 6)]\n",
    "unique_data = list(set(map(frozenset, data)))\n",
    "unique_tuples = [tuple(x) for x in unique_data]\n",
    "print(unique_tuples)  # Output: [(1, 2), (3, 4), (5, 6)]"
   ]
  },
  {
   "cell_type": "markdown",
   "id": "c7603092-8f25-4bb9-8e16-0ab14f3f09d1",
   "metadata": {
    "jp-MarkdownHeadingCollapsed": true
   },
   "source": [
    "### update() for set\n",
    "- set1.update(set2)\n",
    "- set1.update(list,dict,tuple,...)\n",
    "- set1.update(dict)\n",
    "- set1 |= set2"
   ]
  },
  {
   "cell_type": "code",
   "execution_count": 22,
   "id": "5a4722a6-24df-45d0-8612-5bf8362716c7",
   "metadata": {},
   "outputs": [
    {
     "name": "stdout",
     "output_type": "stream",
     "text": [
      "{1, 2, 3, 4, 5}\n"
     ]
    }
   ],
   "source": [
    "set1 = {1, 2, 3}\n",
    "set2 = {3, 4, 5}\n",
    "set1.update(set2)\n",
    "print(set1)  # Output: {1, 2, 3, 4, 5}"
   ]
  },
  {
   "cell_type": "code",
   "execution_count": 23,
   "id": "0c1fdd8b-0fc3-4bef-a552-c7c04717e608",
   "metadata": {},
   "outputs": [
    {
     "name": "stdout",
     "output_type": "stream",
     "text": [
      "{1, 2, 3, 4, 5}\n"
     ]
    }
   ],
   "source": [
    "my_set = {1, 2, 3}\n",
    "my_list = [3, 4, 5]\n",
    "my_set.update(my_list)\n",
    "print(my_set)  # Output: {1, 2, 3, 4, 5}"
   ]
  },
  {
   "cell_type": "code",
   "execution_count": 24,
   "id": "fdc819d8-49e1-4a08-9189-4e8847be39ee",
   "metadata": {},
   "outputs": [
    {
     "name": "stdout",
     "output_type": "stream",
     "text": [
      "{1, 2, 3, 4, 5, 6, 7, 8, 9}\n"
     ]
    }
   ],
   "source": [
    "my_set = {1, 2, 3}\n",
    "my_set.update([4, 5], {6, 7}, (8, 9))\n",
    "print(my_set)  # Output: {1, 2, 3, 4, 5, 6, 7, 8, 9}"
   ]
  },
  {
   "cell_type": "code",
   "execution_count": 25,
   "id": "0ea05332-29be-4f0d-8175-a72bfbc071be",
   "metadata": {},
   "outputs": [
    {
     "name": "stdout",
     "output_type": "stream",
     "text": [
      "{1, 2, 3, 4, 5}\n"
     ]
    }
   ],
   "source": [
    "my_set = {1, 2, 3}\n",
    "my_dict = {4: 'four', 5: 'five'}\n",
    "my_set.update(my_dict)\n",
    "print(my_set)  # Output: {1, 2, 3, 4, 5}"
   ]
  },
  {
   "cell_type": "code",
   "execution_count": 26,
   "id": "1d0f7856-8afd-4aed-b86f-71b91b423a8d",
   "metadata": {},
   "outputs": [
    {
     "name": "stdout",
     "output_type": "stream",
     "text": [
      "{1, 2, 3, 4, 5}\n"
     ]
    }
   ],
   "source": [
    "set1 = {1, 2, 3}\n",
    "set2 = {3, 4, 5}\n",
    "set1 |= set2\n",
    "print(set1)  # Output: {1, 2, 3, 4, 5}"
   ]
  },
  {
   "cell_type": "markdown",
   "id": "4edf55f2-0249-4c84-b47a-1851a73093eb",
   "metadata": {
    "jp-MarkdownHeadingCollapsed": true
   },
   "source": [
    "### remove data from set\n",
    "- set.remove(value)\n",
    "- set.discard(value)\n",
    "- set.pop(value)\n",
    "- set.clear()\n",
    "- set - {, ,}\n",
    "- set.difference(set)\n",
    "- set comprehension(condition if x not in { , })"
   ]
  },
  {
   "cell_type": "code",
   "execution_count": 28,
   "id": "0befd1f4-4b58-4943-a374-c528b73cb435",
   "metadata": {},
   "outputs": [
    {
     "name": "stdout",
     "output_type": "stream",
     "text": [
      "{1, 2, 4, 5}\n"
     ]
    }
   ],
   "source": [
    "my_set = {1, 2, 3, 4, 5}\n",
    "my_set.remove(3)\n",
    "print(my_set)  # Output: {1, 2, 4, 5}"
   ]
  },
  {
   "cell_type": "code",
   "execution_count": 57,
   "id": "d7bd5994-9096-4937-9b6c-f1b4284074a4",
   "metadata": {},
   "outputs": [],
   "source": [
    "# my_set.remove(6)  # จะเกิด KeyError"
   ]
  },
  {
   "cell_type": "code",
   "execution_count": 30,
   "id": "cb47c3cf-23b8-4f2a-aeab-f1c06915609f",
   "metadata": {},
   "outputs": [
    {
     "name": "stdout",
     "output_type": "stream",
     "text": [
      "{1, 2, 4, 5}\n",
      "{1, 2, 4, 5}\n"
     ]
    }
   ],
   "source": [
    "my_set = {1, 2, 3, 4, 5}\n",
    "my_set.discard(3)\n",
    "print(my_set)  # Output: {1, 2, 4, 5}\n",
    "my_set.discard(6)  # ไม่เกิด error\n",
    "print(my_set)  # Output: {1, 2, 4, 5}"
   ]
  },
  {
   "cell_type": "code",
   "execution_count": 32,
   "id": "8ef83c5d-072d-4102-9c8a-d81e59864f14",
   "metadata": {},
   "outputs": [
    {
     "name": "stdout",
     "output_type": "stream",
     "text": [
      "1\n",
      "{2, 3, 4, 5}\n"
     ]
    }
   ],
   "source": [
    "my_set = {1, 2, 3, 4, 5}\n",
    "removed_item = my_set.pop()\n",
    "print(removed_item)  # Output: จะเป็นค่าใดค่าหนึ่งใน Set\n",
    "print(my_set)  # Output: Set ที่เหลือหลังจากลบค่าออกไป"
   ]
  },
  {
   "cell_type": "code",
   "execution_count": 34,
   "id": "1906ee46-1fb4-4918-a141-644ab55e609d",
   "metadata": {},
   "outputs": [
    {
     "name": "stdout",
     "output_type": "stream",
     "text": [
      "set()\n"
     ]
    }
   ],
   "source": [
    "my_set = {1, 2, 3, 4, 5}\n",
    "my_set.clear()\n",
    "print(my_set)  # Output: set()"
   ]
  },
  {
   "cell_type": "code",
   "execution_count": 36,
   "id": "714b45a2-fd3b-44e5-bcbe-48214da8a7d3",
   "metadata": {},
   "outputs": [
    {
     "name": "stdout",
     "output_type": "stream",
     "text": [
      "{1, 2, 5}\n"
     ]
    }
   ],
   "source": [
    "my_set = {1, 2, 3, 4, 5}\n",
    "new_set = my_set - {3, 4}\n",
    "print(new_set)  # Output: {1, 2, 5}"
   ]
  },
  {
   "cell_type": "code",
   "execution_count": 38,
   "id": "9f4002b8-4e8d-474f-9d83-50dbd128e063",
   "metadata": {},
   "outputs": [
    {
     "name": "stdout",
     "output_type": "stream",
     "text": [
      "{1, 2, 5}\n"
     ]
    }
   ],
   "source": [
    "new_set = my_set.difference({3, 4})\n",
    "print(new_set)  # Output: {1, 2, 5}"
   ]
  },
  {
   "cell_type": "code",
   "execution_count": 40,
   "id": "da990a87-098a-4d45-8952-9b63d0731b7c",
   "metadata": {},
   "outputs": [
    {
     "name": "stdout",
     "output_type": "stream",
     "text": [
      "{1, 2, 5}\n"
     ]
    }
   ],
   "source": [
    "my_set = {1, 2, 3, 4, 5}\n",
    "new_set = {x for x in my_set if x not in {3, 4}}\n",
    "print(new_set)  # Output: {1, 2, 5}"
   ]
  },
  {
   "cell_type": "markdown",
   "id": "379df2f0-32bc-4172-b34b-a2ba83bf9efb",
   "metadata": {
    "jp-MarkdownHeadingCollapsed": true
   },
   "source": [
    "### set operation\n",
    "- set1.union(set2)\n",
    "- set1.intersection(set2)\n",
    "- set1.difference(set2,set3)\n",
    "- set1.symmetric_difference(set2)"
   ]
  },
  {
   "cell_type": "code",
   "execution_count": 43,
   "id": "d0787f35-ec0e-4a31-9a51-a73ea7857b6e",
   "metadata": {},
   "outputs": [
    {
     "name": "stdout",
     "output_type": "stream",
     "text": [
      "{1, 2, 3, 4, 5}\n"
     ]
    }
   ],
   "source": [
    "set1 = {1, 2, 3}\n",
    "set2 = {3, 4, 5}\n",
    "union_set = set1.union(set2)\n",
    "# Alternatively: union_set = set1 | set2\n",
    "print(union_set)  # Output: {1, 2, 3, 4, 5}"
   ]
  },
  {
   "cell_type": "code",
   "execution_count": 45,
   "id": "917ea751-4beb-4771-a7ee-fcdf8f72a3df",
   "metadata": {},
   "outputs": [
    {
     "name": "stdout",
     "output_type": "stream",
     "text": [
      "{3}\n"
     ]
    }
   ],
   "source": [
    "set1 = {1, 2, 3}\n",
    "set2 = {3, 4, 5}\n",
    "intersection_set = set1.intersection(set2)\n",
    "# Alternatively: intersection_set = set1 & set2\n",
    "print(intersection_set)  # Output: {3}"
   ]
  },
  {
   "cell_type": "code",
   "execution_count": 47,
   "id": "55fa3f55-0242-48a5-8ea8-07f4257d4a89",
   "metadata": {},
   "outputs": [
    {
     "name": "stdout",
     "output_type": "stream",
     "text": [
      "{1, 2, 3}\n"
     ]
    }
   ],
   "source": [
    "set1 = {1, 2, 3, 4, 5}\n",
    "set2 = {4, 5, 6, 7, 8}\n",
    "difference_set = set1.difference(set2)\n",
    "# Alternatively: difference_set = set1 - set2\n",
    "print(difference_set)  # Output: {1, 2, 3}"
   ]
  },
  {
   "cell_type": "code",
   "execution_count": 49,
   "id": "b789df2f-dbca-4bf0-8938-15656e87af2d",
   "metadata": {},
   "outputs": [
    {
     "name": "stdout",
     "output_type": "stream",
     "text": [
      "{1, 2, 3, 4, 5, 6, 7}\n",
      "set()\n"
     ]
    }
   ],
   "source": [
    "set1 = {1, 2, 3}\n",
    "set2 = {3, 4, 5}\n",
    "set3 = {5, 6, 7}\n",
    "union_all = set1.union(set2, set3)\n",
    "intersection_all = set1.intersection(set2, set3)\n",
    "print(union_all)  # Output: {1, 2, 3, 4, 5, 6, 7}\n",
    "print(intersection_all)  # Output: set()"
   ]
  },
  {
   "cell_type": "code",
   "execution_count": 51,
   "id": "3da84f00-fafd-4ec2-acfe-7a78fa3ca477",
   "metadata": {},
   "outputs": [
    {
     "name": "stdout",
     "output_type": "stream",
     "text": [
      "{1, 2, 3, 6, 7, 8}\n"
     ]
    }
   ],
   "source": [
    "set1 = {1, 2, 3, 4, 5}\n",
    "set2 = {4, 5, 6, 7, 8}\n",
    "symmetric_diff = set1.symmetric_difference(set2)\n",
    "# Alternatively: symmetric_diff = set1 ^ set2\n",
    "print(symmetric_diff)  # Output: {1, 2, 3, 6, 7, 8}"
   ]
  }
 ],
 "metadata": {
  "kernelspec": {
   "display_name": "Python 3 (ipykernel)",
   "language": "python",
   "name": "python3"
  },
  "language_info": {
   "codemirror_mode": {
    "name": "ipython",
    "version": 3
   },
   "file_extension": ".py",
   "mimetype": "text/x-python",
   "name": "python",
   "nbconvert_exporter": "python",
   "pygments_lexer": "ipython3",
   "version": "3.11.9"
  }
 },
 "nbformat": 4,
 "nbformat_minor": 5
}
