{
 "cells": [
  {
   "cell_type": "markdown",
   "id": "b59c39d2-f880-46e9-a574-713844c21468",
   "metadata": {
    "editable": true,
    "slideshow": {
     "slide_type": ""
    },
    "tags": []
   },
   "source": [
    "# 2603655_DataAcquisition"
   ]
  },
  {
   "cell_type": "markdown",
   "id": "f84b904c-6d6d-410a-bb34-5811f64227cf",
   "metadata": {
    "editable": true,
    "slideshow": {
     "slide_type": ""
    },
    "tags": []
   },
   "source": [
    "## List (OJT on Perplexity)"
   ]
  },
  {
   "cell_type": "markdown",
   "id": "d780e82e-ba0d-4bd1-85e7-6baba734575f",
   "metadata": {
    "editable": true,
    "slideshow": {
     "slide_type": ""
    },
    "tags": []
   },
   "source": [
    "---\n",
    "* Author:  [Yuttapong Mahasittiwat](mailto:khala1391@gmail.com)\n",
    "* Technologist | Data Modeler | Data Analyst\n",
    "* [YouTube](https://www.youtube.com/khala1391)\n",
    "* [LinkedIn](https://www.linkedin.com/in/yuttapong-m/)\n",
    "---"
   ]
  },
  {
   "cell_type": "markdown",
   "id": "cbbe5a93-b9e3-4e1a-a71c-f3e98504118e",
   "metadata": {},
   "source": [
    "source: [perplexity](https://www.perplexity.ai/page/kaarthmaangaankab-list-python-g1HAoyZoR8KEFejq_N7zJA)"
   ]
  },
  {
   "cell_type": "code",
   "execution_count": 5,
   "id": "e09fce22-9dad-4a99-ae40-bb28cd24eb4c",
   "metadata": {
    "colab": {
     "base_uri": "https://localhost:8080/"
    },
    "editable": true,
    "executionInfo": {
     "elapsed": 450,
     "status": "ok",
     "timestamp": 1722945524622,
     "user": {
      "displayName": "Buraj Patrakosol",
      "userId": "15915442625378365644"
     },
     "user_tz": -420
    },
    "id": "ob6u_X-NhT6T",
    "outputId": "8af79b74-2924-4afe-eb29-4cba74aaeb9d",
    "slideshow": {
     "slide_type": ""
    },
    "tags": []
   },
   "outputs": [
    {
     "name": "stdout",
     "output_type": "stream",
     "text": [
      "pandas version : 2.2.1\n",
      "numpy version : 1.26.4\n",
      "matplotlib version : 3.8.4\n",
      "seaborn version : 0.13.2\n"
     ]
    }
   ],
   "source": [
    "import pandas as pd\n",
    "import matplotlib as mpl\n",
    "import matplotlib.pyplot as plt\n",
    "import seaborn as sns\n",
    "import numpy as np\n",
    "print(\"pandas version :\",pd.__version__)\n",
    "print(\"numpy version :\",np.__version__)\n",
    "print(\"matplotlib version :\",mpl.__version__)\n",
    "print(\"seaborn version :\",sns.__version__)"
   ]
  },
  {
   "cell_type": "code",
   "execution_count": 6,
   "id": "95d48fa6-2fc1-4966-8ae2-e4cdbefd19c7",
   "metadata": {},
   "outputs": [
    {
     "data": {
      "text/plain": [
       "'2024-09-09 18:03:42.951838'"
      ]
     },
     "execution_count": 6,
     "metadata": {},
     "output_type": "execute_result"
    }
   ],
   "source": [
    "from datetime import datetime\n",
    "str(datetime.now())"
   ]
  },
  {
   "cell_type": "code",
   "execution_count": null,
   "id": "36142765-cbe1-4c7d-b118-2c83d10be22d",
   "metadata": {},
   "outputs": [],
   "source": [
    "# list.append\n",
    "# list.clear\n",
    "# list.copy\n",
    "# list.count\n",
    "# list.extend\n",
    "# list.index\n",
    "# list.insert\n",
    "# list.mro\n",
    "# list.pop\n",
    "# list.remove\n",
    "# list.reverse\n",
    "# list.sort"
   ]
  },
  {
   "cell_type": "markdown",
   "id": "ebebb609-7b90-44cf-aa2b-8ffa713774d3",
   "metadata": {
    "jp-MarkdownHeadingCollapsed": true
   },
   "source": [
    "### list comprehension\n",
    "> new_list = \\[**expression** for **item** in **iterable** if **condition** \\]"
   ]
  },
  {
   "cell_type": "code",
   "execution_count": 9,
   "id": "f0b962cc-cd8e-4214-bd2d-3314f9d20476",
   "metadata": {},
   "outputs": [
    {
     "data": {
      "text/plain": [
       "[0, 1, 4, 9, 16, 25, 36, 49, 64, 81]"
      ]
     },
     "execution_count": 9,
     "metadata": {},
     "output_type": "execute_result"
    }
   ],
   "source": [
    "squares = [x**2 for x in range(10)]\n",
    "squares\n",
    "# ผลลัพธ์: [0, 1, 4, 9, 16, 25, 36, 49, 64, 81]"
   ]
  },
  {
   "cell_type": "code",
   "execution_count": 10,
   "id": "08ab9b26-bf37-4949-b1fd-bb71670b2d98",
   "metadata": {},
   "outputs": [
    {
     "data": {
      "text/plain": [
       "[0, 2, 4, 6, 8]"
      ]
     },
     "execution_count": 10,
     "metadata": {},
     "output_type": "execute_result"
    }
   ],
   "source": [
    "even_numbers = [x for x in range(10) if x % 2 == 0]\n",
    "even_numbers\n",
    "# ผลลัพธ์: [0, 2, 4, 6, 8]"
   ]
  },
  {
   "cell_type": "code",
   "execution_count": 11,
   "id": "97d4509c-c199-4b8a-a007-55daef259751",
   "metadata": {},
   "outputs": [
    {
     "data": {
      "text/plain": [
       "['APPLE', 'BANANA', 'CHERRY']"
      ]
     },
     "execution_count": 11,
     "metadata": {},
     "output_type": "execute_result"
    }
   ],
   "source": [
    "fruits = [\"apple\", \"banana\", \"cherry\"]\n",
    "uppercase_fruits = [fruit.upper() for fruit in fruits]\n",
    "uppercase_fruits\n",
    "# ผลลัพธ์: ['APPLE', 'BANANA', 'CHERRY']"
   ]
  },
  {
   "cell_type": "code",
   "execution_count": 12,
   "id": "f0e5adb5-28e1-4404-b906-f7e82754423b",
   "metadata": {},
   "outputs": [
    {
     "data": {
      "text/plain": [
       "[[0, 1, 2], [0, 1, 2], [0, 1, 2]]"
      ]
     },
     "execution_count": 12,
     "metadata": {},
     "output_type": "execute_result"
    }
   ],
   "source": [
    "matrix = [[j for j in range(3)] for i in range(3)]\n",
    "matrix\n",
    "# ผลลัพธ์: [[0, 1, 2], [0, 1, 2], [0, 1, 2]]"
   ]
  },
  {
   "cell_type": "markdown",
   "id": "905b560a-6bc7-49b2-bf4e-b48dac7a1f83",
   "metadata": {
    "jp-MarkdownHeadingCollapsed": true
   },
   "source": [
    "### access data by index slicing\n",
    "- list[ ]\n",
    "- list[ : ]\n",
    "- list[ : : ]\n",
    "- list.index(label)\n",
    "- enumerate(list)"
   ]
  },
  {
   "cell_type": "markdown",
   "id": "d57f3de4-be90-493c-ab3c-5b63514db927",
   "metadata": {},
   "source": [
    "check validity\n",
    "- try | except ValueError\n",
    "- if | else"
   ]
  },
  {
   "cell_type": "markdown",
   "id": "6775de16-8ab3-4a51-8fe2-1a1f744f47a0",
   "metadata": {
    "jp-MarkdownHeadingCollapsed": true
   },
   "source": [
    "#### enumerate\n",
    "*Syntax*: `enumerate`(iterable, start=0)\n",
    "\n",
    "**Iterable**: any object that supports iteration<br>\n",
    "**Start**: the index value from which the counter is to be started, by default it is 0\n",
    "\n",
    "*Return*: Returns an iterator with index and element pairs from the original iterable"
   ]
  },
  {
   "cell_type": "code",
   "execution_count": 14,
   "id": "cfe0898c-d2c9-44b9-8f6a-7099d4ec1c15",
   "metadata": {},
   "outputs": [
    {
     "name": "stdout",
     "output_type": "stream",
     "text": [
      "apple\n",
      "cherry\n"
     ]
    }
   ],
   "source": [
    "fruits = [\"apple\", \"banana\", \"cherry\", \"date\"]\n",
    "print(fruits[0])  # \"apple\"\n",
    "print(fruits[2])  # \"cherry\""
   ]
  },
  {
   "cell_type": "code",
   "execution_count": 15,
   "id": "648b34b3-e95c-4724-ab59-8b1054425520",
   "metadata": {},
   "outputs": [
    {
     "name": "stdout",
     "output_type": "stream",
     "text": [
      "date\n",
      "cherry\n"
     ]
    }
   ],
   "source": [
    "print(fruits[-1])  # \"date\" (สมาชิกตัวสุดท้าย)\n",
    "print(fruits[-2])  # \"cherry\" (สมาชิกตัวรองสุดท้าย)"
   ]
  },
  {
   "cell_type": "code",
   "execution_count": 16,
   "id": "6031c5a6-2ce9-4b67-985e-60275f3828ec",
   "metadata": {},
   "outputs": [
    {
     "name": "stdout",
     "output_type": "stream",
     "text": [
      "['banana', 'cherry']\n",
      "['apple', 'banana']\n",
      "['cherry', 'date']\n",
      "['apple', 'cherry']\n"
     ]
    }
   ],
   "source": [
    "print(fruits[1:3])   # [\"banana\", \"cherry\"]\n",
    "print(fruits[:2])    # [\"apple\", \"banana\"]\n",
    "print(fruits[2:])    # [\"cherry\", \"date\"]\n",
    "print(fruits[::2])   # [\"apple\", \"cherry\"] (ข้ามทีละ 2)"
   ]
  },
  {
   "cell_type": "code",
   "execution_count": 17,
   "id": "dd6bb30f-52df-42bc-881a-194a8f082e44",
   "metadata": {},
   "outputs": [
    {
     "name": "stdout",
     "output_type": "stream",
     "text": [
      "1\n"
     ]
    }
   ],
   "source": [
    "print(fruits.index(\"banana\"))  # 1"
   ]
  },
  {
   "cell_type": "code",
   "execution_count": 19,
   "id": "3b0cf9a5-5e1e-4e0e-8f0a-d222f5539a4a",
   "metadata": {},
   "outputs": [
    {
     "name": "stdout",
     "output_type": "stream",
     "text": [
      "Index 0: apple\n",
      "Index 1: banana\n",
      "Index 2: cherry\n",
      "Index 3: date\n"
     ]
    }
   ],
   "source": [
    "for index, fruit in enumerate(fruits):\n",
    "    print(f\"Index {index}: {fruit}\")"
   ]
  },
  {
   "cell_type": "code",
   "execution_count": 20,
   "id": "6bf278e2-a806-4b71-b7e4-889ccea6be7b",
   "metadata": {},
   "outputs": [
    {
     "name": "stdout",
     "output_type": "stream",
     "text": [
      "['apple', 'cherry']\n"
     ]
    }
   ],
   "source": [
    "even_indexed = [fruit for index, fruit in enumerate(fruits) if index % 2 == 0]\n",
    "print(even_indexed)  # [\"apple\", \"cherry\"]"
   ]
  },
  {
   "cell_type": "code",
   "execution_count": 21,
   "id": "18c921ac-e4f0-4843-a1dd-6ffad7b151cf",
   "metadata": {},
   "outputs": [
    {
     "name": "stdout",
     "output_type": "stream",
     "text": [
      "['apple', 'grape', 'kiwi', 'date']\n"
     ]
    }
   ],
   "source": [
    "fruits[1:3] = [\"grape\", \"kiwi\"]\n",
    "print(fruits)  # [\"apple\", \"grape\", \"kiwi\", \"date\"]"
   ]
  },
  {
   "cell_type": "code",
   "execution_count": 22,
   "id": "1c12b737-9c41-46f3-9927-a068b34fb7cf",
   "metadata": {},
   "outputs": [
    {
     "name": "stdout",
     "output_type": "stream",
     "text": [
      "[0, 2, 4, 6, 8]\n",
      "[9, 8, 7, 6, 5, 4, 3, 2, 1, 0]\n"
     ]
    }
   ],
   "source": [
    "numbers = [0, 1, 2, 3, 4, 5, 6, 7, 8, 9]\n",
    "print(numbers[::2])   # [0, 2, 4, 6, 8]\n",
    "print(numbers[::-1])  # [9, 8, 7, 6, 5, 4, 3, 2, 1, 0] (กลับลำดับ list)"
   ]
  },
  {
   "cell_type": "code",
   "execution_count": 23,
   "id": "df5d2df7-4bf9-41eb-a449-08390eccb36a",
   "metadata": {},
   "outputs": [
    {
     "name": "stdout",
     "output_type": "stream",
     "text": [
      "Mango is not in the list\n"
     ]
    }
   ],
   "source": [
    "try:\n",
    "    index = fruits.index(\"mango\")\n",
    "except ValueError:\n",
    "    print(\"Mango is not in the list\")"
   ]
  },
  {
   "cell_type": "code",
   "execution_count": 24,
   "id": "f79a53c7-25ac-4214-93ac-ca76c82b0988",
   "metadata": {},
   "outputs": [
    {
     "name": "stdout",
     "output_type": "stream",
     "text": [
      "Mango is not in the list\n"
     ]
    }
   ],
   "source": [
    "if \"mango\" in fruits:\n",
    "    index = fruits.index(\"mango\")\n",
    "else:\n",
    "    print(\"Mango is not in the list\")"
   ]
  },
  {
   "cell_type": "markdown",
   "id": "aad8f3f9-ac9a-43d5-9801-efd2dce2a081",
   "metadata": {
    "jp-MarkdownHeadingCollapsed": true
   },
   "source": [
    "### sort data in list\n",
    "- list.sort()\n",
    "- sorted(list,key=func)"
   ]
  },
  {
   "cell_type": "code",
   "execution_count": 26,
   "id": "a6a0238e-bb18-4b6c-b7e6-cdb961dd6bf9",
   "metadata": {},
   "outputs": [
    {
     "name": "stdout",
     "output_type": "stream",
     "text": [
      "[1, 1, 2, 3, 3, 4, 5, 5, 6, 9]\n"
     ]
    }
   ],
   "source": [
    "numbers = [3, 1, 4, 1, 5, 9, 2, 6, 5, 3]\n",
    "numbers.sort()\n",
    "print(numbers)  # [1, 1, 2, 3, 3, 4, 5, 5, 6, 9]"
   ]
  },
  {
   "cell_type": "code",
   "execution_count": 27,
   "id": "1c03380a-5c04-4be9-a246-38e61730d0c4",
   "metadata": {},
   "outputs": [
    {
     "name": "stdout",
     "output_type": "stream",
     "text": [
      "[9, 6, 5, 5, 4, 3, 3, 2, 1, 1]\n"
     ]
    }
   ],
   "source": [
    "numbers.sort(reverse=True)\n",
    "print(numbers)  # [9, 6, 5, 5, 4, 3, 3, 2, 1, 1]"
   ]
  },
  {
   "cell_type": "code",
   "execution_count": 28,
   "id": "bfd84828-0ce3-40c2-a273-2bdacfda41ea",
   "metadata": {},
   "outputs": [
    {
     "name": "stdout",
     "output_type": "stream",
     "text": [
      "[1, 1, 2, 3, 3, 4, 5, 5, 6, 9]\n",
      "[3, 1, 4, 1, 5, 9, 2, 6, 5, 3]\n"
     ]
    }
   ],
   "source": [
    "original = [3, 1, 4, 1, 5, 9, 2, 6, 5, 3]\n",
    "sorted_list = sorted(original)\n",
    "print(sorted_list)  # [1, 1, 2, 3, 3, 4, 5, 5, 6, 9]\n",
    "print(original)     # [3, 1, 4, 1, 5, 9, 2, 6, 5, 3]"
   ]
  },
  {
   "cell_type": "code",
   "execution_count": 29,
   "id": "173b84b4-a9a5-4bb7-aa81-ea3169d31fff",
   "metadata": {},
   "outputs": [
    {
     "name": "stdout",
     "output_type": "stream",
     "text": [
      "['list', 'python', 'sorting', 'programming']\n"
     ]
    }
   ],
   "source": [
    "# เรียงตามความยาวของ string\n",
    "words = [\"python\", \"programming\", \"list\", \"sorting\"]\n",
    "sorted_words = sorted(words, key=len)\n",
    "print(sorted_words)  # ['list', 'python', 'sorting', 'programming']"
   ]
  },
  {
   "cell_type": "code",
   "execution_count": 30,
   "id": "11715935-33c8-4b92-a945-e910e2d7ead5",
   "metadata": {},
   "outputs": [
    {
     "name": "stdout",
     "output_type": "stream",
     "text": [
      "[{'name': 'Charlie', 'age': 20}, {'name': 'Alice', 'age': 25}, {'name': 'Bob', 'age': 30}]\n"
     ]
    }
   ],
   "source": [
    "people = [\n",
    "    {\"name\": \"Alice\", \"age\": 25},\n",
    "    {\"name\": \"Bob\", \"age\": 30},\n",
    "    {\"name\": \"Charlie\", \"age\": 20}\n",
    "]\n",
    "sorted_people = sorted(people, key=lambda x: x[\"age\"])\n",
    "print(sorted_people)\n",
    "# [{'name': 'Charlie', 'age': 20}, {'name': 'Alice', 'age': 25}, {'name': 'Bob', 'age': 30}]"
   ]
  },
  {
   "cell_type": "code",
   "execution_count": 31,
   "id": "3d7ffcf2-3a85-43a4-8335-a0f9de740838",
   "metadata": {},
   "outputs": [
    {
     "name": "stdout",
     "output_type": "stream",
     "text": [
      "[('Charlie', 20), ('Alice', 25), ('David', 25), ('Bob', 30)]\n"
     ]
    }
   ],
   "source": [
    "data = [(\"Alice\", 25), (\"Bob\", 30), (\"Charlie\", 20), (\"David\", 25)]\n",
    "sorted_data = sorted(data, key=lambda x: (x[1], x[0]))\n",
    "print(sorted_data)\n",
    "# [('Charlie', 20), ('Alice', 25), ('David', 25), ('Bob', 30)]"
   ]
  },
  {
   "cell_type": "markdown",
   "id": "1eba5718-ffc8-404c-82c8-7529f8ae4b13",
   "metadata": {
    "jp-MarkdownHeadingCollapsed": true
   },
   "source": [
    "### combine lists\n",
    "- \\+\n",
    "- list.extend(list)\n",
    "- list comprehension: item for list in lists\n",
    "- list(chain(listA,listB,..)) *(from itertools import chain)*\n",
    "- sum(lists,[])"
   ]
  },
  {
   "cell_type": "code",
   "execution_count": 33,
   "id": "9b35c99c-54e8-41c5-bc68-450d0e1a4e22",
   "metadata": {},
   "outputs": [
    {
     "name": "stdout",
     "output_type": "stream",
     "text": [
      "[1, 2, 3, 4, 5, 6]\n"
     ]
    }
   ],
   "source": [
    "list1 = [1, 2, 3]\n",
    "list2 = [4, 5, 6]\n",
    "combined_list = list1 + list2\n",
    "print(combined_list)  # [1, 2, 3, 4, 5, 6]"
   ]
  },
  {
   "cell_type": "code",
   "execution_count": 34,
   "id": "78e880b7-425e-4baf-b6f2-95b9d29d9f15",
   "metadata": {},
   "outputs": [
    {
     "name": "stdout",
     "output_type": "stream",
     "text": [
      "['a', 'b', 'c', 1, 2, 3]\n"
     ]
    }
   ],
   "source": [
    "list1 = ['a', 'b', 'c']\n",
    "list2 = [1, 2, 3]\n",
    "list1.extend(list2)\n",
    "print(list1)  # ['a', 'b', 'c', 1, 2, 3]"
   ]
  },
  {
   "cell_type": "code",
   "execution_count": 35,
   "id": "620bb7f1-385c-4cb6-b894-60fcd71ecb28",
   "metadata": {},
   "outputs": [
    {
     "name": "stdout",
     "output_type": "stream",
     "text": [
      "[1, 2, 3, 4, 5, 6]\n"
     ]
    }
   ],
   "source": [
    "lists = [[1, 2], [3, 4], [5, 6]]\n",
    "combined = [item for sublist in lists for item in sublist]\n",
    "print(combined)  # [1, 2, 3, 4, 5, 6]"
   ]
  },
  {
   "cell_type": "code",
   "execution_count": 36,
   "id": "6beb31bb-2d0d-4c30-9b1d-29a7397517ed",
   "metadata": {},
   "outputs": [
    {
     "name": "stdout",
     "output_type": "stream",
     "text": [
      "[1, 2, 3, 4, 5, 6, 7, 8, 9]\n"
     ]
    }
   ],
   "source": [
    "from itertools import chain\n",
    "list1 = [1, 2, 3]\n",
    "list2 = [4, 5, 6]\n",
    "list3 = [7, 8, 9]\n",
    "combined = list(chain(list1, list2, list3))\n",
    "print(combined)  # [1, 2, 3, 4, 5, 6, 7, 8, 9]"
   ]
  },
  {
   "cell_type": "code",
   "execution_count": 37,
   "id": "16229e1a-f9b2-419d-b39f-137ba6058f9c",
   "metadata": {},
   "outputs": [
    {
     "name": "stdout",
     "output_type": "stream",
     "text": [
      "[[1, 2], [3, 4], [5, 6]]\n",
      "[1, 2, 3, 4, 5, 6]\n"
     ]
    }
   ],
   "source": [
    "lists = [[1, 2], [3, 4], [5, 6]]\n",
    "combined = [*lists]\n",
    "print(combined)  # [[1, 2], [3, 4], [5, 6]]\n",
    "\n",
    "# หากต้องการ flatten List\n",
    "flattened = [item for sublist in lists for item in sublist]\n",
    "print(flattened)  # [1, 2, 3, 4, 5, 6]"
   ]
  },
  {
   "cell_type": "code",
   "execution_count": 38,
   "id": "a26a0240-7c96-4964-a9c2-da1e537b6095",
   "metadata": {},
   "outputs": [
    {
     "name": "stdout",
     "output_type": "stream",
     "text": [
      "[1, 2, 3, 4, 5, 6]\n"
     ]
    }
   ],
   "source": [
    "lists = [[1, 2], [3, 4], [5, 6]]\n",
    "combined = sum(lists, [])\n",
    "print(combined)  # [1, 2, 3, 4, 5, 6]"
   ]
  },
  {
   "cell_type": "markdown",
   "id": "01f9c515-12ca-4005-ab19-e8c2c8a0f5a5",
   "metadata": {},
   "source": [
    "### delete data in list\n",
    "- del list\\[index]\n",
    "- list.remove(value)\n",
    "- list.pop(index)\n",
    "- list.clear()\n",
    "- list comprehension *>> condition*\n",
    "- list(filter(lambda))"
   ]
  },
  {
   "cell_type": "code",
   "execution_count": 40,
   "id": "782c13f8-7c8e-4c27-9779-32c7b442f6b1",
   "metadata": {},
   "outputs": [
    {
     "name": "stdout",
     "output_type": "stream",
     "text": [
      "['apple', 'cherry', 'date']\n",
      "['apple']\n"
     ]
    }
   ],
   "source": [
    "fruits = [\"apple\", \"banana\", \"cherry\", \"date\"]\n",
    "del fruits[1]  # ลบ \"banana\"\n",
    "print(fruits)  # [\"apple\", \"cherry\", \"date\"]\n",
    "\n",
    "del fruits[1:3]  # ลบ \"cherry\" และ \"date\"\n",
    "print(fruits)  # [\"apple\"]"
   ]
  },
  {
   "cell_type": "code",
   "execution_count": 41,
   "id": "809f9d22-b3a0-4852-a762-a12043e78431",
   "metadata": {},
   "outputs": [
    {
     "name": "stdout",
     "output_type": "stream",
     "text": [
      "[1, 3, 2, 4]\n"
     ]
    }
   ],
   "source": [
    "numbers = [1, 2, 3, 2, 4]\n",
    "numbers.remove(2)  # ลบเลข 2 ตัวแรกที่พบ\n",
    "print(numbers)  # [1, 3, 2, 4]"
   ]
  },
  {
   "cell_type": "code",
   "execution_count": 42,
   "id": "f4b5531a-246d-4bdb-b1d8-dcc444c8ca11",
   "metadata": {},
   "outputs": [
    {
     "name": "stdout",
     "output_type": "stream",
     "text": [
      "['red', 'blue']\n",
      "green\n",
      "['red']\n",
      "blue\n"
     ]
    }
   ],
   "source": [
    "colors = [\"red\", \"green\", \"blue\"]\n",
    "removed_color = colors.pop(1)  # ลบและคืนค่า \"green\"\n",
    "print(colors)  # [\"red\", \"blue\"]\n",
    "print(removed_color)  # \"green\"\n",
    "\n",
    "last_color = colors.pop()  # ลบและคืนค่าสมาชิกตัวสุดท้าย\n",
    "print(colors)  # [\"red\"]\n",
    "print(last_color)  # \"blue\""
   ]
  },
  {
   "cell_type": "code",
   "execution_count": 43,
   "id": "9250bda0-38b1-4471-b032-b80abdf031f6",
   "metadata": {},
   "outputs": [
    {
     "name": "stdout",
     "output_type": "stream",
     "text": [
      "[]\n"
     ]
    }
   ],
   "source": [
    "items = [1, 2, 3, 4, 5]\n",
    "items.clear()\n",
    "print(items)  # []"
   ]
  },
  {
   "cell_type": "code",
   "execution_count": 44,
   "id": "885c5b0d-bba4-4323-931c-012535d8634c",
   "metadata": {},
   "outputs": [
    {
     "name": "stdout",
     "output_type": "stream",
     "text": [
      "[1, 3, 5]\n"
     ]
    }
   ],
   "source": [
    "numbers = [1, 2, 3, 4, 5, 6]\n",
    "odd_numbers = [x for x in numbers if x % 2 != 0]  # เก็บเฉพาะเลขคี่\n",
    "print(odd_numbers)  # [1, 3, 5]"
   ]
  },
  {
   "cell_type": "code",
   "execution_count": 45,
   "id": "b6b52f8a-5996-4fb1-8385-085a9a2ec39a",
   "metadata": {},
   "outputs": [
    {
     "name": "stdout",
     "output_type": "stream",
     "text": [
      "[2, 4, 6]\n"
     ]
    }
   ],
   "source": [
    "numbers = [1, 2, 3, 4, 5, 6]\n",
    "even_numbers = list(filter(lambda x: x % 2 == 0, numbers))  # เก็บเฉพาะเลขคู่\n",
    "print(even_numbers)  # [2, 4, 6]"
   ]
  },
  {
   "cell_type": "markdown",
   "id": "bb87d233-f304-47a3-894e-997598f8a42e",
   "metadata": {
    "jp-MarkdownHeadingCollapsed": true
   },
   "source": [
    "### add data to list\n",
    "- list.append(value)\n",
    "- insert(index,value)\n",
    "- list.extend(list)"
   ]
  },
  {
   "cell_type": "code",
   "execution_count": 47,
   "id": "8115db18-9533-410f-9485-65d721eca52b",
   "metadata": {},
   "outputs": [
    {
     "name": "stdout",
     "output_type": "stream",
     "text": [
      "['apple', 'banana', 'cherry']\n"
     ]
    }
   ],
   "source": [
    "fruits = [\"apple\", \"banana\"]\n",
    "fruits.append(\"cherry\")\n",
    "print(fruits)  # [\"apple\", \"banana\", \"cherry\"]"
   ]
  },
  {
   "cell_type": "code",
   "execution_count": 48,
   "id": "15ce95ad-4dc7-4061-b5a8-0b5e834da361",
   "metadata": {},
   "outputs": [
    {
     "name": "stdout",
     "output_type": "stream",
     "text": [
      "[1, 2, 3, 4]\n"
     ]
    }
   ],
   "source": [
    "numbers = [1, 2, 4]\n",
    "numbers.insert(2, 3)  # แทรก 3 ที่ตำแหน่ง index 2\n",
    "print(numbers)  # [1, 2, 3, 4]"
   ]
  },
  {
   "cell_type": "code",
   "execution_count": 49,
   "id": "31add994-daa0-43eb-9964-b121d615a13d",
   "metadata": {},
   "outputs": [
    {
     "name": "stdout",
     "output_type": "stream",
     "text": [
      "[1, 2, 3, 4, 5]\n"
     ]
    }
   ],
   "source": [
    "list1 = [1, 2, 3]\n",
    "list2 = [4, 5]\n",
    "list1.extend(list2)\n",
    "print(list1)  # [1, 2, 3, 4, 5]"
   ]
  },
  {
   "cell_type": "code",
   "execution_count": 50,
   "id": "0bbba2e5-3190-4b9e-94bd-7218b57ddf52",
   "metadata": {},
   "outputs": [
    {
     "name": "stdout",
     "output_type": "stream",
     "text": [
      "[1, 2, 3, 4]\n"
     ]
    }
   ],
   "source": [
    "list1 = [1, 2]\n",
    "list2 = [3, 4]\n",
    "new_list = list1 + list2\n",
    "print(new_list)  # [1, 2, 3, 4]"
   ]
  },
  {
   "cell_type": "code",
   "execution_count": 51,
   "id": "f4241959-2e67-4228-aecb-6c92f88a0c81",
   "metadata": {},
   "outputs": [
    {
     "name": "stdout",
     "output_type": "stream",
     "text": [
      "[1, 4, 9]\n"
     ]
    }
   ],
   "source": [
    "numbers = [1, 2, 3]\n",
    "squared = [x**2 for x in numbers]\n",
    "print(squared)  # [1, 4, 9]"
   ]
  },
  {
   "cell_type": "code",
   "execution_count": 52,
   "id": "7a587c50-9933-4172-8bf3-cdb23789f791",
   "metadata": {},
   "outputs": [
    {
     "name": "stdout",
     "output_type": "stream",
     "text": [
      "[1, 2, 3, 4, 5]\n"
     ]
    }
   ],
   "source": [
    "original = [1, 2, 3]\n",
    "new_list = original.copy()\n",
    "new_list.extend([4, 5])\n",
    "print(new_list)  # [1, 2, 3, 4, 5]"
   ]
  },
  {
   "cell_type": "code",
   "execution_count": 53,
   "id": "9d57c383-5916-4844-8519-9da27964aa77",
   "metadata": {},
   "outputs": [
    {
     "name": "stdout",
     "output_type": "stream",
     "text": [
      "[1, 2, 3, 4, 5, 6]\n"
     ]
    }
   ],
   "source": [
    "numbers = [1, 2, 5, 6]\n",
    "numbers[2:2] = [3, 4]  # แทรก [3, 4] ที่ตำแหน่ง index 2\n",
    "print(numbers)  # [1, 2, 3, 4, 5, 6]"
   ]
  },
  {
   "cell_type": "markdown",
   "id": "8a7321f3-e410-4e52-94c2-04c3dd59a91c",
   "metadata": {
    "jp-MarkdownHeadingCollapsed": true
   },
   "source": [
    "### create dataframe\n",
    "- from list of list: *pd.Dataframe(data,columns=list)*\n",
    "- from list of dictionary: *pd.Dataframe(data)*\n",
    "- from dictionary of list: *pd.Dataframe(data)*\n",
    "- from list of tuple: *pd.Dataframe(data,columns=list)*"
   ]
  },
  {
   "cell_type": "code",
   "execution_count": 55,
   "id": "e21c434f-65f1-4518-b27d-c74c5ae747d8",
   "metadata": {},
   "outputs": [
    {
     "name": "stdout",
     "output_type": "stream",
     "text": [
      "    Name  Age       Job\n",
      "0   John   25  Engineer\n",
      "1  Alice   30   Manager\n",
      "2    Bob   35   Analyst\n"
     ]
    }
   ],
   "source": [
    "import pandas as pd\n",
    "\n",
    "data = [\n",
    "    ['John', 25, 'Engineer'],\n",
    "    ['Alice', 30, 'Manager'],\n",
    "    ['Bob', 35, 'Analyst']\n",
    "]\n",
    "df = pd.DataFrame(data, columns=['Name', 'Age', 'Job'])\n",
    "print(df)"
   ]
  },
  {
   "cell_type": "code",
   "execution_count": 56,
   "id": "3cb146ae-721a-4db7-91f4-7c0bd993263f",
   "metadata": {},
   "outputs": [
    {
     "name": "stdout",
     "output_type": "stream",
     "text": [
      "    Name  Age       Job\n",
      "0   John   25  Engineer\n",
      "1  Alice   30   Manager\n",
      "2    Bob   35   Analyst\n"
     ]
    }
   ],
   "source": [
    "import pandas as pd\n",
    "\n",
    "data = [\n",
    "    {'Name': 'John', 'Age': 25, 'Job': 'Engineer'},\n",
    "    {'Name': 'Alice', 'Age': 30, 'Job': 'Manager'},\n",
    "    {'Name': 'Bob', 'Age': 35, 'Job': 'Analyst'}\n",
    "]\n",
    "df = pd.DataFrame(data)\n",
    "print(df)"
   ]
  },
  {
   "cell_type": "code",
   "execution_count": 57,
   "id": "cf588011-3ed2-47b5-a138-89091e9fd7ed",
   "metadata": {},
   "outputs": [
    {
     "name": "stdout",
     "output_type": "stream",
     "text": [
      "    Name  Age       Job\n",
      "0   John   25  Engineer\n",
      "1  Alice   30   Manager\n",
      "2    Bob   35   Analyst\n"
     ]
    }
   ],
   "source": [
    "import pandas as pd\n",
    "\n",
    "data = {\n",
    "    'Name': ['John', 'Alice', 'Bob'],\n",
    "    'Age': [25, 30, 35],\n",
    "    'Job': ['Engineer', 'Manager', 'Analyst']\n",
    "}\n",
    "df = pd.DataFrame(data)\n",
    "print(df)"
   ]
  },
  {
   "cell_type": "code",
   "execution_count": 58,
   "id": "cbba4d45-b690-4a70-bc81-57146524c8d7",
   "metadata": {},
   "outputs": [
    {
     "name": "stdout",
     "output_type": "stream",
     "text": [
      "    Name  Age       Job\n",
      "0   John   25  Engineer\n",
      "1  Alice   30   Manager\n",
      "2    Bob   35   Analyst\n"
     ]
    }
   ],
   "source": [
    "import pandas as pd\n",
    "\n",
    "data = [\n",
    "    ('John', 25, 'Engineer'),\n",
    "    ('Alice', 30, 'Manager'),\n",
    "    ('Bob', 35, 'Analyst')\n",
    "]\n",
    "df = pd.DataFrame(data, columns=['Name', 'Age', 'Job'])\n",
    "print(df)"
   ]
  },
  {
   "cell_type": "code",
   "execution_count": 59,
   "id": "a7c1fc38-a0a6-467a-83e9-e05ffaf88b11",
   "metadata": {},
   "outputs": [],
   "source": [
    "import pandas as pd\n",
    "\n",
    "df = pd.DataFrame({'A': [1, 2, 3], 'B': [4, 5, 6]})\n",
    "\n",
    "# สร้างคอลัมน์ใหม่โดยใช้ List Comprehension\n",
    "df['C'] = [x * 2 for x in df['A']]\n",
    "\n",
    "# กรองข้อมูลโดยใช้ List Comprehension\n",
    "filtered_df = df[[x > 2 for x in df['A']]]"
   ]
  }
 ],
 "metadata": {
  "kernelspec": {
   "display_name": "Python 3 (ipykernel)",
   "language": "python",
   "name": "python3"
  },
  "language_info": {
   "codemirror_mode": {
    "name": "ipython",
    "version": 3
   },
   "file_extension": ".py",
   "mimetype": "text/x-python",
   "name": "python",
   "nbconvert_exporter": "python",
   "pygments_lexer": "ipython3",
   "version": "3.11.9"
  }
 },
 "nbformat": 4,
 "nbformat_minor": 5
}
