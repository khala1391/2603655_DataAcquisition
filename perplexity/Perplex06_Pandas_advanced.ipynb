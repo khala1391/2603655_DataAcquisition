{
 "cells": [
  {
   "cell_type": "markdown",
   "id": "b59c39d2-f880-46e9-a574-713844c21468",
   "metadata": {
    "editable": true,
    "slideshow": {
     "slide_type": ""
    },
    "tags": []
   },
   "source": [
    "# 2603655_DataAcquisition"
   ]
  },
  {
   "cell_type": "markdown",
   "id": "f84b904c-6d6d-410a-bb34-5811f64227cf",
   "metadata": {
    "editable": true,
    "slideshow": {
     "slide_type": ""
    },
    "tags": []
   },
   "source": [
    "## Pandas_advanced (OJT on Perplexity)"
   ]
  },
  {
   "cell_type": "markdown",
   "id": "d780e82e-ba0d-4bd1-85e7-6baba734575f",
   "metadata": {
    "editable": true,
    "slideshow": {
     "slide_type": ""
    },
    "tags": []
   },
   "source": [
    "---\n",
    "* Author:  [Yuttapong Mahasittiwat](mailto:khala1391@gmail.com)\n",
    "* Technologist | Data Modeler | Data Analyst\n",
    "* [YouTube](https://www.youtube.com/khala1391)\n",
    "* [LinkedIn](https://www.linkedin.com/in/yuttapong-m/)\n",
    "---"
   ]
  },
  {
   "cell_type": "markdown",
   "id": "cbbe5a93-b9e3-4e1a-a71c-f3e98504118e",
   "metadata": {},
   "source": [
    "source: [perplexity](https://www.perplexity.ai/page/pandas-dataframe-khansuung-5fsTZ55vTHOY15Ja8whdsg)"
   ]
  },
  {
   "cell_type": "code",
   "execution_count": 6,
   "id": "e09fce22-9dad-4a99-ae40-bb28cd24eb4c",
   "metadata": {
    "colab": {
     "base_uri": "https://localhost:8080/"
    },
    "editable": true,
    "executionInfo": {
     "elapsed": 450,
     "status": "ok",
     "timestamp": 1722945524622,
     "user": {
      "displayName": "Buraj Patrakosol",
      "userId": "15915442625378365644"
     },
     "user_tz": -420
    },
    "id": "ob6u_X-NhT6T",
    "outputId": "8af79b74-2924-4afe-eb29-4cba74aaeb9d",
    "slideshow": {
     "slide_type": ""
    },
    "tags": []
   },
   "outputs": [
    {
     "name": "stdout",
     "output_type": "stream",
     "text": [
      "pandas version : 2.2.1\n",
      "numpy version : 1.26.4\n",
      "matplotlib version : 3.8.4\n",
      "seaborn version : 0.13.2\n"
     ]
    }
   ],
   "source": [
    "import pandas as pd\n",
    "import matplotlib as mpl\n",
    "import matplotlib.pyplot as plt\n",
    "import seaborn as sns\n",
    "import numpy as np\n",
    "print(\"pandas version :\",pd.__version__)\n",
    "print(\"numpy version :\",np.__version__)\n",
    "print(\"matplotlib version :\",mpl.__version__)\n",
    "print(\"seaborn version :\",sns.__version__)"
   ]
  },
  {
   "cell_type": "code",
   "execution_count": 11,
   "id": "e1b6600f-e15e-4880-8671-d0a52e2f49a9",
   "metadata": {},
   "outputs": [
    {
     "data": {
      "text/plain": [
       "'2024-09-09 16:42:52.684262'"
      ]
     },
     "execution_count": 11,
     "metadata": {},
     "output_type": "execute_result"
    }
   ],
   "source": [
    "from datetime import datetime\n",
    "str(datetime.now())"
   ]
  },
  {
   "cell_type": "markdown",
   "id": "c2278690-629b-4ee7-934f-8abb235bd6cf",
   "metadata": {},
   "source": [
    "### combine dataframe\n",
    "- Concat\n",
    "  - pd.concat(\\[dfs],axis=0,ignore_index=False)\n",
    "- Merge\n",
    "  - df.merge(right,\n",
    "  - pd.merge(left, right, how='inner',on=None,left_on=None, right_on=None,left_index=False, right_index=False,sort=False, suffixes=('_x', '_y'))\n",
    "- Join\n",
    "  - ใช้ได้กับ df,index,series\n",
    "  - DataFrame.join(other, on=None, how='left', lsuffix=' ', rsuffix=' ', "
   ]
  },
  {
   "cell_type": "code",
   "execution_count": null,
   "id": "ee8dd083-72f8-4d23-aa9f-128b110e66b7",
   "metadata": {},
   "outputs": [],
   "source": [
    "# # การรวมข้อมูลแนวตั้ง\n",
    "# result = pd.concat([df1, df2, df3], ignore_index=True)\n",
    "\n",
    "# # การ merge ข้อมูลโดยใช้คอลัมน์ร่วม\n",
    "# merged_df = pd.merge(df1, df2, on='customer_id', how='left')\n",
    "\n",
    "# # การ join ข้อมูลโดยใช้ index\n",
    "# joined_df = df1.join(df2, lsuffix='_left', rsuffix='_right')"
   ]
  },
  {
   "cell_type": "markdown",
   "id": "a1ee78ce-5684-4318-aa00-43310408fddf",
   "metadata": {},
   "source": [
    "### apply"
   ]
  },
  {
   "cell_type": "code",
   "execution_count": 26,
   "id": "182c8adc-37a8-44c3-8ce2-eec8a549804d",
   "metadata": {},
   "outputs": [
    {
     "name": "stdout",
     "output_type": "stream",
     "text": [
      "Vik       5.91\n",
      "Mehdi     5.74\n",
      "Bella     5.51\n",
      "Chriss    6.23\n",
      "dtype: float64\n"
     ]
    }
   ],
   "source": [
    "import pandas as pd\n",
    "import numpy as np\n",
    "\n",
    "students = pd.Series(data=[180, 175, 168, 190],\n",
    "                     index=['Vik', 'Mehdi', 'Bella', 'Chriss'])\n",
    "\n",
    "def cm_to_feet(h):\n",
    "    return np.round(h/30.48, 2)\n",
    "\n",
    "print(students.apply(cm_to_feet))"
   ]
  },
  {
   "cell_type": "code",
   "execution_count": 10,
   "id": "db0310f0-ffd3-4d5c-937e-168644d6827d",
   "metadata": {},
   "outputs": [
    {
     "data": {
      "text/html": [
       "<div>\n",
       "<style scoped>\n",
       "    .dataframe tbody tr th:only-of-type {\n",
       "        vertical-align: middle;\n",
       "    }\n",
       "\n",
       "    .dataframe tbody tr th {\n",
       "        vertical-align: top;\n",
       "    }\n",
       "\n",
       "    .dataframe thead th {\n",
       "        text-align: right;\n",
       "    }\n",
       "</style>\n",
       "<table border=\"1\" class=\"dataframe\">\n",
       "  <thead>\n",
       "    <tr style=\"text-align: right;\">\n",
       "      <th></th>\n",
       "      <th>A</th>\n",
       "      <th>B</th>\n",
       "    </tr>\n",
       "  </thead>\n",
       "  <tbody>\n",
       "    <tr>\n",
       "      <th>0</th>\n",
       "      <td>2</td>\n",
       "      <td>20</td>\n",
       "    </tr>\n",
       "    <tr>\n",
       "      <th>1</th>\n",
       "      <td>4</td>\n",
       "      <td>40</td>\n",
       "    </tr>\n",
       "  </tbody>\n",
       "</table>\n",
       "</div>"
      ],
      "text/plain": [
       "   A   B\n",
       "0  2  20\n",
       "1  4  40"
      ]
     },
     "metadata": {},
     "output_type": "display_data"
    },
    {
     "data": {
      "text/plain": [
       "0    11\n",
       "1    22\n",
       "dtype: int64"
      ]
     },
     "metadata": {},
     "output_type": "display_data"
    }
   ],
   "source": [
    "import pandas as pd\n",
    "\n",
    "df = pd.DataFrame({'A': [1, 2], 'B': [10, 20]})\n",
    "\n",
    "# ใช้ apply() กับทุกคอลัมน์\n",
    "df1 = df.apply(lambda x: x * 2)\n",
    "display(df1)\n",
    "# ใช้ apply() กับทุกแถว\n",
    "df2 = df.apply(lambda x: x.sum(), axis=1)\n",
    "display(df2)"
   ]
  },
  {
   "cell_type": "code",
   "execution_count": null,
   "id": "0162e284-fafa-41be-9524-5907d0056c86",
   "metadata": {},
   "outputs": [],
   "source": [
    "def categorize_price(price):\n",
    "    if price < 200:\n",
    "        return \"Low\"\n",
    "    elif 200 <= price < 400:\n",
    "        return \"Normal\"\n",
    "    else:\n",
    "        return \"High\"\n",
    "\n",
    "df['Price_Category'] = df['Price'].apply(categorize_price)"
   ]
  },
  {
   "cell_type": "code",
   "execution_count": null,
   "id": "136aefa0-87e9-4ef7-bea4-affaf9972850",
   "metadata": {},
   "outputs": [],
   "source": [
    "def multiply(x, y, z):\n",
    "    return x * y * z\n",
    "\n",
    "df['Result'] = df['Value'].apply(multiply, args=(2, 3))"
   ]
  },
  {
   "cell_type": "markdown",
   "id": "b0ad11e5-08d9-477e-80b6-37d6752a95b1",
   "metadata": {},
   "source": [
    "### pd.plot"
   ]
  },
  {
   "cell_type": "markdown",
   "id": "57b975f4-e000-4b4d-9cf6-712fd8706a9b",
   "metadata": {},
   "source": [
    "- **Line Plot**: เป็นกราฟเส้นพื้นฐานที่สร้างได้โดยใช้ df.plot() หรือ series.plot() โดยไม่ต้องระบุพารามิเตอร์เพิ่มเติม\n",
    "- **Scatter Plot**: สร้างได้โดยใช้ df.plot(kind='scatter', x='column1', y='column2') เหมาะสำหรับแสดงความสัมพันธ์ระหว่างตัวแปรสองตัว\n",
    "- **Bar Plot**: ใช้ df.plot(kind='bar') สำหรับแท่งแนวตั้ง หรือ df.plot(kind='barh') สำหรับแท่งแนวนอน เหมาะกับการเปรียบเทียบค่าระหว่างหมวดหมู่\n",
    "- **Histogram**: สร้างด้วย df['column'].plot(kind='hist') เพื่อแสดงการกระจายตัวของข้อมูล\n",
    "- **Box Plot**: ใช้ df.plot(kind='box') เพื่อแสดงสถิติสรุปของข้อมูล เช่น ค่ามัธยฐาน ควอไทล์ และค่าผิดปกติ\n",
    "- **Area Plot**: สร้างด้วย df.plot(kind='area') เหมาะสำหรับแสดงข้อมูลสะสมหรือเปรียบเทียบสัดส่วน\n",
    "- **Pie Chart**: ใช้ df.plot.pie(y='column') เพื่อแสดงสัดส่วนของข้อมูลในรูปแบบวงกลม"
   ]
  },
  {
   "cell_type": "markdown",
   "id": "4ca262e7-0600-4902-8563-bff9f04362a3",
   "metadata": {},
   "source": [
    "- การกำหนดสี: ใช้พารามิเตอร์ color='color_name' หรือ cmap='colormap_name'\n",
    "- การเพิ่มชื่อแกนและชื่อกราฟ: ใช้ plt.xlabel(), plt.ylabel(), และ plt.title()\n",
    "- การสร้าง subplots: ใช้พารามิเตอร์ subplots=True ใน df.plot()"
   ]
  },
  {
   "cell_type": "markdown",
   "id": "b6d98a2c-7147-4dee-8c35-50b664e41892",
   "metadata": {
    "jp-MarkdownHeadingCollapsed": true
   },
   "source": [
    "### pivot_table\n",
    "- pd.pivot_table(df, values=, index=, columns=, aggfunc=)\n",
    "- pd.pivot_table(df, values=list, index=list, columns=list, aggfunc=)"
   ]
  },
  {
   "cell_type": "code",
   "execution_count": 16,
   "id": "11e22627-ff0b-438a-9b4d-df7faa414dca",
   "metadata": {},
   "outputs": [
    {
     "name": "stdout",
     "output_type": "stream",
     "text": [
      "City        Los Angeles  New York\n",
      "Date                             \n",
      "2023-01-01         75.0      32.0\n",
      "2023-01-02         77.0      30.0\n"
     ]
    }
   ],
   "source": [
    "import pandas as pd\n",
    "import numpy as np\n",
    "\n",
    "df = pd.DataFrame({\n",
    "    'Date': ['2023-01-01', '2023-01-01', '2023-01-02', '2023-01-02'],\n",
    "    'City': ['New York', 'Los Angeles', 'New York', 'Los Angeles'],\n",
    "    'Temperature': [32, 75, 30, 77],\n",
    "    'Weather': ['rainy','cloudy','warm','cloudy'],\n",
    "    'Humidity': [75,80,70,83],\n",
    "})\n",
    "\n",
    "pivot = pd.pivot_table(df, values='Temperature', index='Date', columns='City', aggfunc='mean')\n",
    "print(pivot)"
   ]
  },
  {
   "cell_type": "code",
   "execution_count": 22,
   "id": "8b037b47-35e3-4e78-9f61-f87e0ab070fe",
   "metadata": {},
   "outputs": [
    {
     "data": {
      "text/html": [
       "<div>\n",
       "<style scoped>\n",
       "    .dataframe tbody tr th:only-of-type {\n",
       "        vertical-align: middle;\n",
       "    }\n",
       "\n",
       "    .dataframe tbody tr th {\n",
       "        vertical-align: top;\n",
       "    }\n",
       "\n",
       "    .dataframe thead tr th {\n",
       "        text-align: left;\n",
       "    }\n",
       "\n",
       "    .dataframe thead tr:last-of-type th {\n",
       "        text-align: right;\n",
       "    }\n",
       "</style>\n",
       "<table border=\"1\" class=\"dataframe\">\n",
       "  <thead>\n",
       "    <tr>\n",
       "      <th></th>\n",
       "      <th></th>\n",
       "      <th colspan=\"6\" halign=\"left\">Humidity</th>\n",
       "      <th colspan=\"3\" halign=\"left\">Temperature</th>\n",
       "    </tr>\n",
       "    <tr>\n",
       "      <th></th>\n",
       "      <th></th>\n",
       "      <th colspan=\"3\" halign=\"left\">max</th>\n",
       "      <th colspan=\"3\" halign=\"left\">mean</th>\n",
       "      <th colspan=\"3\" halign=\"left\">mean</th>\n",
       "    </tr>\n",
       "    <tr>\n",
       "      <th></th>\n",
       "      <th>Weather</th>\n",
       "      <th>cloudy</th>\n",
       "      <th>rainy</th>\n",
       "      <th>warm</th>\n",
       "      <th>cloudy</th>\n",
       "      <th>rainy</th>\n",
       "      <th>warm</th>\n",
       "      <th>cloudy</th>\n",
       "      <th>rainy</th>\n",
       "      <th>warm</th>\n",
       "    </tr>\n",
       "    <tr>\n",
       "      <th>Date</th>\n",
       "      <th>City</th>\n",
       "      <th></th>\n",
       "      <th></th>\n",
       "      <th></th>\n",
       "      <th></th>\n",
       "      <th></th>\n",
       "      <th></th>\n",
       "      <th></th>\n",
       "      <th></th>\n",
       "      <th></th>\n",
       "    </tr>\n",
       "  </thead>\n",
       "  <tbody>\n",
       "    <tr>\n",
       "      <th rowspan=\"2\" valign=\"top\">2023-01-01</th>\n",
       "      <th>Los Angeles</th>\n",
       "      <td>80.0</td>\n",
       "      <td>NaN</td>\n",
       "      <td>NaN</td>\n",
       "      <td>80.0</td>\n",
       "      <td>NaN</td>\n",
       "      <td>NaN</td>\n",
       "      <td>75.0</td>\n",
       "      <td>NaN</td>\n",
       "      <td>NaN</td>\n",
       "    </tr>\n",
       "    <tr>\n",
       "      <th>New York</th>\n",
       "      <td>NaN</td>\n",
       "      <td>75.0</td>\n",
       "      <td>NaN</td>\n",
       "      <td>NaN</td>\n",
       "      <td>75.0</td>\n",
       "      <td>NaN</td>\n",
       "      <td>NaN</td>\n",
       "      <td>32.0</td>\n",
       "      <td>NaN</td>\n",
       "    </tr>\n",
       "    <tr>\n",
       "      <th rowspan=\"2\" valign=\"top\">2023-01-02</th>\n",
       "      <th>Los Angeles</th>\n",
       "      <td>83.0</td>\n",
       "      <td>NaN</td>\n",
       "      <td>NaN</td>\n",
       "      <td>83.0</td>\n",
       "      <td>NaN</td>\n",
       "      <td>NaN</td>\n",
       "      <td>77.0</td>\n",
       "      <td>NaN</td>\n",
       "      <td>NaN</td>\n",
       "    </tr>\n",
       "    <tr>\n",
       "      <th>New York</th>\n",
       "      <td>NaN</td>\n",
       "      <td>NaN</td>\n",
       "      <td>70.0</td>\n",
       "      <td>NaN</td>\n",
       "      <td>NaN</td>\n",
       "      <td>70.0</td>\n",
       "      <td>NaN</td>\n",
       "      <td>NaN</td>\n",
       "      <td>30.0</td>\n",
       "    </tr>\n",
       "  </tbody>\n",
       "</table>\n",
       "</div>"
      ],
      "text/plain": [
       "                       Humidity                                Temperature  \\\n",
       "                            max               mean                    mean   \n",
       "Weather                  cloudy rainy  warm cloudy rainy  warm      cloudy   \n",
       "Date       City                                                              \n",
       "2023-01-01 Los Angeles     80.0   NaN   NaN   80.0   NaN   NaN        75.0   \n",
       "           New York         NaN  75.0   NaN    NaN  75.0   NaN         NaN   \n",
       "2023-01-02 Los Angeles     83.0   NaN   NaN   83.0   NaN   NaN        77.0   \n",
       "           New York         NaN   NaN  70.0    NaN   NaN  70.0         NaN   \n",
       "\n",
       "                                    \n",
       "                                    \n",
       "Weather                rainy  warm  \n",
       "Date       City                     \n",
       "2023-01-01 Los Angeles   NaN   NaN  \n",
       "           New York     32.0   NaN  \n",
       "2023-01-02 Los Angeles   NaN   NaN  \n",
       "           New York      NaN  30.0  "
      ]
     },
     "execution_count": 22,
     "metadata": {},
     "output_type": "execute_result"
    }
   ],
   "source": [
    "pivot = pd.pivot_table(df, values=['Temperature', 'Humidity'], \n",
    "                       index=['Date', 'City'], \n",
    "                       columns='Weather', \n",
    "                       aggfunc={'Temperature': 'mean', 'Humidity': ['mean', 'max']})\n",
    "pivot"
   ]
  },
  {
   "cell_type": "markdown",
   "id": "e766a771-4a76-4de3-810f-35f286d4a11b",
   "metadata": {},
   "source": [
    "### query\n",
    "- df.query('condition: use 'colname', not series')\n",
    "- df.query('condition1 == \"str value\" ')\n",
    "- df.query('condition1 and condition2')"
   ]
  },
  {
   "cell_type": "code",
   "execution_count": null,
   "id": "d84c4974-1313-461d-a3c4-0703d983b513",
   "metadata": {},
   "outputs": [],
   "source": [
    "# df.query('age > 35')\n",
    "# df.query('age > 35 and gender == \"Male\"')\n",
    "\n",
    "# threshold = 35\n",
    "# df.query('age > @threshold')\n",
    "# df.query('`Total Sales` > 1000')\n",
    "# df.query('column_a > column_b')\n",
    "# df.query('column_a.str.contains(\"pattern\")')"
   ]
  },
  {
   "cell_type": "markdown",
   "id": "077858e2-dd0b-46cb-acc6-572edb2ad0d4",
   "metadata": {},
   "source": [
    "### sort_values()\n",
    "- sort_values(by = label, ascending = bool, inplace = bool, na_position = {'first','last'}, key = func)\n",
    "- sort_values(by = list, ascending = list of bool)"
   ]
  },
  {
   "cell_type": "code",
   "execution_count": null,
   "id": "9066820f-faa1-4542-9b6e-7f0dfa377f26",
   "metadata": {},
   "outputs": [],
   "source": [
    "# df.sort_values(by='column_name', ascending=True)\n",
    "# df.sort_values(by=['column1', 'column2'], ascending=[True, False])\n",
    "# df.sort_index(ascending=True)\n",
    "# df.sort_values(by='column_name', ascending=True, inplace=True)\n",
    "# df.sort_values(by='column_name', na_position='first')\n",
    "# df.sort_values(by='column_name', key=lambda x: abs(x))\n",
    "\n",
    "# from pandas.api.types import CategoricalDtype\n",
    "# cat_order = CategoricalDtype(['Low', 'Medium', 'High'], ordered=True)\n",
    "# df['category'] = df['category'].astype(cat_order)\n",
    "# df.sort_values('category')"
   ]
  },
  {
   "cell_type": "markdown",
   "id": "b257a667-7535-4f15-ac0a-54a601e20554",
   "metadata": {
    "jp-MarkdownHeadingCollapsed": true
   },
   "source": [
    "### iloc, loc\n",
    "- df.iloc\\[idxrownum, idxcolnum]\n",
    "- df.loc\\[label, label]\n",
    "- df.loc\\[row condition, \\['column']]\n",
    "- df.loc\\[ **(** row condition  **)** &| **(** row condition **)**]\n",
    "- df.loc\\[\\[row condition]]  >> return Dataframe"
   ]
  },
  {
   "cell_type": "code",
   "execution_count": 16,
   "id": "f762847f-5651-447e-8749-b84468803fb8",
   "metadata": {},
   "outputs": [
    {
     "data": {
      "text/html": [
       "<div>\n",
       "<style scoped>\n",
       "    .dataframe tbody tr th:only-of-type {\n",
       "        vertical-align: middle;\n",
       "    }\n",
       "\n",
       "    .dataframe tbody tr th {\n",
       "        vertical-align: top;\n",
       "    }\n",
       "\n",
       "    .dataframe thead th {\n",
       "        text-align: right;\n",
       "    }\n",
       "</style>\n",
       "<table border=\"1\" class=\"dataframe\">\n",
       "  <thead>\n",
       "    <tr style=\"text-align: right;\">\n",
       "      <th></th>\n",
       "      <th>A</th>\n",
       "      <th>B</th>\n",
       "      <th>C</th>\n",
       "    </tr>\n",
       "  </thead>\n",
       "  <tbody>\n",
       "    <tr>\n",
       "      <th>0</th>\n",
       "      <td>1</td>\n",
       "      <td>4</td>\n",
       "      <td>7</td>\n",
       "    </tr>\n",
       "    <tr>\n",
       "      <th>1</th>\n",
       "      <td>2</td>\n",
       "      <td>5</td>\n",
       "      <td>8</td>\n",
       "    </tr>\n",
       "    <tr>\n",
       "      <th>2</th>\n",
       "      <td>3</td>\n",
       "      <td>6</td>\n",
       "      <td>9</td>\n",
       "    </tr>\n",
       "  </tbody>\n",
       "</table>\n",
       "</div>"
      ],
      "text/plain": [
       "   A  B  C\n",
       "0  1  4  7\n",
       "1  2  5  8\n",
       "2  3  6  9"
      ]
     },
     "metadata": {},
     "output_type": "display_data"
    },
    {
     "name": "stdout",
     "output_type": "stream",
     "text": [
      "8\n"
     ]
    }
   ],
   "source": [
    "import pandas as pd\n",
    "\n",
    "df = pd.DataFrame({'A': [1, 2, 3], 'B': [4, 5, 6], 'C': [7, 8, 9]})\n",
    "display(df)\n",
    "print(df.iloc[1, 2])  # ผลลัพธ์: 8"
   ]
  },
  {
   "cell_type": "code",
   "execution_count": 14,
   "id": "704a7a38-6320-471b-b7a5-c287629c1fa9",
   "metadata": {},
   "outputs": [
    {
     "data": {
      "text/html": [
       "<div>\n",
       "<style scoped>\n",
       "    .dataframe tbody tr th:only-of-type {\n",
       "        vertical-align: middle;\n",
       "    }\n",
       "\n",
       "    .dataframe tbody tr th {\n",
       "        vertical-align: top;\n",
       "    }\n",
       "\n",
       "    .dataframe thead th {\n",
       "        text-align: right;\n",
       "    }\n",
       "</style>\n",
       "<table border=\"1\" class=\"dataframe\">\n",
       "  <thead>\n",
       "    <tr style=\"text-align: right;\">\n",
       "      <th></th>\n",
       "      <th>A</th>\n",
       "      <th>B</th>\n",
       "      <th>C</th>\n",
       "    </tr>\n",
       "  </thead>\n",
       "  <tbody>\n",
       "    <tr>\n",
       "      <th>x</th>\n",
       "      <td>1</td>\n",
       "      <td>4</td>\n",
       "      <td>7</td>\n",
       "    </tr>\n",
       "    <tr>\n",
       "      <th>y</th>\n",
       "      <td>2</td>\n",
       "      <td>5</td>\n",
       "      <td>8</td>\n",
       "    </tr>\n",
       "    <tr>\n",
       "      <th>z</th>\n",
       "      <td>3</td>\n",
       "      <td>6</td>\n",
       "      <td>9</td>\n",
       "    </tr>\n",
       "  </tbody>\n",
       "</table>\n",
       "</div>"
      ],
      "text/plain": [
       "   A  B  C\n",
       "x  1  4  7\n",
       "y  2  5  8\n",
       "z  3  6  9"
      ]
     },
     "metadata": {},
     "output_type": "display_data"
    },
    {
     "name": "stdout",
     "output_type": "stream",
     "text": [
      "5\n"
     ]
    }
   ],
   "source": [
    "df = pd.DataFrame({'A': [1, 2, 3], 'B': [4, 5, 6], 'C': [7, 8, 9]}, index=['x', 'y', 'z'])\n",
    "display(df)\n",
    "print(df.loc['y', 'B'])  # ผลลัพธ์: 5"
   ]
  },
  {
   "cell_type": "markdown",
   "id": "227e572b-5416-4ed6-bbe7-ec2dc6847900",
   "metadata": {
    "jp-MarkdownHeadingCollapsed": true
   },
   "source": [
    "### view(display), copy()"
   ]
  },
  {
   "cell_type": "code",
   "execution_count": 21,
   "id": "1485e7b8-b0e7-4ddb-adfd-4f36efa3aa1a",
   "metadata": {},
   "outputs": [
    {
     "data": {
      "text/plain": [
       "0    1\n",
       "1    2\n",
       "2    3\n",
       "Name: A, dtype: int64"
      ]
     },
     "metadata": {},
     "output_type": "display_data"
    },
    {
     "name": "stdout",
     "output_type": "stream",
     "text": [
      "     A  B\n",
      "0  100  4\n",
      "1    2  5\n",
      "2    3  6\n"
     ]
    }
   ],
   "source": [
    "import pandas as pd\n",
    "import numpy as np\n",
    "\n",
    "df = pd.DataFrame({'A': [1, 2, 3], 'B': [4, 5, 6]})\n",
    "view = df['A']\n",
    "display(view)\n",
    "view[0] = 100\n",
    "print(df)  # 'A' column จะเปลี่ยนเป็น [100, 2, 3]"
   ]
  },
  {
   "cell_type": "code",
   "execution_count": null,
   "id": "905d75d1-0267-42d0-b288-6fbf2fb429f6",
   "metadata": {},
   "outputs": [],
   "source": [
    "copy = df.copy()\n",
    "copy['A'][0] = 200\n",
    "print(df)  # ข้อมูลต้นฉบับไม่เปลี่ยนแปลง"
   ]
  },
  {
   "cell_type": "code",
   "execution_count": null,
   "id": "64735236-8656-4496-bc9a-481c9ddf3f37",
   "metadata": {},
   "outputs": [],
   "source": [
    "df['A'][0] = 300  # อาจเป็น view หรือ copy ขึ้นอยู่กับ Pandas version"
   ]
  },
  {
   "cell_type": "code",
   "execution_count": null,
   "id": "b324b000-98a8-44b1-806d-d784b59acf4e",
   "metadata": {},
   "outputs": [],
   "source": [
    "df.loc[0, 'A'] = 300"
   ]
  },
  {
   "cell_type": "code",
   "execution_count": null,
   "id": "0e691f10-8fd1-4377-91b6-1d563db3105f",
   "metadata": {},
   "outputs": [],
   "source": [
    "print(df._is_view)  # True หากเป็น view"
   ]
  },
  {
   "cell_type": "code",
   "execution_count": null,
   "id": "363fc1cf-f981-444b-9113-973d802591fe",
   "metadata": {},
   "outputs": [],
   "source": [
    "a = np.array([[0, 1, 2], [3, 4, 5]])\n",
    "df = pd.DataFrame(a)\n",
    "print(np.shares_memory(a, df))  # True, เป็น view"
   ]
  },
  {
   "cell_type": "code",
   "execution_count": null,
   "id": "a25377c8-3188-482a-a534-1b6606e74179",
   "metadata": {},
   "outputs": [],
   "source": [
    "a_str = np.array([['a', 'b'], ['c', 'd']])\n",
    "df_str = pd.DataFrame(a_str)\n",
    "print(np.shares_memory(a_str, df_str))  # False, เป็น copy"
   ]
  },
  {
   "cell_type": "markdown",
   "id": "81768dcf-0f73-46f1-af68-22329ceab2d1",
   "metadata": {},
   "source": [
    "### duplicated(),drop_duplicates()"
   ]
  },
  {
   "cell_type": "code",
   "execution_count": null,
   "id": "3be6698f-9248-44b2-95a6-d209e469eccf",
   "metadata": {},
   "outputs": [],
   "source": [
    "# duplicates = df.duplicated()\n",
    "# duplicates = df.duplicated(subset=['column1', 'column2'])\n",
    "# duplicate_count = df.duplicated().sum()\n",
    "# duplicate_rows = df[df.duplicated()]\n",
    "# df_clean = df.drop_duplicates()\n",
    "# df_clean = df.drop_duplicates(keep='first')  # หรือ 'last'\n",
    "# df_clean = df.drop_duplicates(subset=['column1', 'column2'])\n",
    "\n",
    "# df_grouped = df.groupby(['key_column1', 'key_column2']).agg({\n",
    "#     'numeric_column': 'mean',\n",
    "#     'text_column': 'first',\n",
    "#     'date_column': 'max'\n",
    "# }).reset_index()\n",
    "# column_duplicates = df['column_name'].duplicated()\n",
    "# df_unique_index = df.reset_index().drop_duplicates(subset='index', keep='first').set_index('index')"
   ]
  }
 ],
 "metadata": {
  "kernelspec": {
   "display_name": "Python 3 (ipykernel)",
   "language": "python",
   "name": "python3"
  },
  "language_info": {
   "codemirror_mode": {
    "name": "ipython",
    "version": 3
   },
   "file_extension": ".py",
   "mimetype": "text/x-python",
   "name": "python",
   "nbconvert_exporter": "python",
   "pygments_lexer": "ipython3",
   "version": "3.11.9"
  }
 },
 "nbformat": 4,
 "nbformat_minor": 5
}
