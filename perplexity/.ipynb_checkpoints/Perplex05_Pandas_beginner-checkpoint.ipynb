{
 "cells": [
  {
   "cell_type": "markdown",
   "id": "b59c39d2-f880-46e9-a574-713844c21468",
   "metadata": {
    "editable": true,
    "slideshow": {
     "slide_type": ""
    },
    "tags": []
   },
   "source": [
    "# 2603655_DataAcquisition"
   ]
  },
  {
   "cell_type": "markdown",
   "id": "f84b904c-6d6d-410a-bb34-5811f64227cf",
   "metadata": {
    "editable": true,
    "slideshow": {
     "slide_type": ""
    },
    "tags": []
   },
   "source": [
    "## Pandas_beginner (OJT on Perplexity)"
   ]
  },
  {
   "cell_type": "markdown",
   "id": "d780e82e-ba0d-4bd1-85e7-6baba734575f",
   "metadata": {
    "editable": true,
    "slideshow": {
     "slide_type": ""
    },
    "tags": []
   },
   "source": [
    "---\n",
    "* Author:  [Yuttapong Mahasittiwat](mailto:khala1391@gmail.com)\n",
    "* Technologist | Data Modeler | Data Analyst\n",
    "* [YouTube](https://www.youtube.com/khala1391)\n",
    "* [LinkedIn](https://www.linkedin.com/in/yuttapong-m/)\n",
    "---"
   ]
  },
  {
   "cell_type": "markdown",
   "id": "cbbe5a93-b9e3-4e1a-a71c-f3e98504118e",
   "metadata": {},
   "source": [
    "source: [perplexity](https://www.perplexity.ai/page/pandas-dataframe-ebuue-ngtn-5CVj3SPPR5ahkRUo5Fb0ZA)"
   ]
  },
  {
   "cell_type": "code",
   "execution_count": 8,
   "id": "e09fce22-9dad-4a99-ae40-bb28cd24eb4c",
   "metadata": {
    "colab": {
     "base_uri": "https://localhost:8080/"
    },
    "editable": true,
    "executionInfo": {
     "elapsed": 450,
     "status": "ok",
     "timestamp": 1722945524622,
     "user": {
      "displayName": "Buraj Patrakosol",
      "userId": "15915442625378365644"
     },
     "user_tz": -420
    },
    "id": "ob6u_X-NhT6T",
    "outputId": "8af79b74-2924-4afe-eb29-4cba74aaeb9d",
    "slideshow": {
     "slide_type": ""
    },
    "tags": []
   },
   "outputs": [
    {
     "name": "stdout",
     "output_type": "stream",
     "text": [
      "pandas version : 2.2.1\n",
      "numpy version : 1.26.4\n",
      "matplotlib version : 3.8.4\n",
      "seaborn version : 0.13.2\n"
     ]
    }
   ],
   "source": [
    "import pandas as pd\n",
    "import matplotlib as mpl\n",
    "import matplotlib.pyplot as plt\n",
    "import seaborn as sns\n",
    "import numpy as np\n",
    "print(\"pandas version :\",pd.__version__)\n",
    "print(\"numpy version :\",np.__version__)\n",
    "print(\"matplotlib version :\",mpl.__version__)\n",
    "print(\"seaborn version :\",sns.__version__)"
   ]
  },
  {
   "cell_type": "code",
   "execution_count": 11,
   "id": "e1b6600f-e15e-4880-8671-d0a52e2f49a9",
   "metadata": {},
   "outputs": [
    {
     "data": {
      "text/plain": [
       "'2024-09-09 16:42:52.684262'"
      ]
     },
     "execution_count": 11,
     "metadata": {},
     "output_type": "execute_result"
    }
   ],
   "source": [
    "from datetime import datetime\n",
    "str(datetime.now())"
   ]
  },
  {
   "cell_type": "markdown",
   "id": "fc2e2816-caf7-4baf-b0f5-422fd45a40ba",
   "metadata": {
    "jp-MarkdownHeadingCollapsed": true
   },
   "source": [
    "### dataframe and series\n",
    "- dictionary of list: *pd.DataFrame(data)*\n",
    "- dictionary of list: *pd.DataFrame.from_dict(data)*\n",
    "- dictionary of dictionary: *pd.DataFrame.from_dict(data, oriented='index')*\n",
    "- list of dictionary: *pd.DataFrame(data)*"
   ]
  },
  {
   "cell_type": "code",
   "execution_count": 14,
   "id": "6b80a4b1-3d95-463d-ba83-e7027bcbbdfe",
   "metadata": {},
   "outputs": [
    {
     "data": {
      "text/html": [
       "<div>\n",
       "<style scoped>\n",
       "    .dataframe tbody tr th:only-of-type {\n",
       "        vertical-align: middle;\n",
       "    }\n",
       "\n",
       "    .dataframe tbody tr th {\n",
       "        vertical-align: top;\n",
       "    }\n",
       "\n",
       "    .dataframe thead th {\n",
       "        text-align: right;\n",
       "    }\n",
       "</style>\n",
       "<table border=\"1\" class=\"dataframe\">\n",
       "  <thead>\n",
       "    <tr style=\"text-align: right;\">\n",
       "      <th></th>\n",
       "      <th>A</th>\n",
       "      <th>B</th>\n",
       "    </tr>\n",
       "  </thead>\n",
       "  <tbody>\n",
       "    <tr>\n",
       "      <th>0</th>\n",
       "      <td>1</td>\n",
       "      <td>4</td>\n",
       "    </tr>\n",
       "    <tr>\n",
       "      <th>1</th>\n",
       "      <td>2</td>\n",
       "      <td>5</td>\n",
       "    </tr>\n",
       "    <tr>\n",
       "      <th>2</th>\n",
       "      <td>3</td>\n",
       "      <td>6</td>\n",
       "    </tr>\n",
       "  </tbody>\n",
       "</table>\n",
       "</div>"
      ],
      "text/plain": [
       "   A  B\n",
       "0  1  4\n",
       "1  2  5\n",
       "2  3  6"
      ]
     },
     "metadata": {},
     "output_type": "display_data"
    },
    {
     "data": {
      "text/plain": [
       "0    1\n",
       "1    2\n",
       "2    3\n",
       "Name: A, dtype: int64"
      ]
     },
     "execution_count": 14,
     "metadata": {},
     "output_type": "execute_result"
    }
   ],
   "source": [
    "df = pd.DataFrame({'A': [1, 2, 3], 'B': [4, 5, 6]})\n",
    "series_A = df['A']  # ดึงคอลัมน์ A ออกมาเป็น Series\n",
    "display(df)\n",
    "series_A"
   ]
  },
  {
   "cell_type": "code",
   "execution_count": 12,
   "id": "717ba215-416f-4e48-8f45-47ea11da6cfa",
   "metadata": {},
   "outputs": [
    {
     "data": {
      "text/html": [
       "<div>\n",
       "<style scoped>\n",
       "    .dataframe tbody tr th:only-of-type {\n",
       "        vertical-align: middle;\n",
       "    }\n",
       "\n",
       "    .dataframe tbody tr th {\n",
       "        vertical-align: top;\n",
       "    }\n",
       "\n",
       "    .dataframe thead th {\n",
       "        text-align: right;\n",
       "    }\n",
       "</style>\n",
       "<table border=\"1\" class=\"dataframe\">\n",
       "  <thead>\n",
       "    <tr style=\"text-align: right;\">\n",
       "      <th></th>\n",
       "      <th>A</th>\n",
       "      <th>B</th>\n",
       "    </tr>\n",
       "  </thead>\n",
       "  <tbody>\n",
       "    <tr>\n",
       "      <th>0</th>\n",
       "      <td>1</td>\n",
       "      <td>4</td>\n",
       "    </tr>\n",
       "    <tr>\n",
       "      <th>1</th>\n",
       "      <td>2</td>\n",
       "      <td>5</td>\n",
       "    </tr>\n",
       "    <tr>\n",
       "      <th>2</th>\n",
       "      <td>3</td>\n",
       "      <td>6</td>\n",
       "    </tr>\n",
       "  </tbody>\n",
       "</table>\n",
       "</div>"
      ],
      "text/plain": [
       "   A  B\n",
       "0  1  4\n",
       "1  2  5\n",
       "2  3  6"
      ]
     },
     "execution_count": 12,
     "metadata": {},
     "output_type": "execute_result"
    }
   ],
   "source": [
    "series_A = pd.Series([1, 2, 3])\n",
    "series_B = pd.Series([4, 5, 6])\n",
    "df = pd.DataFrame({'A': series_A, 'B': series_B})\n",
    "df"
   ]
  },
  {
   "cell_type": "markdown",
   "id": "13bd7ac0-7021-4fbd-a083-7114bfa39311",
   "metadata": {},
   "source": [
    "### date/time data\n",
    "- pd.to_datetime(series)\n",
    "- df\\['column'].dt.year\n",
    "- df\\['column'].dt.month\n",
    "- df\\['column'].dt.day (datetime)\n",
    "- pd.Timedelta(days=1)\n",
    "- series.dt.to_period('M'))\n",
    "- series.dt.tz_localize('UTC')\n",
    "- series.dt.tz_convert('Asia/Bangkok')\n",
    "- dt.days (Timedelta)\n",
    "- dt.date (extract datepart object from datetime object)"
   ]
  },
  {
   "cell_type": "code",
   "execution_count": 331,
   "id": "318a6cd2-88df-4a15-892f-ceee816bd320",
   "metadata": {},
   "outputs": [
    {
     "name": "stdout",
     "output_type": "stream",
     "text": [
      "<class 'pandas.core.frame.DataFrame'>\n",
      "RangeIndex: 3 entries, 0 to 2\n",
      "Data columns (total 1 columns):\n",
      " #   Column    Non-Null Count  Dtype \n",
      "---  ------    --------------  ----- \n",
      " 0   datetime  3 non-null      object\n",
      "dtypes: object(1)\n",
      "memory usage: 156.0+ bytes\n"
     ]
    },
    {
     "data": {
      "text/html": [
       "<div>\n",
       "<style scoped>\n",
       "    .dataframe tbody tr th:only-of-type {\n",
       "        vertical-align: middle;\n",
       "    }\n",
       "\n",
       "    .dataframe tbody tr th {\n",
       "        vertical-align: top;\n",
       "    }\n",
       "\n",
       "    .dataframe thead th {\n",
       "        text-align: right;\n",
       "    }\n",
       "</style>\n",
       "<table border=\"1\" class=\"dataframe\">\n",
       "  <thead>\n",
       "    <tr style=\"text-align: right;\">\n",
       "      <th></th>\n",
       "      <th>datetime</th>\n",
       "    </tr>\n",
       "  </thead>\n",
       "  <tbody>\n",
       "    <tr>\n",
       "      <th>0</th>\n",
       "      <td>2023-09-16 08:00:00</td>\n",
       "    </tr>\n",
       "    <tr>\n",
       "      <th>1</th>\n",
       "      <td>2023-09-16 09:30:00</td>\n",
       "    </tr>\n",
       "    <tr>\n",
       "      <th>2</th>\n",
       "      <td>2023-09-16 11:15:00</td>\n",
       "    </tr>\n",
       "  </tbody>\n",
       "</table>\n",
       "</div>"
      ],
      "text/plain": [
       "              datetime\n",
       "0  2023-09-16 08:00:00\n",
       "1  2023-09-16 09:30:00\n",
       "2  2023-09-16 11:15:00"
      ]
     },
     "execution_count": 331,
     "metadata": {},
     "output_type": "execute_result"
    }
   ],
   "source": [
    "# Sample data\n",
    "data = {'datetime': ['2023-09-16 08:00:00', '2023-09-16 09:30:00', '2023-09-16 11:15:00']}\n",
    "df = pd.DataFrame(data)\n",
    "df.info()\n",
    "df"
   ]
  },
  {
   "cell_type": "code",
   "execution_count": 333,
   "id": "521dc12e-0025-42be-ab91-ce7fdaca1224",
   "metadata": {},
   "outputs": [
    {
     "name": "stdout",
     "output_type": "stream",
     "text": [
      "<class 'pandas.core.frame.DataFrame'>\n",
      "RangeIndex: 3 entries, 0 to 2\n",
      "Data columns (total 1 columns):\n",
      " #   Column    Non-Null Count  Dtype         \n",
      "---  ------    --------------  -----         \n",
      " 0   datetime  3 non-null      datetime64[ns]\n",
      "dtypes: datetime64[ns](1)\n",
      "memory usage: 156.0 bytes\n"
     ]
    },
    {
     "data": {
      "text/html": [
       "<div>\n",
       "<style scoped>\n",
       "    .dataframe tbody tr th:only-of-type {\n",
       "        vertical-align: middle;\n",
       "    }\n",
       "\n",
       "    .dataframe tbody tr th {\n",
       "        vertical-align: top;\n",
       "    }\n",
       "\n",
       "    .dataframe thead th {\n",
       "        text-align: right;\n",
       "    }\n",
       "</style>\n",
       "<table border=\"1\" class=\"dataframe\">\n",
       "  <thead>\n",
       "    <tr style=\"text-align: right;\">\n",
       "      <th></th>\n",
       "      <th>datetime</th>\n",
       "    </tr>\n",
       "  </thead>\n",
       "  <tbody>\n",
       "    <tr>\n",
       "      <th>0</th>\n",
       "      <td>2023-09-16 08:00:00</td>\n",
       "    </tr>\n",
       "    <tr>\n",
       "      <th>1</th>\n",
       "      <td>2023-09-16 09:30:00</td>\n",
       "    </tr>\n",
       "    <tr>\n",
       "      <th>2</th>\n",
       "      <td>2023-09-16 11:15:00</td>\n",
       "    </tr>\n",
       "  </tbody>\n",
       "</table>\n",
       "</div>"
      ],
      "text/plain": [
       "             datetime\n",
       "0 2023-09-16 08:00:00\n",
       "1 2023-09-16 09:30:00\n",
       "2 2023-09-16 11:15:00"
      ]
     },
     "execution_count": 333,
     "metadata": {},
     "output_type": "execute_result"
    }
   ],
   "source": [
    "df['datetime'] = pd.to_datetime(df['datetime'])\n",
    "df.info()\n",
    "df"
   ]
  },
  {
   "cell_type": "code",
   "execution_count": 335,
   "id": "cd35ac89-6766-461a-877d-742e10df5092",
   "metadata": {},
   "outputs": [
    {
     "name": "stdout",
     "output_type": "stream",
     "text": [
      "<class 'pandas.core.frame.DataFrame'>\n",
      "RangeIndex: 3 entries, 0 to 2\n",
      "Data columns (total 4 columns):\n",
      " #   Column    Non-Null Count  Dtype         \n",
      "---  ------    --------------  -----         \n",
      " 0   datetime  3 non-null      datetime64[ns]\n",
      " 1   year      3 non-null      int32         \n",
      " 2   month     3 non-null      int32         \n",
      " 3   day       3 non-null      int32         \n",
      "dtypes: datetime64[ns](1), int32(3)\n",
      "memory usage: 192.0 bytes\n",
      "\n",
      "             datetime  year  month  day\n",
      "0 2023-09-16 08:00:00  2023      9   16\n",
      "1 2023-09-16 09:30:00  2023      9   16\n",
      "2 2023-09-16 11:15:00  2023      9   16\n"
     ]
    }
   ],
   "source": [
    "df['year'] = df['datetime'].dt.year\n",
    "df['month'] = df['datetime'].dt.month\n",
    "df['day'] = df['datetime'].dt.day\n",
    "\n",
    "df.info()\n",
    "print()\n",
    "print(df)"
   ]
  },
  {
   "cell_type": "code",
   "execution_count": 337,
   "id": "239068f7-8ade-4a1d-8839-0ef72136aeae",
   "metadata": {},
   "outputs": [],
   "source": [
    "# # Sample data with DateTime\n",
    "# data = {'Timestamp': ['2023-09-15 08:00:00', '2023-09-15 12:30:00', '2023-09-16 10:15:00', '2023-09-16 14:45:00'],\n",
    "#         'Value': [50, 75, 60, 85]}\n",
    "\n",
    "# df = pd.DataFrame(data)\n",
    "\n",
    "# # Convert the 'Timestamp' column to DateTime\n",
    "# df['Timestamp'] = pd.to_datetime(df['Timestamp'])\n",
    "# df"
   ]
  },
  {
   "cell_type": "code",
   "execution_count": 339,
   "id": "5c28b88c-ee2a-4afc-8dae-72516521e0c6",
   "metadata": {},
   "outputs": [
    {
     "data": {
      "text/html": [
       "<div>\n",
       "<style scoped>\n",
       "    .dataframe tbody tr th:only-of-type {\n",
       "        vertical-align: middle;\n",
       "    }\n",
       "\n",
       "    .dataframe tbody tr th {\n",
       "        vertical-align: top;\n",
       "    }\n",
       "\n",
       "    .dataframe thead th {\n",
       "        text-align: right;\n",
       "    }\n",
       "</style>\n",
       "<table border=\"1\" class=\"dataframe\">\n",
       "  <thead>\n",
       "    <tr style=\"text-align: right;\">\n",
       "      <th></th>\n",
       "      <th>datetime</th>\n",
       "      <th>year</th>\n",
       "      <th>month</th>\n",
       "      <th>day</th>\n",
       "    </tr>\n",
       "  </thead>\n",
       "  <tbody>\n",
       "    <tr>\n",
       "      <th>0</th>\n",
       "      <td>2023-09-16 08:00:00</td>\n",
       "      <td>2023</td>\n",
       "      <td>9</td>\n",
       "      <td>16</td>\n",
       "    </tr>\n",
       "    <tr>\n",
       "      <th>1</th>\n",
       "      <td>2023-09-16 09:30:00</td>\n",
       "      <td>2023</td>\n",
       "      <td>9</td>\n",
       "      <td>16</td>\n",
       "    </tr>\n",
       "    <tr>\n",
       "      <th>2</th>\n",
       "      <td>2023-09-16 11:15:00</td>\n",
       "      <td>2023</td>\n",
       "      <td>9</td>\n",
       "      <td>16</td>\n",
       "    </tr>\n",
       "  </tbody>\n",
       "</table>\n",
       "</div>"
      ],
      "text/plain": [
       "             datetime  year  month  day\n",
       "0 2023-09-16 08:00:00  2023      9   16\n",
       "1 2023-09-16 09:30:00  2023      9   16\n",
       "2 2023-09-16 11:15:00  2023      9   16"
      ]
     },
     "execution_count": 339,
     "metadata": {},
     "output_type": "execute_result"
    }
   ],
   "source": [
    "start_date = pd.to_datetime('2023-09-15')\n",
    "end_date = pd.to_datetime('2023-09-16')\n",
    "filtered_df = df[(df['datetime'] >= start_date) & (df['datetime'] <= end_date)]\n",
    "df"
   ]
  },
  {
   "cell_type": "code",
   "execution_count": 341,
   "id": "1ee2ae99-0596-42e8-8197-f7ee7939c3cc",
   "metadata": {},
   "outputs": [
    {
     "data": {
      "text/plain": [
       "Timedelta('0 days 02:30:00')"
      ]
     },
     "execution_count": 341,
     "metadata": {},
     "output_type": "execute_result"
    }
   ],
   "source": [
    "# Create two DateTime objects\n",
    "start_time = pd.to_datetime('2023-09-15 08:00:00')\n",
    "end_time = pd.to_datetime('2023-09-15 10:30:00')\n",
    "\n",
    "time_difference = end_time - start_time\n",
    "time_difference"
   ]
  },
  {
   "cell_type": "code",
   "execution_count": 343,
   "id": "293f0e02-29f7-4911-98fa-059ff3db1619",
   "metadata": {},
   "outputs": [
    {
     "name": "stdout",
     "output_type": "stream",
     "text": [
      "<class 'pandas.core.frame.DataFrame'>\n",
      "RangeIndex: 3 entries, 0 to 2\n",
      "Data columns (total 5 columns):\n",
      " #   Column    Non-Null Count  Dtype         \n",
      "---  ------    --------------  -----         \n",
      " 0   datetime  3 non-null      datetime64[ns]\n",
      " 1   year      3 non-null      int32         \n",
      " 2   month     3 non-null      int32         \n",
      " 3   day       3 non-null      int32         \n",
      " 4   new_date  3 non-null      datetime64[ns]\n",
      "dtypes: datetime64[ns](2), int32(3)\n",
      "memory usage: 216.0 bytes\n"
     ]
    }
   ],
   "source": [
    "df['new_date'] = df['datetime'] + pd.Timedelta(days=1)\n",
    "df.info()"
   ]
  },
  {
   "cell_type": "code",
   "execution_count": 345,
   "id": "0d02a1f6-7829-48df-bd62-9bc693ad70ab",
   "metadata": {},
   "outputs": [
    {
     "data": {
      "text/html": [
       "<div>\n",
       "<style scoped>\n",
       "    .dataframe tbody tr th:only-of-type {\n",
       "        vertical-align: middle;\n",
       "    }\n",
       "\n",
       "    .dataframe tbody tr th {\n",
       "        vertical-align: top;\n",
       "    }\n",
       "\n",
       "    .dataframe thead th {\n",
       "        text-align: right;\n",
       "    }\n",
       "</style>\n",
       "<table border=\"1\" class=\"dataframe\">\n",
       "  <thead>\n",
       "    <tr style=\"text-align: right;\">\n",
       "      <th></th>\n",
       "      <th>datetime</th>\n",
       "      <th>year</th>\n",
       "      <th>month</th>\n",
       "      <th>day</th>\n",
       "      <th>new_date</th>\n",
       "    </tr>\n",
       "  </thead>\n",
       "  <tbody>\n",
       "    <tr>\n",
       "      <th>0</th>\n",
       "      <td>2023-09-16 08:00:00</td>\n",
       "      <td>2023</td>\n",
       "      <td>9</td>\n",
       "      <td>16</td>\n",
       "      <td>2023-09-17 08:00:00</td>\n",
       "    </tr>\n",
       "    <tr>\n",
       "      <th>1</th>\n",
       "      <td>2023-09-16 09:30:00</td>\n",
       "      <td>2023</td>\n",
       "      <td>9</td>\n",
       "      <td>16</td>\n",
       "      <td>2023-09-17 09:30:00</td>\n",
       "    </tr>\n",
       "    <tr>\n",
       "      <th>2</th>\n",
       "      <td>2023-09-16 11:15:00</td>\n",
       "      <td>2023</td>\n",
       "      <td>9</td>\n",
       "      <td>16</td>\n",
       "      <td>2023-09-17 11:15:00</td>\n",
       "    </tr>\n",
       "  </tbody>\n",
       "</table>\n",
       "</div>"
      ],
      "text/plain": [
       "             datetime  year  month  day            new_date\n",
       "0 2023-09-16 08:00:00  2023      9   16 2023-09-17 08:00:00\n",
       "1 2023-09-16 09:30:00  2023      9   16 2023-09-17 09:30:00\n",
       "2 2023-09-16 11:15:00  2023      9   16 2023-09-17 11:15:00"
      ]
     },
     "execution_count": 345,
     "metadata": {},
     "output_type": "execute_result"
    }
   ],
   "source": [
    "df"
   ]
  },
  {
   "cell_type": "code",
   "execution_count": 347,
   "id": "61f5f21a-5a46-4e9d-abd3-6236835ca1c0",
   "metadata": {},
   "outputs": [
    {
     "data": {
      "text/html": [
       "<div>\n",
       "<style scoped>\n",
       "    .dataframe tbody tr th:only-of-type {\n",
       "        vertical-align: middle;\n",
       "    }\n",
       "\n",
       "    .dataframe tbody tr th {\n",
       "        vertical-align: top;\n",
       "    }\n",
       "\n",
       "    .dataframe thead th {\n",
       "        text-align: right;\n",
       "    }\n",
       "</style>\n",
       "<table border=\"1\" class=\"dataframe\">\n",
       "  <thead>\n",
       "    <tr style=\"text-align: right;\">\n",
       "      <th></th>\n",
       "      <th>datetime</th>\n",
       "      <th>year</th>\n",
       "      <th>month</th>\n",
       "      <th>day</th>\n",
       "      <th>new_date</th>\n",
       "    </tr>\n",
       "    <tr>\n",
       "      <th>datetime</th>\n",
       "      <th></th>\n",
       "      <th></th>\n",
       "      <th></th>\n",
       "      <th></th>\n",
       "      <th></th>\n",
       "    </tr>\n",
       "  </thead>\n",
       "  <tbody>\n",
       "    <tr>\n",
       "      <th>2023-09</th>\n",
       "      <td>2023-09-16 09:35:00</td>\n",
       "      <td>2023.0</td>\n",
       "      <td>9.0</td>\n",
       "      <td>16.0</td>\n",
       "      <td>2023-09-17 09:35:00</td>\n",
       "    </tr>\n",
       "  </tbody>\n",
       "</table>\n",
       "</div>"
      ],
      "text/plain": [
       "                    datetime    year  month   day            new_date\n",
       "datetime                                                             \n",
       "2023-09  2023-09-16 09:35:00  2023.0    9.0  16.0 2023-09-17 09:35:00"
      ]
     },
     "execution_count": 347,
     "metadata": {},
     "output_type": "execute_result"
    }
   ],
   "source": [
    "monthly_data = df.groupby(df['datetime'].dt.to_period('M')).mean()\n",
    "monthly_data"
   ]
  },
  {
   "cell_type": "code",
   "execution_count": 349,
   "id": "4d55d4d7-3234-4159-95ad-df6e47b8f33a",
   "metadata": {},
   "outputs": [
    {
     "data": {
      "text/html": [
       "<div>\n",
       "<style scoped>\n",
       "    .dataframe tbody tr th:only-of-type {\n",
       "        vertical-align: middle;\n",
       "    }\n",
       "\n",
       "    .dataframe tbody tr th {\n",
       "        vertical-align: top;\n",
       "    }\n",
       "\n",
       "    .dataframe thead th {\n",
       "        text-align: right;\n",
       "    }\n",
       "</style>\n",
       "<table border=\"1\" class=\"dataframe\">\n",
       "  <thead>\n",
       "    <tr style=\"text-align: right;\">\n",
       "      <th></th>\n",
       "      <th>datetime</th>\n",
       "      <th>year</th>\n",
       "      <th>month</th>\n",
       "      <th>day</th>\n",
       "      <th>new_date</th>\n",
       "      <th>new_date_local</th>\n",
       "    </tr>\n",
       "  </thead>\n",
       "  <tbody>\n",
       "    <tr>\n",
       "      <th>0</th>\n",
       "      <td>2023-09-16 08:00:00</td>\n",
       "      <td>2023</td>\n",
       "      <td>9</td>\n",
       "      <td>16</td>\n",
       "      <td>2023-09-17 08:00:00</td>\n",
       "      <td>2023-09-16 15:00:00+07:00</td>\n",
       "    </tr>\n",
       "    <tr>\n",
       "      <th>1</th>\n",
       "      <td>2023-09-16 09:30:00</td>\n",
       "      <td>2023</td>\n",
       "      <td>9</td>\n",
       "      <td>16</td>\n",
       "      <td>2023-09-17 09:30:00</td>\n",
       "      <td>2023-09-16 16:30:00+07:00</td>\n",
       "    </tr>\n",
       "    <tr>\n",
       "      <th>2</th>\n",
       "      <td>2023-09-16 11:15:00</td>\n",
       "      <td>2023</td>\n",
       "      <td>9</td>\n",
       "      <td>16</td>\n",
       "      <td>2023-09-17 11:15:00</td>\n",
       "      <td>2023-09-16 18:15:00+07:00</td>\n",
       "    </tr>\n",
       "  </tbody>\n",
       "</table>\n",
       "</div>"
      ],
      "text/plain": [
       "             datetime  year  month  day            new_date  \\\n",
       "0 2023-09-16 08:00:00  2023      9   16 2023-09-17 08:00:00   \n",
       "1 2023-09-16 09:30:00  2023      9   16 2023-09-17 09:30:00   \n",
       "2 2023-09-16 11:15:00  2023      9   16 2023-09-17 11:15:00   \n",
       "\n",
       "             new_date_local  \n",
       "0 2023-09-16 15:00:00+07:00  \n",
       "1 2023-09-16 16:30:00+07:00  \n",
       "2 2023-09-16 18:15:00+07:00  "
      ]
     },
     "execution_count": 349,
     "metadata": {},
     "output_type": "execute_result"
    }
   ],
   "source": [
    "df['new_date_local'] = df['datetime'].dt.tz_localize('UTC').dt.tz_convert('Asia/Bangkok')\n",
    "df"
   ]
  },
  {
   "cell_type": "markdown",
   "id": "ad500d13-2fd7-4476-b035-87279ba18091",
   "metadata": {},
   "source": [
    "### string data"
   ]
  },
  {
   "cell_type": "code",
   "execution_count": null,
   "id": "b51429fc-fed5-4d8f-a5b0-fc7144f4841d",
   "metadata": {},
   "outputs": [],
   "source": [
    "# df['column'] = df['column'].str.method()\n",
    "# df['column'] = df['column'].str.upper()  # แปลงเป็นตัวพิมพ์ใหญ่\n",
    "# df['column'] = df['column'].str.lower()  # แปลงเป็นตัวพิมพ์เล็ก\n",
    "# df['column'] = df['column'].str.strip()  # ตัดช่องว่างทั้งหัวและท้าย\n",
    "# df['column'] = df['column'].str.lstrip()  # ตัดช่องว่างด้านซ้าย\n",
    "# df['column'] = df['column'].str.rstrip()  # ตัดช่องว่างด้านขวา\n",
    "# df['column'] = df['column'].str.replace('old', 'new')\n",
    "# df['new_column'] = df['column'].str.split(',')\n",
    "# df['new_column'] = df['column'].str[0:5]  # เลือก 5 ตัวอักษรแรก\n",
    "# df['is_valid'] = df['column'].str.contains('pattern')\n",
    "# df['starts_with'] = df['column'].str.startswith('prefix')\n",
    "# df['ends_with'] = df['column'].str.endswith('suffix')\n",
    "# df['length'] = df['column'].str.len()"
   ]
  },
  {
   "cell_type": "markdown",
   "id": "e89916af-4aea-4b21-98a9-795d58579b13",
   "metadata": {},
   "source": [
    "### filter data as condition"
   ]
  },
  {
   "cell_type": "code",
   "execution_count": 234,
   "id": "b91f9cf3-00e5-4627-a9aa-dd58d74c3bf1",
   "metadata": {},
   "outputs": [],
   "source": [
    "# df.loc['row_label', 'column_name']\n",
    "# df.iloc[row_number, column_number]"
   ]
  },
  {
   "cell_type": "code",
   "execution_count": 236,
   "id": "24eb0ce9-9a9c-4fd7-a274-8cc83b8e40bd",
   "metadata": {},
   "outputs": [],
   "source": [
    "# high_sales = walmart[walmart['Weekly_Sales'] > 1000000]"
   ]
  },
  {
   "cell_type": "code",
   "execution_count": 238,
   "id": "a1748759-c146-45c3-8ab1-45836d207649",
   "metadata": {},
   "outputs": [],
   "source": [
    "# holiday_high_sales = walmart[(walmart['Holiday_Flag'] == 1) & (walmart['Weekly_Sales'] > 1000000)]"
   ]
  },
  {
   "cell_type": "code",
   "execution_count": 240,
   "id": "e8d25d62-c502-4fbb-88e6-665623404e2c",
   "metadata": {},
   "outputs": [],
   "source": [
    "# selected_stores = walmart[walmart['Store'].isin([1, 2, 3])]"
   ]
  },
  {
   "cell_type": "code",
   "execution_count": 242,
   "id": "79d3c6fe-7b7b-4176-b086-5dec0ea43323",
   "metadata": {},
   "outputs": [],
   "source": [
    "# holiday_sales = walmart.query('Holiday_Flag == 1')"
   ]
  },
  {
   "cell_type": "markdown",
   "id": "0772f5a6-7690-41f1-ba65-06a24689512f",
   "metadata": {},
   "source": [
    "### groupby"
   ]
  },
  {
   "cell_type": "code",
   "execution_count": 245,
   "id": "b3e424ec-5e82-4176-a069-fbc5c0dd35ea",
   "metadata": {},
   "outputs": [],
   "source": [
    "# grouped = df.groupby('column_name')\n",
    "# grouped = df.groupby(['column1', 'column2'])\n",
    "# result = grouped['column_name'].mean()  # ค่าเฉลี่ย\n",
    "# result = grouped['column_name'].sum()   # ผลรวม\n",
    "# result = grouped['column_name'].count() # นับจำนวน"
   ]
  },
  {
   "cell_type": "code",
   "execution_count": 247,
   "id": "debd32a7-a2f6-4dab-8742-fc5d2cf92cb3",
   "metadata": {},
   "outputs": [],
   "source": [
    "# result = grouped.agg({\n",
    "#     'column1': 'sum',\n",
    "#     'column2': ['min', 'max'],\n",
    "#     'column3': 'mean'\n",
    "# })"
   ]
  },
  {
   "cell_type": "code",
   "execution_count": 249,
   "id": "a66151a2-ce60-4379-8321-57a9d457fecd",
   "metadata": {},
   "outputs": [],
   "source": [
    "# def custom_func(x):\n",
    "#     return x.max() - x.min()\n",
    "\n",
    "# result = grouped.agg(custom_func)"
   ]
  },
  {
   "cell_type": "code",
   "execution_count": 251,
   "id": "8efa5a3f-cb16-4b31-9e1c-8e3af2fbd56a",
   "metadata": {},
   "outputs": [],
   "source": [
    "# result = grouped.agg(\n",
    "#     max_duration=('duration', 'max'),\n",
    "#     min_duration=('duration', 'min'),\n",
    "#     total_duration=('duration', 'sum')\n",
    "# )"
   ]
  },
  {
   "cell_type": "code",
   "execution_count": 253,
   "id": "072acd09-345d-4072-8769-70e36f8c34be",
   "metadata": {},
   "outputs": [],
   "source": [
    "# result = grouped.filter(lambda x: x['column_name'].mean() > 100)"
   ]
  },
  {
   "cell_type": "markdown",
   "id": "6bfaf8bd-6d4b-48a8-8165-dc21901747f4",
   "metadata": {},
   "source": [
    "### add,delete column"
   ]
  },
  {
   "cell_type": "code",
   "execution_count": null,
   "id": "01bab362-9b0d-46d8-b2fb-cd1911bfd0f3",
   "metadata": {},
   "outputs": [],
   "source": [
    "# df['new_column'] = 5\n",
    "# df['total'] = df['price'] * df['quantity']\n",
    "\n",
    "# new_series = pd.Series([1, 2, 3, 4, 5])\n",
    "# df['new_column'] = new_series\n",
    "\n",
    "# df[['col1', 'col2']] = pd.DataFrame({'col1': [1, 2, 3], 'col2': [4, 5, 6]})\n",
    "\n",
    "# df.insert(1, 'new_column', [1, 2, 3])\n",
    "\n",
    "# df = df.drop('column_name', axis=1)\n",
    "\n",
    "# df = df.drop(['col1', 'col2', 'col3'], axis=1)\n",
    "\n",
    "# del df['column_name']\n",
    "\n",
    "# df = df.drop(df.columns[df.columns.str.contains('unwanted')], axis=1)\n",
    "\n",
    "# unique_values_list = df['a'].unique().tolist()"
   ]
  },
  {
   "cell_type": "code",
   "execution_count": null,
   "id": "340cf42d-775a-4f1d-9502-6b59812f6d11",
   "metadata": {},
   "outputs": [],
   "source": [
    "pandas.Index.to_list\n",
    "pandas.Series.to_list\n",
    "numpy.ndarray.tolist"
   ]
  }
 ],
 "metadata": {
  "kernelspec": {
   "display_name": "Python 3 (ipykernel)",
   "language": "python",
   "name": "python3"
  },
  "language_info": {
   "codemirror_mode": {
    "name": "ipython",
    "version": 3
   },
   "file_extension": ".py",
   "mimetype": "text/x-python",
   "name": "python",
   "nbconvert_exporter": "python",
   "pygments_lexer": "ipython3",
   "version": "3.11.9"
  }
 },
 "nbformat": 4,
 "nbformat_minor": 5
}
