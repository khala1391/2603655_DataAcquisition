{
 "cells": [
  {
   "cell_type": "code",
   "execution_count": 25,
   "metadata": {
    "colab": {
     "base_uri": "https://localhost:8080/"
    },
    "executionInfo": {
     "elapsed": 450,
     "status": "ok",
     "timestamp": 1722945524622,
     "user": {
      "displayName": "Buraj Patrakosol",
      "userId": "15915442625378365644"
     },
     "user_tz": -420
    },
    "id": "ob6u_X-NhT6T",
    "outputId": "8af79b74-2924-4afe-eb29-4cba74aaeb9d"
   },
   "outputs": [
    {
     "name": "stdout",
     "output_type": "stream",
     "text": [
      "<class 'pandas.core.frame.DataFrame'>\n",
      "RangeIndex: 500000 entries, 0 to 499999\n",
      "Data columns (total 21 columns):\n",
      " #   Column                   Non-Null Count   Dtype  \n",
      "---  ------                   --------------   -----  \n",
      " 0   shipment_id              500000 non-null  int64  \n",
      " 1   date                     500000 non-null  object \n",
      " 2   origin                   500000 non-null  object \n",
      " 3   destination              500000 non-null  object \n",
      " 4   distance_km              500000 non-null  float64\n",
      " 5   weight_kg                500000 non-null  float64\n",
      " 6   vehicle_type             500000 non-null  object \n",
      " 7   vehicle_age_years        500000 non-null  float64\n",
      " 8   driver_id                500000 non-null  int64  \n",
      " 9   customer_id              500000 non-null  int64  \n",
      " 10  product_type             500000 non-null  object \n",
      " 11  delivery_status          500000 non-null  object \n",
      " 12  delay_hours              500000 non-null  float64\n",
      " 13  transport_cost           500000 non-null  float64\n",
      " 14  revenue                  500000 non-null  float64\n",
      " 15  customer_satisfaction    500000 non-null  float64\n",
      " 16  fuel_consumption_liters  500000 non-null  float64\n",
      " 17  maintenance_cost         500000 non-null  float64\n",
      " 18  month                    500000 non-null  int64  \n",
      " 19  estimated_delivery_days  500000 non-null  float64\n",
      " 20  actual_delivery_days     500000 non-null  float64\n",
      "dtypes: float64(11), int64(4), object(6)\n",
      "memory usage: 80.1+ MB\n",
      "<class 'pandas.core.frame.DataFrame'>\n",
      "RangeIndex: 500000 entries, 0 to 499999\n",
      "Data columns (total 21 columns):\n",
      " #   Column                   Non-Null Count   Dtype         \n",
      "---  ------                   --------------   -----         \n",
      " 0   shipment_id              500000 non-null  int64         \n",
      " 1   date                     500000 non-null  datetime64[ns]\n",
      " 2   origin                   500000 non-null  object        \n",
      " 3   destination              500000 non-null  object        \n",
      " 4   distance_km              500000 non-null  float64       \n",
      " 5   weight_kg                500000 non-null  float64       \n",
      " 6   vehicle_type             500000 non-null  object        \n",
      " 7   vehicle_age_years        500000 non-null  float64       \n",
      " 8   driver_id                500000 non-null  int64         \n",
      " 9   customer_id              500000 non-null  int64         \n",
      " 10  product_type             500000 non-null  object        \n",
      " 11  delivery_status          500000 non-null  object        \n",
      " 12  delay_hours              500000 non-null  float64       \n",
      " 13  transport_cost           500000 non-null  float64       \n",
      " 14  revenue                  500000 non-null  float64       \n",
      " 15  customer_satisfaction    500000 non-null  float64       \n",
      " 16  fuel_consumption_liters  500000 non-null  float64       \n",
      " 17  maintenance_cost         500000 non-null  float64       \n",
      " 18  month                    500000 non-null  int64         \n",
      " 19  estimated_delivery_days  500000 non-null  float64       \n",
      " 20  actual_delivery_days     500000 non-null  float64       \n",
      "dtypes: datetime64[ns](1), float64(11), int64(4), object(5)\n",
      "memory usage: 80.1+ MB\n"
     ]
    }
   ],
   "source": [
    "import pandas as pd\n",
    "import matplotlib.pyplot as plt\n",
    "import seaborn as sns\n",
    "\n",
    "df = pd.read_csv('data/thaiglobal_logistics_data.csv')\n",
    "df.info()\n",
    "# df.head()\n",
    "df['date'] = pd.to_datetime(df['date'])\n",
    "df.info()\n"
   ]
  },
  {
   "cell_type": "code",
   "execution_count": 26,
   "metadata": {
    "colab": {
     "base_uri": "https://localhost:8080/"
    },
    "executionInfo": {
     "elapsed": 498,
     "status": "ok",
     "timestamp": 1722945794412,
     "user": {
      "displayName": "Buraj Patrakosol",
      "userId": "15915442625378365644"
     },
     "user_tz": -420
    },
    "id": "lvvF3Ac1jzhj",
    "outputId": "6225db0c-22e7-4d84-93ba-a3fc91a0a334"
   },
   "outputs": [
    {
     "name": "stdout",
     "output_type": "stream",
     "text": [
      "    origin   revenue\n",
      "0  Pattaya   2748.14\n",
      "1  Bangkok  12532.73\n",
      "2  Pattaya   3750.48\n",
      "3   Phuket   4572.87\n",
      "4  Pattaya   1973.51\n"
     ]
    }
   ],
   "source": [
    "# a = df['origin']\n",
    "# b = df[['origin']]\n",
    "# print(a.head())\n",
    "# print(b.head())\n",
    "\n",
    "## a = df['origin','revenue']\n",
    "## print(a.head())\n",
    "# b = df[['origin','revenue']]\n",
    "# print(b.head())\n",
    "\n",
    "b = df[['origin','revenue']].copy()\n",
    "print(b.head())"
   ]
  },
  {
   "cell_type": "code",
   "execution_count": 27,
   "metadata": {
    "colab": {
     "base_uri": "https://localhost:8080/"
    },
    "executionInfo": {
     "elapsed": 420,
     "status": "ok",
     "timestamp": 1722946638227,
     "user": {
      "displayName": "Buraj Patrakosol",
      "userId": "15915442625378365644"
     },
     "user_tz": -420
    },
    "id": "QoB858G1lLTa",
    "outputId": "f2719aaf-ce90-4b5b-9ca2-86b7948b4dd8"
   },
   "outputs": [
    {
     "name": "stdout",
     "output_type": "stream",
     "text": [
      "    origin   revenue  on_time\n",
      "0  Pattaya   2748.14     True\n",
      "1  Bangkok  12532.73    False\n",
      "2  Pattaya   3750.48    False\n",
      "3   Phuket   4572.87     True\n",
      "4  Pattaya   1973.51     True\n",
      "<class 'pandas.core.frame.DataFrame'>\n",
      "RangeIndex: 500000 entries, 0 to 499999\n",
      "Data columns (total 3 columns):\n",
      " #   Column   Non-Null Count   Dtype  \n",
      "---  ------   --------------   -----  \n",
      " 0   origin   500000 non-null  object \n",
      " 1   revenue  500000 non-null  float64\n",
      " 2   on_time  500000 non-null  bool   \n",
      "dtypes: bool(1), float64(1), object(1)\n",
      "memory usage: 8.1+ MB\n",
      "<class 'pandas.core.frame.DataFrame'>\n",
      "Index: 399895 entries, 0 to 499999\n",
      "Data columns (total 21 columns):\n",
      " #   Column                   Non-Null Count   Dtype         \n",
      "---  ------                   --------------   -----         \n",
      " 0   shipment_id              399895 non-null  int64         \n",
      " 1   date                     399895 non-null  datetime64[ns]\n",
      " 2   origin                   399895 non-null  object        \n",
      " 3   destination              399895 non-null  object        \n",
      " 4   distance_km              399895 non-null  float64       \n",
      " 5   weight_kg                399895 non-null  float64       \n",
      " 6   vehicle_type             399895 non-null  object        \n",
      " 7   vehicle_age_years        399895 non-null  float64       \n",
      " 8   driver_id                399895 non-null  int64         \n",
      " 9   customer_id              399895 non-null  int64         \n",
      " 10  product_type             399895 non-null  object        \n",
      " 11  delivery_status          399895 non-null  object        \n",
      " 12  delay_hours              399895 non-null  float64       \n",
      " 13  transport_cost           399895 non-null  float64       \n",
      " 14  revenue                  399895 non-null  float64       \n",
      " 15  customer_satisfaction    399895 non-null  float64       \n",
      " 16  fuel_consumption_liters  399895 non-null  float64       \n",
      " 17  maintenance_cost         399895 non-null  float64       \n",
      " 18  month                    399895 non-null  int64         \n",
      " 19  estimated_delivery_days  399895 non-null  float64       \n",
      " 20  actual_delivery_days     399895 non-null  float64       \n",
      "dtypes: datetime64[ns](1), float64(11), int64(4), object(5)\n",
      "memory usage: 67.1+ MB\n"
     ]
    }
   ],
   "source": [
    "# df['delivery_status'].value_counts()\n",
    "# ontime_delivery = df[df['delivery_status'] == 'On Time']\n",
    "# ontime_delivery.info()\n",
    "\n",
    "mask = df['delivery_status'] == 'On Time'\n",
    "a = df[['origin','revenue']].copy()\n",
    "a['on_time'] = mask\n",
    "print(a.head())\n",
    "a.info()\n",
    "\n",
    "ontime_delivery = df[mask]\n",
    "ontime_delivery.info()"
   ]
  },
  {
   "cell_type": "code",
   "execution_count": 28,
   "metadata": {
    "colab": {
     "base_uri": "https://localhost:8080/",
     "height": 290
    },
    "executionInfo": {
     "elapsed": 452,
     "status": "ok",
     "timestamp": 1722947215275,
     "user": {
      "displayName": "Buraj Patrakosol",
      "userId": "15915442625378365644"
     },
     "user_tz": -420
    },
    "id": "7l3x1MFnpOAM",
    "outputId": "b5119516-a489-4f09-8eb2-589f39788e0b"
   },
   "outputs": [
    {
     "name": "stdout",
     "output_type": "stream",
     "text": [
      "(99843, 21)\n"
     ]
    },
    {
     "data": {
      "text/html": [
       "<div>\n",
       "<style scoped>\n",
       "    .dataframe tbody tr th:only-of-type {\n",
       "        vertical-align: middle;\n",
       "    }\n",
       "\n",
       "    .dataframe tbody tr th {\n",
       "        vertical-align: top;\n",
       "    }\n",
       "\n",
       "    .dataframe thead th {\n",
       "        text-align: right;\n",
       "    }\n",
       "</style>\n",
       "<table border=\"1\" class=\"dataframe\">\n",
       "  <thead>\n",
       "    <tr style=\"text-align: right;\">\n",
       "      <th></th>\n",
       "      <th>shipment_id</th>\n",
       "      <th>date</th>\n",
       "      <th>origin</th>\n",
       "      <th>destination</th>\n",
       "      <th>distance_km</th>\n",
       "      <th>weight_kg</th>\n",
       "      <th>vehicle_type</th>\n",
       "      <th>vehicle_age_years</th>\n",
       "      <th>driver_id</th>\n",
       "      <th>customer_id</th>\n",
       "      <th>...</th>\n",
       "      <th>delivery_status</th>\n",
       "      <th>delay_hours</th>\n",
       "      <th>transport_cost</th>\n",
       "      <th>revenue</th>\n",
       "      <th>customer_satisfaction</th>\n",
       "      <th>fuel_consumption_liters</th>\n",
       "      <th>maintenance_cost</th>\n",
       "      <th>month</th>\n",
       "      <th>estimated_delivery_days</th>\n",
       "      <th>actual_delivery_days</th>\n",
       "    </tr>\n",
       "  </thead>\n",
       "  <tbody>\n",
       "    <tr>\n",
       "      <th>15</th>\n",
       "      <td>16</td>\n",
       "      <td>2022-04-10</td>\n",
       "      <td>Phuket</td>\n",
       "      <td>London</td>\n",
       "      <td>9487.34</td>\n",
       "      <td>258.89</td>\n",
       "      <td>Truck</td>\n",
       "      <td>2.0</td>\n",
       "      <td>110</td>\n",
       "      <td>1310</td>\n",
       "      <td>...</td>\n",
       "      <td>On Time</td>\n",
       "      <td>0.0</td>\n",
       "      <td>10453.710</td>\n",
       "      <td>12742.53</td>\n",
       "      <td>4.40</td>\n",
       "      <td>958.86</td>\n",
       "      <td>1087.47</td>\n",
       "      <td>4</td>\n",
       "      <td>18.2</td>\n",
       "      <td>18.2</td>\n",
       "    </tr>\n",
       "    <tr>\n",
       "      <th>18</th>\n",
       "      <td>19</td>\n",
       "      <td>2023-10-24</td>\n",
       "      <td>Khon Kaen</td>\n",
       "      <td>Dubai</td>\n",
       "      <td>5731.44</td>\n",
       "      <td>9.80</td>\n",
       "      <td>Van</td>\n",
       "      <td>8.1</td>\n",
       "      <td>295</td>\n",
       "      <td>3555</td>\n",
       "      <td>...</td>\n",
       "      <td>On Time</td>\n",
       "      <td>0.0</td>\n",
       "      <td>10703.740</td>\n",
       "      <td>15543.55</td>\n",
       "      <td>4.86</td>\n",
       "      <td>991.94</td>\n",
       "      <td>2775.04</td>\n",
       "      <td>10</td>\n",
       "      <td>12.0</td>\n",
       "      <td>12.0</td>\n",
       "    </tr>\n",
       "    <tr>\n",
       "      <th>19</th>\n",
       "      <td>20</td>\n",
       "      <td>2022-11-05</td>\n",
       "      <td>Bangkok</td>\n",
       "      <td>Tokyo</td>\n",
       "      <td>6876.69</td>\n",
       "      <td>137.09</td>\n",
       "      <td>Truck</td>\n",
       "      <td>3.6</td>\n",
       "      <td>214</td>\n",
       "      <td>5247</td>\n",
       "      <td>...</td>\n",
       "      <td>On Time</td>\n",
       "      <td>0.0</td>\n",
       "      <td>13235.208</td>\n",
       "      <td>15073.26</td>\n",
       "      <td>4.07</td>\n",
       "      <td>939.61</td>\n",
       "      <td>1572.37</td>\n",
       "      <td>11</td>\n",
       "      <td>14.0</td>\n",
       "      <td>14.0</td>\n",
       "    </tr>\n",
       "    <tr>\n",
       "      <th>20</th>\n",
       "      <td>21</td>\n",
       "      <td>2022-12-10</td>\n",
       "      <td>Bangkok</td>\n",
       "      <td>London</td>\n",
       "      <td>6604.09</td>\n",
       "      <td>279.69</td>\n",
       "      <td>Truck</td>\n",
       "      <td>2.4</td>\n",
       "      <td>190</td>\n",
       "      <td>8986</td>\n",
       "      <td>...</td>\n",
       "      <td>On Time</td>\n",
       "      <td>0.0</td>\n",
       "      <td>10989.048</td>\n",
       "      <td>13292.65</td>\n",
       "      <td>4.47</td>\n",
       "      <td>688.52</td>\n",
       "      <td>616.82</td>\n",
       "      <td>12</td>\n",
       "      <td>13.7</td>\n",
       "      <td>13.7</td>\n",
       "    </tr>\n",
       "    <tr>\n",
       "      <th>22</th>\n",
       "      <td>23</td>\n",
       "      <td>2023-02-18</td>\n",
       "      <td>Phuket</td>\n",
       "      <td>Tokyo</td>\n",
       "      <td>6353.31</td>\n",
       "      <td>235.68</td>\n",
       "      <td>Airplane</td>\n",
       "      <td>8.7</td>\n",
       "      <td>61</td>\n",
       "      <td>728</td>\n",
       "      <td>...</td>\n",
       "      <td>On Time</td>\n",
       "      <td>0.0</td>\n",
       "      <td>11857.520</td>\n",
       "      <td>16106.46</td>\n",
       "      <td>4.08</td>\n",
       "      <td>488.93</td>\n",
       "      <td>1791.06</td>\n",
       "      <td>2</td>\n",
       "      <td>12.2</td>\n",
       "      <td>12.2</td>\n",
       "    </tr>\n",
       "  </tbody>\n",
       "</table>\n",
       "<p>5 rows × 21 columns</p>\n",
       "</div>"
      ],
      "text/plain": [
       "    shipment_id       date     origin destination  distance_km  weight_kg  \\\n",
       "15           16 2022-04-10     Phuket      London      9487.34     258.89   \n",
       "18           19 2023-10-24  Khon Kaen       Dubai      5731.44       9.80   \n",
       "19           20 2022-11-05    Bangkok       Tokyo      6876.69     137.09   \n",
       "20           21 2022-12-10    Bangkok      London      6604.09     279.69   \n",
       "22           23 2023-02-18     Phuket       Tokyo      6353.31     235.68   \n",
       "\n",
       "   vehicle_type  vehicle_age_years  driver_id  customer_id  ...  \\\n",
       "15        Truck                2.0        110         1310  ...   \n",
       "18          Van                8.1        295         3555  ...   \n",
       "19        Truck                3.6        214         5247  ...   \n",
       "20        Truck                2.4        190         8986  ...   \n",
       "22     Airplane                8.7         61          728  ...   \n",
       "\n",
       "   delivery_status delay_hours  transport_cost   revenue  \\\n",
       "15         On Time         0.0       10453.710  12742.53   \n",
       "18         On Time         0.0       10703.740  15543.55   \n",
       "19         On Time         0.0       13235.208  15073.26   \n",
       "20         On Time         0.0       10989.048  13292.65   \n",
       "22         On Time         0.0       11857.520  16106.46   \n",
       "\n",
       "    customer_satisfaction  fuel_consumption_liters  maintenance_cost  month  \\\n",
       "15                   4.40                   958.86           1087.47      4   \n",
       "18                   4.86                   991.94           2775.04     10   \n",
       "19                   4.07                   939.61           1572.37     11   \n",
       "20                   4.47                   688.52            616.82     12   \n",
       "22                   4.08                   488.93           1791.06      2   \n",
       "\n",
       "    estimated_delivery_days  actual_delivery_days  \n",
       "15                     18.2                  18.2  \n",
       "18                     12.0                  12.0  \n",
       "19                     14.0                  14.0  \n",
       "20                     13.7                  13.7  \n",
       "22                     12.2                  12.2  \n",
       "\n",
       "[5 rows x 21 columns]"
      ]
     },
     "execution_count": 28,
     "metadata": {},
     "output_type": "execute_result"
    }
   ],
   "source": [
    "# mask1 = df['delivery_status'] == 'On Time'\n",
    "# mask2 = df['revenue'] > df['revenue'].quantile(0.75)\n",
    "# a = df[mask1 & mask2]\n",
    "# print(a.shape)\n",
    "# a.head()\n",
    "\n",
    "a = df[(df['delivery_status'] == 'On Time') & (df['revenue'] > df['revenue'].quantile(0.75))]\n",
    "print(a.shape)\n",
    "a.head()"
   ]
  },
  {
   "cell_type": "code",
   "execution_count": 29,
   "metadata": {
    "colab": {
     "base_uri": "https://localhost:8080/",
     "height": 1000
    },
    "executionInfo": {
     "elapsed": 596,
     "status": "ok",
     "timestamp": 1722948138998,
     "user": {
      "displayName": "Buraj Patrakosol",
      "userId": "15915442625378365644"
     },
     "user_tz": -420
    },
    "id": "qWjDozWrqlYU",
    "outputId": "b65aaa79-11bf-4bd3-bf76-caf821538363"
   },
   "outputs": [
    {
     "name": "stdout",
     "output_type": "stream",
     "text": [
      "{'Ship': 5052.486323940959, 'Airplane': 5054.947626671585, 'Truck': 5056.012452181698, 'Van': 5053.6738746372675}\n"
     ]
    }
   ],
   "source": [
    "import json\n",
    "\n",
    "# df[df['vehicle_type'] == 'Truck']['distance_km'].mean()\n",
    "\n",
    "# dict / list comprehension\n",
    "avg_distance_vehicle = {vtype: df[df['vehicle_type'] == vtype]['distance_km'].mean()\n",
    "                               for vtype in df['vehicle_type'].unique()}\n",
    "print(avg_distance_vehicle)"
   ]
  },
  {
   "cell_type": "code",
   "execution_count": 30,
   "metadata": {
    "colab": {
     "base_uri": "https://localhost:8080/",
     "height": 1000
    },
    "collapsed": true,
    "executionInfo": {
     "elapsed": 596,
     "status": "ok",
     "timestamp": 1722948138998,
     "user": {
      "displayName": "Buraj Patrakosol",
      "userId": "15915442625378365644"
     },
     "user_tz": -420
    },
    "id": "qWjDozWrqlYU",
    "jupyter": {
     "outputs_hidden": true
    },
    "outputId": "b65aaa79-11bf-4bd3-bf76-caf821538363"
   },
   "outputs": [
    {
     "data": {
      "text/plain": [
       "{'Pattaya - Tokyo': {'avg_cost': 6817.184588435375,\n",
       "  'avg_revenue': 8461.81245505345},\n",
       " 'Pattaya - London': {'avg_cost': 6762.491607262536,\n",
       "  'avg_revenue': 8360.178453055505},\n",
       " 'Pattaya - Sydney': {'avg_cost': 6755.76735186175,\n",
       "  'avg_revenue': 8382.8245198646},\n",
       " 'Pattaya - New York': {'avg_cost': 6799.842395642134,\n",
       "  'avg_revenue': 8415.251402096037},\n",
       " 'Pattaya - Singapore': {'avg_cost': 6804.372192879406,\n",
       "  'avg_revenue': 8419.82305622153},\n",
       " 'Pattaya - Dubai': {'avg_cost': 6764.4039654735325,\n",
       "  'avg_revenue': 8387.435358845898},\n",
       " 'Bangkok - Tokyo': {'avg_cost': 6786.46948108302,\n",
       "  'avg_revenue': 8405.037174107943},\n",
       " 'Bangkok - London': {'avg_cost': 6834.954784225484,\n",
       "  'avg_revenue': 8448.534798673614},\n",
       " 'Bangkok - Sydney': {'avg_cost': 6834.524224262928,\n",
       "  'avg_revenue': 8456.824784316093},\n",
       " 'Bangkok - New York': {'avg_cost': 6849.32181896655,\n",
       "  'avg_revenue': 8470.767936098788},\n",
       " 'Bangkok - Singapore': {'avg_cost': 6753.907760999586,\n",
       "  'avg_revenue': 8346.376271688283},\n",
       " 'Bangkok - Dubai': {'avg_cost': 6735.662840421664,\n",
       "  'avg_revenue': 8330.1760087241},\n",
       " 'Phuket - Tokyo': {'avg_cost': 6791.28020368818,\n",
       "  'avg_revenue': 8403.007015926236},\n",
       " 'Phuket - London': {'avg_cost': 6776.118287357011,\n",
       "  'avg_revenue': 8386.306952746003},\n",
       " 'Phuket - Sydney': {'avg_cost': 6847.1961584526025,\n",
       "  'avg_revenue': 8484.469147853166},\n",
       " 'Phuket - New York': {'avg_cost': 6780.318675145609,\n",
       "  'avg_revenue': 8395.075563413764},\n",
       " 'Phuket - Singapore': {'avg_cost': 6807.709231100221,\n",
       "  'avg_revenue': 8420.346671248431},\n",
       " 'Phuket - Dubai': {'avg_cost': 6816.728567485408,\n",
       "  'avg_revenue': 8435.715883390078},\n",
       " 'Chiang Mai - Tokyo': {'avg_cost': 6793.55854793693,\n",
       "  'avg_revenue': 8425.32396725669},\n",
       " 'Chiang Mai - London': {'avg_cost': 6862.917267320773,\n",
       "  'avg_revenue': 8494.774248480107},\n",
       " 'Chiang Mai - Sydney': {'avg_cost': 6802.112623359422,\n",
       "  'avg_revenue': 8422.530290788682},\n",
       " 'Chiang Mai - New York': {'avg_cost': 6745.767373742214,\n",
       "  'avg_revenue': 8339.395434834689},\n",
       " 'Chiang Mai - Singapore': {'avg_cost': 6796.699270741568,\n",
       "  'avg_revenue': 8422.690259458153},\n",
       " 'Chiang Mai - Dubai': {'avg_cost': 6805.050394271676,\n",
       "  'avg_revenue': 8428.279080831686},\n",
       " 'Khon Kaen - Tokyo': {'avg_cost': 6744.4848590764805,\n",
       "  'avg_revenue': 8353.026221476912},\n",
       " 'Khon Kaen - London': {'avg_cost': 6860.526869523293,\n",
       "  'avg_revenue': 8493.625662628818},\n",
       " 'Khon Kaen - Sydney': {'avg_cost': 6804.223442192946,\n",
       "  'avg_revenue': 8430.453177172565},\n",
       " 'Khon Kaen - New York': {'avg_cost': 6826.443134512744,\n",
       "  'avg_revenue': 8445.577851274362},\n",
       " 'Khon Kaen - Singapore': {'avg_cost': 6861.168332608433,\n",
       "  'avg_revenue': 8490.06504530627},\n",
       " 'Khon Kaen - Dubai': {'avg_cost': 6805.264115812917,\n",
       "  'avg_revenue': 8424.16552037561}}"
      ]
     },
     "metadata": {},
     "output_type": "display_data"
    }
   ],
   "source": [
    "# route_summary = dict()\n",
    "route_summary = {}\n",
    "for origin in df['origin'].unique():\n",
    "  for destination in df['destination'].unique():\n",
    "    # key = f'{origin} - {destination}'\n",
    "    key = '{0} - {1}'.format(origin,destination)\n",
    "    # summary = dict()\n",
    "    summary = {}\n",
    "    summary['avg_cost'] = df[(df['origin'] == origin) & (df['destination'] == destination)]['transport_cost'].mean()\n",
    "    summary['avg_revenue'] = df[(df['origin'] == origin) & (df['destination'] == destination)]['revenue'].mean()\n",
    "    route_summary[key] = summary\n",
    "# print(route_summary)\n",
    "display(route_summary)"
   ]
  },
  {
   "cell_type": "code",
   "execution_count": 68,
   "metadata": {
    "colab": {
     "base_uri": "https://localhost:8080/",
     "height": 1000
    },
    "collapsed": true,
    "executionInfo": {
     "elapsed": 596,
     "status": "ok",
     "timestamp": 1722948138998,
     "user": {
      "displayName": "Buraj Patrakosol",
      "userId": "15915442625378365644"
     },
     "user_tz": -420
    },
    "id": "qWjDozWrqlYU",
    "jupyter": {
     "outputs_hidden": true
    },
    "outputId": "b65aaa79-11bf-4bd3-bf76-caf821538363"
   },
   "outputs": [
    {
     "data": {
      "text/plain": [
       "{'Pattaya - Tokyo': {'avg_cost': 6817.184588435375,\n",
       "  'avg_revenue': 8461.81245505345},\n",
       " 'Pattaya - London': {'avg_cost': 6762.491607262536,\n",
       "  'avg_revenue': 8360.178453055505},\n",
       " 'Pattaya - Sydney': {'avg_cost': 6755.76735186175,\n",
       "  'avg_revenue': 8382.8245198646},\n",
       " 'Pattaya - New York': {'avg_cost': 6799.842395642134,\n",
       "  'avg_revenue': 8415.251402096037},\n",
       " 'Pattaya - Singapore': {'avg_cost': 6804.372192879406,\n",
       "  'avg_revenue': 8419.82305622153},\n",
       " 'Pattaya - Dubai': {'avg_cost': 6764.4039654735325,\n",
       "  'avg_revenue': 8387.435358845898},\n",
       " 'Bangkok - Tokyo': {'avg_cost': 6786.46948108302,\n",
       "  'avg_revenue': 8405.037174107943},\n",
       " 'Bangkok - London': {'avg_cost': 6834.954784225484,\n",
       "  'avg_revenue': 8448.534798673614},\n",
       " 'Bangkok - Sydney': {'avg_cost': 6834.524224262928,\n",
       "  'avg_revenue': 8456.824784316093},\n",
       " 'Bangkok - New York': {'avg_cost': 6849.32181896655,\n",
       "  'avg_revenue': 8470.767936098788},\n",
       " 'Bangkok - Singapore': {'avg_cost': 6753.907760999586,\n",
       "  'avg_revenue': 8346.376271688283},\n",
       " 'Bangkok - Dubai': {'avg_cost': 6735.662840421664,\n",
       "  'avg_revenue': 8330.1760087241},\n",
       " 'Phuket - Tokyo': {'avg_cost': 6791.28020368818,\n",
       "  'avg_revenue': 8403.007015926236},\n",
       " 'Phuket - London': {'avg_cost': 6776.118287357011,\n",
       "  'avg_revenue': 8386.306952746003},\n",
       " 'Phuket - Sydney': {'avg_cost': 6847.1961584526025,\n",
       "  'avg_revenue': 8484.469147853166},\n",
       " 'Phuket - New York': {'avg_cost': 6780.318675145609,\n",
       "  'avg_revenue': 8395.075563413764},\n",
       " 'Phuket - Singapore': {'avg_cost': 6807.709231100221,\n",
       "  'avg_revenue': 8420.346671248431},\n",
       " 'Phuket - Dubai': {'avg_cost': 6816.728567485408,\n",
       "  'avg_revenue': 8435.715883390078},\n",
       " 'Chiang Mai - Tokyo': {'avg_cost': 6793.55854793693,\n",
       "  'avg_revenue': 8425.32396725669},\n",
       " 'Chiang Mai - London': {'avg_cost': 6862.917267320773,\n",
       "  'avg_revenue': 8494.774248480107},\n",
       " 'Chiang Mai - Sydney': {'avg_cost': 6802.112623359422,\n",
       "  'avg_revenue': 8422.530290788682},\n",
       " 'Chiang Mai - New York': {'avg_cost': 6745.767373742214,\n",
       "  'avg_revenue': 8339.395434834689},\n",
       " 'Chiang Mai - Singapore': {'avg_cost': 6796.699270741568,\n",
       "  'avg_revenue': 8422.690259458153},\n",
       " 'Chiang Mai - Dubai': {'avg_cost': 6805.050394271676,\n",
       "  'avg_revenue': 8428.279080831686},\n",
       " 'Khon Kaen - Tokyo': {'avg_cost': 6744.4848590764805,\n",
       "  'avg_revenue': 8353.026221476912},\n",
       " 'Khon Kaen - London': {'avg_cost': 6860.526869523293,\n",
       "  'avg_revenue': 8493.625662628818},\n",
       " 'Khon Kaen - Sydney': {'avg_cost': 6804.223442192946,\n",
       "  'avg_revenue': 8430.453177172565},\n",
       " 'Khon Kaen - New York': {'avg_cost': 6826.443134512744,\n",
       "  'avg_revenue': 8445.577851274362},\n",
       " 'Khon Kaen - Singapore': {'avg_cost': 6861.168332608433,\n",
       "  'avg_revenue': 8490.06504530627},\n",
       " 'Khon Kaen - Dubai': {'avg_cost': 6805.264115812917,\n",
       "  'avg_revenue': 8424.16552037561}}"
      ]
     },
     "metadata": {},
     "output_type": "display_data"
    }
   ],
   "source": [
    "# route_summary = dict()\n",
    "route_summary = dict()\n",
    "for origin in df['origin'].unique():\n",
    "  for destination in df['destination'].unique():\n",
    "    # key = f'{origin} - {destination}'\n",
    "    key = '{0} - {1}'.format(origin,destination)\n",
    "    # summary = dict()\n",
    "    summary = dict()\n",
    "    summary['avg_cost'] = df[(df['origin'] == origin) & (df['destination'] == destination)]['transport_cost'].mean()\n",
    "    summary['avg_revenue'] = df[(df['origin'] == origin) & (df['destination'] == destination)]['revenue'].mean()\n",
    "    route_summary[key] = summary\n",
    "# print(route_summary)\n",
    "display(route_summary)"
   ]
  },
  {
   "cell_type": "code",
   "execution_count": 31,
   "metadata": {
    "colab": {
     "base_uri": "https://localhost:8080/",
     "height": 1000
    },
    "collapsed": true,
    "executionInfo": {
     "elapsed": 596,
     "status": "ok",
     "timestamp": 1722948138998,
     "user": {
      "displayName": "Buraj Patrakosol",
      "userId": "15915442625378365644"
     },
     "user_tz": -420
    },
    "id": "qWjDozWrqlYU",
    "jupyter": {
     "outputs_hidden": true
    },
    "outputId": "b65aaa79-11bf-4bd3-bf76-caf821538363",
    "scrolled": true
   },
   "outputs": [
    {
     "name": "stdout",
     "output_type": "stream",
     "text": [
      "{\n",
      "  \"Pattaya - Tokyo\": {\n",
      "    \"avg_cost\": 6817.184588435375,\n",
      "    \"avg_revenue\": 8461.81245505345\n",
      "  },\n",
      "  \"Pattaya - London\": {\n",
      "    \"avg_cost\": 6762.491607262536,\n",
      "    \"avg_revenue\": 8360.178453055505\n",
      "  },\n",
      "  \"Pattaya - Sydney\": {\n",
      "    \"avg_cost\": 6755.76735186175,\n",
      "    \"avg_revenue\": 8382.8245198646\n",
      "  },\n",
      "  \"Pattaya - New York\": {\n",
      "    \"avg_cost\": 6799.842395642134,\n",
      "    \"avg_revenue\": 8415.251402096037\n",
      "  },\n",
      "  \"Pattaya - Singapore\": {\n",
      "    \"avg_cost\": 6804.372192879406,\n",
      "    \"avg_revenue\": 8419.82305622153\n",
      "  },\n",
      "  \"Pattaya - Dubai\": {\n",
      "    \"avg_cost\": 6764.4039654735325,\n",
      "    \"avg_revenue\": 8387.435358845898\n",
      "  },\n",
      "  \"Bangkok - Tokyo\": {\n",
      "    \"avg_cost\": 6786.46948108302,\n",
      "    \"avg_revenue\": 8405.037174107943\n",
      "  },\n",
      "  \"Bangkok - London\": {\n",
      "    \"avg_cost\": 6834.954784225484,\n",
      "    \"avg_revenue\": 8448.534798673614\n",
      "  },\n",
      "  \"Bangkok - Sydney\": {\n",
      "    \"avg_cost\": 6834.524224262928,\n",
      "    \"avg_revenue\": 8456.824784316093\n",
      "  },\n",
      "  \"Bangkok - New York\": {\n",
      "    \"avg_cost\": 6849.32181896655,\n",
      "    \"avg_revenue\": 8470.767936098788\n",
      "  },\n",
      "  \"Bangkok - Singapore\": {\n",
      "    \"avg_cost\": 6753.907760999586,\n",
      "    \"avg_revenue\": 8346.376271688283\n",
      "  },\n",
      "  \"Bangkok - Dubai\": {\n",
      "    \"avg_cost\": 6735.662840421664,\n",
      "    \"avg_revenue\": 8330.1760087241\n",
      "  },\n",
      "  \"Phuket - Tokyo\": {\n",
      "    \"avg_cost\": 6791.28020368818,\n",
      "    \"avg_revenue\": 8403.007015926236\n",
      "  },\n",
      "  \"Phuket - London\": {\n",
      "    \"avg_cost\": 6776.118287357011,\n",
      "    \"avg_revenue\": 8386.306952746003\n",
      "  },\n",
      "  \"Phuket - Sydney\": {\n",
      "    \"avg_cost\": 6847.1961584526025,\n",
      "    \"avg_revenue\": 8484.469147853166\n",
      "  },\n",
      "  \"Phuket - New York\": {\n",
      "    \"avg_cost\": 6780.318675145609,\n",
      "    \"avg_revenue\": 8395.075563413764\n",
      "  },\n",
      "  \"Phuket - Singapore\": {\n",
      "    \"avg_cost\": 6807.709231100221,\n",
      "    \"avg_revenue\": 8420.346671248431\n",
      "  },\n",
      "  \"Phuket - Dubai\": {\n",
      "    \"avg_cost\": 6816.728567485408,\n",
      "    \"avg_revenue\": 8435.715883390078\n",
      "  },\n",
      "  \"Chiang Mai - Tokyo\": {\n",
      "    \"avg_cost\": 6793.55854793693,\n",
      "    \"avg_revenue\": 8425.32396725669\n",
      "  },\n",
      "  \"Chiang Mai - London\": {\n",
      "    \"avg_cost\": 6862.917267320773,\n",
      "    \"avg_revenue\": 8494.774248480107\n",
      "  },\n",
      "  \"Chiang Mai - Sydney\": {\n",
      "    \"avg_cost\": 6802.112623359422,\n",
      "    \"avg_revenue\": 8422.530290788682\n",
      "  },\n",
      "  \"Chiang Mai - New York\": {\n",
      "    \"avg_cost\": 6745.767373742214,\n",
      "    \"avg_revenue\": 8339.395434834689\n",
      "  },\n",
      "  \"Chiang Mai - Singapore\": {\n",
      "    \"avg_cost\": 6796.699270741568,\n",
      "    \"avg_revenue\": 8422.690259458153\n",
      "  },\n",
      "  \"Chiang Mai - Dubai\": {\n",
      "    \"avg_cost\": 6805.050394271676,\n",
      "    \"avg_revenue\": 8428.279080831686\n",
      "  },\n",
      "  \"Khon Kaen - Tokyo\": {\n",
      "    \"avg_cost\": 6744.4848590764805,\n",
      "    \"avg_revenue\": 8353.026221476912\n",
      "  },\n",
      "  \"Khon Kaen - London\": {\n",
      "    \"avg_cost\": 6860.526869523293,\n",
      "    \"avg_revenue\": 8493.625662628818\n",
      "  },\n",
      "  \"Khon Kaen - Sydney\": {\n",
      "    \"avg_cost\": 6804.223442192946,\n",
      "    \"avg_revenue\": 8430.453177172565\n",
      "  },\n",
      "  \"Khon Kaen - New York\": {\n",
      "    \"avg_cost\": 6826.443134512744,\n",
      "    \"avg_revenue\": 8445.577851274362\n",
      "  },\n",
      "  \"Khon Kaen - Singapore\": {\n",
      "    \"avg_cost\": 6861.168332608433,\n",
      "    \"avg_revenue\": 8490.06504530627\n",
      "  },\n",
      "  \"Khon Kaen - Dubai\": {\n",
      "    \"avg_cost\": 6805.264115812917,\n",
      "    \"avg_revenue\": 8424.16552037561\n",
      "  }\n",
      "}\n"
     ]
    }
   ],
   "source": [
    "print(json.dumps(route_summary,indent=2))"
   ]
  },
  {
   "cell_type": "code",
   "execution_count": 32,
   "metadata": {},
   "outputs": [],
   "source": [
    "import pprint as pprint"
   ]
  },
  {
   "cell_type": "code",
   "execution_count": 33,
   "metadata": {
    "collapsed": true,
    "jupyter": {
     "outputs_hidden": true
    }
   },
   "outputs": [
    {
     "name": "stdout",
     "output_type": "stream",
     "text": [
      "{'Bangkok - Dubai': {'avg_cost': 6735.662840421664,\n",
      "                     'avg_revenue': 8330.1760087241},\n",
      " 'Bangkok - London': {'avg_cost': 6834.954784225484,\n",
      "                      'avg_revenue': 8448.534798673614},\n",
      " 'Bangkok - New York': {'avg_cost': 6849.32181896655,\n",
      "                        'avg_revenue': 8470.767936098788},\n",
      " 'Bangkok - Singapore': {'avg_cost': 6753.907760999586,\n",
      "                         'avg_revenue': 8346.376271688283},\n",
      " 'Bangkok - Sydney': {'avg_cost': 6834.524224262928,\n",
      "                      'avg_revenue': 8456.824784316093},\n",
      " 'Bangkok - Tokyo': {'avg_cost': 6786.46948108302,\n",
      "                     'avg_revenue': 8405.037174107943},\n",
      " 'Chiang Mai - Dubai': {'avg_cost': 6805.050394271676,\n",
      "                        'avg_revenue': 8428.279080831686},\n",
      " 'Chiang Mai - London': {'avg_cost': 6862.917267320773,\n",
      "                         'avg_revenue': 8494.774248480107},\n",
      " 'Chiang Mai - New York': {'avg_cost': 6745.767373742214,\n",
      "                           'avg_revenue': 8339.395434834689},\n",
      " 'Chiang Mai - Singapore': {'avg_cost': 6796.699270741568,\n",
      "                            'avg_revenue': 8422.690259458153},\n",
      " 'Chiang Mai - Sydney': {'avg_cost': 6802.112623359422,\n",
      "                         'avg_revenue': 8422.530290788682},\n",
      " 'Chiang Mai - Tokyo': {'avg_cost': 6793.55854793693,\n",
      "                        'avg_revenue': 8425.32396725669},\n",
      " 'Khon Kaen - Dubai': {'avg_cost': 6805.264115812917,\n",
      "                       'avg_revenue': 8424.16552037561},\n",
      " 'Khon Kaen - London': {'avg_cost': 6860.526869523293,\n",
      "                        'avg_revenue': 8493.625662628818},\n",
      " 'Khon Kaen - New York': {'avg_cost': 6826.443134512744,\n",
      "                          'avg_revenue': 8445.577851274362},\n",
      " 'Khon Kaen - Singapore': {'avg_cost': 6861.168332608433,\n",
      "                           'avg_revenue': 8490.06504530627},\n",
      " 'Khon Kaen - Sydney': {'avg_cost': 6804.223442192946,\n",
      "                        'avg_revenue': 8430.453177172565},\n",
      " 'Khon Kaen - Tokyo': {'avg_cost': 6744.4848590764805,\n",
      "                       'avg_revenue': 8353.026221476912},\n",
      " 'Pattaya - Dubai': {'avg_cost': 6764.4039654735325,\n",
      "                     'avg_revenue': 8387.435358845898},\n",
      " 'Pattaya - London': {'avg_cost': 6762.491607262536,\n",
      "                      'avg_revenue': 8360.178453055505},\n",
      " 'Pattaya - New York': {'avg_cost': 6799.842395642134,\n",
      "                        'avg_revenue': 8415.251402096037},\n",
      " 'Pattaya - Singapore': {'avg_cost': 6804.372192879406,\n",
      "                         'avg_revenue': 8419.82305622153},\n",
      " 'Pattaya - Sydney': {'avg_cost': 6755.76735186175,\n",
      "                      'avg_revenue': 8382.8245198646},\n",
      " 'Pattaya - Tokyo': {'avg_cost': 6817.184588435375,\n",
      "                     'avg_revenue': 8461.81245505345},\n",
      " 'Phuket - Dubai': {'avg_cost': 6816.728567485408,\n",
      "                    'avg_revenue': 8435.715883390078},\n",
      " 'Phuket - London': {'avg_cost': 6776.118287357011,\n",
      "                     'avg_revenue': 8386.306952746003},\n",
      " 'Phuket - New York': {'avg_cost': 6780.318675145609,\n",
      "                       'avg_revenue': 8395.075563413764},\n",
      " 'Phuket - Singapore': {'avg_cost': 6807.709231100221,\n",
      "                        'avg_revenue': 8420.346671248431},\n",
      " 'Phuket - Sydney': {'avg_cost': 6847.1961584526025,\n",
      "                     'avg_revenue': 8484.469147853166},\n",
      " 'Phuket - Tokyo': {'avg_cost': 6791.28020368818,\n",
      "                    'avg_revenue': 8403.007015926236}}\n"
     ]
    }
   ],
   "source": [
    "pprint.pprint(route_summary)"
   ]
  },
  {
   "cell_type": "code",
   "execution_count": 34,
   "metadata": {
    "colab": {
     "base_uri": "https://localhost:8080/"
    },
    "executionInfo": {
     "elapsed": 3,
     "status": "ok",
     "timestamp": 1722949103663,
     "user": {
      "displayName": "Buraj Patrakosol",
      "userId": "15915442625378365644"
     },
     "user_tz": -420
    },
    "id": "56K54HJfuHdr",
    "outputId": "5ad8627c-8812-4ee7-ccd3-523c45a6e602"
   },
   "outputs": [
    {
     "name": "stdout",
     "output_type": "stream",
     "text": [
      "{'Ship': 5052.486323940959, 'Airplane': 5054.947626671585, 'Truck': 5056.012452181698, 'Van': 5053.6738746372675}\n"
     ]
    }
   ],
   "source": [
    "avg_distance_vehicle = {vtype: df[df['vehicle_type'] == vtype]['distance_km'].mean()\n",
    "                               for vtype in df['vehicle_type'].unique()}\n",
    "print(avg_distance_vehicle)"
   ]
  },
  {
   "cell_type": "code",
   "execution_count": 35,
   "metadata": {
    "colab": {
     "base_uri": "https://localhost:8080/"
    },
    "executionInfo": {
     "elapsed": 3,
     "status": "ok",
     "timestamp": 1722949103663,
     "user": {
      "displayName": "Buraj Patrakosol",
      "userId": "15915442625378365644"
     },
     "user_tz": -420
    },
    "id": "56K54HJfuHdr",
    "outputId": "5ad8627c-8812-4ee7-ccd3-523c45a6e602"
   },
   "outputs": [
    {
     "name": "stdout",
     "output_type": "stream",
     "text": [
      "vehicle_type\n",
      "Airplane    5054.947627\n",
      "Ship        5052.486324\n",
      "Truck       5056.012452\n",
      "Van         5053.673875\n",
      "Name: distance_km, dtype: float64\n"
     ]
    }
   ],
   "source": [
    "vtype_distance = df.groupby(by=['vehicle_type'])['distance_km'].mean()\n",
    "print(vtype_distance)"
   ]
  },
  {
   "cell_type": "code",
   "execution_count": 54,
   "metadata": {
    "colab": {
     "base_uri": "https://localhost:8080/"
    },
    "executionInfo": {
     "elapsed": 3,
     "status": "ok",
     "timestamp": 1722949103663,
     "user": {
      "displayName": "Buraj Patrakosol",
      "userId": "15915442625378365644"
     },
     "user_tz": -420
    },
    "id": "56K54HJfuHdr",
    "outputId": "5ad8627c-8812-4ee7-ccd3-523c45a6e602"
   },
   "outputs": [
    {
     "name": "stdout",
     "output_type": "stream",
     "text": [
      "              distance_km       revenue      origin\n",
      "vehicle_type                                       \n",
      "Airplane      5054.947627  1.050049e+09      Phuket\n",
      "Ship          5052.486324  1.052590e+09     Pattaya\n",
      "Truck         5056.012452  1.054601e+09   Khon Kaen\n",
      "Van           5053.673875  1.052400e+09  Chiang Mai\n",
      "\n"
     ]
    }
   ],
   "source": [
    "vtype_measures = df.groupby(by=['vehicle_type']).agg(\n",
    "                    {'distance_km':'mean',\n",
    "                      'revenue':'sum',\n",
    "                      'origin':pd.Series.mode}\n",
    "                    )\n",
    "print(vtype_measures)\n",
    "print()"
   ]
  },
  {
   "cell_type": "code",
   "execution_count": 56,
   "metadata": {
    "colab": {
     "base_uri": "https://localhost:8080/"
    },
    "executionInfo": {
     "elapsed": 3,
     "status": "ok",
     "timestamp": 1722949103663,
     "user": {
      "displayName": "Buraj Patrakosol",
      "userId": "15915442625378365644"
     },
     "user_tz": -420
    },
    "id": "56K54HJfuHdr",
    "outputId": "5ad8627c-8812-4ee7-ccd3-523c45a6e602"
   },
   "outputs": [
    {
     "name": "stdout",
     "output_type": "stream",
     "text": [
      "              avg_distance  total_revenue most_freq_origin\n",
      "vehicle_type                                              \n",
      "Airplane       5054.947627   1.050049e+09           Phuket\n",
      "Ship           5052.486324   1.052590e+09          Pattaya\n",
      "Truck          5056.012452   1.054601e+09        Khon Kaen\n",
      "Van            5053.673875   1.052400e+09       Chiang Mai\n"
     ]
    }
   ],
   "source": [
    "vtype_measures.columns = ['avg_distance','total_revenue','most_freq_origin']\n",
    "print(vtype_measures)"
   ]
  },
  {
   "cell_type": "code",
   "execution_count": null,
   "metadata": {
    "colab": {
     "base_uri": "https://localhost:8080/"
    },
    "executionInfo": {
     "elapsed": 3,
     "status": "ok",
     "timestamp": 1722949464452,
     "user": {
      "displayName": "Buraj Patrakosol",
      "userId": "15915442625378365644"
     },
     "user_tz": -420
    },
    "id": "Du5it3Crunaw",
    "outputId": "c3f7b589-d145-4fed-81b5-140fe905112a"
   },
   "outputs": [],
   "source": [
    "print(df['destination'].unique())\n",
    "if 'Chula' in df['destination'].unique():\n",
    "  print('Found')\n",
    "else:\n",
    "  print('Not Found')"
   ]
  },
  {
   "cell_type": "code",
   "execution_count": 82,
   "metadata": {},
   "outputs": [
    {
     "data": {
      "text/plain": [
       "numpy.ndarray"
      ]
     },
     "execution_count": 82,
     "metadata": {},
     "output_type": "execute_result"
    }
   ],
   "source": [
    "type(df['destination'].unique())"
   ]
  },
  {
   "cell_type": "code",
   "execution_count": 60,
   "metadata": {},
   "outputs": [
    {
     "data": {
      "text/plain": [
       "{'Dubai', 'London', 'New York', 'Singapore', 'Sydney', 'Tokyo'}"
      ]
     },
     "execution_count": 60,
     "metadata": {},
     "output_type": "execute_result"
    }
   ],
   "source": [
    "set(df['destination'])"
   ]
  },
  {
   "cell_type": "code",
   "execution_count": 62,
   "metadata": {
    "colab": {
     "base_uri": "https://localhost:8080/"
    },
    "executionInfo": {
     "elapsed": 3,
     "status": "ok",
     "timestamp": 1722949464452,
     "user": {
      "displayName": "Buraj Patrakosol",
      "userId": "15915442625378365644"
     },
     "user_tz": -420
    },
    "id": "Du5it3Crunaw",
    "outputId": "c3f7b589-d145-4fed-81b5-140fe905112a"
   },
   "outputs": [
    {
     "name": "stdout",
     "output_type": "stream",
     "text": [
      "{'London', 'Tokyo', 'New York', 'Dubai', 'Singapore', 'Sydney'}\n"
     ]
    }
   ],
   "source": [
    "set_destination = set(df['destination'])\n",
    "print(set_destination)"
   ]
  },
  {
   "cell_type": "code",
   "execution_count": null,
   "metadata": {
    "colab": {
     "base_uri": "https://localhost:8080/"
    },
    "executionInfo": {
     "elapsed": 3,
     "status": "ok",
     "timestamp": 1722949464452,
     "user": {
      "displayName": "Buraj Patrakosol",
      "userId": "15915442625378365644"
     },
     "user_tz": -420
    },
    "id": "Du5it3Crunaw",
    "outputId": "c3f7b589-d145-4fed-81b5-140fe905112a"
   },
   "outputs": [],
   "source": [
    "if 'Chula' in set_destination:\n",
    "  print('Found')\n",
    "else:\n",
    "  print('Not Found')\n",
    "\n",
    "set_origin = set(df['origin'])\n",
    "print(set_origin.union(set_destination))"
   ]
  },
  {
   "cell_type": "code",
   "execution_count": 105,
   "metadata": {},
   "outputs": [
    {
     "data": {
      "text/plain": [
       "<Axes: >"
      ]
     },
     "execution_count": 105,
     "metadata": {},
     "output_type": "execute_result"
    },
    {
     "data": {
      "image/png": "[encoded data removed]",
      "text/plain": [
       "<Figure size 640x480 with 1 Axes>"
      ]
     },
     "metadata": {},
     "output_type": "display_data"
    }
   ],
   "source": [
    "df.boxplot(vert=False)"
   ]
  },
  {
   "cell_type": "code",
   "execution_count": 98,
   "metadata": {},
   "outputs": [
    {
     "data": {
      "text/plain": [
       "customer_satisfaction    Axes(0.125,0.11;0.775x0.77)\n",
       "dtype: object"
      ]
     },
     "execution_count": 98,
     "metadata": {},
     "output_type": "execute_result"
    },
    {
     "data": {
      "image/png": "[encoded data removed]",
      "text/plain": [
       "<Figure size 640x480 with 1 Axes>"
      ]
     },
     "metadata": {},
     "output_type": "display_data"
    }
   ],
   "source": [
    "df.plot(kind='box', by='delivery_status', column='customer_satisfaction')"
   ]
  },
  {
   "cell_type": "code",
   "execution_count": 209,
   "metadata": {
    "colab": {
     "base_uri": "https://localhost:8080/",
     "height": 947
    },
    "executionInfo": {
     "elapsed": 1360,
     "status": "ok",
     "timestamp": 1722950251778,
     "user": {
      "displayName": "Buraj Patrakosol",
      "userId": "15915442625378365644"
     },
     "user_tz": -420
    },
    "id": "ZTTtdA5Ly1OT",
    "outputId": "ad5668ac-1216-4e6e-838c-018a81e1ecc5"
   },
   "outputs": [
    {
     "data": {
      "image/png": "[encoded data removed]",
      "text/plain": [
       "<Figure size 640x480 with 1 Axes>"
      ]
     },
     "metadata": {},
     "output_type": "display_data"
    },
    {
     "data": {
      "image/png": "[encoded data removed]",
      "text/plain": [
       "<Figure size 640x480 with 1 Axes>"
      ]
     },
     "metadata": {},
     "output_type": "display_data"
    }
   ],
   "source": [
    "sns.boxplot(x='delivery_status',y='customer_satisfaction',data=df)\n",
    "plt.title('relationship between delivery_status and customer_satisfaction')\n",
    "plt.show()\n",
    "\n",
    "plt.scatter(df['distance_km'],df['transport_cost'])\n",
    "plt.title('relationship between distance_km and transport_cost')\n",
    "plt.xlabel('distance_km')\n",
    "plt.ylabel('transport_cost')\n",
    "plt.show()"
   ]
  },
  {
   "cell_type": "code",
   "execution_count": 107,
   "metadata": {
    "colab": {
     "base_uri": "https://localhost:8080/"
    },
    "executionInfo": {
     "elapsed": 994,
     "status": "ok",
     "timestamp": 1722950819534,
     "user": {
      "displayName": "Buraj Patrakosol",
      "userId": "15915442625378365644"
     },
     "user_tz": -420
    },
    "id": "EwI5wGLV1yZh",
    "outputId": "39755402-1f45-475b-b1b2-74f0da110823"
   },
   "outputs": [
    {
     "name": "stdout",
     "output_type": "stream",
     "text": [
      "   distance_km distance_category\n",
      "0      1737.89            medium\n",
      "1      8206.58              long\n",
      "2      1438.34            medium\n",
      "3      4271.25            medium\n",
      "4      1367.44            medium\n",
      "5       437.70             short\n",
      "6      8191.13              long\n",
      "7       415.70             short\n",
      "8      6651.43              long\n",
      "9      8259.27              long\n",
      "        distance_km distance_category\n",
      "290271      7581.38              long\n",
      "165984       600.85             short\n",
      "143195      1054.74            medium\n",
      "280922      8212.76              long\n",
      "257273       123.63             short\n",
      "352184      8629.33              long\n",
      "487545      1375.28            medium\n",
      "176001      8359.72              long\n",
      "305092      1815.91            medium\n",
      "413888      4020.50            medium\n"
     ]
    }
   ],
   "source": [
    "def category_distance(d):\n",
    "  if d < 1000:\n",
    "    return 'short'\n",
    "  elif d < 5000:\n",
    "    return 'medium'\n",
    "  else:\n",
    "    return 'long'\n",
    "\n",
    "df['distance_category'] = df['distance_km'].apply(category_distance)\n",
    "print(df[['distance_km','distance_category']].head(10))\n",
    "print(df[['distance_km','distance_category']].sample(10))"
   ]
  },
  {
   "cell_type": "code",
   "execution_count": 109,
   "metadata": {
    "colab": {
     "base_uri": "https://localhost:8080/"
    },
    "executionInfo": {
     "elapsed": 994,
     "status": "ok",
     "timestamp": 1722950819534,
     "user": {
      "displayName": "Buraj Patrakosol",
      "userId": "15915442625378365644"
     },
     "user_tz": -420
    },
    "id": "EwI5wGLV1yZh",
    "outputId": "39755402-1f45-475b-b1b2-74f0da110823"
   },
   "outputs": [
    {
     "name": "stdout",
     "output_type": "stream",
     "text": [
      "    revenue  transport_cost    profit\n",
      "0   2748.14        1983.640   764.500\n",
      "1  12532.73        9021.030  3511.700\n",
      "2   3750.48        2855.150   895.330\n",
      "3   4572.87        3714.920   857.950\n",
      "4   1973.51        1535.690   437.820\n",
      "5    642.65         534.312   108.338\n",
      "6   7020.95        6388.236   632.714\n",
      "7   1489.48         999.650   489.830\n",
      "8   6726.45        5911.570   814.880\n",
      "9   5875.13        5194.720   680.410\n"
     ]
    }
   ],
   "source": [
    "df['profit'] = df.apply(lambda row: (row['revenue'] - row['transport_cost']),axis=1)\n",
    "print(df[['revenue','transport_cost','profit']].head(10))"
   ]
  }
 ],
 "metadata": {
  "colab": {
   "authorship_tag": "ABX9TyPYto/IyDPlsxRhR0IB+KNs",
   "provenance": []
  },
  "kernelspec": {
   "display_name": "Python 3 (ipykernel)",
   "language": "python",
   "name": "python3"
  },
  "language_info": {
   "codemirror_mode": {
    "name": "ipython",
    "version": 3
   },
   "file_extension": ".py",
   "mimetype": "text/x-python",
   "name": "python",
   "nbconvert_exporter": "python",
   "pygments_lexer": "ipython3",
   "version": "3.11.9"
  }
 },
 "nbformat": 4,
 "nbformat_minor": 4
}
