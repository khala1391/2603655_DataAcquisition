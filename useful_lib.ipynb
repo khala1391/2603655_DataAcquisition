{
 "cells": [
  {
   "cell_type": "markdown",
   "id": "c3bf642d",
   "metadata": {},
   "source": [
    "## outline"
   ]
  },
  {
   "cell_type": "code",
   "execution_count": 2,
   "id": "ca02e3b1-6983-42eb-b25c-7ccb0b043626",
   "metadata": {},
   "outputs": [],
   "source": [
    "# https://docs.python.org/3/library/index.html\n",
    "# text processing services\n",
    "import re\n",
    "# data types\n",
    "import datetime\n",
    "import pprint\n",
    "# numeric and maths\n",
    "import random\n",
    "# functional programming\n",
    "import itertools\n",
    "import functools\n",
    "# file and directory access\n",
    "import pathlib\n",
    "import os.path\n",
    "# data persistence\n",
    "import pickle\n",
    "# data compression and archiving\n",
    "import zipfile\n",
    "# generic operating system\n",
    "import os\n",
    "import io\n",
    "import time\n",
    "# internet data handling\n",
    "import json\n",
    "import base64\n",
    "# structured markup processing tool\n",
    "import xml.etree.ElementTree\n",
    "import xml.dom.minidom\n",
    "# internet protocols and support\n",
    "import webbrowser\n",
    "import urllib.request\n",
    "# debugging and profiling\n",
    "import timeit\n",
    "# python runtime services\n",
    "import sys\n",
    "\n",
    "# https://pypi.org/project/pytz/\n",
    "import pytz\n",
    "\n",
    "# https://lxml.de/tutorial.html\n",
    "from lxml import etree\n",
    "\n",
    "# https://ipython.readthedocs.io/en/8.16.0/api/generated/IPython.display.html\n",
    "from IPython.display import Image"
   ]
  },
  {
   "cell_type": "markdown",
   "id": "cc4ff273",
   "metadata": {},
   "source": [
    "### JSON dumps"
   ]
  },
  {
   "cell_type": "code",
   "execution_count": 51,
   "id": "7ce2e213",
   "metadata": {},
   "outputs": [
    {
     "name": "stdout",
     "output_type": "stream",
     "text": [
      "{\n",
      "    \"test1\": {\n",
      "        \"email\": \"angela@gmail.com\",\n",
      "        \"password\": \"!b(BVRZ9m$vr+8\"\n",
      "    },\n",
      "    \"test2\": {\n",
      "        \"email\": \"angela@gmail.com\",\n",
      "        \"password\": \"eH12GA##5&vIRg!b(BVRZ9m$vr+8\"\n",
      "    },\n",
      "    \"test3\": {\n",
      "        \"email\": \"angela@gmail.com\",\n",
      "        \"password\": \"#wpzRt#yFQ5E3\"\n",
      "    },\n",
      "    \"testn\": {\n",
      "        \"email\": \"angela@gmail.com\",\n",
      "        \"password\": \"fy(0(Ek%9BQY$h\"\n",
      "    }\n",
      "}\n"
     ]
    }
   ],
   "source": [
    "## read json file\n",
    "#1 load\n",
    "#2 dumps (json to strinng)\n",
    "\n",
    "with open('data/example.json') as f:\n",
    "  data_json = json.load(f)\n",
    "\n",
    "print(json.dumps(data_json,indent=4))\n"
   ]
  },
  {
   "cell_type": "markdown",
   "id": "ec261e10",
   "metadata": {},
   "source": [
    "### pprint"
   ]
  },
  {
   "cell_type": "code",
   "execution_count": 20,
   "id": "afedd620",
   "metadata": {},
   "outputs": [
    {
     "name": "stdout",
     "output_type": "stream",
     "text": [
      "{   'test1': {   'email': 'angela@gmail.com',\n",
      "                 'password': '!b(BVRZ9m$vr+8'},\n",
      "    'test2': {   'email': 'angela@gmail.com',\n",
      "                 'password': 'eH12GA##5&vIRg!b(BVRZ9m$vr+8'},\n",
      "    'test3': {   'email': 'angela@gmail.com',\n",
      "                 'password': '#wpzRt#yFQ5E3'},\n",
      "    'testn': {   'email': 'angela@gmail.com',\n",
      "                 'password': 'fy(0(Ek%9BQY$h'}}\n"
     ]
    }
   ],
   "source": [
    "import pprint\n",
    "\n",
    "pprint.pprint(data_json, indent=4, width=40)"
   ]
  },
  {
   "cell_type": "code",
   "execution_count": 54,
   "id": "ae761103",
   "metadata": {},
   "outputs": [
    {
     "name": "stdout",
     "output_type": "stream",
     "text": [
      "{\n",
      "    \"test1\": {\n",
      "        \"email\": \"angela@gmail.com\",\n",
      "        \"password\": \"!b(BVRZ9m$vr+8\"\n",
      "    },\n",
      "    \"test2\": {\n",
      "        \"email\": \"angela@gmail.com\",\n",
      "        \"password\": \"eH12GA##5&vIRg!b(BVRZ9m$vr+8\"\n",
      "    },\n",
      "    \"test3\": {\n",
      "        \"email\": \"angela@gmail.com\",\n",
      "        \"password\": \"#wpzRt#yFQ5E3\"\n",
      "    },\n",
      "    \"testn\": {\n",
      "        \"email\": \"angela@gmail.com\",\n",
      "        \"password\": \"fy(0(Ek%9BQY$h\"\n",
      "    }\n",
      "}\n"
     ]
    }
   ],
   "source": [
    "data_dict = json.dumps(data_json,indent=4)\n",
    "print(data_dict)"
   ]
  },
  {
   "cell_type": "markdown",
   "id": "df520c05",
   "metadata": {},
   "source": [
    "### pathlib"
   ]
  },
  {
   "cell_type": "markdown",
   "id": "55da8d1f",
   "metadata": {},
   "source": [
    "- create path object: pathlib.path('...')\n",
    "- join path to file: <path> / <filename.xxx>"
   ]
  },
  {
   "cell_type": "code",
   "execution_count": 58,
   "id": "f1d11787",
   "metadata": {},
   "outputs": [
    {
     "name": "stdout",
     "output_type": "stream",
     "text": [
      "file name new_directory\\sample_file.txt exists\n",
      "test create new file\n"
     ]
    }
   ],
   "source": [
    "import pathlib\n",
    "import os.path\n",
    "\n",
    "path = pathlib.Path('new_directory')\n",
    "\n",
    "if not path.exists():\n",
    "    path.mkdir()      # create path\n",
    "\n",
    "file_path = path / 'sample_file.txt'   # join path with file name\n",
    "with open(file_path, 'w') as f:\n",
    "    f.write(\"test create new file\")\n",
    "\n",
    "if os.path.isfile(file_path):    # check file exist or not\n",
    "    print(f\"file name {file_path} exists\")\n",
    "    with open(file_path) as f:\n",
    "        print(f.read())\n"
   ]
  },
  {
   "cell_type": "code",
   "execution_count": 55,
   "id": "7a6bfe71",
   "metadata": {},
   "outputs": [
    {
     "name": "stdout",
     "output_type": "stream",
     "text": [
      ".\n",
      "cat and dog\n"
     ]
    }
   ],
   "source": [
    "# path = pathlib.Path('')\n",
    "path = pathlib.Path()     # home path\n",
    "print(path)\n",
    "\n",
    "file_path = path / 'text.txt'\n",
    "with open(file_path) as f:\n",
    "    print(f.read())"
   ]
  },
  {
   "cell_type": "code",
   "execution_count": 47,
   "id": "834b6f42",
   "metadata": {},
   "outputs": [
    {
     "name": "stdout",
     "output_type": "stream",
     "text": [
      "new_directory\\new_subdirectory\n",
      "this is sample in sub\n"
     ]
    }
   ],
   "source": [
    "# path = pathlib.Path('')\n",
    "path = pathlib.Path('new_directory/new_subdirectory')\n",
    "print(path)  # output as OS\n",
    "\n",
    "file_path = path / 'sample_insub.txt'   # '/' ==> better join, ignore OS\n",
    "with open(file_path) as f:\n",
    "    print(f.read())"
   ]
  },
  {
   "cell_type": "markdown",
   "id": "8c569a84",
   "metadata": {},
   "source": [
    "### read"
   ]
  },
  {
   "cell_type": "markdown",
   "id": "bcfccd2b",
   "metadata": {},
   "source": [
    "- read()\t\n",
    "  - A single string of all content\t\n",
    "  - For reading small files entirely at once\n",
    "- readline()\t\n",
    "  - A single line at a time\t\n",
    "  - For reading large files line-by-line\n",
    "- readlines()\t\n",
    "  - A list of all lines\t\n",
    "  - For processing all lines in list form"
   ]
  },
  {
   "cell_type": "markdown",
   "id": "f2538fa8",
   "metadata": {},
   "source": [
    "### xx"
   ]
  },
  {
   "cell_type": "code",
   "execution_count": null,
   "id": "6d565e9e",
   "metadata": {},
   "outputs": [],
   "source": [
    "sdsd\n",
    "sdsd\n",
    "sdsd\n",
    "sdsd"
   ]
  }
 ],
 "metadata": {
  "kernelspec": {
   "display_name": "base",
   "language": "python",
   "name": "python3"
  },
  "language_info": {
   "codemirror_mode": {
    "name": "ipython",
    "version": 3
   },
   "file_extension": ".py",
   "mimetype": "text/x-python",
   "name": "python",
   "nbconvert_exporter": "python",
   "pygments_lexer": "ipython3",
   "version": "3.11.9"
  }
 },
 "nbformat": 4,
 "nbformat_minor": 5
}
