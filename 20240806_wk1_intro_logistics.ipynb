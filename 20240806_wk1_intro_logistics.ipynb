{
 "cells": [
  {
   "cell_type": "markdown",
   "metadata": {
    "editable": true,
    "slideshow": {
     "slide_type": ""
    },
    "tags": []
   },
   "source": [
    "# 2603655_DataAcquisition"
   ]
  },
  {
   "cell_type": "markdown",
   "metadata": {
    "editable": true,
    "slideshow": {
     "slide_type": ""
    },
    "tags": []
   },
   "source": [
    "## Week1 20240806"
   ]
  },
  {
   "cell_type": "markdown",
   "metadata": {
    "editable": true,
    "slideshow": {
     "slide_type": ""
    },
    "tags": []
   },
   "source": [
    "---\n",
    "* Author:  [Yuttapong Mahasittiwat](mailto:khala1391@gmail.com)\n",
    "* Technologist | Data Modeler | Data Analyst\n",
    "* [YouTube](https://www.youtube.com/khala1391)\n",
    "* [LinkedIn](https://www.linkedin.com/in/yuttapong-m/)\n",
    "---"
   ]
  },
  {
   "cell_type": "code",
   "execution_count": 4,
   "metadata": {
    "colab": {
     "base_uri": "https://localhost:8080/"
    },
    "editable": true,
    "executionInfo": {
     "elapsed": 450,
     "status": "ok",
     "timestamp": 1722945524622,
     "user": {
      "displayName": "Buraj Patrakosol",
      "userId": "15915442625378365644"
     },
     "user_tz": -420
    },
    "id": "ob6u_X-NhT6T",
    "outputId": "8af79b74-2924-4afe-eb29-4cba74aaeb9d",
    "slideshow": {
     "slide_type": ""
    },
    "tags": []
   },
   "outputs": [
    {
     "name": "stdout",
     "output_type": "stream",
     "text": [
      "pandas version : 2.2.1\n",
      "numpy version : 1.26.4\n",
      "matplotlib version : 3.8.4\n",
      "seaborn version : 0.13.2\n"
     ]
    }
   ],
   "source": [
    "import pandas as pd\n",
    "import matplotlib as mpl\n",
    "import matplotlib.pyplot as plt\n",
    "import seaborn as sns\n",
    "import numpy as np\n",
    "print(\"pandas version :\",pd.__version__)\n",
    "print(\"numpy version :\",np.__version__)\n",
    "print(\"matplotlib version :\",mpl.__version__)\n",
    "print(\"seaborn version :\",sns.__version__)"
   ]
  },
  {
   "cell_type": "code",
   "execution_count": 5,
   "metadata": {
    "colab": {
     "base_uri": "https://localhost:8080/"
    },
    "editable": true,
    "executionInfo": {
     "elapsed": 450,
     "status": "ok",
     "timestamp": 1722945524622,
     "user": {
      "displayName": "Buraj Patrakosol",
      "userId": "15915442625378365644"
     },
     "user_tz": -420
    },
    "id": "ob6u_X-NhT6T",
    "outputId": "8af79b74-2924-4afe-eb29-4cba74aaeb9d",
    "slideshow": {
     "slide_type": ""
    },
    "tags": []
   },
   "outputs": [
    {
     "name": "stdout",
     "output_type": "stream",
     "text": [
      "<class 'pandas.core.frame.DataFrame'>\n",
      "RangeIndex: 100000 entries, 0 to 99999\n",
      "Data columns (total 21 columns):\n",
      " #   Column                   Non-Null Count   Dtype  \n",
      "---  ------                   --------------   -----  \n",
      " 0   shipment_id              100000 non-null  int64  \n",
      " 1   date                     100000 non-null  object \n",
      " 2   origin                   100000 non-null  object \n",
      " 3   destination              100000 non-null  object \n",
      " 4   distance_km              100000 non-null  float64\n",
      " 5   weight_kg                100000 non-null  float64\n",
      " 6   vehicle_type             100000 non-null  object \n",
      " 7   vehicle_age_years        100000 non-null  float64\n",
      " 8   driver_id                100000 non-null  int64  \n",
      " 9   customer_id              100000 non-null  int64  \n",
      " 10  product_type             100000 non-null  object \n",
      " 11  delivery_status          100000 non-null  object \n",
      " 12  delay_hours              100000 non-null  float64\n",
      " 13  transport_cost           100000 non-null  float64\n",
      " 14  revenue                  100000 non-null  float64\n",
      " 15  customer_satisfaction    100000 non-null  float64\n",
      " 16  fuel_consumption_liters  100000 non-null  float64\n",
      " 17  maintenance_cost         100000 non-null  float64\n",
      " 18  month                    100000 non-null  int64  \n",
      " 19  estimated_delivery_days  100000 non-null  float64\n",
      " 20  actual_delivery_days     100000 non-null  float64\n",
      "dtypes: float64(11), int64(4), object(6)\n",
      "memory usage: 16.0+ MB\n",
      "<class 'pandas.core.frame.DataFrame'>\n",
      "RangeIndex: 100000 entries, 0 to 99999\n",
      "Data columns (total 21 columns):\n",
      " #   Column                   Non-Null Count   Dtype         \n",
      "---  ------                   --------------   -----         \n",
      " 0   shipment_id              100000 non-null  int64         \n",
      " 1   date                     100000 non-null  datetime64[ns]\n",
      " 2   origin                   100000 non-null  object        \n",
      " 3   destination              100000 non-null  object        \n",
      " 4   distance_km              100000 non-null  float64       \n",
      " 5   weight_kg                100000 non-null  float64       \n",
      " 6   vehicle_type             100000 non-null  object        \n",
      " 7   vehicle_age_years        100000 non-null  float64       \n",
      " 8   driver_id                100000 non-null  int64         \n",
      " 9   customer_id              100000 non-null  int64         \n",
      " 10  product_type             100000 non-null  object        \n",
      " 11  delivery_status          100000 non-null  object        \n",
      " 12  delay_hours              100000 non-null  float64       \n",
      " 13  transport_cost           100000 non-null  float64       \n",
      " 14  revenue                  100000 non-null  float64       \n",
      " 15  customer_satisfaction    100000 non-null  float64       \n",
      " 16  fuel_consumption_liters  100000 non-null  float64       \n",
      " 17  maintenance_cost         100000 non-null  float64       \n",
      " 18  month                    100000 non-null  int64         \n",
      " 19  estimated_delivery_days  100000 non-null  float64       \n",
      " 20  actual_delivery_days     100000 non-null  float64       \n",
      "dtypes: datetime64[ns](1), float64(11), int64(4), object(5)\n",
      "memory usage: 16.0+ MB\n"
     ]
    }
   ],
   "source": [
    "df = pd.read_csv('data/thaiglobal_logistics_data_rev2.csv')\n",
    "df.info()\n",
    "# df.head()\n",
    "df['date'] = pd.to_datetime(df['date'])\n",
    "df.info()"
   ]
  },
  {
   "cell_type": "markdown",
   "metadata": {},
   "source": [
    "### data slicing"
   ]
  },
  {
   "cell_type": "code",
   "execution_count": 6,
   "metadata": {
    "colab": {
     "base_uri": "https://localhost:8080/"
    },
    "executionInfo": {
     "elapsed": 498,
     "status": "ok",
     "timestamp": 1722945794412,
     "user": {
      "displayName": "Buraj Patrakosol",
      "userId": "15915442625378365644"
     },
     "user_tz": -420
    },
    "id": "lvvF3Ac1jzhj",
    "outputId": "6225db0c-22e7-4d84-93ba-a3fc91a0a334"
   },
   "outputs": [
    {
     "name": "stdout",
     "output_type": "stream",
     "text": [
      "    origin   revenue\n",
      "0  Bangkok   7678.96\n",
      "1  Bangkok    631.55\n",
      "2  Pattaya  40442.32\n",
      "3   Phuket   6956.18\n",
      "4  Pattaya  16015.77\n"
     ]
    }
   ],
   "source": [
    "# a = df['origin']\n",
    "# b = df[['origin']]\n",
    "# print(a.head())\n",
    "# print(b.head())\n",
    "\n",
    "## a = df['origin','revenue']\n",
    "## print(a.head())\n",
    "# b = df[['origin','revenue']]\n",
    "# print(b.head())\n",
    "\n",
    "b = df[['origin','revenue']].copy()\n",
    "print(b.head())"
   ]
  },
  {
   "cell_type": "code",
   "execution_count": 7,
   "metadata": {
    "colab": {
     "base_uri": "https://localhost:8080/"
    },
    "executionInfo": {
     "elapsed": 420,
     "status": "ok",
     "timestamp": 1722946638227,
     "user": {
      "displayName": "Buraj Patrakosol",
      "userId": "15915442625378365644"
     },
     "user_tz": -420
    },
    "id": "QoB858G1lLTa",
    "outputId": "f2719aaf-ce90-4b5b-9ca2-86b7948b4dd8"
   },
   "outputs": [
    {
     "name": "stdout",
     "output_type": "stream",
     "text": [
      "    origin   revenue  on_time\n",
      "0  Bangkok   7678.96     True\n",
      "1  Bangkok    631.55    False\n",
      "2  Pattaya  40442.32    False\n",
      "3   Phuket   6956.18     True\n",
      "4  Pattaya  16015.77     True\n",
      "<class 'pandas.core.frame.DataFrame'>\n",
      "RangeIndex: 100000 entries, 0 to 99999\n",
      "Data columns (total 3 columns):\n",
      " #   Column   Non-Null Count   Dtype  \n",
      "---  ------   --------------   -----  \n",
      " 0   origin   100000 non-null  object \n",
      " 1   revenue  100000 non-null  float64\n",
      " 2   on_time  100000 non-null  bool   \n",
      "dtypes: bool(1), float64(1), object(1)\n",
      "memory usage: 1.6+ MB\n",
      "<class 'pandas.core.frame.DataFrame'>\n",
      "Index: 79946 entries, 0 to 99999\n",
      "Data columns (total 21 columns):\n",
      " #   Column                   Non-Null Count  Dtype         \n",
      "---  ------                   --------------  -----         \n",
      " 0   shipment_id              79946 non-null  int64         \n",
      " 1   date                     79946 non-null  datetime64[ns]\n",
      " 2   origin                   79946 non-null  object        \n",
      " 3   destination              79946 non-null  object        \n",
      " 4   distance_km              79946 non-null  float64       \n",
      " 5   weight_kg                79946 non-null  float64       \n",
      " 6   vehicle_type             79946 non-null  object        \n",
      " 7   vehicle_age_years        79946 non-null  float64       \n",
      " 8   driver_id                79946 non-null  int64         \n",
      " 9   customer_id              79946 non-null  int64         \n",
      " 10  product_type             79946 non-null  object        \n",
      " 11  delivery_status          79946 non-null  object        \n",
      " 12  delay_hours              79946 non-null  float64       \n",
      " 13  transport_cost           79946 non-null  float64       \n",
      " 14  revenue                  79946 non-null  float64       \n",
      " 15  customer_satisfaction    79946 non-null  float64       \n",
      " 16  fuel_consumption_liters  79946 non-null  float64       \n",
      " 17  maintenance_cost         79946 non-null  float64       \n",
      " 18  month                    79946 non-null  int64         \n",
      " 19  estimated_delivery_days  79946 non-null  float64       \n",
      " 20  actual_delivery_days     79946 non-null  float64       \n",
      "dtypes: datetime64[ns](1), float64(11), int64(4), object(5)\n",
      "memory usage: 13.4+ MB\n"
     ]
    }
   ],
   "source": [
    "# df['delivery_status'].value_counts()\n",
    "# ontime_delivery = df[df['delivery_status'] == 'On Time']\n",
    "# ontime_delivery.info()\n",
    "\n",
    "mask = df['delivery_status'] == 'On Time'\n",
    "a = df[['origin','revenue']].copy()\n",
    "a['on_time'] = mask\n",
    "print(a.head())\n",
    "a.info()\n",
    "\n",
    "ontime_delivery = df[mask]\n",
    "ontime_delivery.info()"
   ]
  },
  {
   "cell_type": "code",
   "execution_count": 8,
   "metadata": {
    "colab": {
     "base_uri": "https://localhost:8080/",
     "height": 290
    },
    "executionInfo": {
     "elapsed": 452,
     "status": "ok",
     "timestamp": 1722947215275,
     "user": {
      "displayName": "Buraj Patrakosol",
      "userId": "15915442625378365644"
     },
     "user_tz": -420
    },
    "id": "7l3x1MFnpOAM",
    "outputId": "b5119516-a489-4f09-8eb2-589f39788e0b"
   },
   "outputs": [
    {
     "name": "stdout",
     "output_type": "stream",
     "text": [
      "(19919, 21)\n"
     ]
    },
    {
     "data": {
      "text/html": [
       "<div>\n",
       "<style scoped>\n",
       "    .dataframe tbody tr th:only-of-type {\n",
       "        vertical-align: middle;\n",
       "    }\n",
       "\n",
       "    .dataframe tbody tr th {\n",
       "        vertical-align: top;\n",
       "    }\n",
       "\n",
       "    .dataframe thead th {\n",
       "        text-align: right;\n",
       "    }\n",
       "</style>\n",
       "<table border=\"1\" class=\"dataframe\">\n",
       "  <thead>\n",
       "    <tr style=\"text-align: right;\">\n",
       "      <th></th>\n",
       "      <th>shipment_id</th>\n",
       "      <th>date</th>\n",
       "      <th>origin</th>\n",
       "      <th>destination</th>\n",
       "      <th>distance_km</th>\n",
       "      <th>weight_kg</th>\n",
       "      <th>vehicle_type</th>\n",
       "      <th>vehicle_age_years</th>\n",
       "      <th>driver_id</th>\n",
       "      <th>customer_id</th>\n",
       "      <th>...</th>\n",
       "      <th>delivery_status</th>\n",
       "      <th>delay_hours</th>\n",
       "      <th>transport_cost</th>\n",
       "      <th>revenue</th>\n",
       "      <th>customer_satisfaction</th>\n",
       "      <th>fuel_consumption_liters</th>\n",
       "      <th>maintenance_cost</th>\n",
       "      <th>month</th>\n",
       "      <th>estimated_delivery_days</th>\n",
       "      <th>actual_delivery_days</th>\n",
       "    </tr>\n",
       "  </thead>\n",
       "  <tbody>\n",
       "    <tr>\n",
       "      <th>8</th>\n",
       "      <td>9</td>\n",
       "      <td>2022-05-02</td>\n",
       "      <td>Chiang Mai</td>\n",
       "      <td>Tokyo</td>\n",
       "      <td>8849.05</td>\n",
       "      <td>332.70</td>\n",
       "      <td>Airplane</td>\n",
       "      <td>7.2</td>\n",
       "      <td>155</td>\n",
       "      <td>5435</td>\n",
       "      <td>...</td>\n",
       "      <td>On Time</td>\n",
       "      <td>0.0</td>\n",
       "      <td>15307.48</td>\n",
       "      <td>22501.27</td>\n",
       "      <td>4.46</td>\n",
       "      <td>2212.26</td>\n",
       "      <td>2973.88</td>\n",
       "      <td>5</td>\n",
       "      <td>17.8</td>\n",
       "      <td>17.8</td>\n",
       "    </tr>\n",
       "    <tr>\n",
       "      <th>15</th>\n",
       "      <td>16</td>\n",
       "      <td>2022-04-10</td>\n",
       "      <td>Bangkok</td>\n",
       "      <td>Dubai</td>\n",
       "      <td>9534.71</td>\n",
       "      <td>759.74</td>\n",
       "      <td>Truck</td>\n",
       "      <td>3.5</td>\n",
       "      <td>104</td>\n",
       "      <td>3430</td>\n",
       "      <td>...</td>\n",
       "      <td>On Time</td>\n",
       "      <td>0.0</td>\n",
       "      <td>17773.18</td>\n",
       "      <td>23223.99</td>\n",
       "      <td>4.87</td>\n",
       "      <td>1589.12</td>\n",
       "      <td>1401.19</td>\n",
       "      <td>4</td>\n",
       "      <td>19.2</td>\n",
       "      <td>19.2</td>\n",
       "    </tr>\n",
       "    <tr>\n",
       "      <th>16</th>\n",
       "      <td>17</td>\n",
       "      <td>2023-10-26</td>\n",
       "      <td>Bangkok</td>\n",
       "      <td>Tokyo</td>\n",
       "      <td>7598.83</td>\n",
       "      <td>411.75</td>\n",
       "      <td>Van</td>\n",
       "      <td>8.1</td>\n",
       "      <td>435</td>\n",
       "      <td>2332</td>\n",
       "      <td>...</td>\n",
       "      <td>On Time</td>\n",
       "      <td>0.0</td>\n",
       "      <td>20987.39</td>\n",
       "      <td>25208.33</td>\n",
       "      <td>4.89</td>\n",
       "      <td>949.85</td>\n",
       "      <td>1639.26</td>\n",
       "      <td>10</td>\n",
       "      <td>15.2</td>\n",
       "      <td>15.2</td>\n",
       "    </tr>\n",
       "    <tr>\n",
       "      <th>17</th>\n",
       "      <td>18</td>\n",
       "      <td>2022-05-11</td>\n",
       "      <td>Bangkok</td>\n",
       "      <td>Sydney</td>\n",
       "      <td>6783.54</td>\n",
       "      <td>403.26</td>\n",
       "      <td>Van</td>\n",
       "      <td>0.8</td>\n",
       "      <td>57</td>\n",
       "      <td>8070</td>\n",
       "      <td>...</td>\n",
       "      <td>On Time</td>\n",
       "      <td>0.0</td>\n",
       "      <td>21468.70</td>\n",
       "      <td>26913.08</td>\n",
       "      <td>4.21</td>\n",
       "      <td>847.94</td>\n",
       "      <td>523.98</td>\n",
       "      <td>5</td>\n",
       "      <td>12.5</td>\n",
       "      <td>12.5</td>\n",
       "    </tr>\n",
       "    <tr>\n",
       "      <th>27</th>\n",
       "      <td>28</td>\n",
       "      <td>2023-04-05</td>\n",
       "      <td>Khon Kaen</td>\n",
       "      <td>Tokyo</td>\n",
       "      <td>3479.57</td>\n",
       "      <td>1238.71</td>\n",
       "      <td>Airplane</td>\n",
       "      <td>3.0</td>\n",
       "      <td>143</td>\n",
       "      <td>577</td>\n",
       "      <td>...</td>\n",
       "      <td>On Time</td>\n",
       "      <td>0.0</td>\n",
       "      <td>17481.51</td>\n",
       "      <td>24686.61</td>\n",
       "      <td>4.89</td>\n",
       "      <td>869.89</td>\n",
       "      <td>650.91</td>\n",
       "      <td>4</td>\n",
       "      <td>6.9</td>\n",
       "      <td>6.9</td>\n",
       "    </tr>\n",
       "  </tbody>\n",
       "</table>\n",
       "<p>5 rows × 21 columns</p>\n",
       "</div>"
      ],
      "text/plain": [
       "    shipment_id       date      origin destination  distance_km  weight_kg  \\\n",
       "8             9 2022-05-02  Chiang Mai       Tokyo      8849.05     332.70   \n",
       "15           16 2022-04-10     Bangkok       Dubai      9534.71     759.74   \n",
       "16           17 2023-10-26     Bangkok       Tokyo      7598.83     411.75   \n",
       "17           18 2022-05-11     Bangkok      Sydney      6783.54     403.26   \n",
       "27           28 2023-04-05   Khon Kaen       Tokyo      3479.57    1238.71   \n",
       "\n",
       "   vehicle_type  vehicle_age_years  driver_id  customer_id  ...  \\\n",
       "8      Airplane                7.2        155         5435  ...   \n",
       "15        Truck                3.5        104         3430  ...   \n",
       "16          Van                8.1        435         2332  ...   \n",
       "17          Van                0.8         57         8070  ...   \n",
       "27     Airplane                3.0        143          577  ...   \n",
       "\n",
       "   delivery_status delay_hours  transport_cost   revenue  \\\n",
       "8          On Time         0.0        15307.48  22501.27   \n",
       "15         On Time         0.0        17773.18  23223.99   \n",
       "16         On Time         0.0        20987.39  25208.33   \n",
       "17         On Time         0.0        21468.70  26913.08   \n",
       "27         On Time         0.0        17481.51  24686.61   \n",
       "\n",
       "    customer_satisfaction  fuel_consumption_liters  maintenance_cost  month  \\\n",
       "8                    4.46                  2212.26           2973.88      5   \n",
       "15                   4.87                  1589.12           1401.19      4   \n",
       "16                   4.89                   949.85           1639.26     10   \n",
       "17                   4.21                   847.94            523.98      5   \n",
       "27                   4.89                   869.89            650.91      4   \n",
       "\n",
       "    estimated_delivery_days  actual_delivery_days  \n",
       "8                      17.8                  17.8  \n",
       "15                     19.2                  19.2  \n",
       "16                     15.2                  15.2  \n",
       "17                     12.5                  12.5  \n",
       "27                      6.9                   6.9  \n",
       "\n",
       "[5 rows x 21 columns]"
      ]
     },
     "execution_count": 8,
     "metadata": {},
     "output_type": "execute_result"
    }
   ],
   "source": [
    "# mask1 = df['delivery_status'] == 'On Time'\n",
    "# mask2 = df['revenue'] > df['revenue'].quantile(0.75)\n",
    "# a = df[mask1 & mask2]\n",
    "# print(a.shape)\n",
    "# a.head()\n",
    "\n",
    "a = df[(df['delivery_status'] == 'On Time') & (df['revenue'] > df['revenue'].quantile(0.75))]\n",
    "print(a.shape)\n",
    "a.head()"
   ]
  },
  {
   "cell_type": "markdown",
   "metadata": {},
   "source": [
    "### Dictionary in Dictionary"
   ]
  },
  {
   "cell_type": "code",
   "execution_count": 9,
   "metadata": {
    "colab": {
     "base_uri": "https://localhost:8080/",
     "height": 1000
    },
    "executionInfo": {
     "elapsed": 596,
     "status": "ok",
     "timestamp": 1722948138998,
     "user": {
      "displayName": "Buraj Patrakosol",
      "userId": "15915442625378365644"
     },
     "user_tz": -420
    },
    "id": "qWjDozWrqlYU",
    "outputId": "b65aaa79-11bf-4bd3-bf76-caf821538363"
   },
   "outputs": [
    {
     "name": "stdout",
     "output_type": "stream",
     "text": [
      "{'Ship': 5069.631199695975, 'Truck': 5051.043256590863, 'Airplane': 5057.025628270176, 'Van': 5046.9435573027395}\n"
     ]
    }
   ],
   "source": [
    "import json\n",
    "\n",
    "# df[df['vehicle_type'] == 'Truck']['distance_km'].mean()\n",
    "\n",
    "# dict / list comprehension\n",
    "avg_distance_vehicle = {vtype: df[df['vehicle_type'] == vtype]['distance_km'].mean()\n",
    "                               for vtype in df['vehicle_type'].unique()}\n",
    "print(avg_distance_vehicle)"
   ]
  },
  {
   "cell_type": "code",
   "execution_count": 10,
   "metadata": {
    "colab": {
     "base_uri": "https://localhost:8080/",
     "height": 1000
    },
    "executionInfo": {
     "elapsed": 596,
     "status": "ok",
     "timestamp": 1722948138998,
     "user": {
      "displayName": "Buraj Patrakosol",
      "userId": "15915442625378365644"
     },
     "user_tz": -420
    },
    "id": "qWjDozWrqlYU",
    "outputId": "b65aaa79-11bf-4bd3-bf76-caf821538363"
   },
   "outputs": [
    {
     "data": {
      "text/plain": [
       "{'Bangkok - Tokyo': {'avg_cost': 12147.340389861196,\n",
       "  'avg_revenue': 14997.5643995172},\n",
       " 'Bangkok - New York': {'avg_cost': 11710.611782723281,\n",
       "  'avg_revenue': 14510.723121522695},\n",
       " 'Bangkok - Sydney': {'avg_cost': 12000.516856193353,\n",
       "  'avg_revenue': 14902.151045317221},\n",
       " 'Bangkok - Dubai': {'avg_cost': 11984.114799396682,\n",
       "  'avg_revenue': 14875.25566515837},\n",
       " 'Bangkok - Singapore': {'avg_cost': 11908.647147805315,\n",
       "  'avg_revenue': 14696.449214690952},\n",
       " 'Bangkok - London': {'avg_cost': 11854.573618297485,\n",
       "  'avg_revenue': 14709.241841866104},\n",
       " 'Pattaya - Tokyo': {'avg_cost': 11874.067309488619,\n",
       "  'avg_revenue': 14719.038167307126},\n",
       " 'Pattaya - New York': {'avg_cost': 11818.997662752183,\n",
       "  'avg_revenue': 14629.654170430593},\n",
       " 'Pattaya - Sydney': {'avg_cost': 12012.773601938805,\n",
       "  'avg_revenue': 14854.12924265374},\n",
       " 'Pattaya - Dubai': {'avg_cost': 12050.34029984917,\n",
       "  'avg_revenue': 14884.964558069383},\n",
       " 'Pattaya - Singapore': {'avg_cost': 12125.839289417505,\n",
       "  'avg_revenue': 15006.205699908507},\n",
       " 'Pattaya - London': {'avg_cost': 11720.918409515207,\n",
       "  'avg_revenue': 14569.467717554955},\n",
       " 'Phuket - Tokyo': {'avg_cost': 11971.869030303029,\n",
       "  'avg_revenue': 14782.709709338282},\n",
       " 'Phuket - New York': {'avg_cost': 11956.392216040247,\n",
       "  'avg_revenue': 14790.473450725067},\n",
       " 'Phuket - Sydney': {'avg_cost': 12010.801214199028,\n",
       "  'avg_revenue': 14776.24723300971},\n",
       " 'Phuket - Dubai': {'avg_cost': 11794.691334516416,\n",
       "  'avg_revenue': 14571.280984915706},\n",
       " 'Phuket - Singapore': {'avg_cost': 12042.459939945407,\n",
       "  'avg_revenue': 14892.389281164695},\n",
       " 'Phuket - London': {'avg_cost': 11873.514136131935,\n",
       "  'avg_revenue': 14659.615340329834},\n",
       " 'Khon Kaen - Tokyo': {'avg_cost': 12171.008329749104,\n",
       "  'avg_revenue': 15079.261281362005},\n",
       " 'Khon Kaen - New York': {'avg_cost': 12028.9375,\n",
       "  'avg_revenue': 14948.051989436623},\n",
       " 'Khon Kaen - Sydney': {'avg_cost': 12006.273021137244,\n",
       "  'avg_revenue': 14849.291369455195},\n",
       " 'Khon Kaen - Dubai': {'avg_cost': 11908.28587334934,\n",
       "  'avg_revenue': 14653.313487394955},\n",
       " 'Khon Kaen - Singapore': {'avg_cost': 11894.755775205605,\n",
       "  'avg_revenue': 14715.739805056352},\n",
       " 'Khon Kaen - London': {'avg_cost': 11716.735155968809,\n",
       "  'avg_revenue': 14471.578368326334},\n",
       " 'Chiang Mai - Tokyo': {'avg_cost': 11568.023802388061,\n",
       "  'avg_revenue': 14297.00911641791},\n",
       " 'Chiang Mai - New York': {'avg_cost': 12043.066263517714,\n",
       "  'avg_revenue': 14992.88064325668},\n",
       " 'Chiang Mai - Sydney': {'avg_cost': 11973.03694377267,\n",
       "  'avg_revenue': 14871.226399637246},\n",
       " 'Chiang Mai - Dubai': {'avg_cost': 11884.342582983822,\n",
       "  'avg_revenue': 14752.187264829241},\n",
       " 'Chiang Mai - Singapore': {'avg_cost': 11807.979951459118,\n",
       "  'avg_revenue': 14620.238433978619},\n",
       " 'Chiang Mai - London': {'avg_cost': 11788.670579209369,\n",
       "  'avg_revenue': 14614.16575988287}}"
      ]
     },
     "metadata": {},
     "output_type": "display_data"
    }
   ],
   "source": [
    "# route_summary = dict()\n",
    "route_summary = {}\n",
    "for origin in df['origin'].unique():\n",
    "  for destination in df['destination'].unique():\n",
    "    # key = f'{origin} - {destination}'\n",
    "    key = '{0} - {1}'.format(origin,destination)\n",
    "    # summary = dict()\n",
    "    summary = {}\n",
    "    summary['avg_cost'] = df[(df['origin'] == origin) & (df['destination'] == destination)]['transport_cost'].mean()\n",
    "    summary['avg_revenue'] = df[(df['origin'] == origin) & (df['destination'] == destination)]['revenue'].mean()\n",
    "    route_summary[key] = summary\n",
    "# print(route_summary)\n",
    "display(route_summary)"
   ]
  },
  {
   "cell_type": "code",
   "execution_count": 12,
   "metadata": {
    "colab": {
     "base_uri": "https://localhost:8080/",
     "height": 1000
    },
    "executionInfo": {
     "elapsed": 596,
     "status": "ok",
     "timestamp": 1722948138998,
     "user": {
      "displayName": "Buraj Patrakosol",
      "userId": "15915442625378365644"
     },
     "user_tz": -420
    },
    "id": "qWjDozWrqlYU",
    "outputId": "b65aaa79-11bf-4bd3-bf76-caf821538363"
   },
   "outputs": [
    {
     "data": {
      "text/plain": [
       "{'Bangkok - Tokyo': {'avg_cost': 12147.340389861196,\n",
       "  'avg_revenue': 14997.5643995172},\n",
       " 'Bangkok - New York': {'avg_cost': 11710.611782723281,\n",
       "  'avg_revenue': 14510.723121522695},\n",
       " 'Bangkok - Sydney': {'avg_cost': 12000.516856193353,\n",
       "  'avg_revenue': 14902.151045317221},\n",
       " 'Bangkok - Dubai': {'avg_cost': 11984.114799396682,\n",
       "  'avg_revenue': 14875.25566515837},\n",
       " 'Bangkok - Singapore': {'avg_cost': 11908.647147805315,\n",
       "  'avg_revenue': 14696.449214690952},\n",
       " 'Bangkok - London': {'avg_cost': 11854.573618297485,\n",
       "  'avg_revenue': 14709.241841866104},\n",
       " 'Pattaya - Tokyo': {'avg_cost': 11874.067309488619,\n",
       "  'avg_revenue': 14719.038167307126},\n",
       " 'Pattaya - New York': {'avg_cost': 11818.997662752183,\n",
       "  'avg_revenue': 14629.654170430593},\n",
       " 'Pattaya - Sydney': {'avg_cost': 12012.773601938805,\n",
       "  'avg_revenue': 14854.12924265374},\n",
       " 'Pattaya - Dubai': {'avg_cost': 12050.34029984917,\n",
       "  'avg_revenue': 14884.964558069383},\n",
       " 'Pattaya - Singapore': {'avg_cost': 12125.839289417505,\n",
       "  'avg_revenue': 15006.205699908507},\n",
       " 'Pattaya - London': {'avg_cost': 11720.918409515207,\n",
       "  'avg_revenue': 14569.467717554955},\n",
       " 'Phuket - Tokyo': {'avg_cost': 11971.869030303029,\n",
       "  'avg_revenue': 14782.709709338282},\n",
       " 'Phuket - New York': {'avg_cost': 11956.392216040247,\n",
       "  'avg_revenue': 14790.473450725067},\n",
       " 'Phuket - Sydney': {'avg_cost': 12010.801214199028,\n",
       "  'avg_revenue': 14776.24723300971},\n",
       " 'Phuket - Dubai': {'avg_cost': 11794.691334516416,\n",
       "  'avg_revenue': 14571.280984915706},\n",
       " 'Phuket - Singapore': {'avg_cost': 12042.459939945407,\n",
       "  'avg_revenue': 14892.389281164695},\n",
       " 'Phuket - London': {'avg_cost': 11873.514136131935,\n",
       "  'avg_revenue': 14659.615340329834},\n",
       " 'Khon Kaen - Tokyo': {'avg_cost': 12171.008329749104,\n",
       "  'avg_revenue': 15079.261281362005},\n",
       " 'Khon Kaen - New York': {'avg_cost': 12028.9375,\n",
       "  'avg_revenue': 14948.051989436623},\n",
       " 'Khon Kaen - Sydney': {'avg_cost': 12006.273021137244,\n",
       "  'avg_revenue': 14849.291369455195},\n",
       " 'Khon Kaen - Dubai': {'avg_cost': 11908.28587334934,\n",
       "  'avg_revenue': 14653.313487394955},\n",
       " 'Khon Kaen - Singapore': {'avg_cost': 11894.755775205605,\n",
       "  'avg_revenue': 14715.739805056352},\n",
       " 'Khon Kaen - London': {'avg_cost': 11716.735155968809,\n",
       "  'avg_revenue': 14471.578368326334},\n",
       " 'Chiang Mai - Tokyo': {'avg_cost': 11568.023802388061,\n",
       "  'avg_revenue': 14297.00911641791},\n",
       " 'Chiang Mai - New York': {'avg_cost': 12043.066263517714,\n",
       "  'avg_revenue': 14992.88064325668},\n",
       " 'Chiang Mai - Sydney': {'avg_cost': 11973.03694377267,\n",
       "  'avg_revenue': 14871.226399637246},\n",
       " 'Chiang Mai - Dubai': {'avg_cost': 11884.342582983822,\n",
       "  'avg_revenue': 14752.187264829241},\n",
       " 'Chiang Mai - Singapore': {'avg_cost': 11807.979951459118,\n",
       "  'avg_revenue': 14620.238433978619},\n",
       " 'Chiang Mai - London': {'avg_cost': 11788.670579209369,\n",
       "  'avg_revenue': 14614.16575988287}}"
      ]
     },
     "metadata": {},
     "output_type": "display_data"
    }
   ],
   "source": [
    "# route_summary = dict()\n",
    "route_summary = dict()\n",
    "for origin in df['origin'].unique():\n",
    "  for destination in df['destination'].unique():\n",
    "    # key = f'{origin} - {destination}'\n",
    "    key = '{0} - {1}'.format(origin,destination)\n",
    "    # summary = dict()\n",
    "    summary = dict()\n",
    "    summary['avg_cost'] = df[(df['origin'] == origin) & (df['destination'] == destination)]['transport_cost'].mean()\n",
    "    summary['avg_revenue'] = df[(df['origin'] == origin) & (df['destination'] == destination)]['revenue'].mean()\n",
    "    route_summary[key] = summary\n",
    "# print(route_summary)\n",
    "display(route_summary)"
   ]
  },
  {
   "cell_type": "code",
   "execution_count": 13,
   "metadata": {
    "colab": {
     "base_uri": "https://localhost:8080/",
     "height": 1000
    },
    "executionInfo": {
     "elapsed": 596,
     "status": "ok",
     "timestamp": 1722948138998,
     "user": {
      "displayName": "Buraj Patrakosol",
      "userId": "15915442625378365644"
     },
     "user_tz": -420
    },
    "id": "qWjDozWrqlYU",
    "outputId": "b65aaa79-11bf-4bd3-bf76-caf821538363",
    "scrolled": true
   },
   "outputs": [
    {
     "name": "stdout",
     "output_type": "stream",
     "text": [
      "{\n",
      "  \"Bangkok - Tokyo\": {\n",
      "    \"avg_cost\": 12147.340389861196,\n",
      "    \"avg_revenue\": 14997.5643995172\n",
      "  },\n",
      "  \"Bangkok - New York\": {\n",
      "    \"avg_cost\": 11710.611782723281,\n",
      "    \"avg_revenue\": 14510.723121522695\n",
      "  },\n",
      "  \"Bangkok - Sydney\": {\n",
      "    \"avg_cost\": 12000.516856193353,\n",
      "    \"avg_revenue\": 14902.151045317221\n",
      "  },\n",
      "  \"Bangkok - Dubai\": {\n",
      "    \"avg_cost\": 11984.114799396682,\n",
      "    \"avg_revenue\": 14875.25566515837\n",
      "  },\n",
      "  \"Bangkok - Singapore\": {\n",
      "    \"avg_cost\": 11908.647147805315,\n",
      "    \"avg_revenue\": 14696.449214690952\n",
      "  },\n",
      "  \"Bangkok - London\": {\n",
      "    \"avg_cost\": 11854.573618297485,\n",
      "    \"avg_revenue\": 14709.241841866104\n",
      "  },\n",
      "  \"Pattaya - Tokyo\": {\n",
      "    \"avg_cost\": 11874.067309488619,\n",
      "    \"avg_revenue\": 14719.038167307126\n",
      "  },\n",
      "  \"Pattaya - New York\": {\n",
      "    \"avg_cost\": 11818.997662752183,\n",
      "    \"avg_revenue\": 14629.654170430593\n",
      "  },\n",
      "  \"Pattaya - Sydney\": {\n",
      "    \"avg_cost\": 12012.773601938805,\n",
      "    \"avg_revenue\": 14854.12924265374\n",
      "  },\n",
      "  \"Pattaya - Dubai\": {\n",
      "    \"avg_cost\": 12050.34029984917,\n",
      "    \"avg_revenue\": 14884.964558069383\n",
      "  },\n",
      "  \"Pattaya - Singapore\": {\n",
      "    \"avg_cost\": 12125.839289417505,\n",
      "    \"avg_revenue\": 15006.205699908507\n",
      "  },\n",
      "  \"Pattaya - London\": {\n",
      "    \"avg_cost\": 11720.918409515207,\n",
      "    \"avg_revenue\": 14569.467717554955\n",
      "  },\n",
      "  \"Phuket - Tokyo\": {\n",
      "    \"avg_cost\": 11971.869030303029,\n",
      "    \"avg_revenue\": 14782.709709338282\n",
      "  },\n",
      "  \"Phuket - New York\": {\n",
      "    \"avg_cost\": 11956.392216040247,\n",
      "    \"avg_revenue\": 14790.473450725067\n",
      "  },\n",
      "  \"Phuket - Sydney\": {\n",
      "    \"avg_cost\": 12010.801214199028,\n",
      "    \"avg_revenue\": 14776.24723300971\n",
      "  },\n",
      "  \"Phuket - Dubai\": {\n",
      "    \"avg_cost\": 11794.691334516416,\n",
      "    \"avg_revenue\": 14571.280984915706\n",
      "  },\n",
      "  \"Phuket - Singapore\": {\n",
      "    \"avg_cost\": 12042.459939945407,\n",
      "    \"avg_revenue\": 14892.389281164695\n",
      "  },\n",
      "  \"Phuket - London\": {\n",
      "    \"avg_cost\": 11873.514136131935,\n",
      "    \"avg_revenue\": 14659.615340329834\n",
      "  },\n",
      "  \"Khon Kaen - Tokyo\": {\n",
      "    \"avg_cost\": 12171.008329749104,\n",
      "    \"avg_revenue\": 15079.261281362005\n",
      "  },\n",
      "  \"Khon Kaen - New York\": {\n",
      "    \"avg_cost\": 12028.9375,\n",
      "    \"avg_revenue\": 14948.051989436623\n",
      "  },\n",
      "  \"Khon Kaen - Sydney\": {\n",
      "    \"avg_cost\": 12006.273021137244,\n",
      "    \"avg_revenue\": 14849.291369455195\n",
      "  },\n",
      "  \"Khon Kaen - Dubai\": {\n",
      "    \"avg_cost\": 11908.28587334934,\n",
      "    \"avg_revenue\": 14653.313487394955\n",
      "  },\n",
      "  \"Khon Kaen - Singapore\": {\n",
      "    \"avg_cost\": 11894.755775205605,\n",
      "    \"avg_revenue\": 14715.739805056352\n",
      "  },\n",
      "  \"Khon Kaen - London\": {\n",
      "    \"avg_cost\": 11716.735155968809,\n",
      "    \"avg_revenue\": 14471.578368326334\n",
      "  },\n",
      "  \"Chiang Mai - Tokyo\": {\n",
      "    \"avg_cost\": 11568.023802388061,\n",
      "    \"avg_revenue\": 14297.00911641791\n",
      "  },\n",
      "  \"Chiang Mai - New York\": {\n",
      "    \"avg_cost\": 12043.066263517714,\n",
      "    \"avg_revenue\": 14992.88064325668\n",
      "  },\n",
      "  \"Chiang Mai - Sydney\": {\n",
      "    \"avg_cost\": 11973.03694377267,\n",
      "    \"avg_revenue\": 14871.226399637246\n",
      "  },\n",
      "  \"Chiang Mai - Dubai\": {\n",
      "    \"avg_cost\": 11884.342582983822,\n",
      "    \"avg_revenue\": 14752.187264829241\n",
      "  },\n",
      "  \"Chiang Mai - Singapore\": {\n",
      "    \"avg_cost\": 11807.979951459118,\n",
      "    \"avg_revenue\": 14620.238433978619\n",
      "  },\n",
      "  \"Chiang Mai - London\": {\n",
      "    \"avg_cost\": 11788.670579209369,\n",
      "    \"avg_revenue\": 14614.16575988287\n",
      "  }\n",
      "}\n"
     ]
    }
   ],
   "source": [
    "print(json.dumps(route_summary,indent=2))"
   ]
  },
  {
   "cell_type": "code",
   "execution_count": 15,
   "metadata": {},
   "outputs": [],
   "source": [
    "import pprint as pprint"
   ]
  },
  {
   "cell_type": "code",
   "execution_count": 16,
   "metadata": {},
   "outputs": [
    {
     "name": "stdout",
     "output_type": "stream",
     "text": [
      "{'Bangkok - Dubai': {'avg_cost': 11984.114799396682,\n",
      "                     'avg_revenue': 14875.25566515837},\n",
      " 'Bangkok - London': {'avg_cost': 11854.573618297485,\n",
      "                      'avg_revenue': 14709.241841866104},\n",
      " 'Bangkok - New York': {'avg_cost': 11710.611782723281,\n",
      "                        'avg_revenue': 14510.723121522695},\n",
      " 'Bangkok - Singapore': {'avg_cost': 11908.647147805315,\n",
      "                         'avg_revenue': 14696.449214690952},\n",
      " 'Bangkok - Sydney': {'avg_cost': 12000.516856193353,\n",
      "                      'avg_revenue': 14902.151045317221},\n",
      " 'Bangkok - Tokyo': {'avg_cost': 12147.340389861196,\n",
      "                     'avg_revenue': 14997.5643995172},\n",
      " 'Chiang Mai - Dubai': {'avg_cost': 11884.342582983822,\n",
      "                        'avg_revenue': 14752.187264829241},\n",
      " 'Chiang Mai - London': {'avg_cost': 11788.670579209369,\n",
      "                         'avg_revenue': 14614.16575988287},\n",
      " 'Chiang Mai - New York': {'avg_cost': 12043.066263517714,\n",
      "                           'avg_revenue': 14992.88064325668},\n",
      " 'Chiang Mai - Singapore': {'avg_cost': 11807.979951459118,\n",
      "                            'avg_revenue': 14620.238433978619},\n",
      " 'Chiang Mai - Sydney': {'avg_cost': 11973.03694377267,\n",
      "                         'avg_revenue': 14871.226399637246},\n",
      " 'Chiang Mai - Tokyo': {'avg_cost': 11568.023802388061,\n",
      "                        'avg_revenue': 14297.00911641791},\n",
      " 'Khon Kaen - Dubai': {'avg_cost': 11908.28587334934,\n",
      "                       'avg_revenue': 14653.313487394955},\n",
      " 'Khon Kaen - London': {'avg_cost': 11716.735155968809,\n",
      "                        'avg_revenue': 14471.578368326334},\n",
      " 'Khon Kaen - New York': {'avg_cost': 12028.9375,\n",
      "                          'avg_revenue': 14948.051989436623},\n",
      " 'Khon Kaen - Singapore': {'avg_cost': 11894.755775205605,\n",
      "                           'avg_revenue': 14715.739805056352},\n",
      " 'Khon Kaen - Sydney': {'avg_cost': 12006.273021137244,\n",
      "                        'avg_revenue': 14849.291369455195},\n",
      " 'Khon Kaen - Tokyo': {'avg_cost': 12171.008329749104,\n",
      "                       'avg_revenue': 15079.261281362005},\n",
      " 'Pattaya - Dubai': {'avg_cost': 12050.34029984917,\n",
      "                     'avg_revenue': 14884.964558069383},\n",
      " 'Pattaya - London': {'avg_cost': 11720.918409515207,\n",
      "                      'avg_revenue': 14569.467717554955},\n",
      " 'Pattaya - New York': {'avg_cost': 11818.997662752183,\n",
      "                        'avg_revenue': 14629.654170430593},\n",
      " 'Pattaya - Singapore': {'avg_cost': 12125.839289417505,\n",
      "                         'avg_revenue': 15006.205699908507},\n",
      " 'Pattaya - Sydney': {'avg_cost': 12012.773601938805,\n",
      "                      'avg_revenue': 14854.12924265374},\n",
      " 'Pattaya - Tokyo': {'avg_cost': 11874.067309488619,\n",
      "                     'avg_revenue': 14719.038167307126},\n",
      " 'Phuket - Dubai': {'avg_cost': 11794.691334516416,\n",
      "                    'avg_revenue': 14571.280984915706},\n",
      " 'Phuket - London': {'avg_cost': 11873.514136131935,\n",
      "                     'avg_revenue': 14659.615340329834},\n",
      " 'Phuket - New York': {'avg_cost': 11956.392216040247,\n",
      "                       'avg_revenue': 14790.473450725067},\n",
      " 'Phuket - Singapore': {'avg_cost': 12042.459939945407,\n",
      "                        'avg_revenue': 14892.389281164695},\n",
      " 'Phuket - Sydney': {'avg_cost': 12010.801214199028,\n",
      "                     'avg_revenue': 14776.24723300971},\n",
      " 'Phuket - Tokyo': {'avg_cost': 11971.869030303029,\n",
      "                    'avg_revenue': 14782.709709338282}}\n"
     ]
    }
   ],
   "source": [
    "pprint.pprint(route_summary)"
   ]
  },
  {
   "cell_type": "markdown",
   "metadata": {},
   "source": [
    "### Dict comprehension"
   ]
  },
  {
   "cell_type": "code",
   "execution_count": 19,
   "metadata": {
    "colab": {
     "base_uri": "https://localhost:8080/"
    },
    "executionInfo": {
     "elapsed": 3,
     "status": "ok",
     "timestamp": 1722949103663,
     "user": {
      "displayName": "Buraj Patrakosol",
      "userId": "15915442625378365644"
     },
     "user_tz": -420
    },
    "id": "56K54HJfuHdr",
    "outputId": "5ad8627c-8812-4ee7-ccd3-523c45a6e602"
   },
   "outputs": [
    {
     "name": "stdout",
     "output_type": "stream",
     "text": [
      "{'Ship': 5069.631199695975, 'Truck': 5051.043256590863, 'Airplane': 5057.025628270176, 'Van': 5046.9435573027395}\n"
     ]
    }
   ],
   "source": [
    "avg_distance_vehicle = {vtype: df[df['vehicle_type'] == vtype]['distance_km'].mean()\n",
    "                               for vtype in df['vehicle_type'].unique()}\n",
    "print(avg_distance_vehicle)"
   ]
  },
  {
   "cell_type": "code",
   "execution_count": 23,
   "metadata": {
    "colab": {
     "base_uri": "https://localhost:8080/"
    },
    "executionInfo": {
     "elapsed": 3,
     "status": "ok",
     "timestamp": 1722949103663,
     "user": {
      "displayName": "Buraj Patrakosol",
      "userId": "15915442625378365644"
     },
     "user_tz": -420
    },
    "id": "56K54HJfuHdr",
    "outputId": "5ad8627c-8812-4ee7-ccd3-523c45a6e602"
   },
   "outputs": [
    {
     "name": "stdout",
     "output_type": "stream",
     "text": [
      "vehicle_type\n",
      "Airplane    5057.025628\n",
      "Ship        5069.631200\n",
      "Truck       5051.043257\n",
      "Van         5046.943557\n",
      "Name: distance_km, dtype: float64\n"
     ]
    }
   ],
   "source": [
    "vtype_distance = df.groupby(by=['vehicle_type'])['distance_km'].mean()\n",
    "print(vtype_distance)"
   ]
  },
  {
   "cell_type": "code",
   "execution_count": 25,
   "metadata": {
    "colab": {
     "base_uri": "https://localhost:8080/"
    },
    "executionInfo": {
     "elapsed": 3,
     "status": "ok",
     "timestamp": 1722949103663,
     "user": {
      "displayName": "Buraj Patrakosol",
      "userId": "15915442625378365644"
     },
     "user_tz": -420
    },
    "id": "56K54HJfuHdr",
    "outputId": "5ad8627c-8812-4ee7-ccd3-523c45a6e602"
   },
   "outputs": [
    {
     "name": "stdout",
     "output_type": "stream",
     "text": [
      "              distance_km       revenue      origin\n",
      "vehicle_type                                       \n",
      "Airplane      5057.025628  6.384085e+08     Bangkok\n",
      "Ship          5069.631200  2.107299e+08  Chiang Mai\n",
      "Truck         5051.043257  2.491020e+08   Khon Kaen\n",
      "Van           5046.943557  3.772953e+08     Pattaya\n",
      "\n"
     ]
    }
   ],
   "source": [
    "vtype_measures = df.groupby(by=['vehicle_type']).agg(\n",
    "                    {'distance_km':'mean',\n",
    "                      'revenue':'sum',\n",
    "                      'origin':pd.Series.mode}\n",
    "                    )\n",
    "print(vtype_measures)\n",
    "print()"
   ]
  },
  {
   "cell_type": "code",
   "execution_count": 27,
   "metadata": {
    "colab": {
     "base_uri": "https://localhost:8080/"
    },
    "executionInfo": {
     "elapsed": 3,
     "status": "ok",
     "timestamp": 1722949103663,
     "user": {
      "displayName": "Buraj Patrakosol",
      "userId": "15915442625378365644"
     },
     "user_tz": -420
    },
    "id": "56K54HJfuHdr",
    "outputId": "5ad8627c-8812-4ee7-ccd3-523c45a6e602"
   },
   "outputs": [
    {
     "name": "stdout",
     "output_type": "stream",
     "text": [
      "              avg_distance  total_revenue most_freq_origin\n",
      "vehicle_type                                              \n",
      "Airplane       5057.025628   6.384085e+08          Bangkok\n",
      "Ship           5069.631200   2.107299e+08       Chiang Mai\n",
      "Truck          5051.043257   2.491020e+08        Khon Kaen\n",
      "Van            5046.943557   3.772953e+08          Pattaya\n"
     ]
    }
   ],
   "source": [
    "vtype_measures.columns = ['avg_distance','total_revenue','most_freq_origin']\n",
    "print(vtype_measures)"
   ]
  },
  {
   "cell_type": "code",
   "execution_count": 29,
   "metadata": {
    "colab": {
     "base_uri": "https://localhost:8080/"
    },
    "executionInfo": {
     "elapsed": 3,
     "status": "ok",
     "timestamp": 1722949464452,
     "user": {
      "displayName": "Buraj Patrakosol",
      "userId": "15915442625378365644"
     },
     "user_tz": -420
    },
    "id": "Du5it3Crunaw",
    "outputId": "c3f7b589-d145-4fed-81b5-140fe905112a"
   },
   "outputs": [
    {
     "name": "stdout",
     "output_type": "stream",
     "text": [
      "['Tokyo' 'New York' 'Sydney' 'Dubai' 'Singapore' 'London']\n",
      "Not Found\n"
     ]
    }
   ],
   "source": [
    "print(df['destination'].unique())\n",
    "if 'Chula' in df['destination'].unique():\n",
    "  print('Found')\n",
    "else:\n",
    "  print('Not Found')"
   ]
  },
  {
   "cell_type": "code",
   "execution_count": 31,
   "metadata": {},
   "outputs": [
    {
     "data": {
      "text/plain": [
       "numpy.ndarray"
      ]
     },
     "execution_count": 31,
     "metadata": {},
     "output_type": "execute_result"
    }
   ],
   "source": [
    "type(df['destination'].unique())"
   ]
  },
  {
   "cell_type": "code",
   "execution_count": 33,
   "metadata": {},
   "outputs": [
    {
     "data": {
      "text/plain": [
       "{'Dubai', 'London', 'New York', 'Singapore', 'Sydney', 'Tokyo'}"
      ]
     },
     "execution_count": 33,
     "metadata": {},
     "output_type": "execute_result"
    }
   ],
   "source": [
    "set(df['destination'])"
   ]
  },
  {
   "cell_type": "code",
   "execution_count": 35,
   "metadata": {
    "colab": {
     "base_uri": "https://localhost:8080/"
    },
    "executionInfo": {
     "elapsed": 3,
     "status": "ok",
     "timestamp": 1722949464452,
     "user": {
      "displayName": "Buraj Patrakosol",
      "userId": "15915442625378365644"
     },
     "user_tz": -420
    },
    "id": "Du5it3Crunaw",
    "outputId": "c3f7b589-d145-4fed-81b5-140fe905112a"
   },
   "outputs": [
    {
     "name": "stdout",
     "output_type": "stream",
     "text": [
      "{'London', 'New York', 'Dubai', 'Tokyo', 'Singapore', 'Sydney'}\n"
     ]
    }
   ],
   "source": [
    "set_destination = set(df['destination'])\n",
    "print(set_destination)"
   ]
  },
  {
   "cell_type": "code",
   "execution_count": 37,
   "metadata": {
    "colab": {
     "base_uri": "https://localhost:8080/"
    },
    "executionInfo": {
     "elapsed": 3,
     "status": "ok",
     "timestamp": 1722949464452,
     "user": {
      "displayName": "Buraj Patrakosol",
      "userId": "15915442625378365644"
     },
     "user_tz": -420
    },
    "id": "Du5it3Crunaw",
    "outputId": "c3f7b589-d145-4fed-81b5-140fe905112a"
   },
   "outputs": [
    {
     "name": "stdout",
     "output_type": "stream",
     "text": [
      "Not Found\n",
      "{'London', 'New York', 'Phuket', 'Pattaya', 'Dubai', 'Bangkok', 'Tokyo', 'Singapore', 'Chiang Mai', 'Sydney', 'Khon Kaen'}\n"
     ]
    }
   ],
   "source": [
    "if 'Chula' in set_destination:\n",
    "  print('Found')\n",
    "else:\n",
    "  print('Not Found')\n",
    "\n",
    "set_origin = set(df['origin'])\n",
    "print(set_origin.union(set_destination))"
   ]
  },
  {
   "cell_type": "markdown",
   "metadata": {},
   "source": [
    "### Graphical analysis"
   ]
  },
  {
   "cell_type": "code",
   "execution_count": 39,
   "metadata": {},
   "outputs": [
    {
     "data": {
      "text/plain": [
       "<Axes: >"
      ]
     },
     "execution_count": 39,
     "metadata": {},
     "output_type": "execute_result"
    },
    {
     "data": {
      "image/png": "[encoded data removed]",
      "text/plain": [
       "<Figure size 640x480 with 1 Axes>"
      ]
     },
     "metadata": {},
     "output_type": "display_data"
    }
   ],
   "source": [
    "df.boxplot(vert=False)"
   ]
  },
  {
   "cell_type": "code",
   "execution_count": 40,
   "metadata": {},
   "outputs": [
    {
     "data": {
      "text/plain": [
       "customer_satisfaction    Axes(0.125,0.11;0.775x0.77)\n",
       "dtype: object"
      ]
     },
     "execution_count": 40,
     "metadata": {},
     "output_type": "execute_result"
    }
   ],
   "source": [
    "df.plot(kind='box', by='delivery_status', column='customer_satisfaction')"
   ]
  },
  {
   "cell_type": "code",
   "execution_count": 41,
   "metadata": {
    "colab": {
     "base_uri": "https://localhost:8080/",
     "height": 947
    },
    "executionInfo": {
     "elapsed": 1360,
     "status": "ok",
     "timestamp": 1722950251778,
     "user": {
      "displayName": "Buraj Patrakosol",
      "userId": "15915442625378365644"
     },
     "user_tz": -420
    },
    "id": "ZTTtdA5Ly1OT",
    "outputId": "ad5668ac-1216-4e6e-838c-018a81e1ecc5"
   },
   "outputs": [
    {
     "data": {
      "image/png": "[encoded data removed]",
      "text/plain": [
       "<Figure size 640x480 with 1 Axes>"
      ]
     },
     "metadata": {},
     "output_type": "display_data"
    },
    {
     "data": {
      "image/png": "[encoded data removed]",
      "text/plain": [
       "<Figure size 640x480 with 1 Axes>"
      ]
     },
     "metadata": {},
     "output_type": "display_data"
    }
   ],
   "source": [
    "sns.boxplot(x='delivery_status',y='customer_satisfaction',data=df)\n",
    "plt.title('relationship between delivery_status and customer_satisfaction')\n",
    "plt.show()\n",
    "\n",
    "plt.scatter(df['distance_km'],df['transport_cost'])\n",
    "plt.title('relationship between distance_km and transport_cost')\n",
    "plt.xlabel('distance_km')\n",
    "plt.ylabel('transport_cost')\n",
    "plt.show()"
   ]
  },
  {
   "cell_type": "markdown",
   "metadata": {},
   "source": [
    "### New column by Apply()"
   ]
  },
  {
   "cell_type": "code",
   "execution_count": 42,
   "metadata": {
    "colab": {
     "base_uri": "https://localhost:8080/"
    },
    "executionInfo": {
     "elapsed": 994,
     "status": "ok",
     "timestamp": 1722950819534,
     "user": {
      "displayName": "Buraj Patrakosol",
      "userId": "15915442625378365644"
     },
     "user_tz": -420
    },
    "id": "EwI5wGLV1yZh",
    "outputId": "39755402-1f45-475b-b1b2-74f0da110823"
   },
   "outputs": [
    {
     "name": "stdout",
     "output_type": "stream",
     "text": [
      "   distance_km distance_category\n",
      "0      5161.83              long\n",
      "1       375.85             short\n",
      "2      7805.35              long\n",
      "3      9111.63              long\n",
      "4      9878.25              long\n",
      "5      6725.04              long\n",
      "6      4219.62            medium\n",
      "7      5633.11              long\n",
      "8      8849.05              long\n",
      "9       809.42             short\n",
      "       distance_km distance_category\n",
      "17427      8903.30              long\n",
      "47841       967.78             short\n",
      "3896       4958.90            medium\n",
      "30672      8886.89              long\n",
      "85790      9668.85              long\n",
      "11671      5368.66              long\n",
      "15848       198.22             short\n",
      "60735      9836.53              long\n",
      "27631      2096.00            medium\n",
      "71877      5523.97              long\n"
     ]
    }
   ],
   "source": [
    "def category_distance(d):\n",
    "  if d < 1000:\n",
    "    return 'short'\n",
    "  elif d < 5000:\n",
    "    return 'medium'\n",
    "  else:\n",
    "    return 'long'\n",
    "\n",
    "df['distance_category'] = df['distance_km'].apply(category_distance)\n",
    "print(df[['distance_km','distance_category']].head(10))\n",
    "print(df[['distance_km','distance_category']].sample(10))"
   ]
  },
  {
   "cell_type": "code",
   "execution_count": 43,
   "metadata": {
    "colab": {
     "base_uri": "https://localhost:8080/"
    },
    "executionInfo": {
     "elapsed": 994,
     "status": "ok",
     "timestamp": 1722950819534,
     "user": {
      "displayName": "Buraj Patrakosol",
      "userId": "15915442625378365644"
     },
     "user_tz": -420
    },
    "id": "EwI5wGLV1yZh",
    "outputId": "39755402-1f45-475b-b1b2-74f0da110823"
   },
   "outputs": [
    {
     "name": "stdout",
     "output_type": "stream",
     "text": [
      "    revenue  transport_cost    profit\n",
      "0   7678.96        5647.710  2031.250\n",
      "1    631.55         481.220   150.330\n",
      "2  40442.32       32154.670  8287.650\n",
      "3   6956.18        5512.700  1443.480\n",
      "4  16015.77       13187.820  2827.950\n",
      "5   8593.52        8167.464   426.056\n",
      "6  12205.43       10033.776  2171.654\n",
      "7  18834.44       15558.040  3276.400\n",
      "8  22501.27       15307.480  7193.790\n",
      "9    991.59         669.210   322.380\n"
     ]
    }
   ],
   "source": [
    "df['profit'] = df.apply(lambda row: (row['revenue'] - row['transport_cost']),axis=1)\n",
    "print(df[['revenue','transport_cost','profit']].head(10))"
   ]
  },
  {
   "cell_type": "code",
   "execution_count": null,
   "metadata": {},
   "outputs": [],
   "source": []
  },
  {
   "cell_type": "code",
   "execution_count": null,
   "metadata": {
    "editable": true,
    "slideshow": {
     "slide_type": ""
    },
    "tags": []
   },
   "outputs": [],
   "source": []
  }
 ],
 "metadata": {
  "colab": {
   "authorship_tag": "ABX9TyPYto/IyDPlsxRhR0IB+KNs",
   "provenance": []
  },
  "kernelspec": {
   "display_name": "base",
   "language": "python",
   "name": "python3"
  },
  "language_info": {
   "codemirror_mode": {
    "name": "ipython",
    "version": 3
   },
   "file_extension": ".py",
   "mimetype": "text/x-python",
   "name": "python",
   "nbconvert_exporter": "python",
   "pygments_lexer": "ipython3",
   "version": "3.11.9"
  }
 },
 "nbformat": 4,
 "nbformat_minor": 4
}
