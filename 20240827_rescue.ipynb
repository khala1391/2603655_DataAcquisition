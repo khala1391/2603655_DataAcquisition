{
 "cells": [
  {
   "cell_type": "markdown",
   "id": "ffc9deb3-295e-41cf-a883-cf16132f8e80",
   "metadata": {
    "editable": true,
    "slideshow": {
     "slide_type": ""
    },
    "tags": []
   },
   "source": [
    "# 2603655_DataAcquisition"
   ]
  },
  {
   "cell_type": "markdown",
   "id": "cb868e93-3a99-445a-b1ad-55094f0c6ab6",
   "metadata": {
    "editable": true,
    "slideshow": {
     "slide_type": ""
    },
    "tags": []
   },
   "source": [
    "## Week4 20240827"
   ]
  },
  {
   "cell_type": "markdown",
   "id": "0fc16506-037f-4f9b-b1fb-0a7350f0e6e4",
   "metadata": {
    "editable": true,
    "slideshow": {
     "slide_type": ""
    },
    "tags": []
   },
   "source": [
    "---\n",
    "* Author:  [Yuttapong Mahasittiwat](mailto:khala1391@gmail.com)\n",
    "* Technologist | Data Modeler | Data Analyst\n",
    "* [YouTube](https://www.youtube.com/khala1391)\n",
    "* [LinkedIn](https://www.linkedin.com/in/yuttapong-m/)\n",
    "---"
   ]
  },
  {
   "cell_type": "code",
   "execution_count": 3,
   "id": "e773d590-be3c-48e7-b33c-15ffeba44871",
   "metadata": {
    "colab": {
     "base_uri": "https://localhost:8080/"
    },
    "editable": true,
    "executionInfo": {
     "elapsed": 450,
     "status": "ok",
     "timestamp": 1722945524622,
     "user": {
      "displayName": "Buraj Patrakosol",
      "userId": "15915442625378365644"
     },
     "user_tz": -420
    },
    "id": "ob6u_X-NhT6T",
    "outputId": "8af79b74-2924-4afe-eb29-4cba74aaeb9d",
    "slideshow": {
     "slide_type": ""
    },
    "tags": []
   },
   "outputs": [
    {
     "name": "stdout",
     "output_type": "stream",
     "text": [
      "pandas version : 2.2.1\n",
      "numpy version : 1.26.4\n",
      "matplotlib version : 3.8.4\n",
      "seaborn version : 0.13.2\n"
     ]
    }
   ],
   "source": [
    "import pandas as pd\n",
    "import matplotlib as mpl\n",
    "import matplotlib.pyplot as plt\n",
    "import seaborn as sns\n",
    "import numpy as np\n",
    "print(\"pandas version :\",pd.__version__)\n",
    "print(\"numpy version :\",np.__version__)\n",
    "print(\"matplotlib version :\",mpl.__version__)\n",
    "print(\"seaborn version :\",sns.__version__)"
   ]
  },
  {
   "cell_type": "code",
   "execution_count": 28,
   "id": "61067bb6-7cb6-4c48-b711-541547d16f15",
   "metadata": {},
   "outputs": [
    {
     "name": "stdout",
     "output_type": "stream",
     "text": [
      "<class 'pandas.core.frame.DataFrame'>\n",
      "RangeIndex: 5000 entries, 0 to 4999\n",
      "Data columns (total 11 columns):\n",
      " #   Column           Non-Null Count  Dtype         \n",
      "---  ------           --------------  -----         \n",
      " 0   timestamp        5000 non-null   datetime64[ns]\n",
      " 1   id               5000 non-null   int64         \n",
      " 2   mission_type     5000 non-null   object        \n",
      " 3   team_size        5000 non-null   int64         \n",
      " 4   water_level      4750 non-null   float64       \n",
      " 5   depth            4371 non-null   float64       \n",
      " 6   oxygen_level     4498 non-null   float64       \n",
      " 7   temperature      4381 non-null   float64       \n",
      " 8   victim_status    5000 non-null   object        \n",
      " 9   victim_count     5000 non-null   int64         \n",
      " 10  mission_success  5000 non-null   int64         \n",
      "dtypes: datetime64[ns](1), float64(4), int64(4), object(2)\n",
      "memory usage: 429.8+ KB\n"
     ]
    }
   ],
   "source": [
    "df = pd.read_csv('data/tham_luang_rescue_data.csv',\n",
    "                 # parse_dates=['timestamp'],\n",
    "                 # index_col=['datetime']\n",
    "                )\n",
    "df['timestamp']=pd.to_datetime(df['timestamp'],unit='s')\n",
    "df.info()"
   ]
  },
  {
   "cell_type": "code",
   "execution_count": 30,
   "id": "7edea9a7-5b40-4915-ae76-943bc37eb28d",
   "metadata": {},
   "outputs": [
    {
     "data": {
      "text/plain": [
       "timestamp            0\n",
       "id                   0\n",
       "mission_type         0\n",
       "team_size            0\n",
       "water_level        250\n",
       "depth              629\n",
       "oxygen_level       502\n",
       "temperature        619\n",
       "victim_status        0\n",
       "victim_count         0\n",
       "mission_success      0\n",
       "dtype: int64"
      ]
     },
     "execution_count": 30,
     "metadata": {},
     "output_type": "execute_result"
    }
   ],
   "source": [
    "df.isna().sum()"
   ]
  },
  {
   "cell_type": "code",
   "execution_count": 32,
   "id": "e715c5e2-da59-4e57-8a28-db1b67c25807",
   "metadata": {},
   "outputs": [
    {
     "data": {
      "text/html": [
       "<div>\n",
       "<style scoped>\n",
       "    .dataframe tbody tr th:only-of-type {\n",
       "        vertical-align: middle;\n",
       "    }\n",
       "\n",
       "    .dataframe tbody tr th {\n",
       "        vertical-align: top;\n",
       "    }\n",
       "\n",
       "    .dataframe thead th {\n",
       "        text-align: right;\n",
       "    }\n",
       "</style>\n",
       "<table border=\"1\" class=\"dataframe\">\n",
       "  <thead>\n",
       "    <tr style=\"text-align: right;\">\n",
       "      <th></th>\n",
       "      <th>timestamp</th>\n",
       "      <th>id</th>\n",
       "      <th>mission_type</th>\n",
       "      <th>team_size</th>\n",
       "      <th>water_level</th>\n",
       "      <th>depth</th>\n",
       "      <th>oxygen_level</th>\n",
       "      <th>temperature</th>\n",
       "      <th>victim_status</th>\n",
       "      <th>victim_count</th>\n",
       "      <th>mission_success</th>\n",
       "    </tr>\n",
       "  </thead>\n",
       "  <tbody>\n",
       "    <tr>\n",
       "      <th>0</th>\n",
       "      <td>2018-07-03 00:06:54.802960634</td>\n",
       "      <td>2943</td>\n",
       "      <td>medical</td>\n",
       "      <td>5</td>\n",
       "      <td>9.191810</td>\n",
       "      <td>4.362105</td>\n",
       "      <td>16.717150</td>\n",
       "      <td>27.871266</td>\n",
       "      <td>critical</td>\n",
       "      <td>8</td>\n",
       "      <td>1</td>\n",
       "    </tr>\n",
       "    <tr>\n",
       "      <th>1</th>\n",
       "      <td>2018-07-02 00:21:53.542708635</td>\n",
       "      <td>2652</td>\n",
       "      <td>rescue</td>\n",
       "      <td>4</td>\n",
       "      <td>10.122547</td>\n",
       "      <td>5.184041</td>\n",
       "      <td>9.949614</td>\n",
       "      <td>27.585167</td>\n",
       "      <td>stable</td>\n",
       "      <td>7</td>\n",
       "      <td>0</td>\n",
       "    </tr>\n",
       "    <tr>\n",
       "      <th>2</th>\n",
       "      <td>2018-06-25 06:45:52.390477896</td>\n",
       "      <td>672</td>\n",
       "      <td>exploration</td>\n",
       "      <td>2</td>\n",
       "      <td>13.265970</td>\n",
       "      <td>6.700720</td>\n",
       "      <td>22.294991</td>\n",
       "      <td>27.177927</td>\n",
       "      <td>stable</td>\n",
       "      <td>2</td>\n",
       "      <td>0</td>\n",
       "    </tr>\n",
       "    <tr>\n",
       "      <th>3</th>\n",
       "      <td>2018-06-30 22:24:39.175835133</td>\n",
       "      <td>2334</td>\n",
       "      <td>rescue</td>\n",
       "      <td>10</td>\n",
       "      <td>11.141887</td>\n",
       "      <td>5.722605</td>\n",
       "      <td>15.725127</td>\n",
       "      <td>30.659910</td>\n",
       "      <td>critical</td>\n",
       "      <td>6</td>\n",
       "      <td>0</td>\n",
       "    </tr>\n",
       "    <tr>\n",
       "      <th>4</th>\n",
       "      <td>2018-06-28 13:02:04.584917068</td>\n",
       "      <td>1631</td>\n",
       "      <td>exploration</td>\n",
       "      <td>10</td>\n",
       "      <td>12.147761</td>\n",
       "      <td>5.789450</td>\n",
       "      <td>4.073761</td>\n",
       "      <td>NaN</td>\n",
       "      <td>stable</td>\n",
       "      <td>4</td>\n",
       "      <td>0</td>\n",
       "    </tr>\n",
       "  </tbody>\n",
       "</table>\n",
       "</div>"
      ],
      "text/plain": [
       "                      timestamp    id mission_type  team_size  water_level  \\\n",
       "0 2018-07-03 00:06:54.802960634  2943      medical          5     9.191810   \n",
       "1 2018-07-02 00:21:53.542708635  2652       rescue          4    10.122547   \n",
       "2 2018-06-25 06:45:52.390477896   672  exploration          2    13.265970   \n",
       "3 2018-06-30 22:24:39.175835133  2334       rescue         10    11.141887   \n",
       "4 2018-06-28 13:02:04.584917068  1631  exploration         10    12.147761   \n",
       "\n",
       "      depth  oxygen_level  temperature victim_status  victim_count  \\\n",
       "0  4.362105     16.717150    27.871266      critical             8   \n",
       "1  5.184041      9.949614    27.585167        stable             7   \n",
       "2  6.700720     22.294991    27.177927        stable             2   \n",
       "3  5.722605     15.725127    30.659910      critical             6   \n",
       "4  5.789450      4.073761          NaN        stable             4   \n",
       "\n",
       "   mission_success  \n",
       "0                1  \n",
       "1                0  \n",
       "2                0  \n",
       "3                0  \n",
       "4                0  "
      ]
     },
     "execution_count": 32,
     "metadata": {},
     "output_type": "execute_result"
    }
   ],
   "source": [
    "df.head()"
   ]
  },
  {
   "cell_type": "code",
   "execution_count": null,
   "id": "0d32d939-a189-4f27-a19a-d22df2a65b06",
   "metadata": {},
   "outputs": [],
   "source": []
  }
 ],
 "metadata": {
  "kernelspec": {
   "display_name": "Python 3 (ipykernel)",
   "language": "python",
   "name": "python3"
  },
  "language_info": {
   "codemirror_mode": {
    "name": "ipython",
    "version": 3
   },
   "file_extension": ".py",
   "mimetype": "text/x-python",
   "name": "python",
   "nbconvert_exporter": "python",
   "pygments_lexer": "ipython3",
   "version": "3.11.9"
  }
 },
 "nbformat": 4,
 "nbformat_minor": 5
}
