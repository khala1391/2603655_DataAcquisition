{
 "cells": [
  {
   "cell_type": "markdown",
   "metadata": {
    "editable": true,
    "slideshow": {
     "slide_type": ""
    },
    "tags": []
   },
   "source": [
    "# 2603655_DataAcquisition"
   ]
  },
  {
   "cell_type": "markdown",
   "metadata": {
    "editable": true,
    "slideshow": {
     "slide_type": ""
    },
    "tags": []
   },
   "source": [
    "## Week8 20241001"
   ]
  },
  {
   "cell_type": "markdown",
   "metadata": {
    "editable": true,
    "slideshow": {
     "slide_type": ""
    },
    "tags": []
   },
   "source": [
    "---\n",
    "* Author:  [Yuttapong Mahasittiwat](mailto:khala1391@gmail.com)\n",
    "* Technologist | Data Modeler | Data Analyst\n",
    "* [YouTube](https://www.youtube.com/khala1391)\n",
    "* [LinkedIn](https://www.linkedin.com/in/yuttapong-m/)\n",
    "* [Tableau](https://public.tableau.com/app/profile/yuttapong.m/vizzes)\n",
    "---"
   ]
  },
  {
   "cell_type": "code",
   "execution_count": null,
   "metadata": {
    "colab": {
     "base_uri": "https://localhost:8080/"
    },
    "executionInfo": {
     "elapsed": 26639,
     "status": "ok",
     "timestamp": 1727782240791,
     "user": {
      "displayName": "Buraj Patrakosol",
      "userId": "15915442625378365644"
     },
     "user_tz": -420
    },
    "id": "u_T29H2k16Mr",
    "outputId": "f8d2a94a-1707-4f7f-c44e-dcab48335177"
   },
   "outputs": [],
   "source": [
    "# !pip install wrds"
   ]
  },
  {
   "cell_type": "markdown",
   "metadata": {},
   "source": [
    "**Objectives**\n",
    "- how to use sql in python\n",
    "- how to use sql wrds database (Wharton)\n",
    "- recap sql data structure"
   ]
  },
  {
   "cell_type": "markdown",
   "metadata": {},
   "source": [
    "**SQL data structure**\n",
    "- schema\n",
    "  - table\n",
    "    - features\n",
    "    - record"
   ]
  },
  {
   "cell_type": "markdown",
   "metadata": {},
   "source": [
    "## SQL structure\n",
    "- Database\n",
    "  - schema\n",
    "    - table#1\n",
    "      - field1\n",
    "      - field2\n",
    "    - table#2\n"
   ]
  },
  {
   "cell_type": "markdown",
   "metadata": {},
   "source": [
    "![SQL](data/dmds.png)"
   ]
  },
  {
   "cell_type": "markdown",
   "metadata": {},
   "source": [
    "## connect to DB "
   ]
  },
  {
   "cell_type": "markdown",
   "metadata": {},
   "source": [
    "### explore available schema"
   ]
  },
  {
   "cell_type": "code",
   "execution_count": 15,
   "metadata": {
    "colab": {
     "base_uri": "https://localhost:8080/"
    },
    "executionInfo": {
     "elapsed": 49768,
     "status": "ok",
     "timestamp": 1727782739522,
     "user": {
      "displayName": "Buraj Patrakosol",
      "userId": "15915442625378365644"
     },
     "user_tz": -420
    },
    "id": "ss4NdZ2R2bbC",
    "outputId": "333a769f-087c-4623-b53d-490f73c1fe49",
    "scrolled": true
   },
   "outputs": [
    {
     "name": "stdout",
     "output_type": "stream",
     "text": [
      "Enter your WRDS username [khala]: yuttapongm\n",
      "Enter your password: ········\n"
     ]
    },
    {
     "name": "stdout",
     "output_type": "stream",
     "text": [
      "WRDS recommends setting up a .pgpass file.\n"
     ]
    },
    {
     "name": "stdout",
     "output_type": "stream",
     "text": [
      "Create .pgpass file now [y/n]?:  y\n"
     ]
    },
    {
     "name": "stdout",
     "output_type": "stream",
     "text": [
      "Created .pgpass file successfully.\n",
      "You can create this file yourself at any time with the create_pgpass_file() function.\n",
      "Loading library list...\n",
      "Done\n"
     ]
    }
   ],
   "source": [
    "import pandas as pd\n",
    "import wrds\n",
    "\n",
    "conn = wrds.Connection()\n",
    "\n",
    "sql_statement = \"\"\"\n",
    "                select schema_name\n",
    "                from information_schema.schemata\n",
    "                order by schema_name\n",
    "                \"\"\"\n",
    "\n",
    "result = conn.raw_sql(sql_statement)\n",
    "\n",
    "conn.close()"
   ]
  },
  {
   "cell_type": "code",
   "execution_count": 3,
   "metadata": {
    "colab": {
     "base_uri": "https://localhost:8080/",
     "height": 383
    },
    "executionInfo": {
     "elapsed": 610,
     "status": "ok",
     "timestamp": 1727783887985,
     "user": {
      "displayName": "Buraj Patrakosol",
      "userId": "15915442625378365644"
     },
     "user_tz": -420
    },
    "id": "SdnuMHHp8Ss-",
    "outputId": "4480aa37-f406-4f2d-d10c-4ef1b7c5bae0",
    "scrolled": true
   },
   "outputs": [
    {
     "data": {
      "text/html": [
       "<div>\n",
       "<style scoped>\n",
       "    .dataframe tbody tr th:only-of-type {\n",
       "        vertical-align: middle;\n",
       "    }\n",
       "\n",
       "    .dataframe tbody tr th {\n",
       "        vertical-align: top;\n",
       "    }\n",
       "\n",
       "    .dataframe thead th {\n",
       "        text-align: right;\n",
       "    }\n",
       "</style>\n",
       "<table border=\"1\" class=\"dataframe\">\n",
       "  <thead>\n",
       "    <tr style=\"text-align: right;\">\n",
       "      <th></th>\n",
       "      <th>schema_name</th>\n",
       "    </tr>\n",
       "  </thead>\n",
       "  <tbody>\n",
       "    <tr>\n",
       "      <th>94</th>\n",
       "      <td>comscore</td>\n",
       "    </tr>\n",
       "    <tr>\n",
       "      <th>95</th>\n",
       "      <td>comscore_2018</td>\n",
       "    </tr>\n",
       "    <tr>\n",
       "      <th>96</th>\n",
       "      <td>comscore_2019</td>\n",
       "    </tr>\n",
       "    <tr>\n",
       "      <th>97</th>\n",
       "      <td>comscore_2020</td>\n",
       "    </tr>\n",
       "    <tr>\n",
       "      <th>98</th>\n",
       "      <td>comscore_2020_new</td>\n",
       "    </tr>\n",
       "    <tr>\n",
       "      <th>99</th>\n",
       "      <td>comscore_2021</td>\n",
       "    </tr>\n",
       "    <tr>\n",
       "      <th>100</th>\n",
       "      <td>comscore_2022</td>\n",
       "    </tr>\n",
       "    <tr>\n",
       "      <th>101</th>\n",
       "      <td>comscore_2023</td>\n",
       "    </tr>\n",
       "    <tr>\n",
       "      <th>102</th>\n",
       "      <td>comscore_common</td>\n",
       "    </tr>\n",
       "    <tr>\n",
       "      <th>103</th>\n",
       "      <td>comscore_common_new</td>\n",
       "    </tr>\n",
       "  </tbody>\n",
       "</table>\n",
       "</div>"
      ],
      "text/plain": [
       "             schema_name\n",
       "94              comscore\n",
       "95         comscore_2018\n",
       "96         comscore_2019\n",
       "97         comscore_2020\n",
       "98     comscore_2020_new\n",
       "99         comscore_2021\n",
       "100        comscore_2022\n",
       "101        comscore_2023\n",
       "102      comscore_common\n",
       "103  comscore_common_new"
      ]
     },
     "execution_count": 3,
     "metadata": {},
     "output_type": "execute_result"
    }
   ],
   "source": [
    "result[result['schema_name'].str.contains('score')]"
   ]
  },
  {
   "cell_type": "code",
   "execution_count": 16,
   "metadata": {
    "colab": {
     "base_uri": "https://localhost:8080/",
     "height": 773
    },
    "executionInfo": {
     "elapsed": 11678,
     "status": "ok",
     "timestamp": 1727784025229,
     "user": {
      "displayName": "Buraj Patrakosol",
      "userId": "15915442625378365644"
     },
     "user_tz": -420
    },
    "id": "bDWe1TOO8r4m",
    "outputId": "93b458a7-3961-4317-c4af-33aa508783b3"
   },
   "outputs": [
    {
     "name": "stdout",
     "output_type": "stream",
     "text": [
      "Enter your WRDS username [khala]: yuttapongm\n",
      "Enter your password: ········\n"
     ]
    },
    {
     "name": "stdout",
     "output_type": "stream",
     "text": [
      "WRDS recommends setting up a .pgpass file.\n"
     ]
    },
    {
     "name": "stdout",
     "output_type": "stream",
     "text": [
      "Create .pgpass file now [y/n]?:  y\n"
     ]
    },
    {
     "name": "stdout",
     "output_type": "stream",
     "text": [
      "Created .pgpass file successfully.\n",
      "You can create this file yourself at any time with the create_pgpass_file() function.\n",
      "Loading library list...\n",
      "Done\n"
     ]
    },
    {
     "data": {
      "text/html": [
       "<div>\n",
       "<style scoped>\n",
       "    .dataframe tbody tr th:only-of-type {\n",
       "        vertical-align: middle;\n",
       "    }\n",
       "\n",
       "    .dataframe tbody tr th {\n",
       "        vertical-align: top;\n",
       "    }\n",
       "\n",
       "    .dataframe thead th {\n",
       "        text-align: right;\n",
       "    }\n",
       "</style>\n",
       "<table border=\"1\" class=\"dataframe\">\n",
       "  <thead>\n",
       "    <tr style=\"text-align: right;\">\n",
       "      <th></th>\n",
       "      <th>table_name</th>\n",
       "      <th>table_schema</th>\n",
       "      <th>table_type</th>\n",
       "    </tr>\n",
       "  </thead>\n",
       "  <tbody>\n",
       "    <tr>\n",
       "      <th>0</th>\n",
       "      <td>demographics2023</td>\n",
       "      <td>comscore_2023</td>\n",
       "      <td>BASE TABLE</td>\n",
       "    </tr>\n",
       "    <tr>\n",
       "      <th>1</th>\n",
       "      <td>domains2023</td>\n",
       "      <td>comscore_2023</td>\n",
       "      <td>BASE TABLE</td>\n",
       "    </tr>\n",
       "    <tr>\n",
       "      <th>2</th>\n",
       "      <td>domains2023_w_month_id</td>\n",
       "      <td>comscore_2023</td>\n",
       "      <td>BASE TABLE</td>\n",
       "    </tr>\n",
       "    <tr>\n",
       "      <th>3</th>\n",
       "      <td>prod_category2023</td>\n",
       "      <td>comscore_2023</td>\n",
       "      <td>BASE TABLE</td>\n",
       "    </tr>\n",
       "    <tr>\n",
       "      <th>4</th>\n",
       "      <td>ptrans2023</td>\n",
       "      <td>comscore_2023</td>\n",
       "      <td>BASE TABLE</td>\n",
       "    </tr>\n",
       "    <tr>\n",
       "      <th>5</th>\n",
       "      <td>ss277m</td>\n",
       "      <td>comscore_2023</td>\n",
       "      <td>BASE TABLE</td>\n",
       "    </tr>\n",
       "    <tr>\n",
       "      <th>6</th>\n",
       "      <td>ss278m</td>\n",
       "      <td>comscore_2023</td>\n",
       "      <td>BASE TABLE</td>\n",
       "    </tr>\n",
       "    <tr>\n",
       "      <th>7</th>\n",
       "      <td>ss279m</td>\n",
       "      <td>comscore_2023</td>\n",
       "      <td>BASE TABLE</td>\n",
       "    </tr>\n",
       "    <tr>\n",
       "      <th>8</th>\n",
       "      <td>ss280m</td>\n",
       "      <td>comscore_2023</td>\n",
       "      <td>BASE TABLE</td>\n",
       "    </tr>\n",
       "    <tr>\n",
       "      <th>9</th>\n",
       "      <td>ss281m</td>\n",
       "      <td>comscore_2023</td>\n",
       "      <td>BASE TABLE</td>\n",
       "    </tr>\n",
       "    <tr>\n",
       "      <th>10</th>\n",
       "      <td>ss282m</td>\n",
       "      <td>comscore_2023</td>\n",
       "      <td>BASE TABLE</td>\n",
       "    </tr>\n",
       "    <tr>\n",
       "      <th>11</th>\n",
       "      <td>ss283m</td>\n",
       "      <td>comscore_2023</td>\n",
       "      <td>BASE TABLE</td>\n",
       "    </tr>\n",
       "    <tr>\n",
       "      <th>12</th>\n",
       "      <td>ss284m</td>\n",
       "      <td>comscore_2023</td>\n",
       "      <td>BASE TABLE</td>\n",
       "    </tr>\n",
       "    <tr>\n",
       "      <th>13</th>\n",
       "      <td>ss285m</td>\n",
       "      <td>comscore_2023</td>\n",
       "      <td>BASE TABLE</td>\n",
       "    </tr>\n",
       "    <tr>\n",
       "      <th>14</th>\n",
       "      <td>ss286m</td>\n",
       "      <td>comscore_2023</td>\n",
       "      <td>BASE TABLE</td>\n",
       "    </tr>\n",
       "    <tr>\n",
       "      <th>15</th>\n",
       "      <td>ss287m</td>\n",
       "      <td>comscore_2023</td>\n",
       "      <td>BASE TABLE</td>\n",
       "    </tr>\n",
       "    <tr>\n",
       "      <th>16</th>\n",
       "      <td>ss288m</td>\n",
       "      <td>comscore_2023</td>\n",
       "      <td>BASE TABLE</td>\n",
       "    </tr>\n",
       "    <tr>\n",
       "      <th>17</th>\n",
       "      <td>vars2023</td>\n",
       "      <td>comscore_2023</td>\n",
       "      <td>BASE TABLE</td>\n",
       "    </tr>\n",
       "  </tbody>\n",
       "</table>\n",
       "</div>"
      ],
      "text/plain": [
       "                table_name   table_schema  table_type\n",
       "0         demographics2023  comscore_2023  BASE TABLE\n",
       "1              domains2023  comscore_2023  BASE TABLE\n",
       "2   domains2023_w_month_id  comscore_2023  BASE TABLE\n",
       "3        prod_category2023  comscore_2023  BASE TABLE\n",
       "4               ptrans2023  comscore_2023  BASE TABLE\n",
       "5                   ss277m  comscore_2023  BASE TABLE\n",
       "6                   ss278m  comscore_2023  BASE TABLE\n",
       "7                   ss279m  comscore_2023  BASE TABLE\n",
       "8                   ss280m  comscore_2023  BASE TABLE\n",
       "9                   ss281m  comscore_2023  BASE TABLE\n",
       "10                  ss282m  comscore_2023  BASE TABLE\n",
       "11                  ss283m  comscore_2023  BASE TABLE\n",
       "12                  ss284m  comscore_2023  BASE TABLE\n",
       "13                  ss285m  comscore_2023  BASE TABLE\n",
       "14                  ss286m  comscore_2023  BASE TABLE\n",
       "15                  ss287m  comscore_2023  BASE TABLE\n",
       "16                  ss288m  comscore_2023  BASE TABLE\n",
       "17                vars2023  comscore_2023  BASE TABLE"
      ]
     },
     "metadata": {},
     "output_type": "display_data"
    }
   ],
   "source": [
    "import pandas as pd\n",
    "import wrds\n",
    "\n",
    "conn = wrds.Connection()\n",
    "\n",
    "sql_statement = \"\"\"\n",
    "                select table_name,table_schema,table_type\n",
    "                from information_schema.tables\n",
    "                where table_schema = 'comscore_2023'\n",
    "                \"\"\"\n",
    "\n",
    "result = conn.raw_sql(sql_statement)\n",
    "\n",
    "conn.close()\n",
    "display(result)"
   ]
  },
  {
   "cell_type": "markdown",
   "metadata": {},
   "source": [
    "### explore data type in table"
   ]
  },
  {
   "cell_type": "code",
   "execution_count": 7,
   "metadata": {
    "colab": {
     "base_uri": "https://localhost:8080/",
     "height": 522
    },
    "executionInfo": {
     "elapsed": 11461,
     "status": "ok",
     "timestamp": 1727784255550,
     "user": {
      "displayName": "Buraj Patrakosol",
      "userId": "15915442625378365644"
     },
     "user_tz": -420
    },
    "id": "Qp7w0lrX9nP1",
    "outputId": "0f8af00b-598b-4308-dfa0-3c07eb71b843"
   },
   "outputs": [
    {
     "name": "stdout",
     "output_type": "stream",
     "text": [
      "Enter your WRDS username [khala]: yuttapongm\n",
      "Enter your password: ········\n"
     ]
    },
    {
     "name": "stdout",
     "output_type": "stream",
     "text": [
      "WRDS recommends setting up a .pgpass file.\n"
     ]
    },
    {
     "name": "stdout",
     "output_type": "stream",
     "text": [
      "Create .pgpass file now [y/n]?:  y\n"
     ]
    },
    {
     "name": "stdout",
     "output_type": "stream",
     "text": [
      "Created .pgpass file successfully.\n",
      "You can create this file yourself at any time with the create_pgpass_file() function.\n",
      "Loading library list...\n",
      "Done\n"
     ]
    },
    {
     "data": {
      "text/html": [
       "<div>\n",
       "<style scoped>\n",
       "    .dataframe tbody tr th:only-of-type {\n",
       "        vertical-align: middle;\n",
       "    }\n",
       "\n",
       "    .dataframe tbody tr th {\n",
       "        vertical-align: top;\n",
       "    }\n",
       "\n",
       "    .dataframe thead th {\n",
       "        text-align: right;\n",
       "    }\n",
       "</style>\n",
       "<table border=\"1\" class=\"dataframe\">\n",
       "  <thead>\n",
       "    <tr style=\"text-align: right;\">\n",
       "      <th></th>\n",
       "      <th>table_name</th>\n",
       "      <th>table_schema</th>\n",
       "      <th>column_name</th>\n",
       "      <th>data_type</th>\n",
       "    </tr>\n",
       "  </thead>\n",
       "  <tbody>\n",
       "    <tr>\n",
       "      <th>0</th>\n",
       "      <td>ss277m</td>\n",
       "      <td>comscore_2023</td>\n",
       "      <td>machine_id</td>\n",
       "      <td>numeric</td>\n",
       "    </tr>\n",
       "    <tr>\n",
       "      <th>1</th>\n",
       "      <td>ss277m</td>\n",
       "      <td>comscore_2023</td>\n",
       "      <td>site_session_id</td>\n",
       "      <td>character varying</td>\n",
       "    </tr>\n",
       "    <tr>\n",
       "      <th>2</th>\n",
       "      <td>ss277m</td>\n",
       "      <td>comscore_2023</td>\n",
       "      <td>user_session_id</td>\n",
       "      <td>character varying</td>\n",
       "    </tr>\n",
       "    <tr>\n",
       "      <th>3</th>\n",
       "      <td>ss277m</td>\n",
       "      <td>comscore_2023</td>\n",
       "      <td>domain_id</td>\n",
       "      <td>character varying</td>\n",
       "    </tr>\n",
       "    <tr>\n",
       "      <th>4</th>\n",
       "      <td>ss277m</td>\n",
       "      <td>comscore_2023</td>\n",
       "      <td>ref_domain__name</td>\n",
       "      <td>character varying</td>\n",
       "    </tr>\n",
       "    <tr>\n",
       "      <th>5</th>\n",
       "      <td>ss277m</td>\n",
       "      <td>comscore_2023</td>\n",
       "      <td>pages_viewed</td>\n",
       "      <td>integer</td>\n",
       "    </tr>\n",
       "    <tr>\n",
       "      <th>6</th>\n",
       "      <td>ss277m</td>\n",
       "      <td>comscore_2023</td>\n",
       "      <td>duration</td>\n",
       "      <td>integer</td>\n",
       "    </tr>\n",
       "    <tr>\n",
       "      <th>7</th>\n",
       "      <td>ss277m</td>\n",
       "      <td>comscore_2023</td>\n",
       "      <td>event_date</td>\n",
       "      <td>date</td>\n",
       "    </tr>\n",
       "    <tr>\n",
       "      <th>8</th>\n",
       "      <td>ss277m</td>\n",
       "      <td>comscore_2023</td>\n",
       "      <td>event_time</td>\n",
       "      <td>time without time zone</td>\n",
       "    </tr>\n",
       "    <tr>\n",
       "      <th>9</th>\n",
       "      <td>ss277m</td>\n",
       "      <td>comscore_2023</td>\n",
       "      <td>tran_flg</td>\n",
       "      <td>double precision</td>\n",
       "    </tr>\n",
       "  </tbody>\n",
       "</table>\n",
       "</div>"
      ],
      "text/plain": [
       "  table_name   table_schema       column_name               data_type\n",
       "0     ss277m  comscore_2023        machine_id                 numeric\n",
       "1     ss277m  comscore_2023   site_session_id       character varying\n",
       "2     ss277m  comscore_2023   user_session_id       character varying\n",
       "3     ss277m  comscore_2023         domain_id       character varying\n",
       "4     ss277m  comscore_2023  ref_domain__name       character varying\n",
       "5     ss277m  comscore_2023      pages_viewed                 integer\n",
       "6     ss277m  comscore_2023          duration                 integer\n",
       "7     ss277m  comscore_2023        event_date                    date\n",
       "8     ss277m  comscore_2023        event_time  time without time zone\n",
       "9     ss277m  comscore_2023          tran_flg        double precision"
      ]
     },
     "metadata": {},
     "output_type": "display_data"
    }
   ],
   "source": [
    "import pandas as pd\n",
    "import wrds\n",
    "\n",
    "conn = wrds.Connection()\n",
    "\n",
    "sql_statement = \"\"\"\n",
    "                select table_name,table_schema,column_name,data_type\n",
    "                from information_schema.columns\n",
    "                where table_schema = 'comscore_2023'\n",
    "                      and table_name = 'ss277m'\n",
    "                \"\"\"\n",
    "\n",
    "result = conn.raw_sql(sql_statement)\n",
    "\n",
    "conn.close()\n",
    "display(result)"
   ]
  },
  {
   "cell_type": "markdown",
   "metadata": {},
   "source": [
    "#### sampling data "
   ]
  },
  {
   "cell_type": "code",
   "execution_count": 9,
   "metadata": {
    "colab": {
     "base_uri": "https://localhost:8080/",
     "height": 543
    },
    "executionInfo": {
     "elapsed": 12009,
     "status": "ok",
     "timestamp": 1727784486121,
     "user": {
      "displayName": "Buraj Patrakosol",
      "userId": "15915442625378365644"
     },
     "user_tz": -420
    },
    "id": "0KPC4hiW-NG2",
    "outputId": "48bda8b9-2ed2-40a8-af87-efd18b57f938"
   },
   "outputs": [
    {
     "name": "stdout",
     "output_type": "stream",
     "text": [
      "Enter your WRDS username [khala]: yuttapongm\n",
      "Enter your password: ········\n"
     ]
    },
    {
     "name": "stdout",
     "output_type": "stream",
     "text": [
      "WRDS recommends setting up a .pgpass file.\n"
     ]
    },
    {
     "name": "stdout",
     "output_type": "stream",
     "text": [
      "Create .pgpass file now [y/n]?:  y\n"
     ]
    },
    {
     "name": "stdout",
     "output_type": "stream",
     "text": [
      "Created .pgpass file successfully.\n",
      "You can create this file yourself at any time with the create_pgpass_file() function.\n",
      "Loading library list...\n",
      "Done\n"
     ]
    },
    {
     "data": {
      "text/html": [
       "<div>\n",
       "<style scoped>\n",
       "    .dataframe tbody tr th:only-of-type {\n",
       "        vertical-align: middle;\n",
       "    }\n",
       "\n",
       "    .dataframe tbody tr th {\n",
       "        vertical-align: top;\n",
       "    }\n",
       "\n",
       "    .dataframe thead th {\n",
       "        text-align: right;\n",
       "    }\n",
       "</style>\n",
       "<table border=\"1\" class=\"dataframe\">\n",
       "  <thead>\n",
       "    <tr style=\"text-align: right;\">\n",
       "      <th></th>\n",
       "      <th>machine_id</th>\n",
       "      <th>site_session_id</th>\n",
       "      <th>user_session_id</th>\n",
       "      <th>domain_id</th>\n",
       "      <th>ref_domain__name</th>\n",
       "      <th>pages_viewed</th>\n",
       "      <th>duration</th>\n",
       "      <th>event_date</th>\n",
       "      <th>event_time</th>\n",
       "      <th>tran_flg</th>\n",
       "    </tr>\n",
       "  </thead>\n",
       "  <tbody>\n",
       "    <tr>\n",
       "      <th>0</th>\n",
       "      <td>76893652.0</td>\n",
       "      <td>1097439027123760560</td>\n",
       "      <td>277768936520001</td>\n",
       "      <td>14182122721287351521</td>\n",
       "      <td>google.com</td>\n",
       "      <td>1</td>\n",
       "      <td>1</td>\n",
       "      <td>2023-01-01</td>\n",
       "      <td>04:04:44</td>\n",
       "      <td>None</td>\n",
       "    </tr>\n",
       "  </tbody>\n",
       "</table>\n",
       "</div>"
      ],
      "text/plain": [
       "   machine_id      site_session_id  user_session_id             domain_id  \\\n",
       "0  76893652.0  1097439027123760560  277768936520001  14182122721287351521   \n",
       "\n",
       "  ref_domain__name  pages_viewed  duration  event_date event_time tran_flg  \n",
       "0       google.com             1         1  2023-01-01   04:04:44     None  "
      ]
     },
     "metadata": {},
     "output_type": "display_data"
    },
    {
     "name": "stdout",
     "output_type": "stream",
     "text": [
      "<class 'pandas.core.frame.DataFrame'>\n",
      "RangeIndex: 1 entries, 0 to 0\n",
      "Data columns (total 10 columns):\n",
      " #   Column            Non-Null Count  Dtype  \n",
      "---  ------            --------------  -----  \n",
      " 0   machine_id        1 non-null      float64\n",
      " 1   site_session_id   1 non-null      object \n",
      " 2   user_session_id   1 non-null      object \n",
      " 3   domain_id         1 non-null      object \n",
      " 4   ref_domain__name  1 non-null      object \n",
      " 5   pages_viewed      1 non-null      int64  \n",
      " 6   duration          1 non-null      int64  \n",
      " 7   event_date        1 non-null      object \n",
      " 8   event_time        1 non-null      object \n",
      " 9   tran_flg          0 non-null      object \n",
      "dtypes: float64(1), int64(2), object(7)\n",
      "memory usage: 212.0+ bytes\n"
     ]
    }
   ],
   "source": [
    "import pandas as pd\n",
    "import wrds\n",
    "\n",
    "conn = wrds.Connection()\n",
    "\n",
    "# sql_statement = \"\"\"\n",
    "#                 select count(*)\n",
    "#                 from comscore_2023.ss277m\n",
    "#                 \"\"\"\n",
    "sql_statement = \"\"\"\n",
    "                select *\n",
    "                from comscore_2023.ss277m\n",
    "                limit 1\n",
    "                \"\"\"\n",
    "\n",
    "result = conn.raw_sql(sql_statement)\n",
    "\n",
    "conn.close()\n",
    "display(result)\n",
    "result.info()"
   ]
  },
  {
   "cell_type": "code",
   "execution_count": 11,
   "metadata": {
    "colab": {
     "base_uri": "https://localhost:8080/",
     "height": 955
    },
    "executionInfo": {
     "elapsed": 12872,
     "status": "ok",
     "timestamp": 1727784812363,
     "user": {
      "displayName": "Buraj Patrakosol",
      "userId": "15915442625378365644"
     },
     "user_tz": -420
    },
    "id": "Gan5yvZ1_L1I",
    "outputId": "28421326-c991-4a20-aa69-e02998e611a9"
   },
   "outputs": [
    {
     "name": "stdout",
     "output_type": "stream",
     "text": [
      "Enter your WRDS username [khala]: yuttapongm\n",
      "Enter your password: ········\n"
     ]
    },
    {
     "name": "stdout",
     "output_type": "stream",
     "text": [
      "WRDS recommends setting up a .pgpass file.\n"
     ]
    },
    {
     "name": "stdout",
     "output_type": "stream",
     "text": [
      "Create .pgpass file now [y/n]?:  y\n"
     ]
    },
    {
     "name": "stdout",
     "output_type": "stream",
     "text": [
      "Created .pgpass file successfully.\n",
      "You can create this file yourself at any time with the create_pgpass_file() function.\n",
      "Loading library list...\n",
      "Done\n"
     ]
    },
    {
     "data": {
      "text/html": [
       "<div>\n",
       "<style scoped>\n",
       "    .dataframe tbody tr th:only-of-type {\n",
       "        vertical-align: middle;\n",
       "    }\n",
       "\n",
       "    .dataframe tbody tr th {\n",
       "        vertical-align: top;\n",
       "    }\n",
       "\n",
       "    .dataframe thead th {\n",
       "        text-align: right;\n",
       "    }\n",
       "</style>\n",
       "<table border=\"1\" class=\"dataframe\">\n",
       "  <thead>\n",
       "    <tr style=\"text-align: right;\">\n",
       "      <th></th>\n",
       "      <th>machine_id</th>\n",
       "      <th>site_session_id</th>\n",
       "      <th>user_session_id</th>\n",
       "      <th>domain_id</th>\n",
       "      <th>ref_domain__name</th>\n",
       "      <th>pages_viewed</th>\n",
       "      <th>duration</th>\n",
       "      <th>event_date</th>\n",
       "      <th>event_time</th>\n",
       "      <th>tran_flg</th>\n",
       "    </tr>\n",
       "  </thead>\n",
       "  <tbody>\n",
       "    <tr>\n",
       "      <th>0</th>\n",
       "      <td>76893652.0</td>\n",
       "      <td>1097439027123760560</td>\n",
       "      <td>277768936520001</td>\n",
       "      <td>14182122721287351521</td>\n",
       "      <td>google.com</td>\n",
       "      <td>1</td>\n",
       "      <td>1</td>\n",
       "      <td>2023-01-01</td>\n",
       "      <td>04:04:44</td>\n",
       "      <td>None</td>\n",
       "    </tr>\n",
       "    <tr>\n",
       "      <th>1</th>\n",
       "      <td>76893652.0</td>\n",
       "      <td>1929555935772399943</td>\n",
       "      <td>277768936520001</td>\n",
       "      <td>17591158128419228596</td>\n",
       "      <td>google.com</td>\n",
       "      <td>5</td>\n",
       "      <td>20</td>\n",
       "      <td>2023-01-01</td>\n",
       "      <td>04:04:17</td>\n",
       "      <td>None</td>\n",
       "    </tr>\n",
       "    <tr>\n",
       "      <th>2</th>\n",
       "      <td>76893652.0</td>\n",
       "      <td>2522671852715459944</td>\n",
       "      <td>277768936520001</td>\n",
       "      <td>9042466792195675329</td>\n",
       "      <td>marriott.com</td>\n",
       "      <td>1</td>\n",
       "      <td>1</td>\n",
       "      <td>2023-01-01</td>\n",
       "      <td>04:17:13</td>\n",
       "      <td>None</td>\n",
       "    </tr>\n",
       "    <tr>\n",
       "      <th>3</th>\n",
       "      <td>76893652.0</td>\n",
       "      <td>4521134975717184835</td>\n",
       "      <td>277768936520001</td>\n",
       "      <td>5078454264594108662</td>\n",
       "      <td>None</td>\n",
       "      <td>2</td>\n",
       "      <td>0</td>\n",
       "      <td>2023-01-01</td>\n",
       "      <td>04:15:37</td>\n",
       "      <td>None</td>\n",
       "    </tr>\n",
       "    <tr>\n",
       "      <th>4</th>\n",
       "      <td>76893652.0</td>\n",
       "      <td>4661797897909298676</td>\n",
       "      <td>277768936520001</td>\n",
       "      <td>7373198621107881927</td>\n",
       "      <td>google.com</td>\n",
       "      <td>1</td>\n",
       "      <td>1</td>\n",
       "      <td>2023-01-01</td>\n",
       "      <td>04:26:20</td>\n",
       "      <td>None</td>\n",
       "    </tr>\n",
       "  </tbody>\n",
       "</table>\n",
       "</div>"
      ],
      "text/plain": [
       "   machine_id      site_session_id  user_session_id             domain_id  \\\n",
       "0  76893652.0  1097439027123760560  277768936520001  14182122721287351521   \n",
       "1  76893652.0  1929555935772399943  277768936520001  17591158128419228596   \n",
       "2  76893652.0  2522671852715459944  277768936520001   9042466792195675329   \n",
       "3  76893652.0  4521134975717184835  277768936520001   5078454264594108662   \n",
       "4  76893652.0  4661797897909298676  277768936520001   7373198621107881927   \n",
       "\n",
       "  ref_domain__name  pages_viewed  duration  event_date event_time tran_flg  \n",
       "0       google.com             1         1  2023-01-01   04:04:44     None  \n",
       "1       google.com             5        20  2023-01-01   04:04:17     None  \n",
       "2     marriott.com             1         1  2023-01-01   04:17:13     None  \n",
       "3             None             2         0  2023-01-01   04:15:37     None  \n",
       "4       google.com             1         1  2023-01-01   04:26:20     None  "
      ]
     },
     "metadata": {},
     "output_type": "display_data"
    },
    {
     "name": "stdout",
     "output_type": "stream",
     "text": [
      "<class 'pandas.core.frame.DataFrame'>\n",
      "RangeIndex: 5 entries, 0 to 4\n",
      "Data columns (total 10 columns):\n",
      " #   Column            Non-Null Count  Dtype  \n",
      "---  ------            --------------  -----  \n",
      " 0   machine_id        5 non-null      float64\n",
      " 1   site_session_id   5 non-null      object \n",
      " 2   user_session_id   5 non-null      object \n",
      " 3   domain_id         5 non-null      object \n",
      " 4   ref_domain__name  4 non-null      object \n",
      " 5   pages_viewed      5 non-null      int64  \n",
      " 6   duration          5 non-null      int64  \n",
      " 7   event_date        5 non-null      object \n",
      " 8   event_time        5 non-null      object \n",
      " 9   tran_flg          0 non-null      object \n",
      "dtypes: float64(1), int64(2), object(7)\n",
      "memory usage: 532.0+ bytes\n",
      "<class 'pandas.core.frame.DataFrame'>\n",
      "RangeIndex: 5 entries, 0 to 4\n",
      "Data columns (total 10 columns):\n",
      " #   Column            Non-Null Count  Dtype         \n",
      "---  ------            --------------  -----         \n",
      " 0   machine_id        5 non-null      float64       \n",
      " 1   site_session_id   5 non-null      object        \n",
      " 2   user_session_id   5 non-null      object        \n",
      " 3   domain_id         5 non-null      object        \n",
      " 4   ref_domain__name  4 non-null      object        \n",
      " 5   pages_viewed      5 non-null      int64         \n",
      " 6   duration          5 non-null      int64         \n",
      " 7   event_date        5 non-null      datetime64[ns]\n",
      " 8   event_time        5 non-null      datetime64[ns]\n",
      " 9   tran_flg          0 non-null      object        \n",
      "dtypes: datetime64[ns](2), float64(1), int64(2), object(5)\n",
      "memory usage: 532.0+ bytes\n"
     ]
    }
   ],
   "source": [
    "import pandas as pd\n",
    "import wrds\n",
    "\n",
    "conn = wrds.Connection()\n",
    "\n",
    "sql_statement = \"\"\"\n",
    "                select *\n",
    "                from comscore_2023.ss277m\n",
    "                limit 5\n",
    "                \"\"\"\n",
    "\n",
    "result = conn.raw_sql(sql_statement)\n",
    "\n",
    "conn.close()\n",
    "display(result)\n",
    "result.info()\n",
    "result['event_date'] = pd.to_datetime(result['event_date'],format='%Y-%m-%d')\n",
    "result['event_time'] = pd.to_datetime(result['event_time'],format='%H:%M:%S')\n",
    "result.info()"
   ]
  },
  {
   "cell_type": "markdown",
   "metadata": {},
   "source": [
    "#### date/time manipulation"
   ]
  },
  {
   "cell_type": "code",
   "execution_count": 13,
   "metadata": {
    "colab": {
     "base_uri": "https://localhost:8080/"
    },
    "executionInfo": {
     "elapsed": 13276,
     "status": "ok",
     "timestamp": 1727785188995,
     "user": {
      "displayName": "Buraj Patrakosol",
      "userId": "15915442625378365644"
     },
     "user_tz": -420
    },
    "id": "OOdAQSDCAVSC",
    "outputId": "f72baee5-825b-416e-defc-3d5dface1d27"
   },
   "outputs": [
    {
     "name": "stdout",
     "output_type": "stream",
     "text": [
      "Enter your WRDS username [khala]: yuttapongm\n",
      "Enter your password: ········\n"
     ]
    },
    {
     "name": "stdout",
     "output_type": "stream",
     "text": [
      "WRDS recommends setting up a .pgpass file.\n"
     ]
    },
    {
     "name": "stdout",
     "output_type": "stream",
     "text": [
      "Create .pgpass file now [y/n]?:  y\n"
     ]
    },
    {
     "name": "stdout",
     "output_type": "stream",
     "text": [
      "Created .pgpass file successfully.\n",
      "You can create this file yourself at any time with the create_pgpass_file() function.\n",
      "Loading library list...\n",
      "Done\n",
      "<class 'pandas.core.frame.DataFrame'>\n",
      "RangeIndex: 5 entries, 0 to 4\n",
      "Data columns (total 10 columns):\n",
      " #   Column            Non-Null Count  Dtype         \n",
      "---  ------            --------------  -----         \n",
      " 0   machine_id        5 non-null      float64       \n",
      " 1   site_session_id   5 non-null      object        \n",
      " 2   user_session_id   5 non-null      object        \n",
      " 3   domain_id         5 non-null      object        \n",
      " 4   ref_domain__name  4 non-null      object        \n",
      " 5   pages_viewed      5 non-null      int64         \n",
      " 6   duration          5 non-null      int64         \n",
      " 7   event_date        5 non-null      datetime64[ns]\n",
      " 8   event_time        5 non-null      datetime64[ns]\n",
      " 9   tran_flg          0 non-null      object        \n",
      "dtypes: datetime64[ns](2), float64(1), int64(2), object(5)\n",
      "memory usage: 532.0+ bytes\n"
     ]
    }
   ],
   "source": [
    "import pandas as pd\n",
    "import wrds\n",
    "\n",
    "conn = wrds.Connection()\n",
    "\n",
    "sql_statement = \"\"\"\n",
    "                select *\n",
    "                from comscore_2023.ss277m\n",
    "                limit 5\n",
    "                \"\"\"\n",
    "\n",
    "result = conn.raw_sql(sql_statement,date_cols=['event_date'])\n",
    "result['event_time'] = pd.to_datetime(result['event_time'],format='%H:%M:%S')\n",
    "\n",
    "conn.close()\n",
    "result.info()"
   ]
  },
  {
   "cell_type": "code",
   "execution_count": 16,
   "metadata": {
    "colab": {
     "base_uri": "https://localhost:8080/",
     "height": 226
    },
    "executionInfo": {
     "elapsed": 572,
     "status": "ok",
     "timestamp": 1727785244857,
     "user": {
      "displayName": "Buraj Patrakosol",
      "userId": "15915442625378365644"
     },
     "user_tz": -420
    },
    "id": "owWI74GZAtTy",
    "outputId": "ac64a093-9b37-413c-f799-e851ed3acae2"
   },
   "outputs": [
    {
     "data": {
      "application/vnd.google.colaboratory.intrinsic+json": {
       "repr_error": "Out of range float values are not JSON compliant: nan",
       "type": "dataframe",
       "variable_name": "result"
      },
      "text/html": [
       "\n",
       "  <div id=\"df-56875ea9-8cab-40ea-9ace-5bc0d0bfafc1\" class=\"colab-df-container\">\n",
       "    <div>\n",
       "<style scoped>\n",
       "    .dataframe tbody tr th:only-of-type {\n",
       "        vertical-align: middle;\n",
       "    }\n",
       "\n",
       "    .dataframe tbody tr th {\n",
       "        vertical-align: top;\n",
       "    }\n",
       "\n",
       "    .dataframe thead th {\n",
       "        text-align: right;\n",
       "    }\n",
       "</style>\n",
       "<table border=\"1\" class=\"dataframe\">\n",
       "  <thead>\n",
       "    <tr style=\"text-align: right;\">\n",
       "      <th></th>\n",
       "      <th>machine_id</th>\n",
       "      <th>site_session_id</th>\n",
       "      <th>user_session_id</th>\n",
       "      <th>domain_id</th>\n",
       "      <th>ref_domain__name</th>\n",
       "      <th>pages_viewed</th>\n",
       "      <th>duration</th>\n",
       "      <th>event_date</th>\n",
       "      <th>event_time</th>\n",
       "      <th>tran_flg</th>\n",
       "    </tr>\n",
       "  </thead>\n",
       "  <tbody>\n",
       "    <tr>\n",
       "      <th>0</th>\n",
       "      <td>76893652.0</td>\n",
       "      <td>1097439027123760560</td>\n",
       "      <td>277768936520001</td>\n",
       "      <td>14182122721287351521</td>\n",
       "      <td>google.com</td>\n",
       "      <td>1</td>\n",
       "      <td>1</td>\n",
       "      <td>2023-01-01</td>\n",
       "      <td>1900-01-01 04:04:44</td>\n",
       "      <td>None</td>\n",
       "    </tr>\n",
       "    <tr>\n",
       "      <th>1</th>\n",
       "      <td>76893652.0</td>\n",
       "      <td>1929555935772399943</td>\n",
       "      <td>277768936520001</td>\n",
       "      <td>17591158128419228596</td>\n",
       "      <td>google.com</td>\n",
       "      <td>5</td>\n",
       "      <td>20</td>\n",
       "      <td>2023-01-01</td>\n",
       "      <td>1900-01-01 04:04:17</td>\n",
       "      <td>None</td>\n",
       "    </tr>\n",
       "    <tr>\n",
       "      <th>2</th>\n",
       "      <td>76893652.0</td>\n",
       "      <td>2522671852715459944</td>\n",
       "      <td>277768936520001</td>\n",
       "      <td>9042466792195675329</td>\n",
       "      <td>marriott.com</td>\n",
       "      <td>1</td>\n",
       "      <td>1</td>\n",
       "      <td>2023-01-01</td>\n",
       "      <td>1900-01-01 04:17:13</td>\n",
       "      <td>None</td>\n",
       "    </tr>\n",
       "    <tr>\n",
       "      <th>3</th>\n",
       "      <td>76893652.0</td>\n",
       "      <td>4521134975717184835</td>\n",
       "      <td>277768936520001</td>\n",
       "      <td>5078454264594108662</td>\n",
       "      <td>None</td>\n",
       "      <td>2</td>\n",
       "      <td>0</td>\n",
       "      <td>2023-01-01</td>\n",
       "      <td>1900-01-01 04:15:37</td>\n",
       "      <td>None</td>\n",
       "    </tr>\n",
       "    <tr>\n",
       "      <th>4</th>\n",
       "      <td>76893652.0</td>\n",
       "      <td>4661797897909298676</td>\n",
       "      <td>277768936520001</td>\n",
       "      <td>7373198621107881927</td>\n",
       "      <td>google.com</td>\n",
       "      <td>1</td>\n",
       "      <td>1</td>\n",
       "      <td>2023-01-01</td>\n",
       "      <td>1900-01-01 04:26:20</td>\n",
       "      <td>None</td>\n",
       "    </tr>\n",
       "  </tbody>\n",
       "</table>\n",
       "</div>\n",
       "    <div class=\"colab-df-buttons\">\n",
       "\n",
       "  <div class=\"colab-df-container\">\n",
       "    <button class=\"colab-df-convert\" onclick=\"convertToInteractive('df-56875ea9-8cab-40ea-9ace-5bc0d0bfafc1')\"\n",
       "            title=\"Convert this dataframe to an interactive table.\"\n",
       "            style=\"display:none;\">\n",
       "\n",
       "  <svg xmlns=\"http://www.w3.org/2000/svg\" height=\"24px\" viewBox=\"0 -960 960 960\">\n",
       "    <path d=\"M120-120v-720h720v720H120Zm60-500h600v-160H180v160Zm220 220h160v-160H400v160Zm0 220h160v-160H400v160ZM180-400h160v-160H180v160Zm440 0h160v-160H620v160ZM180-180h160v-160H180v160Zm440 0h160v-160H620v160Z\"/>\n",
       "  </svg>\n",
       "    </button>\n",
       "\n",
       "  <style>\n",
       "    .colab-df-container {\n",
       "      display:flex;\n",
       "      gap: 12px;\n",
       "    }\n",
       "\n",
       "    .colab-df-convert {\n",
       "      background-color: #E8F0FE;\n",
       "      border: none;\n",
       "      border-radius: 50%;\n",
       "      cursor: pointer;\n",
       "      display: none;\n",
       "      fill: #1967D2;\n",
       "      height: 32px;\n",
       "      padding: 0 0 0 0;\n",
       "      width: 32px;\n",
       "    }\n",
       "\n",
       "    .colab-df-convert:hover {\n",
       "      background-color: #E2EBFA;\n",
       "      box-shadow: 0px 1px 2px rgba(60, 64, 67, 0.3), 0px 1px 3px 1px rgba(60, 64, 67, 0.15);\n",
       "      fill: #174EA6;\n",
       "    }\n",
       "\n",
       "    .colab-df-buttons div {\n",
       "      margin-bottom: 4px;\n",
       "    }\n",
       "\n",
       "    [theme=dark] .colab-df-convert {\n",
       "      background-color: #3B4455;\n",
       "      fill: #D2E3FC;\n",
       "    }\n",
       "\n",
       "    [theme=dark] .colab-df-convert:hover {\n",
       "      background-color: #434B5C;\n",
       "      box-shadow: 0px 1px 3px 1px rgba(0, 0, 0, 0.15);\n",
       "      filter: drop-shadow(0px 1px 2px rgba(0, 0, 0, 0.3));\n",
       "      fill: #FFFFFF;\n",
       "    }\n",
       "  </style>\n",
       "\n",
       "    <script>\n",
       "      const buttonEl =\n",
       "        document.querySelector('#df-56875ea9-8cab-40ea-9ace-5bc0d0bfafc1 button.colab-df-convert');\n",
       "      buttonEl.style.display =\n",
       "        google.colab.kernel.accessAllowed ? 'block' : 'none';\n",
       "\n",
       "      async function convertToInteractive(key) {\n",
       "        const element = document.querySelector('#df-56875ea9-8cab-40ea-9ace-5bc0d0bfafc1');\n",
       "        const dataTable =\n",
       "          await google.colab.kernel.invokeFunction('convertToInteractive',\n",
       "                                                    [key], {});\n",
       "        if (!dataTable) return;\n",
       "\n",
       "        const docLinkHtml = 'Like what you see? Visit the ' +\n",
       "          '<a target=\"_blank\" href=https://colab.research.google.com/notebooks/data_table.ipynb>data table notebook</a>'\n",
       "          + ' to learn more about interactive tables.';\n",
       "        element.innerHTML = '';\n",
       "        dataTable['output_type'] = 'display_data';\n",
       "        await google.colab.output.renderOutput(dataTable, element);\n",
       "        const docLink = document.createElement('div');\n",
       "        docLink.innerHTML = docLinkHtml;\n",
       "        element.appendChild(docLink);\n",
       "      }\n",
       "    </script>\n",
       "  </div>\n",
       "\n",
       "\n",
       "<div id=\"df-f22f42b9-1656-496d-989d-167a85f53d54\">\n",
       "  <button class=\"colab-df-quickchart\" onclick=\"quickchart('df-f22f42b9-1656-496d-989d-167a85f53d54')\"\n",
       "            title=\"Suggest charts\"\n",
       "            style=\"display:none;\">\n",
       "\n",
       "<svg xmlns=\"http://www.w3.org/2000/svg\" height=\"24px\"viewBox=\"0 0 24 24\"\n",
       "     width=\"24px\">\n",
       "    <g>\n",
       "        <path d=\"M19 3H5c-1.1 0-2 .9-2 2v14c0 1.1.9 2 2 2h14c1.1 0 2-.9 2-2V5c0-1.1-.9-2-2-2zM9 17H7v-7h2v7zm4 0h-2V7h2v10zm4 0h-2v-4h2v4z\"/>\n",
       "    </g>\n",
       "</svg>\n",
       "  </button>\n",
       "\n",
       "<style>\n",
       "  .colab-df-quickchart {\n",
       "      --bg-color: #E8F0FE;\n",
       "      --fill-color: #1967D2;\n",
       "      --hover-bg-color: #E2EBFA;\n",
       "      --hover-fill-color: #174EA6;\n",
       "      --disabled-fill-color: #AAA;\n",
       "      --disabled-bg-color: #DDD;\n",
       "  }\n",
       "\n",
       "  [theme=dark] .colab-df-quickchart {\n",
       "      --bg-color: #3B4455;\n",
       "      --fill-color: #D2E3FC;\n",
       "      --hover-bg-color: #434B5C;\n",
       "      --hover-fill-color: #FFFFFF;\n",
       "      --disabled-bg-color: #3B4455;\n",
       "      --disabled-fill-color: #666;\n",
       "  }\n",
       "\n",
       "  .colab-df-quickchart {\n",
       "    background-color: var(--bg-color);\n",
       "    border: none;\n",
       "    border-radius: 50%;\n",
       "    cursor: pointer;\n",
       "    display: none;\n",
       "    fill: var(--fill-color);\n",
       "    height: 32px;\n",
       "    padding: 0;\n",
       "    width: 32px;\n",
       "  }\n",
       "\n",
       "  .colab-df-quickchart:hover {\n",
       "    background-color: var(--hover-bg-color);\n",
       "    box-shadow: 0 1px 2px rgba(60, 64, 67, 0.3), 0 1px 3px 1px rgba(60, 64, 67, 0.15);\n",
       "    fill: var(--button-hover-fill-color);\n",
       "  }\n",
       "\n",
       "  .colab-df-quickchart-complete:disabled,\n",
       "  .colab-df-quickchart-complete:disabled:hover {\n",
       "    background-color: var(--disabled-bg-color);\n",
       "    fill: var(--disabled-fill-color);\n",
       "    box-shadow: none;\n",
       "  }\n",
       "\n",
       "  .colab-df-spinner {\n",
       "    border: 2px solid var(--fill-color);\n",
       "    border-color: transparent;\n",
       "    border-bottom-color: var(--fill-color);\n",
       "    animation:\n",
       "      spin 1s steps(1) infinite;\n",
       "  }\n",
       "\n",
       "  @keyframes spin {\n",
       "    0% {\n",
       "      border-color: transparent;\n",
       "      border-bottom-color: var(--fill-color);\n",
       "      border-left-color: var(--fill-color);\n",
       "    }\n",
       "    20% {\n",
       "      border-color: transparent;\n",
       "      border-left-color: var(--fill-color);\n",
       "      border-top-color: var(--fill-color);\n",
       "    }\n",
       "    30% {\n",
       "      border-color: transparent;\n",
       "      border-left-color: var(--fill-color);\n",
       "      border-top-color: var(--fill-color);\n",
       "      border-right-color: var(--fill-color);\n",
       "    }\n",
       "    40% {\n",
       "      border-color: transparent;\n",
       "      border-right-color: var(--fill-color);\n",
       "      border-top-color: var(--fill-color);\n",
       "    }\n",
       "    60% {\n",
       "      border-color: transparent;\n",
       "      border-right-color: var(--fill-color);\n",
       "    }\n",
       "    80% {\n",
       "      border-color: transparent;\n",
       "      border-right-color: var(--fill-color);\n",
       "      border-bottom-color: var(--fill-color);\n",
       "    }\n",
       "    90% {\n",
       "      border-color: transparent;\n",
       "      border-bottom-color: var(--fill-color);\n",
       "    }\n",
       "  }\n",
       "</style>\n",
       "\n",
       "  <script>\n",
       "    async function quickchart(key) {\n",
       "      const quickchartButtonEl =\n",
       "        document.querySelector('#' + key + ' button');\n",
       "      quickchartButtonEl.disabled = true;  // To prevent multiple clicks.\n",
       "      quickchartButtonEl.classList.add('colab-df-spinner');\n",
       "      try {\n",
       "        const charts = await google.colab.kernel.invokeFunction(\n",
       "            'suggestCharts', [key], {});\n",
       "      } catch (error) {\n",
       "        console.error('Error during call to suggestCharts:', error);\n",
       "      }\n",
       "      quickchartButtonEl.classList.remove('colab-df-spinner');\n",
       "      quickchartButtonEl.classList.add('colab-df-quickchart-complete');\n",
       "    }\n",
       "    (() => {\n",
       "      let quickchartButtonEl =\n",
       "        document.querySelector('#df-f22f42b9-1656-496d-989d-167a85f53d54 button');\n",
       "      quickchartButtonEl.style.display =\n",
       "        google.colab.kernel.accessAllowed ? 'block' : 'none';\n",
       "    })();\n",
       "  </script>\n",
       "</div>\n",
       "\n",
       "  <div id=\"id_1dc1a956-f0be-4c2f-88e0-b1f15b05dee5\">\n",
       "    <style>\n",
       "      .colab-df-generate {\n",
       "        background-color: #E8F0FE;\n",
       "        border: none;\n",
       "        border-radius: 50%;\n",
       "        cursor: pointer;\n",
       "        display: none;\n",
       "        fill: #1967D2;\n",
       "        height: 32px;\n",
       "        padding: 0 0 0 0;\n",
       "        width: 32px;\n",
       "      }\n",
       "\n",
       "      .colab-df-generate:hover {\n",
       "        background-color: #E2EBFA;\n",
       "        box-shadow: 0px 1px 2px rgba(60, 64, 67, 0.3), 0px 1px 3px 1px rgba(60, 64, 67, 0.15);\n",
       "        fill: #174EA6;\n",
       "      }\n",
       "\n",
       "      [theme=dark] .colab-df-generate {\n",
       "        background-color: #3B4455;\n",
       "        fill: #D2E3FC;\n",
       "      }\n",
       "\n",
       "      [theme=dark] .colab-df-generate:hover {\n",
       "        background-color: #434B5C;\n",
       "        box-shadow: 0px 1px 3px 1px rgba(0, 0, 0, 0.15);\n",
       "        filter: drop-shadow(0px 1px 2px rgba(0, 0, 0, 0.3));\n",
       "        fill: #FFFFFF;\n",
       "      }\n",
       "    </style>\n",
       "    <button class=\"colab-df-generate\" onclick=\"generateWithVariable('result')\"\n",
       "            title=\"Generate code using this dataframe.\"\n",
       "            style=\"display:none;\">\n",
       "\n",
       "  <svg xmlns=\"http://www.w3.org/2000/svg\" height=\"24px\"viewBox=\"0 0 24 24\"\n",
       "       width=\"24px\">\n",
       "    <path d=\"M7,19H8.4L18.45,9,17,7.55,7,17.6ZM5,21V16.75L18.45,3.32a2,2,0,0,1,2.83,0l1.4,1.43a1.91,1.91,0,0,1,.58,1.4,1.91,1.91,0,0,1-.58,1.4L9.25,21ZM18.45,9,17,7.55Zm-12,3A5.31,5.31,0,0,0,4.9,8.1,5.31,5.31,0,0,0,1,6.5,5.31,5.31,0,0,0,4.9,4.9,5.31,5.31,0,0,0,6.5,1,5.31,5.31,0,0,0,8.1,4.9,5.31,5.31,0,0,0,12,6.5,5.46,5.46,0,0,0,6.5,12Z\"/>\n",
       "  </svg>\n",
       "    </button>\n",
       "    <script>\n",
       "      (() => {\n",
       "      const buttonEl =\n",
       "        document.querySelector('#id_1dc1a956-f0be-4c2f-88e0-b1f15b05dee5 button.colab-df-generate');\n",
       "      buttonEl.style.display =\n",
       "        google.colab.kernel.accessAllowed ? 'block' : 'none';\n",
       "\n",
       "      buttonEl.onclick = () => {\n",
       "        google.colab.notebook.generateWithVariable('result');\n",
       "      }\n",
       "      })();\n",
       "    </script>\n",
       "  </div>\n",
       "\n",
       "    </div>\n",
       "  </div>\n"
      ],
      "text/plain": [
       "   machine_id      site_session_id  user_session_id             domain_id  \\\n",
       "0  76893652.0  1097439027123760560  277768936520001  14182122721287351521   \n",
       "1  76893652.0  1929555935772399943  277768936520001  17591158128419228596   \n",
       "2  76893652.0  2522671852715459944  277768936520001   9042466792195675329   \n",
       "3  76893652.0  4521134975717184835  277768936520001   5078454264594108662   \n",
       "4  76893652.0  4661797897909298676  277768936520001   7373198621107881927   \n",
       "\n",
       "  ref_domain__name  pages_viewed  duration event_date          event_time  \\\n",
       "0       google.com             1         1 2023-01-01 1900-01-01 04:04:44   \n",
       "1       google.com             5        20 2023-01-01 1900-01-01 04:04:17   \n",
       "2     marriott.com             1         1 2023-01-01 1900-01-01 04:17:13   \n",
       "3             None             2         0 2023-01-01 1900-01-01 04:15:37   \n",
       "4       google.com             1         1 2023-01-01 1900-01-01 04:26:20   \n",
       "\n",
       "  tran_flg  \n",
       "0     None  \n",
       "1     None  \n",
       "2     None  \n",
       "3     None  \n",
       "4     None  "
      ]
     },
     "metadata": {},
     "output_type": "display_data"
    }
   ],
   "source": [
    "display(result)"
   ]
  },
  {
   "cell_type": "markdown",
   "metadata": {},
   "source": [
    "#### filter valid data by where "
   ]
  },
  {
   "cell_type": "code",
   "execution_count": 19,
   "metadata": {
    "colab": {
     "base_uri": "https://localhost:8080/",
     "height": 835
    },
    "executionInfo": {
     "elapsed": 12290,
     "status": "ok",
     "timestamp": 1727785656826,
     "user": {
      "displayName": "Buraj Patrakosol",
      "userId": "15915442625378365644"
     },
     "user_tz": -420
    },
    "id": "UuUWLRHvCKqE",
    "outputId": "4786b433-0068-4312-b15f-dbc6203342ab"
   },
   "outputs": [
    {
     "name": "stdout",
     "output_type": "stream",
     "text": [
      "Enter your WRDS username [khala]: yuttapongm\n",
      "Enter your password: ········\n"
     ]
    },
    {
     "name": "stdout",
     "output_type": "stream",
     "text": [
      "WRDS recommends setting up a .pgpass file.\n"
     ]
    },
    {
     "name": "stdout",
     "output_type": "stream",
     "text": [
      "Create .pgpass file now [y/n]?:  y\n"
     ]
    },
    {
     "name": "stdout",
     "output_type": "stream",
     "text": [
      "Created .pgpass file successfully.\n",
      "You can create this file yourself at any time with the create_pgpass_file() function.\n",
      "Loading library list...\n",
      "Done\n"
     ]
    },
    {
     "data": {
      "text/html": [
       "<div>\n",
       "<style scoped>\n",
       "    .dataframe tbody tr th:only-of-type {\n",
       "        vertical-align: middle;\n",
       "    }\n",
       "\n",
       "    .dataframe tbody tr th {\n",
       "        vertical-align: top;\n",
       "    }\n",
       "\n",
       "    .dataframe thead th {\n",
       "        text-align: right;\n",
       "    }\n",
       "</style>\n",
       "<table border=\"1\" class=\"dataframe\">\n",
       "  <thead>\n",
       "    <tr style=\"text-align: right;\">\n",
       "      <th></th>\n",
       "      <th>domain_id</th>\n",
       "      <th>domain_name</th>\n",
       "    </tr>\n",
       "  </thead>\n",
       "  <tbody>\n",
       "    <tr>\n",
       "      <th>0</th>\n",
       "      <td>10000002250592451543</td>\n",
       "      <td>bobbiewygant.com</td>\n",
       "    </tr>\n",
       "    <tr>\n",
       "      <th>1</th>\n",
       "      <td>10000009318275943204</td>\n",
       "      <td>fixturelogic.com</td>\n",
       "    </tr>\n",
       "    <tr>\n",
       "      <th>2</th>\n",
       "      <td>10000014430890054728</td>\n",
       "      <td>thebushmen.net</td>\n",
       "    </tr>\n",
       "    <tr>\n",
       "      <th>3</th>\n",
       "      <td>10000034864329602240</td>\n",
       "      <td>vinnies.nyc</td>\n",
       "    </tr>\n",
       "    <tr>\n",
       "      <th>4</th>\n",
       "      <td>10000041320764275948</td>\n",
       "      <td>professionday.com</td>\n",
       "    </tr>\n",
       "    <tr>\n",
       "      <th>5</th>\n",
       "      <td>10000053477489672587</td>\n",
       "      <td>npporn.com</td>\n",
       "    </tr>\n",
       "    <tr>\n",
       "      <th>6</th>\n",
       "      <td>10000059120462452974</td>\n",
       "      <td>clarityinfotech.com</td>\n",
       "    </tr>\n",
       "    <tr>\n",
       "      <th>7</th>\n",
       "      <td>10000070071977419591</td>\n",
       "      <td>executiveor.com</td>\n",
       "    </tr>\n",
       "    <tr>\n",
       "      <th>8</th>\n",
       "      <td>10000072630738492099</td>\n",
       "      <td>valleyviewhealth.org</td>\n",
       "    </tr>\n",
       "    <tr>\n",
       "      <th>9</th>\n",
       "      <td>10000075508765329296</td>\n",
       "      <td>turbosmurfs.gg</td>\n",
       "    </tr>\n",
       "    <tr>\n",
       "      <th>10</th>\n",
       "      <td>10000086204532136599</td>\n",
       "      <td>sassysublimationscreens.com</td>\n",
       "    </tr>\n",
       "    <tr>\n",
       "      <th>11</th>\n",
       "      <td>10000087023511657543</td>\n",
       "      <td>goboardmaker.com</td>\n",
       "    </tr>\n",
       "    <tr>\n",
       "      <th>12</th>\n",
       "      <td>10000090162421865547</td>\n",
       "      <td>tagmin.com</td>\n",
       "    </tr>\n",
       "    <tr>\n",
       "      <th>13</th>\n",
       "      <td>10000090525796349710</td>\n",
       "      <td>freedomtreeservice.com</td>\n",
       "    </tr>\n",
       "    <tr>\n",
       "      <th>14</th>\n",
       "      <td>10000100125795179273</td>\n",
       "      <td>sdale.org</td>\n",
       "    </tr>\n",
       "    <tr>\n",
       "      <th>15</th>\n",
       "      <td>10000114912498134540</td>\n",
       "      <td>myitalianlessons.co.uk</td>\n",
       "    </tr>\n",
       "    <tr>\n",
       "      <th>16</th>\n",
       "      <td>10000123810016419828</td>\n",
       "      <td>lylesauto.com</td>\n",
       "    </tr>\n",
       "    <tr>\n",
       "      <th>17</th>\n",
       "      <td>10000128499052454708</td>\n",
       "      <td>billiondodgechryslerjeep.com</td>\n",
       "    </tr>\n",
       "    <tr>\n",
       "      <th>18</th>\n",
       "      <td>10000137628952733324</td>\n",
       "      <td>yelp.es</td>\n",
       "    </tr>\n",
       "    <tr>\n",
       "      <th>19</th>\n",
       "      <td>10000160112633335907</td>\n",
       "      <td>lewiscounty.com</td>\n",
       "    </tr>\n",
       "  </tbody>\n",
       "</table>\n",
       "</div>"
      ],
      "text/plain": [
       "               domain_id                   domain_name\n",
       "0   10000002250592451543              bobbiewygant.com\n",
       "1   10000009318275943204              fixturelogic.com\n",
       "2   10000014430890054728                thebushmen.net\n",
       "3   10000034864329602240                   vinnies.nyc\n",
       "4   10000041320764275948             professionday.com\n",
       "5   10000053477489672587                    npporn.com\n",
       "6   10000059120462452974           clarityinfotech.com\n",
       "7   10000070071977419591               executiveor.com\n",
       "8   10000072630738492099          valleyviewhealth.org\n",
       "9   10000075508765329296                turbosmurfs.gg\n",
       "10  10000086204532136599   sassysublimationscreens.com\n",
       "11  10000087023511657543              goboardmaker.com\n",
       "12  10000090162421865547                    tagmin.com\n",
       "13  10000090525796349710        freedomtreeservice.com\n",
       "14  10000100125795179273                     sdale.org\n",
       "15  10000114912498134540        myitalianlessons.co.uk\n",
       "16  10000123810016419828                 lylesauto.com\n",
       "17  10000128499052454708  billiondodgechryslerjeep.com\n",
       "18  10000137628952733324                       yelp.es\n",
       "19  10000160112633335907               lewiscounty.com"
      ]
     },
     "metadata": {},
     "output_type": "display_data"
    }
   ],
   "source": [
    "import pandas as pd\n",
    "import wrds\n",
    "\n",
    "conn = wrds.Connection()\n",
    "\n",
    "# sql_statement = \"\"\"\n",
    "#                 select *\n",
    "#                 from comscore_2022.domains2022\n",
    "#                 limit 20\n",
    "#                 \"\"\"\n",
    "sql_statement = \"\"\"\n",
    "                select *\n",
    "                from comscore_2022.domains2022\n",
    "                where position('.' in domain_name) > 0\n",
    "                limit 20\n",
    "                \"\"\"\n",
    "\n",
    "result = conn.raw_sql(sql_statement)\n",
    "\n",
    "conn.close()\n",
    "display(result)"
   ]
  },
  {
   "cell_type": "markdown",
   "metadata": {
    "id": "6plSjPN3Dq3a"
   },
   "source": [
    "### join"
   ]
  },
  {
   "cell_type": "markdown",
   "metadata": {},
   "source": [
    "#### inner join (join)"
   ]
  },
  {
   "cell_type": "code",
   "execution_count": 21,
   "metadata": {
    "colab": {
     "base_uri": "https://localhost:8080/",
     "height": 835
    },
    "executionInfo": {
     "elapsed": 11220,
     "status": "ok",
     "timestamp": 1727786311802,
     "user": {
      "displayName": "Buraj Patrakosol",
      "userId": "15915442625378365644"
     },
     "user_tz": -420
    },
    "id": "sE5eaNrGDp_v",
    "outputId": "b92e4566-74e1-46bd-8feb-bac6714670fe"
   },
   "outputs": [
    {
     "name": "stdout",
     "output_type": "stream",
     "text": [
      "Enter your WRDS username [khala]: yuttapongm\n",
      "Enter your password: ········\n"
     ]
    },
    {
     "name": "stdout",
     "output_type": "stream",
     "text": [
      "WRDS recommends setting up a .pgpass file.\n"
     ]
    },
    {
     "name": "stdout",
     "output_type": "stream",
     "text": [
      "Create .pgpass file now [y/n]?:  y\n"
     ]
    },
    {
     "name": "stdout",
     "output_type": "stream",
     "text": [
      "Created .pgpass file successfully.\n",
      "You can create this file yourself at any time with the create_pgpass_file() function.\n",
      "Loading library list...\n",
      "Done\n"
     ]
    },
    {
     "data": {
      "text/html": [
       "<div>\n",
       "<style scoped>\n",
       "    .dataframe tbody tr th:only-of-type {\n",
       "        vertical-align: middle;\n",
       "    }\n",
       "\n",
       "    .dataframe tbody tr th {\n",
       "        vertical-align: top;\n",
       "    }\n",
       "\n",
       "    .dataframe thead th {\n",
       "        text-align: right;\n",
       "    }\n",
       "</style>\n",
       "<table border=\"1\" class=\"dataframe\">\n",
       "  <thead>\n",
       "    <tr style=\"text-align: right;\">\n",
       "      <th></th>\n",
       "      <th>machine_id</th>\n",
       "      <th>event_time</th>\n",
       "      <th>domain_name</th>\n",
       "      <th>ref_domain__name</th>\n",
       "      <th>pages_viewed</th>\n",
       "      <th>duration</th>\n",
       "    </tr>\n",
       "  </thead>\n",
       "  <tbody>\n",
       "    <tr>\n",
       "      <th>0</th>\n",
       "      <td>100026976.0</td>\n",
       "      <td>06:26:27</td>\n",
       "      <td>ebay.com</td>\n",
       "      <td>None</td>\n",
       "      <td>2</td>\n",
       "      <td>0</td>\n",
       "    </tr>\n",
       "    <tr>\n",
       "      <th>1</th>\n",
       "      <td>100026976.0</td>\n",
       "      <td>05:35:35</td>\n",
       "      <td>mnconnections.com</td>\n",
       "      <td>None</td>\n",
       "      <td>5</td>\n",
       "      <td>0</td>\n",
       "    </tr>\n",
       "    <tr>\n",
       "      <th>2</th>\n",
       "      <td>100026976.0</td>\n",
       "      <td>06:26:32</td>\n",
       "      <td>yahoosandbox.com</td>\n",
       "      <td>yahoo.com</td>\n",
       "      <td>1</td>\n",
       "      <td>1</td>\n",
       "    </tr>\n",
       "    <tr>\n",
       "      <th>3</th>\n",
       "      <td>100026976.0</td>\n",
       "      <td>16:34:13</td>\n",
       "      <td>googletagmanager.com</td>\n",
       "      <td>uline.com</td>\n",
       "      <td>1</td>\n",
       "      <td>1</td>\n",
       "    </tr>\n",
       "    <tr>\n",
       "      <th>4</th>\n",
       "      <td>100026976.0</td>\n",
       "      <td>16:36:35</td>\n",
       "      <td>zoro.com</td>\n",
       "      <td>None</td>\n",
       "      <td>3</td>\n",
       "      <td>2</td>\n",
       "    </tr>\n",
       "    <tr>\n",
       "      <th>5</th>\n",
       "      <td>100026976.0</td>\n",
       "      <td>05:16:49</td>\n",
       "      <td>nextmillmedia.com</td>\n",
       "      <td>openx.net</td>\n",
       "      <td>1</td>\n",
       "      <td>1</td>\n",
       "    </tr>\n",
       "    <tr>\n",
       "      <th>6</th>\n",
       "      <td>100026976.0</td>\n",
       "      <td>15:58:49</td>\n",
       "      <td>yahoo.com</td>\n",
       "      <td>yahoo.com</td>\n",
       "      <td>3</td>\n",
       "      <td>2</td>\n",
       "    </tr>\n",
       "    <tr>\n",
       "      <th>7</th>\n",
       "      <td>100026976.0</td>\n",
       "      <td>05:14:37</td>\n",
       "      <td>yahoo.com</td>\n",
       "      <td>None</td>\n",
       "      <td>13</td>\n",
       "      <td>19</td>\n",
       "    </tr>\n",
       "    <tr>\n",
       "      <th>8</th>\n",
       "      <td>100026976.0</td>\n",
       "      <td>05:33:21</td>\n",
       "      <td>ebay.com</td>\n",
       "      <td>ebay.com</td>\n",
       "      <td>8</td>\n",
       "      <td>3</td>\n",
       "    </tr>\n",
       "    <tr>\n",
       "      <th>9</th>\n",
       "      <td>100026976.0</td>\n",
       "      <td>16:31:49</td>\n",
       "      <td>google.com</td>\n",
       "      <td>None</td>\n",
       "      <td>2</td>\n",
       "      <td>5</td>\n",
       "    </tr>\n",
       "    <tr>\n",
       "      <th>10</th>\n",
       "      <td>100026976.0</td>\n",
       "      <td>16:38:18</td>\n",
       "      <td>techlab-cdn.com</td>\n",
       "      <td>zoro.com</td>\n",
       "      <td>4</td>\n",
       "      <td>3</td>\n",
       "    </tr>\n",
       "    <tr>\n",
       "      <th>11</th>\n",
       "      <td>100026976.0</td>\n",
       "      <td>06:27:06</td>\n",
       "      <td>yahoo.com</td>\n",
       "      <td>yahoo.com</td>\n",
       "      <td>7</td>\n",
       "      <td>1</td>\n",
       "    </tr>\n",
       "    <tr>\n",
       "      <th>12</th>\n",
       "      <td>100026976.0</td>\n",
       "      <td>16:00:33</td>\n",
       "      <td>mnconnections.com</td>\n",
       "      <td>None</td>\n",
       "      <td>12</td>\n",
       "      <td>8</td>\n",
       "    </tr>\n",
       "    <tr>\n",
       "      <th>13</th>\n",
       "      <td>100026976.0</td>\n",
       "      <td>16:31:49</td>\n",
       "      <td>uline.com</td>\n",
       "      <td>None</td>\n",
       "      <td>13</td>\n",
       "      <td>3</td>\n",
       "    </tr>\n",
       "    <tr>\n",
       "      <th>14</th>\n",
       "      <td>100026976.0</td>\n",
       "      <td>16:37:17</td>\n",
       "      <td>yahoo.com</td>\n",
       "      <td>yahoo.com</td>\n",
       "      <td>5</td>\n",
       "      <td>0</td>\n",
       "    </tr>\n",
       "    <tr>\n",
       "      <th>15</th>\n",
       "      <td>100026976.0</td>\n",
       "      <td>16:38:40</td>\n",
       "      <td>merlenorman.com</td>\n",
       "      <td>None</td>\n",
       "      <td>3</td>\n",
       "      <td>0</td>\n",
       "    </tr>\n",
       "    <tr>\n",
       "      <th>16</th>\n",
       "      <td>100026976.0</td>\n",
       "      <td>06:27:48</td>\n",
       "      <td>yieldmo.com</td>\n",
       "      <td>None</td>\n",
       "      <td>1</td>\n",
       "      <td>1</td>\n",
       "    </tr>\n",
       "    <tr>\n",
       "      <th>17</th>\n",
       "      <td>100026976.0</td>\n",
       "      <td>15:52:58</td>\n",
       "      <td>ebay.com</td>\n",
       "      <td>None</td>\n",
       "      <td>15</td>\n",
       "      <td>49</td>\n",
       "    </tr>\n",
       "    <tr>\n",
       "      <th>18</th>\n",
       "      <td>100026976.0</td>\n",
       "      <td>15:53:58</td>\n",
       "      <td>merlenorman.com</td>\n",
       "      <td>None</td>\n",
       "      <td>10</td>\n",
       "      <td>3</td>\n",
       "    </tr>\n",
       "    <tr>\n",
       "      <th>19</th>\n",
       "      <td>100565151.0</td>\n",
       "      <td>20:29:21</td>\n",
       "      <td>gardeningknowhow.com</td>\n",
       "      <td>yahoo.com</td>\n",
       "      <td>1</td>\n",
       "      <td>1</td>\n",
       "    </tr>\n",
       "  </tbody>\n",
       "</table>\n",
       "</div>"
      ],
      "text/plain": [
       "     machine_id event_time           domain_name ref_domain__name  \\\n",
       "0   100026976.0   06:26:27              ebay.com             None   \n",
       "1   100026976.0   05:35:35     mnconnections.com             None   \n",
       "2   100026976.0   06:26:32      yahoosandbox.com        yahoo.com   \n",
       "3   100026976.0   16:34:13  googletagmanager.com        uline.com   \n",
       "4   100026976.0   16:36:35              zoro.com             None   \n",
       "5   100026976.0   05:16:49     nextmillmedia.com        openx.net   \n",
       "6   100026976.0   15:58:49             yahoo.com        yahoo.com   \n",
       "7   100026976.0   05:14:37             yahoo.com             None   \n",
       "8   100026976.0   05:33:21              ebay.com         ebay.com   \n",
       "9   100026976.0   16:31:49            google.com             None   \n",
       "10  100026976.0   16:38:18       techlab-cdn.com         zoro.com   \n",
       "11  100026976.0   06:27:06             yahoo.com        yahoo.com   \n",
       "12  100026976.0   16:00:33     mnconnections.com             None   \n",
       "13  100026976.0   16:31:49             uline.com             None   \n",
       "14  100026976.0   16:37:17             yahoo.com        yahoo.com   \n",
       "15  100026976.0   16:38:40       merlenorman.com             None   \n",
       "16  100026976.0   06:27:48           yieldmo.com             None   \n",
       "17  100026976.0   15:52:58              ebay.com             None   \n",
       "18  100026976.0   15:53:58       merlenorman.com             None   \n",
       "19  100565151.0   20:29:21  gardeningknowhow.com        yahoo.com   \n",
       "\n",
       "    pages_viewed  duration  \n",
       "0              2         0  \n",
       "1              5         0  \n",
       "2              1         1  \n",
       "3              1         1  \n",
       "4              3         2  \n",
       "5              1         1  \n",
       "6              3         2  \n",
       "7             13        19  \n",
       "8              8         3  \n",
       "9              2         5  \n",
       "10             4         3  \n",
       "11             7         1  \n",
       "12            12         8  \n",
       "13            13         3  \n",
       "14             5         0  \n",
       "15             3         0  \n",
       "16             1         1  \n",
       "17            15        49  \n",
       "18            10         3  \n",
       "19             1         1  "
      ]
     },
     "metadata": {},
     "output_type": "display_data"
    }
   ],
   "source": [
    "import pandas as pd\n",
    "import wrds\n",
    "\n",
    "conn = wrds.Connection()\n",
    "\n",
    "sql_statement = \"\"\"\n",
    "                select vst.machine_id, vst.event_time,\n",
    "                       dmn.domain_name, vst.ref_domain__name,\n",
    "                       vst.pages_viewed,vst.duration\n",
    "                from comscore_2023.ss277m vst\n",
    "                join comscore_2023.domains2023 dmn\n",
    "                on dmn.domain_id = vst.domain_id\n",
    "                where position('.' in dmn.domain_name) > 0\n",
    "                      and vst.event_date = '20230130'\n",
    "                limit 20\n",
    "                \"\"\"\n",
    "\n",
    "result = conn.raw_sql(sql_statement)\n",
    "\n",
    "conn.close()\n",
    "display(result)"
   ]
  },
  {
   "cell_type": "markdown",
   "metadata": {},
   "source": [
    "#### `inner join` with subquery"
   ]
  },
  {
   "cell_type": "code",
   "execution_count": 23,
   "metadata": {
    "colab": {
     "base_uri": "https://localhost:8080/",
     "height": 350
    },
    "executionInfo": {
     "elapsed": 12118,
     "status": "ok",
     "timestamp": 1727786585221,
     "user": {
      "displayName": "Buraj Patrakosol",
      "userId": "15915442625378365644"
     },
     "user_tz": -420
    },
    "id": "p44idgvBGLot",
    "outputId": "a05196c1-5714-4feb-9568-fed7687bd972"
   },
   "outputs": [
    {
     "name": "stdout",
     "output_type": "stream",
     "text": [
      "Enter your WRDS username [khala]: yuttapongm\n",
      "Enter your password: ········\n"
     ]
    },
    {
     "name": "stdout",
     "output_type": "stream",
     "text": [
      "WRDS recommends setting up a .pgpass file.\n"
     ]
    },
    {
     "name": "stdout",
     "output_type": "stream",
     "text": [
      "Create .pgpass file now [y/n]?:  y\n"
     ]
    },
    {
     "name": "stdout",
     "output_type": "stream",
     "text": [
      "Created .pgpass file successfully.\n",
      "You can create this file yourself at any time with the create_pgpass_file() function.\n",
      "Loading library list...\n",
      "Done\n",
      "<class 'pandas.core.frame.DataFrame'>\n",
      "RangeIndex: 21730 entries, 0 to 21729\n",
      "Data columns (total 2 columns):\n",
      " #   Column  Non-Null Count  Dtype \n",
      "---  ------  --------------  ----- \n",
      " 0   id30    21730 non-null  object\n",
      " 1   id31    21730 non-null  object\n",
      "dtypes: object(2)\n",
      "memory usage: 339.7+ KB\n"
     ]
    },
    {
     "data": {
      "text/plain": [
       "None"
      ]
     },
     "metadata": {},
     "output_type": "display_data"
    }
   ],
   "source": [
    "import pandas as pd\n",
    "import wrds\n",
    "\n",
    "conn = wrds.Connection()\n",
    "\n",
    "sql_statement = \"\"\"\n",
    "                select vst30.domain_id id30, vst31.domain_id id31\n",
    "                from\n",
    "                ( select distinct domain_id\n",
    "                  from comscore_2023.ss277m\n",
    "                  where event_date = '20230130'\n",
    "                ) vst30\n",
    "                inner join\n",
    "                ( select distinct domain_id\n",
    "                  from comscore_2023.ss277m\n",
    "                  where event_date = '20230131'\n",
    "                ) vst31\n",
    "                on vst30.domain_id = vst31.domain_id\n",
    "                \"\"\"\n",
    "\n",
    "result = conn.raw_sql(sql_statement)\n",
    "\n",
    "conn.close()\n",
    "display(result.info())"
   ]
  },
  {
   "cell_type": "markdown",
   "metadata": {},
   "source": [
    "####  `left join` with subquery"
   ]
  },
  {
   "cell_type": "code",
   "execution_count": 25,
   "metadata": {
    "colab": {
     "base_uri": "https://localhost:8080/",
     "height": 350
    },
    "executionInfo": {
     "elapsed": 12053,
     "status": "ok",
     "timestamp": 1727786962092,
     "user": {
      "displayName": "Buraj Patrakosol",
      "userId": "15915442625378365644"
     },
     "user_tz": -420
    },
    "id": "eK5-VEtWIBqs",
    "outputId": "0779dbb5-b31d-48dc-e446-b62165b9f4d0"
   },
   "outputs": [
    {
     "name": "stdout",
     "output_type": "stream",
     "text": [
      "Enter your WRDS username [khala]: yuttapongm\n",
      "Enter your password: ········\n"
     ]
    },
    {
     "name": "stdout",
     "output_type": "stream",
     "text": [
      "WRDS recommends setting up a .pgpass file.\n"
     ]
    },
    {
     "name": "stdout",
     "output_type": "stream",
     "text": [
      "Create .pgpass file now [y/n]?:  y\n"
     ]
    },
    {
     "name": "stdout",
     "output_type": "stream",
     "text": [
      "Created .pgpass file successfully.\n",
      "You can create this file yourself at any time with the create_pgpass_file() function.\n",
      "Loading library list...\n",
      "Done\n",
      "<class 'pandas.core.frame.DataFrame'>\n",
      "RangeIndex: 46055 entries, 0 to 46054\n",
      "Data columns (total 2 columns):\n",
      " #   Column  Non-Null Count  Dtype \n",
      "---  ------  --------------  ----- \n",
      " 0   id30    46055 non-null  object\n",
      " 1   id31    21730 non-null  object\n",
      "dtypes: object(2)\n",
      "memory usage: 719.7+ KB\n"
     ]
    },
    {
     "data": {
      "text/plain": [
       "None"
      ]
     },
     "metadata": {},
     "output_type": "display_data"
    }
   ],
   "source": [
    "import pandas as pd\n",
    "import wrds\n",
    "\n",
    "conn = wrds.Connection()\n",
    "\n",
    "sql_statement = \"\"\"\n",
    "                select vst30.domain_id id30, vst31.domain_id id31\n",
    "                from\n",
    "                ( select distinct domain_id\n",
    "                  from comscore_2023.ss277m\n",
    "                  where event_date = '20230130'\n",
    "                ) vst30\n",
    "                left join\n",
    "                ( select distinct domain_id\n",
    "                  from comscore_2023.ss277m\n",
    "                  where event_date = '20230131'\n",
    "                ) vst31\n",
    "                on vst30.domain_id = vst31.domain_id\n",
    "                \"\"\"\n",
    "\n",
    "result = conn.raw_sql(sql_statement)\n",
    "\n",
    "conn.close()\n",
    "display(result.info())"
   ]
  },
  {
   "cell_type": "markdown",
   "metadata": {},
   "source": [
    "#### `right join` with subquery"
   ]
  },
  {
   "cell_type": "code",
   "execution_count": 26,
   "metadata": {
    "colab": {
     "base_uri": "https://localhost:8080/",
     "height": 350
    },
    "executionInfo": {
     "elapsed": 12110,
     "status": "ok",
     "timestamp": 1727787076606,
     "user": {
      "displayName": "Buraj Patrakosol",
      "userId": "15915442625378365644"
     },
     "user_tz": -420
    },
    "id": "srmVK0yCIkRR",
    "outputId": "7f3f78ab-5fa2-42fb-fd9a-d5af12a9decf"
   },
   "outputs": [
    {
     "name": "stdout",
     "output_type": "stream",
     "text": [
      "Enter your WRDS username [khala]: yuttapongm\n",
      "Enter your password: ········\n"
     ]
    },
    {
     "name": "stdout",
     "output_type": "stream",
     "text": [
      "WRDS recommends setting up a .pgpass file.\n"
     ]
    },
    {
     "name": "stdout",
     "output_type": "stream",
     "text": [
      "Create .pgpass file now [y/n]?:  y\n"
     ]
    },
    {
     "name": "stdout",
     "output_type": "stream",
     "text": [
      "Created .pgpass file successfully.\n",
      "You can create this file yourself at any time with the create_pgpass_file() function.\n",
      "Loading library list...\n",
      "Done\n",
      "<class 'pandas.core.frame.DataFrame'>\n",
      "RangeIndex: 47061 entries, 0 to 47060\n",
      "Data columns (total 2 columns):\n",
      " #   Column  Non-Null Count  Dtype \n",
      "---  ------  --------------  ----- \n",
      " 0   id30    21730 non-null  object\n",
      " 1   id31    47061 non-null  object\n",
      "dtypes: object(2)\n",
      "memory usage: 735.5+ KB\n"
     ]
    },
    {
     "data": {
      "text/plain": [
       "None"
      ]
     },
     "metadata": {},
     "output_type": "display_data"
    }
   ],
   "source": [
    "import pandas as pd\n",
    "import wrds\n",
    "\n",
    "conn = wrds.Connection()\n",
    "\n",
    "sql_statement = \"\"\"\n",
    "                select vst30.domain_id id30, vst31.domain_id id31\n",
    "                from\n",
    "                ( select distinct domain_id\n",
    "                  from comscore_2023.ss277m\n",
    "                  where event_date = '20230130'\n",
    "                ) vst30\n",
    "                right join\n",
    "                ( select distinct domain_id\n",
    "                  from comscore_2023.ss277m\n",
    "                  where event_date = '20230131'\n",
    "                ) vst31\n",
    "                on vst30.domain_id = vst31.domain_id\n",
    "                \"\"\"\n",
    "\n",
    "result = conn.raw_sql(sql_statement)\n",
    "\n",
    "conn.close()\n",
    "display(result.info())"
   ]
  },
  {
   "cell_type": "markdown",
   "metadata": {},
   "source": [
    "#### `full join` with subquery"
   ]
  },
  {
   "cell_type": "code",
   "execution_count": 28,
   "metadata": {
    "colab": {
     "base_uri": "https://localhost:8080/",
     "height": 350
    },
    "executionInfo": {
     "elapsed": 11897,
     "status": "ok",
     "timestamp": 1727787186015,
     "user": {
      "displayName": "Buraj Patrakosol",
      "userId": "15915442625378365644"
     },
     "user_tz": -420
    },
    "id": "0EounvgnI-xb",
    "outputId": "f6c6bebe-cd8b-41ec-bd7b-9d80852d4227"
   },
   "outputs": [
    {
     "name": "stdout",
     "output_type": "stream",
     "text": [
      "Enter your WRDS username [khala]: yuttapongm\n",
      "Enter your password: ········\n"
     ]
    },
    {
     "name": "stdout",
     "output_type": "stream",
     "text": [
      "WRDS recommends setting up a .pgpass file.\n"
     ]
    },
    {
     "name": "stdout",
     "output_type": "stream",
     "text": [
      "Create .pgpass file now [y/n]?:  y\n"
     ]
    },
    {
     "name": "stdout",
     "output_type": "stream",
     "text": [
      "Created .pgpass file successfully.\n",
      "You can create this file yourself at any time with the create_pgpass_file() function.\n",
      "Loading library list...\n",
      "Done\n",
      "<class 'pandas.core.frame.DataFrame'>\n",
      "RangeIndex: 71386 entries, 0 to 71385\n",
      "Data columns (total 2 columns):\n",
      " #   Column  Non-Null Count  Dtype \n",
      "---  ------  --------------  ----- \n",
      " 0   id30    46055 non-null  object\n",
      " 1   id31    47061 non-null  object\n",
      "dtypes: object(2)\n",
      "memory usage: 1.1+ MB\n"
     ]
    },
    {
     "data": {
      "text/plain": [
       "None"
      ]
     },
     "metadata": {},
     "output_type": "display_data"
    }
   ],
   "source": [
    "import pandas as pd\n",
    "import wrds\n",
    "\n",
    "conn = wrds.Connection()\n",
    "\n",
    "sql_statement = \"\"\"\n",
    "                select vst30.domain_id id30, vst31.domain_id id31\n",
    "                from\n",
    "                ( select distinct domain_id\n",
    "                  from comscore_2023.ss277m\n",
    "                  where event_date = '20230130'\n",
    "                ) vst30\n",
    "                full join\n",
    "                ( select distinct domain_id\n",
    "                  from comscore_2023.ss277m\n",
    "                  where event_date = '20230131'\n",
    "                ) vst31\n",
    "                on vst30.domain_id = vst31.domain_id\n",
    "                \"\"\"\n",
    "\n",
    "result = conn.raw_sql(sql_statement)\n",
    "\n",
    "conn.close()\n",
    "display(result.info())"
   ]
  },
  {
   "cell_type": "code",
   "execution_count": 30,
   "metadata": {
    "colab": {
     "base_uri": "https://localhost:8080/",
     "height": 383
    },
    "executionInfo": {
     "elapsed": 8,
     "status": "ok",
     "timestamp": 1727787236854,
     "user": {
      "displayName": "Buraj Patrakosol",
      "userId": "15915442625378365644"
     },
     "user_tz": -420
    },
    "id": "ZdR7KBesJNii",
    "outputId": "27ce3465-1560-4ce9-db3b-8e3638e365ec"
   },
   "outputs": [
    {
     "data": {
      "text/html": [
       "<div>\n",
       "<style scoped>\n",
       "    .dataframe tbody tr th:only-of-type {\n",
       "        vertical-align: middle;\n",
       "    }\n",
       "\n",
       "    .dataframe tbody tr th {\n",
       "        vertical-align: top;\n",
       "    }\n",
       "\n",
       "    .dataframe thead th {\n",
       "        text-align: right;\n",
       "    }\n",
       "</style>\n",
       "<table border=\"1\" class=\"dataframe\">\n",
       "  <thead>\n",
       "    <tr style=\"text-align: right;\">\n",
       "      <th></th>\n",
       "      <th>id30</th>\n",
       "      <th>id31</th>\n",
       "    </tr>\n",
       "  </thead>\n",
       "  <tbody>\n",
       "    <tr>\n",
       "      <th>0</th>\n",
       "      <td>10000075508765329296</td>\n",
       "      <td>None</td>\n",
       "    </tr>\n",
       "    <tr>\n",
       "      <th>1</th>\n",
       "      <td>None</td>\n",
       "      <td>1000091261717211709</td>\n",
       "    </tr>\n",
       "    <tr>\n",
       "      <th>2</th>\n",
       "      <td>10000922996762697697</td>\n",
       "      <td>10000922996762697697</td>\n",
       "    </tr>\n",
       "    <tr>\n",
       "      <th>3</th>\n",
       "      <td>10001281683900488738</td>\n",
       "      <td>None</td>\n",
       "    </tr>\n",
       "    <tr>\n",
       "      <th>4</th>\n",
       "      <td>10001350096691351615</td>\n",
       "      <td>10001350096691351615</td>\n",
       "    </tr>\n",
       "    <tr>\n",
       "      <th>5</th>\n",
       "      <td>10001426492490873762</td>\n",
       "      <td>None</td>\n",
       "    </tr>\n",
       "    <tr>\n",
       "      <th>6</th>\n",
       "      <td>10001581638861887646</td>\n",
       "      <td>None</td>\n",
       "    </tr>\n",
       "    <tr>\n",
       "      <th>7</th>\n",
       "      <td>None</td>\n",
       "      <td>10002340971973387051</td>\n",
       "    </tr>\n",
       "    <tr>\n",
       "      <th>8</th>\n",
       "      <td>10003035306825213952</td>\n",
       "      <td>None</td>\n",
       "    </tr>\n",
       "    <tr>\n",
       "      <th>9</th>\n",
       "      <td>10003107741488823887</td>\n",
       "      <td>10003107741488823887</td>\n",
       "    </tr>\n",
       "  </tbody>\n",
       "</table>\n",
       "</div>"
      ],
      "text/plain": [
       "                   id30                  id31\n",
       "0  10000075508765329296                  None\n",
       "1                  None   1000091261717211709\n",
       "2  10000922996762697697  10000922996762697697\n",
       "3  10001281683900488738                  None\n",
       "4  10001350096691351615  10001350096691351615\n",
       "5  10001426492490873762                  None\n",
       "6  10001581638861887646                  None\n",
       "7                  None  10002340971973387051\n",
       "8  10003035306825213952                  None\n",
       "9  10003107741488823887  10003107741488823887"
      ]
     },
     "metadata": {},
     "output_type": "display_data"
    }
   ],
   "source": [
    "display(result.head(10))"
   ]
  },
  {
   "cell_type": "markdown",
   "metadata": {},
   "source": [
    "### join: example case"
   ]
  },
  {
   "cell_type": "code",
   "execution_count": 30,
   "metadata": {
    "colab": {
     "base_uri": "https://localhost:8080/",
     "height": 522
    },
    "executionInfo": {
     "elapsed": 15167,
     "status": "ok",
     "timestamp": 1728386327742,
     "user": {
      "displayName": "Buraj Patrakosol",
      "userId": "15915442625378365644"
     },
     "user_tz": -420
    },
    "id": "TkpZVWbd0o8B",
    "outputId": "7e5dc7c4-0a29-4edd-c9ae-fa5f0822290c"
   },
   "outputs": [
    {
     "name": "stdout",
     "output_type": "stream",
     "text": [
      "Enter your WRDS username [khala]: yuttapongm\n",
      "Enter your password: ········\n"
     ]
    },
    {
     "name": "stdout",
     "output_type": "stream",
     "text": [
      "WRDS recommends setting up a .pgpass file.\n"
     ]
    },
    {
     "name": "stdout",
     "output_type": "stream",
     "text": [
      "Create .pgpass file now [y/n]?:  y\n"
     ]
    },
    {
     "name": "stdout",
     "output_type": "stream",
     "text": [
      "Created .pgpass file successfully.\n",
      "You can create this file yourself at any time with the create_pgpass_file() function.\n",
      "Loading library list...\n",
      "Done\n"
     ]
    },
    {
     "data": {
      "text/html": [
       "<div>\n",
       "<style scoped>\n",
       "    .dataframe tbody tr th:only-of-type {\n",
       "        vertical-align: middle;\n",
       "    }\n",
       "\n",
       "    .dataframe tbody tr th {\n",
       "        vertical-align: top;\n",
       "    }\n",
       "\n",
       "    .dataframe thead th {\n",
       "        text-align: right;\n",
       "    }\n",
       "</style>\n",
       "<table border=\"1\" class=\"dataframe\">\n",
       "  <thead>\n",
       "    <tr style=\"text-align: right;\">\n",
       "      <th></th>\n",
       "      <th>event_date</th>\n",
       "      <th>domain_name</th>\n",
       "      <th>pages_viewed</th>\n",
       "    </tr>\n",
       "  </thead>\n",
       "  <tbody>\n",
       "    <tr>\n",
       "      <th>0</th>\n",
       "      <td>2023-01-01</td>\n",
       "      <td>google.com</td>\n",
       "      <td>62771</td>\n",
       "    </tr>\n",
       "    <tr>\n",
       "      <th>1</th>\n",
       "      <td>2023-01-01</td>\n",
       "      <td>youtube.com</td>\n",
       "      <td>43692</td>\n",
       "    </tr>\n",
       "    <tr>\n",
       "      <th>2</th>\n",
       "      <td>2023-01-01</td>\n",
       "      <td>bing.com</td>\n",
       "      <td>42377</td>\n",
       "    </tr>\n",
       "    <tr>\n",
       "      <th>3</th>\n",
       "      <td>2023-01-01</td>\n",
       "      <td>msn.com</td>\n",
       "      <td>38342</td>\n",
       "    </tr>\n",
       "    <tr>\n",
       "      <th>4</th>\n",
       "      <td>2023-01-01</td>\n",
       "      <td>capitaloneshopping.com</td>\n",
       "      <td>37570</td>\n",
       "    </tr>\n",
       "    <tr>\n",
       "      <th>0</th>\n",
       "      <td>2023-01-02</td>\n",
       "      <td>google.com</td>\n",
       "      <td>88342</td>\n",
       "    </tr>\n",
       "    <tr>\n",
       "      <th>1</th>\n",
       "      <td>2023-01-02</td>\n",
       "      <td>youtube.com</td>\n",
       "      <td>54162</td>\n",
       "    </tr>\n",
       "    <tr>\n",
       "      <th>2</th>\n",
       "      <td>2023-01-02</td>\n",
       "      <td>bing.com</td>\n",
       "      <td>52220</td>\n",
       "    </tr>\n",
       "    <tr>\n",
       "      <th>3</th>\n",
       "      <td>2023-01-02</td>\n",
       "      <td>capitaloneshopping.com</td>\n",
       "      <td>50019</td>\n",
       "    </tr>\n",
       "    <tr>\n",
       "      <th>4</th>\n",
       "      <td>2023-01-02</td>\n",
       "      <td>yahoo.com</td>\n",
       "      <td>48668</td>\n",
       "    </tr>\n",
       "  </tbody>\n",
       "</table>\n",
       "</div>"
      ],
      "text/plain": [
       "  event_date             domain_name  pages_viewed\n",
       "0 2023-01-01              google.com         62771\n",
       "1 2023-01-01             youtube.com         43692\n",
       "2 2023-01-01                bing.com         42377\n",
       "3 2023-01-01                 msn.com         38342\n",
       "4 2023-01-01  capitaloneshopping.com         37570\n",
       "0 2023-01-02              google.com         88342\n",
       "1 2023-01-02             youtube.com         54162\n",
       "2 2023-01-02                bing.com         52220\n",
       "3 2023-01-02  capitaloneshopping.com         50019\n",
       "4 2023-01-02               yahoo.com         48668"
      ]
     },
     "execution_count": 30,
     "metadata": {},
     "output_type": "execute_result"
    }
   ],
   "source": [
    "import pandas as pd\n",
    "import wrds\n",
    "\n",
    "date_num = [str(x) if x > 9 else '0{0}'.format(x) for x in range(1,11)]\n",
    "\n",
    "visits = list()\n",
    "conn = wrds.Connection()\n",
    "for num in date_num:\n",
    "  sql_statement = \"\"\"\n",
    "                  select vst.event_date,dmn.domain_name,\n",
    "                         sum(vst.pages_viewed) as pages_viewed\n",
    "                  from comscore_2023.ss277m vst\n",
    "                  inner join comscore_2023.domains2023 dmn\n",
    "                  on vst.domain_id = dmn.domain_id\n",
    "                  where vst.event_date = '202301{0}'\n",
    "                        and right(dmn.domain_name,4) = '.com'\n",
    "                  group by vst.event_date,dmn.domain_name\n",
    "                  order by pages_viewed desc\n",
    "                  limit 5\n",
    "                  \"\"\".format(num)\n",
    "  visit = conn.raw_sql(sql_statement,date_cols=['event_date'])\n",
    "  visits.append(visit)\n",
    "conn.close()\n",
    "df_visit = pd.concat(visits)\n",
    "df_visit.head(10)"
   ]
  },
  {
   "cell_type": "code",
   "execution_count": 19,
   "metadata": {
    "colab": {
     "base_uri": "https://localhost:8080/"
    },
    "executionInfo": {
     "elapsed": 11728,
     "status": "ok",
     "timestamp": 1728387003417,
     "user": {
      "displayName": "Buraj Patrakosol",
      "userId": "15915442625378365644"
     },
     "user_tz": -420
    },
    "id": "2tXWnZKI4Oym",
    "outputId": "7ec3db82-1789-40f8-d6b5-3b6797665dcc"
   },
   "outputs": [
    {
     "name": "stdout",
     "output_type": "stream",
     "text": [
      "Enter your WRDS username [khala]: yuttapongm\n",
      "Enter your password: ········\n"
     ]
    },
    {
     "name": "stdout",
     "output_type": "stream",
     "text": [
      "WRDS recommends setting up a .pgpass file.\n"
     ]
    },
    {
     "name": "stdout",
     "output_type": "stream",
     "text": [
      "Create .pgpass file now [y/n]?:  y\n"
     ]
    },
    {
     "name": "stdout",
     "output_type": "stream",
     "text": [
      "Created .pgpass file successfully.\n",
      "You can create this file yourself at any time with the create_pgpass_file() function.\n",
      "Loading library list...\n",
      "Done\n",
      "<class 'pandas.core.frame.DataFrame'>\n",
      "RangeIndex: 46055 entries, 0 to 46054\n",
      "Data columns (total 2 columns):\n",
      " #   Column     Non-Null Count  Dtype \n",
      "---  ------     --------------  ----- \n",
      " 0   domain_id  46055 non-null  object\n",
      " 1   visit      46055 non-null  int64 \n",
      "dtypes: int64(1), object(1)\n",
      "memory usage: 719.7+ KB\n",
      "<class 'pandas.core.frame.DataFrame'>\n",
      "RangeIndex: 47061 entries, 0 to 47060\n",
      "Data columns (total 2 columns):\n",
      " #   Column     Non-Null Count  Dtype \n",
      "---  ------     --------------  ----- \n",
      " 0   domain_id  47061 non-null  object\n",
      " 1   visit      47061 non-null  int64 \n",
      "dtypes: int64(1), object(1)\n",
      "memory usage: 735.5+ KB\n"
     ]
    }
   ],
   "source": [
    "import pandas as pd\n",
    "import wrds\n",
    "\n",
    "conn = wrds.Connection()\n",
    "\n",
    "sql_statement = \"\"\"\n",
    "                select domain_id,count(domain_id) as visit\n",
    "                from comscore_2023.ss277m\n",
    "                where event_date = '20230130'\n",
    "                group by domain_id\n",
    "                \"\"\"\n",
    "vst30 = conn.raw_sql(sql_statement,date_cols=['event_date'])\n",
    "\n",
    "sql_statement = \"\"\"\n",
    "                select domain_id,count(domain_id) as visit\n",
    "                from comscore_2023.ss277m\n",
    "                where event_date = '20230131'\n",
    "                group by domain_id\n",
    "                \"\"\"\n",
    "vst31 = conn.raw_sql(sql_statement,date_cols=['event_date'])\n",
    "\n",
    "conn.close()\n",
    "vst30.info()\n",
    "vst31.info()"
   ]
  },
  {
   "cell_type": "markdown",
   "metadata": {},
   "source": [
    "### merge"
   ]
  },
  {
   "cell_type": "code",
   "execution_count": 24,
   "metadata": {
    "colab": {
     "base_uri": "https://localhost:8080/",
     "height": 1000
    },
    "executionInfo": {
     "elapsed": 460,
     "status": "ok",
     "timestamp": 1728387305339,
     "user": {
      "displayName": "Buraj Patrakosol",
      "userId": "15915442625378365644"
     },
     "user_tz": -420
    },
    "id": "SRsMK78U5d7F",
    "outputId": "2c162174-9d9b-4ebc-caaf-05f394599d42"
   },
   "outputs": [
    {
     "name": "stdout",
     "output_type": "stream",
     "text": [
      "<class 'pandas.core.frame.DataFrame'>\n",
      "RangeIndex: 21730 entries, 0 to 21729\n",
      "Data columns (total 4 columns):\n",
      " #   Column     Non-Null Count  Dtype   \n",
      "---  ------     --------------  -----   \n",
      " 0   domain_id  21730 non-null  object  \n",
      " 1   visit_30   21730 non-null  int64   \n",
      " 2   visit_31   21730 non-null  int64   \n",
      " 3   _merge     21730 non-null  category\n",
      "dtypes: category(1), int64(2), object(1)\n",
      "memory usage: 530.8+ KB\n"
     ]
    },
    {
     "data": {
      "text/html": [
       "<div>\n",
       "<style scoped>\n",
       "    .dataframe tbody tr th:only-of-type {\n",
       "        vertical-align: middle;\n",
       "    }\n",
       "\n",
       "    .dataframe tbody tr th {\n",
       "        vertical-align: top;\n",
       "    }\n",
       "\n",
       "    .dataframe thead th {\n",
       "        text-align: right;\n",
       "    }\n",
       "</style>\n",
       "<table border=\"1\" class=\"dataframe\">\n",
       "  <thead>\n",
       "    <tr style=\"text-align: right;\">\n",
       "      <th></th>\n",
       "      <th>domain_id</th>\n",
       "      <th>visit_30</th>\n",
       "      <th>visit_31</th>\n",
       "      <th>_merge</th>\n",
       "    </tr>\n",
       "  </thead>\n",
       "  <tbody>\n",
       "    <tr>\n",
       "      <th>0</th>\n",
       "      <td>10000922996762697697</td>\n",
       "      <td>1</td>\n",
       "      <td>2</td>\n",
       "      <td>both</td>\n",
       "    </tr>\n",
       "    <tr>\n",
       "      <th>1</th>\n",
       "      <td>10001350096691351615</td>\n",
       "      <td>3</td>\n",
       "      <td>1</td>\n",
       "      <td>both</td>\n",
       "    </tr>\n",
       "    <tr>\n",
       "      <th>2</th>\n",
       "      <td>10003107741488823887</td>\n",
       "      <td>2</td>\n",
       "      <td>1</td>\n",
       "      <td>both</td>\n",
       "    </tr>\n",
       "    <tr>\n",
       "      <th>3</th>\n",
       "      <td>10004589383649150412</td>\n",
       "      <td>2</td>\n",
       "      <td>1</td>\n",
       "      <td>both</td>\n",
       "    </tr>\n",
       "    <tr>\n",
       "      <th>4</th>\n",
       "      <td>10007595142641817650</td>\n",
       "      <td>7</td>\n",
       "      <td>7</td>\n",
       "      <td>both</td>\n",
       "    </tr>\n",
       "    <tr>\n",
       "      <th>5</th>\n",
       "      <td>10007690477215320053</td>\n",
       "      <td>7</td>\n",
       "      <td>6</td>\n",
       "      <td>both</td>\n",
       "    </tr>\n",
       "    <tr>\n",
       "      <th>6</th>\n",
       "      <td>10008258641429341870</td>\n",
       "      <td>19</td>\n",
       "      <td>28</td>\n",
       "      <td>both</td>\n",
       "    </tr>\n",
       "    <tr>\n",
       "      <th>7</th>\n",
       "      <td>10008465703159726955</td>\n",
       "      <td>6</td>\n",
       "      <td>3</td>\n",
       "      <td>both</td>\n",
       "    </tr>\n",
       "    <tr>\n",
       "      <th>8</th>\n",
       "      <td>10011460954514283094</td>\n",
       "      <td>2</td>\n",
       "      <td>4</td>\n",
       "      <td>both</td>\n",
       "    </tr>\n",
       "    <tr>\n",
       "      <th>9</th>\n",
       "      <td>10011565692674952659</td>\n",
       "      <td>2</td>\n",
       "      <td>5</td>\n",
       "      <td>both</td>\n",
       "    </tr>\n",
       "  </tbody>\n",
       "</table>\n",
       "</div>"
      ],
      "text/plain": [
       "              domain_id  visit_30  visit_31 _merge\n",
       "0  10000922996762697697         1         2   both\n",
       "1  10001350096691351615         3         1   both\n",
       "2  10003107741488823887         2         1   both\n",
       "3  10004589383649150412         2         1   both\n",
       "4  10007595142641817650         7         7   both\n",
       "5  10007690477215320053         7         6   both\n",
       "6  10008258641429341870        19        28   both\n",
       "7  10008465703159726955         6         3   both\n",
       "8  10011460954514283094         2         4   both\n",
       "9  10011565692674952659         2         5   both"
      ]
     },
     "metadata": {},
     "output_type": "display_data"
    },
    {
     "name": "stdout",
     "output_type": "stream",
     "text": [
      "<class 'pandas.core.frame.DataFrame'>\n",
      "RangeIndex: 46055 entries, 0 to 46054\n",
      "Data columns (total 4 columns):\n",
      " #   Column     Non-Null Count  Dtype   \n",
      "---  ------     --------------  -----   \n",
      " 0   domain_id  46055 non-null  object  \n",
      " 1   visit_30   46055 non-null  int64   \n",
      " 2   visit_31   21730 non-null  float64 \n",
      " 3   _merge     46055 non-null  category\n",
      "dtypes: category(1), float64(1), int64(1), object(1)\n",
      "memory usage: 1.1+ MB\n"
     ]
    },
    {
     "data": {
      "text/html": [
       "<div>\n",
       "<style scoped>\n",
       "    .dataframe tbody tr th:only-of-type {\n",
       "        vertical-align: middle;\n",
       "    }\n",
       "\n",
       "    .dataframe tbody tr th {\n",
       "        vertical-align: top;\n",
       "    }\n",
       "\n",
       "    .dataframe thead th {\n",
       "        text-align: right;\n",
       "    }\n",
       "</style>\n",
       "<table border=\"1\" class=\"dataframe\">\n",
       "  <thead>\n",
       "    <tr style=\"text-align: right;\">\n",
       "      <th></th>\n",
       "      <th>domain_id</th>\n",
       "      <th>visit_30</th>\n",
       "      <th>visit_31</th>\n",
       "      <th>_merge</th>\n",
       "    </tr>\n",
       "  </thead>\n",
       "  <tbody>\n",
       "    <tr>\n",
       "      <th>0</th>\n",
       "      <td>10000075508765329296</td>\n",
       "      <td>1</td>\n",
       "      <td>NaN</td>\n",
       "      <td>left_only</td>\n",
       "    </tr>\n",
       "    <tr>\n",
       "      <th>1</th>\n",
       "      <td>10000922996762697697</td>\n",
       "      <td>1</td>\n",
       "      <td>2.0</td>\n",
       "      <td>both</td>\n",
       "    </tr>\n",
       "    <tr>\n",
       "      <th>2</th>\n",
       "      <td>10001281683900488738</td>\n",
       "      <td>1</td>\n",
       "      <td>NaN</td>\n",
       "      <td>left_only</td>\n",
       "    </tr>\n",
       "    <tr>\n",
       "      <th>3</th>\n",
       "      <td>10001350096691351615</td>\n",
       "      <td>3</td>\n",
       "      <td>1.0</td>\n",
       "      <td>both</td>\n",
       "    </tr>\n",
       "    <tr>\n",
       "      <th>4</th>\n",
       "      <td>10001426492490873762</td>\n",
       "      <td>1</td>\n",
       "      <td>NaN</td>\n",
       "      <td>left_only</td>\n",
       "    </tr>\n",
       "    <tr>\n",
       "      <th>5</th>\n",
       "      <td>10001581638861887646</td>\n",
       "      <td>1</td>\n",
       "      <td>NaN</td>\n",
       "      <td>left_only</td>\n",
       "    </tr>\n",
       "    <tr>\n",
       "      <th>6</th>\n",
       "      <td>10003035306825213952</td>\n",
       "      <td>1</td>\n",
       "      <td>NaN</td>\n",
       "      <td>left_only</td>\n",
       "    </tr>\n",
       "    <tr>\n",
       "      <th>7</th>\n",
       "      <td>10003107741488823887</td>\n",
       "      <td>2</td>\n",
       "      <td>1.0</td>\n",
       "      <td>both</td>\n",
       "    </tr>\n",
       "    <tr>\n",
       "      <th>8</th>\n",
       "      <td>1000328103126219661</td>\n",
       "      <td>1</td>\n",
       "      <td>NaN</td>\n",
       "      <td>left_only</td>\n",
       "    </tr>\n",
       "    <tr>\n",
       "      <th>9</th>\n",
       "      <td>10004446230461849737</td>\n",
       "      <td>1</td>\n",
       "      <td>NaN</td>\n",
       "      <td>left_only</td>\n",
       "    </tr>\n",
       "  </tbody>\n",
       "</table>\n",
       "</div>"
      ],
      "text/plain": [
       "              domain_id  visit_30  visit_31     _merge\n",
       "0  10000075508765329296         1       NaN  left_only\n",
       "1  10000922996762697697         1       2.0       both\n",
       "2  10001281683900488738         1       NaN  left_only\n",
       "3  10001350096691351615         3       1.0       both\n",
       "4  10001426492490873762         1       NaN  left_only\n",
       "5  10001581638861887646         1       NaN  left_only\n",
       "6  10003035306825213952         1       NaN  left_only\n",
       "7  10003107741488823887         2       1.0       both\n",
       "8   1000328103126219661         1       NaN  left_only\n",
       "9  10004446230461849737         1       NaN  left_only"
      ]
     },
     "metadata": {},
     "output_type": "display_data"
    },
    {
     "data": {
      "text/plain": [
       "21730"
      ]
     },
     "metadata": {},
     "output_type": "display_data"
    },
    {
     "data": {
      "text/plain": [
       "24325"
      ]
     },
     "metadata": {},
     "output_type": "display_data"
    }
   ],
   "source": [
    "df_merge = vst30.merge(vst31,on='domain_id',indicator=True,suffixes=['_30','_31'])\n",
    "df_merge.info()\n",
    "display(df_merge.head(10))\n",
    "\n",
    "df_merge = vst30.merge(vst31,on='domain_id',how = 'left',\n",
    "                       indicator=True,suffixes=['_30','_31']\n",
    "                      )\n",
    "df_merge.info()\n",
    "display(df_merge.head(10))\n",
    "\n",
    "display(df_merge[df_merge['_merge'] == 'both'].shape[0])\n",
    "display(df_merge[df_merge['_merge'] == 'left_only'].shape[0])"
   ]
  }
 ],
 "metadata": {
  "colab": {
   "authorship_tag": "ABX9TyP/TAx6+L1FGSNM+owT5+f7",
   "provenance": []
  },
  "kernelspec": {
   "display_name": "Python 3 (ipykernel)",
   "language": "python",
   "name": "python3"
  },
  "language_info": {
   "codemirror_mode": {
    "name": "ipython",
    "version": 3
   },
   "file_extension": ".py",
   "mimetype": "text/x-python",
   "name": "python",
   "nbconvert_exporter": "python",
   "pygments_lexer": "ipython3",
   "version": "3.11.9"
  }
 },
 "nbformat": 4,
 "nbformat_minor": 4
}
