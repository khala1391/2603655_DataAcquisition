{
 "cells": [
  {
   "cell_type": "markdown",
   "id": "269cfb97-e33a-4237-bb71-8598909564d1",
   "metadata": {
    "jp-MarkdownHeadingCollapsed": true
   },
   "source": [
    "## CV"
   ]
  },
  {
   "cell_type": "code",
   "execution_count": null,
   "id": "6b1a2d85-733c-44e9-a1ee-aaf2d4d11867",
   "metadata": {},
   "outputs": [],
   "source": [
    "import cv2\n",
    "import numpy\n",
    "\n",
    "\n",
    "def gaussian_heatmap(sigma: int, spread: int):\n",
    "    extent = int(spread * sigma)\n",
    "    center = spread * sigma / 2\n",
    "    heatmap = numpy.zeros([extent, extent], dtype=numpy.float32)\n",
    "    for i_ in range(extent):\n",
    "        for j_ in range(extent):\n",
    "            heatmap[i_, j_] = 1 / 2 / numpy.pi / (sigma ** 2) * numpy.exp(\n",
    "                -1 / 2 * ((i_ - center - 0.5) ** 2 + (j_ - center - 0.5) ** 2) / (sigma ** 2))\n",
    "    heatmap = (heatmap / numpy.max(heatmap) * 255).astype(numpy.uint8)\n",
    "    return heatmap\n",
    "\n",
    "\n",
    "hm = gaussian_heatmap(sigma=10, spread=3)\n",
    "\n",
    "hm = cv2.applyColorMap(hm, cv2.COLORMAP_JET)\n",
    "cv2.imshow(\"hm\", hm)\n",
    "cv2.waitKey(0)"
   ]
  },
  {
   "cell_type": "code",
   "execution_count": null,
   "id": "71d96d22-b4a0-457a-9706-c27366e2ba49",
   "metadata": {},
   "outputs": [],
   "source": [
    "import cv2\n",
    "import numpy as np\n",
    "from math import exp\n",
    "\n",
    "# Probability as a function of distance from the center derived\n",
    "# from a gaussian distribution with mean = 0 and stdv = 1\n",
    "scaledGaussian = lambda x : exp(-(1/2)*(x**2))\n",
    "\n",
    "\n",
    "imgSize = 512\n",
    "isotropicGrayscaleImage = np.zeros((imgSize,imgSize),np.uint8)\n",
    "\n",
    "for i in range(imgSize):\n",
    "  for j in range(imgSize):\n",
    "\n",
    "    # find euclidian distance from center of image (imgSize/2,imgSize/2) \n",
    "    # and scale it to range of 0 to 2.5 as scaled Gaussian\n",
    "    # returns highest probability for x=0 and approximately\n",
    "    # zero probability for x > 2.5\n",
    "\n",
    "    distanceFromCenter = np.linalg.norm(np.array([i-imgSize/2,j-imgSize/2]))\n",
    "    distanceFromCenter = 2.5*distanceFromCenter/(imgSize/2)\n",
    "    scaledGaussianProb = scaledGaussian(distanceFromCenter)\n",
    "    isotropicGrayscaleImage[i,j] = np.clip(scaledGaussianProb*255,0,255)\n",
    "\n",
    "# Convert Grayscale to HeatMap Using Opencv\n",
    "isotropicGaussianHeatmapImage = cv2.applyColorMap(isotropicGrayscaleImage, \n",
    "                                                  cv2.COLORMAP_JET)"
   ]
  },
  {
   "cell_type": "markdown",
   "id": "e9847901-5425-4d6f-8eed-366e7181cf84",
   "metadata": {},
   "source": [
    "## PCA"
   ]
  },
  {
   "cell_type": "code",
   "execution_count": 135,
   "id": "5796c93e-ebc3-4a46-b265-543b5973a865",
   "metadata": {},
   "outputs": [
    {
     "name": "stdout",
     "output_type": "stream",
     "text": [
      "ผลลัพธ์จาก PCA:\n",
      "[[ 5.19615242e+00  6.24556048e-17]\n",
      " [-0.00000000e+00 -0.00000000e+00]\n",
      " [-5.19615242e+00  6.24556048e-17]]\n"
     ]
    }
   ],
   "source": [
    "import numpy as np\n",
    "from sklearn.decomposition import PCA\n",
    "\n",
    "# สมมติว่า X คือเมทริกซ์ข้อมูลของเรา\n",
    "X = np.array([[1, 2, 3], [4, 5, 6], [7, 8, 9]])\n",
    "\n",
    "# PCA\n",
    "pca = PCA(n_components=2)\n",
    "X_pca = pca.fit_transform(X)\n",
    "\n",
    "print(\"ผลลัพธ์จาก PCA:\")\n",
    "print(X_pca)"
   ]
  },
  {
   "cell_type": "code",
   "execution_count": null,
   "id": "bcccaac0-90c9-4e8f-85f7-03ad4c8a05c7",
   "metadata": {},
   "outputs": [],
   "source": []
  },
  {
   "cell_type": "code",
   "execution_count": null,
   "id": "12487554-a6bc-41b7-9cdd-a83d6e64fe3a",
   "metadata": {},
   "outputs": [],
   "source": []
  },
  {
   "cell_type": "markdown",
   "id": "2e8531b4-81b3-4c93-b581-7613956fea22",
   "metadata": {
    "jp-MarkdownHeadingCollapsed": true
   },
   "source": [
    "### scree plot"
   ]
  },
  {
   "cell_type": "code",
   "execution_count": 50,
   "id": "e1f184e3-ff27-4ed8-9ec3-5374567474fd",
   "metadata": {},
   "outputs": [],
   "source": [
    "import pandas as pd\n",
    "from sklearn.preprocessing import StandardScaler\n",
    "\n",
    "#define URL where dataset is located\n",
    "url = \"https://raw.githubusercontent.com/JWarmenhoven/ISLR-python/master/Notebooks/Data/USArrests.csv\"\n",
    "\n",
    "#read in data\n",
    "data = pd.read_csv(url)\n",
    "\n",
    "#define columns to use for PCA\n",
    "df = data.iloc[:, 1:5]\n",
    "\n",
    "#define scaler\n",
    "scaler = StandardScaler()\n",
    "\n",
    "#create copy of DataFrame\n",
    "scaled_df=df.copy()\n",
    "\n",
    "#created scaled version of DataFrame\n",
    "scaled_df=pd.DataFrame(scaler.fit_transform(scaled_df), columns=scaled_df.columns)"
   ]
  },
  {
   "cell_type": "code",
   "execution_count": 54,
   "id": "aa86ff87-0375-4543-8bf5-3919db34eb51",
   "metadata": {},
   "outputs": [],
   "source": [
    "from sklearn.decomposition import PCA\n",
    "\n",
    "#define PCA model to use\n",
    "pca = PCA(n_components=4)\n",
    "\n",
    "#fit PCA model to data\n",
    "pca_fit = pca.fit(scaled_df)"
   ]
  },
  {
   "cell_type": "code",
   "execution_count": 56,
   "id": "dcee786e-4b48-4fae-a226-6963aed718c3",
   "metadata": {},
   "outputs": [
    {
     "data": {
      "image/png": "[encoded data removed]",
      "text/plain": [
       "<Figure size 640x480 with 1 Axes>"
      ]
     },
     "metadata": {},
     "output_type": "display_data"
    }
   ],
   "source": [
    "import matplotlib.pyplot as plt\n",
    "import numpy as np\n",
    "\n",
    "PC_values = np.arange(pca.n_components_) + 1\n",
    "plt.plot(PC_values, pca.explained_variance_ratio_, 'o-', linewidth=2, color='blue')\n",
    "plt.title('Scree Plot')\n",
    "plt.xlabel('Principal Component')\n",
    "plt.ylabel('Variance Explained')\n",
    "plt.show()"
   ]
  },
  {
   "cell_type": "markdown",
   "id": "8e1859d7-0a06-43f6-810c-d4712c439290",
   "metadata": {
    "jp-MarkdownHeadingCollapsed": true
   },
   "source": [
    "## SVD"
   ]
  },
  {
   "cell_type": "code",
   "execution_count": null,
   "id": "98ef4406-d7e0-4d4a-a872-8a86bcfce105",
   "metadata": {},
   "outputs": [],
   "source": [
    "import numpy as np\n",
    "\n",
    "# สมมติว่า A คือเมทริกซ์ข้อมูลของเรา\n",
    "A = np.array([[1, 2, 3, 4, 5, 6, 7, 8, 9, 10],\n",
    "              [11, 12, 13, 14, 15, 16, 17, 18, 19, 20],\n",
    "              [21, 22, 23, 24, 25, 26, 27, 28, 29, 30]])\n",
    "\n",
    "# คำนวณ SVD\n",
    "U, s, Vt = np.linalg.svd(A, full_matrices=False)\n",
    "\n",
    "# เลือก k ค่าเอกฐานแรก (ในที่นี้ k = 2)\n",
    "k = 2\n",
    "U_k = U[:, :k]\n",
    "s_k = np.diag(s[:k])\n",
    "Vt_k = Vt[:k, :]"
   ]
  },
  {
   "cell_type": "code",
   "execution_count": null,
   "id": "e4dd9c53-1054-4010-936d-5ec516899fc2",
   "metadata": {},
   "outputs": [
    {
     "name": "stdout",
     "output_type": "stream",
     "text": [
      "เมทริกซ์ที่มีมิติลดลง:\n",
      "[[ 1.  2.  3.  4.  5.  6.  7.  8.  9. 10.]\n",
      " [11. 12. 13. 14. 15. 16. 17. 18. 19. 20.]\n",
      " [21. 22. 23. 24. 25. 26. 27. 28. 29. 30.]]\n"
     ]
    }
   ],
   "source": [
    "# สร้างเมทริกซ์ที่มีมิติลดลง\n",
    "A_reduced = U_k @ s_k @ Vt_k\n",
    "\n",
    "print(\"เมทริกซ์ที่มีมิติลดลง:\")\n",
    "print(A_reduced)"
   ]
  },
  {
   "cell_type": "code",
   "execution_count": 131,
   "id": "b7b1de2b-d54f-416b-9a8c-78fab86f0e91",
   "metadata": {},
   "outputs": [
    {
     "data": {
      "text/plain": [
       "(array([[-0.19101157, -0.89266338,  0.40824829],\n",
       "        [-0.51371859, -0.26348917, -0.81649658],\n",
       "        [-0.8364256 ,  0.36568503,  0.40824829]]),\n",
       " array([9.69657342e+01, 7.25578339e+00, 1.48879510e-15]),\n",
       " array([[-0.24139304, -0.25728686, -0.27318068, -0.2890745 , -0.30496832,\n",
       "         -0.32086214, -0.33675595, -0.35264977, -0.36854359, -0.38443741],\n",
       "        [ 0.53589546,  0.42695236,  0.31800926,  0.20906617,  0.10012307,\n",
       "         -0.00882003, -0.11776313, -0.22670623, -0.33564933, -0.44459242],\n",
       "        [ 0.09975293, -0.01037753,  0.23987452,  0.05273845,  0.0996209 ,\n",
       "         -0.46517509, -0.52300449, -0.23591804,  0.593137  ,  0.14935136]]),\n",
       " (3, 3),\n",
       " (3,),\n",
       " (3, 10))"
      ]
     },
     "execution_count": 131,
     "metadata": {},
     "output_type": "execute_result"
    }
   ],
   "source": [
    "U, s , Vt, U.shape, s.shape, Vt.shape"
   ]
  },
  {
   "cell_type": "code",
   "execution_count": 133,
   "id": "a6ed9a15-84e8-4e33-b191-5f6fa1955f50",
   "metadata": {},
   "outputs": [
    {
     "data": {
      "text/plain": [
       "(array([[-0.19101157, -0.89266338],\n",
       "        [-0.51371859, -0.26348917],\n",
       "        [-0.8364256 ,  0.36568503]]),\n",
       " array([[96.96573419,  0.        ],\n",
       "        [ 0.        ,  7.25578339]]),\n",
       " array([[-0.24139304, -0.25728686, -0.27318068, -0.2890745 , -0.30496832,\n",
       "         -0.32086214, -0.33675595, -0.35264977, -0.36854359, -0.38443741],\n",
       "        [ 0.53589546,  0.42695236,  0.31800926,  0.20906617,  0.10012307,\n",
       "         -0.00882003, -0.11776313, -0.22670623, -0.33564933, -0.44459242]]),\n",
       " (3, 2),\n",
       " (2, 2),\n",
       " (2, 10))"
      ]
     },
     "execution_count": 133,
     "metadata": {},
     "output_type": "execute_result"
    }
   ],
   "source": [
    "U_k, s_k, Vt_k, U_k.shape, s_k.shape, Vt_k.shape"
   ]
  }
 ],
 "metadata": {
  "kernelspec": {
   "display_name": "Python 3 (ipykernel)",
   "language": "python",
   "name": "python3"
  },
  "language_info": {
   "codemirror_mode": {
    "name": "ipython",
    "version": 3
   },
   "file_extension": ".py",
   "mimetype": "text/x-python",
   "name": "python",
   "nbconvert_exporter": "python",
   "pygments_lexer": "ipython3",
   "version": "3.11.9"
  }
 },
 "nbformat": 4,
 "nbformat_minor": 5
}
